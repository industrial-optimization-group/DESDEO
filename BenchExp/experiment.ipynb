{
 "cells": [
  {
   "cell_type": "code",
   "execution_count": 1,
   "id": "a5aefbf8",
   "metadata": {},
   "outputs": [
    {
     "name": "stderr",
     "output_type": "stream",
     "text": [
      "/Users/bhupindersaini/Projects/DESDEO/desdeo/__init__.py:9: UserWarning: \n",
      "            \n",
      "The following required highly recommended executables cannot be found: bonmin, cbc, ipopt\n",
      "\n",
      "            DESDEO relies on powerful 3rd party solvers to solve multiobjective\n",
      "            optimization problems.  Without these solvers, sub-optimal defaults\n",
      "            will be used instead, which can lead to not optimal, or even wrong,\n",
      "            results.\n",
      "\n",
      "            It is highly recommended to have these solvers available\n",
      "            in the environment DESDEO is utilized!\n",
      "\n",
      "            For more information, see DESDEO's documentation: https://desdeo.readthedocs.io/en/latest/howtoguides/installing/#third-party-optimizers\n",
      "            \n",
      "  _check_executables(required_executables)\n"
     ]
    }
   ],
   "source": [
    "from pathlib import Path\n",
    "\n",
    "import numpy as np\n",
    "import polars as pl\n",
    "from pymoo.problems import get_problem\n",
    "\n",
    "from desdeo.problem import Evaluator, Objective, Problem, Simulator, Variable, testproblems\n",
    "from desdeo.problem.testproblems import dtlz2"
   ]
  },
  {
   "cell_type": "code",
   "execution_count": 2,
   "id": "c5173cca",
   "metadata": {},
   "outputs": [],
   "source": [
    "# Ignore this mess.\n",
    "\n",
    "\n",
    "def simulator_problem(problem_name: str, n_vars: int, n_objs: int, server=False) -> Problem:\n",
    "    # define all the variables separately in DESDEO\n",
    "    file = \"pymoo_simulator.py\"\n",
    "    if server:\n",
    "        file = r\"http://localhost:8000/evaluate\"\n",
    "    variables = [\n",
    "        Variable(name=f\"x_{i+1}\", symbol=f\"x_{i+1}\", variable_type=\"real\", lowerbound=0, upperbound=0)\n",
    "        for i in range(n_vars)\n",
    "    ]\n",
    "\n",
    "    # define all objectives for DESDEO based on the number of objective funcitions\n",
    "    objectives = [\n",
    "        Objective(\n",
    "            name=f\"f_{i+1}\",\n",
    "            symbol=f\"f_{i+1}\",\n",
    "            simulator_path=Path(f\"pymoo_simulator.py\"),  # simulator file\n",
    "            objective_type=\"simulator\",\n",
    "        )\n",
    "        for i in range(n_objs)\n",
    "    ]\n",
    "\n",
    "    return Problem(\n",
    "        name=\"Simulator problem\",\n",
    "        description=\"\",\n",
    "        variables=variables,\n",
    "        objectives=objectives,\n",
    "        simulators=[\n",
    "            Simulator(\n",
    "                name=\"s_1\",\n",
    "                symbol=\"s_1\",\n",
    "                file=Path(file),\n",
    "                parameter_options={\n",
    "                    \"name\": problem_name,\n",
    "                    \"n_vars\": n_vars,\n",
    "                    \"n_objs\": n_objs,\n",
    "                },\n",
    "            )\n",
    "        ],\n",
    "    )"
   ]
  },
  {
   "cell_type": "code",
   "execution_count": 3,
   "id": "fdcb7d80",
   "metadata": {},
   "outputs": [],
   "source": [
    "# Problem details\n",
    "problem_name = \"dtlz2\"\n",
    "n_vars = 10\n",
    "n_objs = 3\n",
    "\n",
    "pymoo_native = get_problem(problem_name, n_var=n_vars, n_obj=n_objs)\n",
    "\n",
    "desdeo_polars = testproblems.dtlz2(n_vars, n_objs)\n",
    "\n",
    "simulator_script = simulator_problem(problem_name, n_vars, n_objs, False)\n",
    "\n",
    "simulator_server = simulator_problem(problem_name, n_vars, n_objs, True)\n",
    "\n",
    "evaluator_polars = Evaluator(\n",
    "    problem=desdeo_polars,\n",
    ")\n",
    "evaluator_script = Evaluator(\n",
    "    problem=simulator_script,\n",
    ")\n",
    "evaluator_server = Evaluator(\n",
    "    problem=simulator_server,\n",
    ")"
   ]
  },
  {
   "cell_type": "code",
   "execution_count": 4,
   "id": "0f226a1c",
   "metadata": {},
   "outputs": [],
   "source": [
    "inds = np.random.uniform(low=0, high=1, size=(1000, n_vars))\n",
    "inds = pl.DataFrame(inds, schema=[f\"x_{i+1}\" for i in range(n_vars)])"
   ]
  },
  {
   "cell_type": "code",
   "execution_count": 5,
   "id": "8925d9d8",
   "metadata": {},
   "outputs": [],
   "source": [
    "import timeit  # prolly not the best way to time things. but eh.\n",
    "\n",
    "import matplotlib.pyplot as plt\n",
    "\n",
    "times = {\n",
    "    \"pymoo_native\": timeit.timeit(\n",
    "        \"pymoo_native.evaluate(inds.to_numpy())\",\n",
    "        globals=globals(),\n",
    "        number=100,\n",
    "    ),\n",
    "    \"desdeo_polars\": timeit.timeit(\n",
    "        \"evaluator_polars.evaluate(xs=inds)\",\n",
    "        globals=globals(),\n",
    "        number=100,\n",
    "    ),\n",
    "    \"simulator_server\": timeit.timeit(\n",
    "        \"evaluator_server.evaluate(xs=inds.to_dict(as_series=False))\",\n",
    "        globals=globals(),\n",
    "        number=100,\n",
    "    ),\n",
    "    \"simulator_script\": timeit.timeit(\n",
    "        \"evaluator_script.evaluate(xs=inds.to_dict(as_series=False))\",\n",
    "        globals=globals(),\n",
    "        number=100,\n",
    "    ),\n",
    "}"
   ]
  },
  {
   "cell_type": "code",
   "execution_count": 6,
   "id": "fd7edcde",
   "metadata": {},
   "outputs": [],
   "source": [
    "# Normalize the times by pymoo_native\n",
    "div = times[\"pymoo_native\"]\n",
    "for key in times:\n",
    "    times[key] /= div\n"
   ]
  },
  {
   "cell_type": "code",
   "execution_count": 7,
   "id": "d1a97d83",
   "metadata": {},
   "outputs": [
    {
     "data": {
      "image/png": "[encoded data removed]",
      "text/plain": [
       "<Figure size 640x480 with 1 Axes>"
      ]
     },
     "metadata": {},
     "output_type": "display_data"
    },
    {
     "name": "stdout",
     "output_type": "stream",
     "text": [
      "Evaluation times (normalized to pymoo_native):\n",
      "pymoo_native: 1.0000x\n",
      "desdeo_polars: 8.7010x\n",
      "simulator_server: 100.4149x\n",
      "simulator_script: 1310.6356x\n"
     ]
    }
   ],
   "source": [
    "plt.bar(times.keys(), times.values())\n",
    "plt.ylabel(\"Time (seconds)\")\n",
    "plt.title(\"Evaluation Times for Different Methods\")\n",
    "plt.xticks(rotation=45)\n",
    "plt.yscale(\"log\")\n",
    "plt.tight_layout()\n",
    "plt.show()\n",
    "\n",
    "print(\"Evaluation times (normalized to pymoo_native):\")\n",
    "for key, value in times.items():\n",
    "    print(f\"{key}: {value:.4f}x\")  # Print the normalized times"
   ]
  },
  {
   "cell_type": "code",
   "execution_count": 8,
   "id": "51e3f4b9",
   "metadata": {},
   "outputs": [
    {
     "name": "stdout",
     "output_type": "stream",
     "text": [
      "Polars Evaluator output:\n",
      "shape: (1_000, 17)\n",
      "┌──────────┬──────────┬──────────┬──────────┬───┬──────────┬──────────┬──────────┬──────────┐\n",
      "│ x_1      ┆ x_2      ┆ x_3      ┆ x_4      ┆ … ┆ f_3      ┆ f_1_min  ┆ f_2_min  ┆ f_3_min  │\n",
      "│ ---      ┆ ---      ┆ ---      ┆ ---      ┆   ┆ ---      ┆ ---      ┆ ---      ┆ ---      │\n",
      "│ f64      ┆ f64      ┆ f64      ┆ f64      ┆   ┆ f64      ┆ f64      ┆ f64      ┆ f64      │\n",
      "╞══════════╪══════════╪══════════╪══════════╪═══╪══════════╪══════════╪══════════╪══════════╡\n",
      "│ 0.155762 ┆ 0.174976 ┆ 0.804533 ┆ 0.484207 ┆ … ┆ 0.433937 ┆ 1.672795 ┆ 0.471709 ┆ 0.433937 │\n",
      "│ 0.560605 ┆ 0.324396 ┆ 0.511785 ┆ 0.180045 ┆ … ┆ 1.027173 ┆ 0.740364 ┆ 0.413701 ┆ 1.027173 │\n",
      "│ 0.235251 ┆ 0.69323  ┆ 0.325533 ┆ 0.233916 ┆ … ┆ 0.612039 ┆ 0.732316 ┆ 1.400236 ┆ 0.612039 │\n",
      "│ 0.564268 ┆ 0.195951 ┆ 0.124047 ┆ 0.08441  ┆ … ┆ 1.540688 ┆ 1.198178 ┆ 0.380903 ┆ 1.540688 │\n",
      "│ 0.531167 ┆ 0.390233 ┆ 0.898066 ┆ 0.348194 ┆ … ┆ 1.296644 ┆ 0.961502 ┆ 0.676281 ┆ 1.296644 │\n",
      "│ …        ┆ …        ┆ …        ┆ …        ┆ … ┆ …        ┆ …        ┆ …        ┆ …        │\n",
      "│ 0.604202 ┆ 0.073623 ┆ 0.384575 ┆ 0.81575  ┆ … ┆ 1.703334 ┆ 1.212297 ┆ 0.140826 ┆ 1.703334 │\n",
      "│ 0.342429 ┆ 0.168498 ┆ 0.976762 ┆ 0.619475 ┆ … ┆ 1.04559  ┆ 1.691665 ┆ 0.458501 ┆ 1.04559  │\n",
      "│ 0.534179 ┆ 0.025832 ┆ 0.293197 ┆ 0.341606 ┆ … ┆ 1.116179 ┆ 1.001505 ┆ 0.040661 ┆ 1.116179 │\n",
      "│ 0.520645 ┆ 0.177539 ┆ 0.505405 ┆ 0.596922 ┆ … ┆ 1.003855 ┆ 0.904423 ┆ 0.258972 ┆ 1.003855 │\n",
      "│ 0.043929 ┆ 0.974703 ┆ 0.943547 ┆ 0.490991 ┆ … ┆ 0.101857 ┆ 0.058546 ┆ 1.472605 ┆ 0.101857 │\n",
      "└──────────┴──────────┴──────────┴──────────┴───┴──────────┴──────────┴──────────┴──────────┘\n",
      "Simulator Script Evaluator output:\n",
      "shape: (1_000, 6)\n",
      "┌──────────┬──────────┬──────────┬──────────┬──────────┬──────────┐\n",
      "│ f_1      ┆ f_2      ┆ f_3      ┆ f_1_min  ┆ f_2_min  ┆ f_3_min  │\n",
      "│ ---      ┆ ---      ┆ ---      ┆ ---      ┆ ---      ┆ ---      │\n",
      "│ f64      ┆ f64      ┆ f64      ┆ f64      ┆ f64      ┆ f64      │\n",
      "╞══════════╪══════════╪══════════╪══════════╪══════════╪══════════╡\n",
      "│ 1.672795 ┆ 0.471709 ┆ 0.433937 ┆ 1.672795 ┆ 0.471709 ┆ 0.433937 │\n",
      "│ 0.740364 ┆ 0.413701 ┆ 1.027173 ┆ 0.740364 ┆ 0.413701 ┆ 1.027173 │\n",
      "│ 0.732316 ┆ 1.400236 ┆ 0.612039 ┆ 0.732316 ┆ 1.400236 ┆ 0.612039 │\n",
      "│ 1.198178 ┆ 0.380903 ┆ 1.540688 ┆ 1.198178 ┆ 0.380903 ┆ 1.540688 │\n",
      "│ 0.961502 ┆ 0.676281 ┆ 1.296644 ┆ 0.961502 ┆ 0.676281 ┆ 1.296644 │\n",
      "│ …        ┆ …        ┆ …        ┆ …        ┆ …        ┆ …        │\n",
      "│ 1.212297 ┆ 0.140826 ┆ 1.703334 ┆ 1.212297 ┆ 0.140826 ┆ 1.703334 │\n",
      "│ 1.691665 ┆ 0.458501 ┆ 1.04559  ┆ 1.691665 ┆ 0.458501 ┆ 1.04559  │\n",
      "│ 1.001505 ┆ 0.040661 ┆ 1.116179 ┆ 1.001505 ┆ 0.040661 ┆ 1.116179 │\n",
      "│ 0.904423 ┆ 0.258972 ┆ 1.003855 ┆ 0.904423 ┆ 0.258972 ┆ 1.003855 │\n",
      "│ 0.058546 ┆ 1.472605 ┆ 0.101857 ┆ 0.058546 ┆ 1.472605 ┆ 0.101857 │\n",
      "└──────────┴──────────┴──────────┴──────────┴──────────┴──────────┘\n",
      "Simulator Server Evaluator output:\n",
      "shape: (1_000, 16)\n",
      "┌──────────┬──────────┬──────────┬──────────┬───┬──────────┬──────────┬──────────┬──────────┐\n",
      "│ x_1      ┆ x_2      ┆ x_3      ┆ x_4      ┆ … ┆ f_3      ┆ f_1_min  ┆ f_2_min  ┆ f_3_min  │\n",
      "│ ---      ┆ ---      ┆ ---      ┆ ---      ┆   ┆ ---      ┆ ---      ┆ ---      ┆ ---      │\n",
      "│ f64      ┆ f64      ┆ f64      ┆ f64      ┆   ┆ f64      ┆ f64      ┆ f64      ┆ f64      │\n",
      "╞══════════╪══════════╪══════════╪══════════╪═══╪══════════╪══════════╪══════════╪══════════╡\n",
      "│ 0.155762 ┆ 0.174976 ┆ 0.804533 ┆ 0.484207 ┆ … ┆ 0.433937 ┆ 1.672795 ┆ 0.471709 ┆ 0.433937 │\n",
      "│ 0.560605 ┆ 0.324396 ┆ 0.511785 ┆ 0.180045 ┆ … ┆ 1.027173 ┆ 0.740364 ┆ 0.413701 ┆ 1.027173 │\n",
      "│ 0.235251 ┆ 0.69323  ┆ 0.325533 ┆ 0.233916 ┆ … ┆ 0.612039 ┆ 0.732316 ┆ 1.400236 ┆ 0.612039 │\n",
      "│ 0.564268 ┆ 0.195951 ┆ 0.124047 ┆ 0.08441  ┆ … ┆ 1.540688 ┆ 1.198178 ┆ 0.380903 ┆ 1.540688 │\n",
      "│ 0.531167 ┆ 0.390233 ┆ 0.898066 ┆ 0.348194 ┆ … ┆ 1.296644 ┆ 0.961502 ┆ 0.676281 ┆ 1.296644 │\n",
      "│ …        ┆ …        ┆ …        ┆ …        ┆ … ┆ …        ┆ …        ┆ …        ┆ …        │\n",
      "│ 0.604202 ┆ 0.073623 ┆ 0.384575 ┆ 0.81575  ┆ … ┆ 1.703334 ┆ 1.212297 ┆ 0.140826 ┆ 1.703334 │\n",
      "│ 0.342429 ┆ 0.168498 ┆ 0.976762 ┆ 0.619475 ┆ … ┆ 1.04559  ┆ 1.691665 ┆ 0.458501 ┆ 1.04559  │\n",
      "│ 0.534179 ┆ 0.025832 ┆ 0.293197 ┆ 0.341606 ┆ … ┆ 1.116179 ┆ 1.001505 ┆ 0.040661 ┆ 1.116179 │\n",
      "│ 0.520645 ┆ 0.177539 ┆ 0.505405 ┆ 0.596922 ┆ … ┆ 1.003855 ┆ 0.904423 ┆ 0.258972 ┆ 1.003855 │\n",
      "│ 0.043929 ┆ 0.974703 ┆ 0.943547 ┆ 0.490991 ┆ … ┆ 0.101857 ┆ 0.058546 ┆ 1.472605 ┆ 0.101857 │\n",
      "└──────────┴──────────┴──────────┴──────────┴───┴──────────┴──────────┴──────────┴──────────┘\n"
     ]
    }
   ],
   "source": [
    "# Note the difference in the output formats:\n",
    "\n",
    "print(\"Polars Evaluator output:\")\n",
    "print(evaluator_polars.evaluate(inds.to_dict(as_series=False)))\n",
    "\n",
    "print(\"Simulator Script Evaluator output:\")\n",
    "print(evaluator_script.evaluate(inds.to_dict(as_series=False)))\n",
    "\n",
    "print(\"Simulator Server Evaluator output:\")\n",
    "print(evaluator_server.evaluate(inds.to_dict(as_series=False)))"
   ]
  },
  {
   "cell_type": "code",
   "execution_count": null,
   "id": "0c57add4",
   "metadata": {},
   "outputs": [],
   "source": []
  }
 ],
 "metadata": {
  "kernelspec": {
   "display_name": ".venv",
   "language": "python",
   "name": "python3"
  },
  "language_info": {
   "codemirror_mode": {
    "name": "ipython",
    "version": 3
   },
   "file_extension": ".py",
   "mimetype": "text/x-python",
   "name": "python",
   "nbconvert_exporter": "python",
   "pygments_lexer": "ipython3",
   "version": "3.12.5"
  }
 },
 "nbformat": 4,
 "nbformat_minor": 5
}
