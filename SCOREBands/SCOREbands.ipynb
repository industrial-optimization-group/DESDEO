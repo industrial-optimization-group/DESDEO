{
 "cells": [
  {
   "cell_type": "code",
   "execution_count": 1,
   "id": "26aedf0d",
   "metadata": {},
   "outputs": [],
   "source": [
    "import pandas as pd\n",
    "import plotly.express as ex"
   ]
  },
  {
   "cell_type": "code",
   "execution_count": 2,
   "id": "6843fbbc",
   "metadata": {},
   "outputs": [],
   "source": [
    "data = pd.read_parquet(\"energy.parquet\")\n",
    "objs = data.columns[-10:]\n",
    "decs = data.columns[:-10]\n",
    "\n",
    "short_names = {\n",
    "    'Yearly total costs': \"Costs\",\n",
    "    'Yearly CO2 emissions': \"CO2\",\n",
    "    'Resilience': \"Res\",\n",
    "    'Mean battery state of charge': \"bSOC\",\n",
    "    'Yearly energy discharged from battery': \"bDis\",\n",
    "    'Maximum power peak': \"Ppeak\",\n",
    "    'SOC Time proportion': \"bSOC% Time\",\n",
    "    'Yearly energy fed into the grid': \"bGrid\",\n",
    "    'Maximum feed-in power peak': \"mPpeak\",\n",
    "    'posResilience': \"pRes\",\n",
    "}\n",
    "\n",
    "data = data.rename(columns=short_names)\n",
    "objs = [short_names[o] for o in objs]\n",
    "objs.remove(\"Res\")  # There's alread a posResilience column"
   ]
  },
  {
   "cell_type": "code",
   "execution_count": 3,
   "id": "a2a0d180",
   "metadata": {},
   "outputs": [
    {
     "name": "stderr",
     "output_type": "stream",
     "text": [
      "D:\\Projects\\DESDEO\\desdeo\\__init__.py:9: UserWarning: \n",
      "            \n",
      "The following required highly recommended executables cannot be found: bonmin, cbc\n",
      "\n",
      "            DESDEO relies on powerful 3rd party solvers to solve multiobjective\n",
      "            optimization problems.  Without these solvers, sub-optimal defaults\n",
      "            will be used instead, which can lead to not optimal, or even wrong,\n",
      "            results.\n",
      "\n",
      "            It is highly recommended to have these solvers available\n",
      "            in the environment DESDEO is utilized!\n",
      "\n",
      "            For more information, see DESDEO's documentation: https://desdeo.readthedocs.io/en/latest/howtoguides/installing/#third-party-optimizers\n",
      "            \n",
      "  _check_executables(required_executables)\n"
     ]
    }
   ],
   "source": [
    "from desdeo.tools.score_bands import order_objectives, cluster, calculate_axes_positions, SCORE_bands"
   ]
  },
  {
   "cell_type": "code",
   "execution_count": 4,
   "id": "7660ad58",
   "metadata": {},
   "outputs": [
    {
     "data": {
      "application/vnd.plotly.v1+json": {
       "config": {
        "plotlyServerURL": "https://plot.ly"
       },
       "data": [
        {
         "hovertext": "Cluster 1",
         "legendgroup": "90% band: Cluster 1",
         "line": {
          "color": "rgba(0.4980392156862745, 0.788235294117647, 0.4980392156862745, 0.6)",
          "shape": "spline"
         },
         "mode": "lines",
         "name": "90% band: Cluster 1; 2588 Solutions        ",
         "showlegend": true,
         "type": "scatter",
         "visible": true,
         "x": [
          0,
          0.14164224746811022,
          0.2805716391608708,
          0.3369857728059401,
          0.49829197767260625,
          0.6486267636953562,
          0.7987147182544719,
          0.8546449575619145,
          1
         ],
         "y": [
          0.11775345675396592,
          0.001514738183516074,
          0.36802397850559965,
          0.26412900561086905,
          5.4824931637403977e-8,
          0.1792121139148937,
          0.07879426359129092,
          0.10096759223361544,
          0
         ]
        },
        {
         "fill": "tonexty",
         "fillcolor": "rgba(0.4980392156862745, 0.788235294117647, 0.4980392156862745, 0.6)",
         "hovertext": "Cluster 1",
         "legendgroup": "90% band: Cluster 1",
         "line": {
          "color": "rgba(0.4980392156862745, 0.788235294117647, 0.4980392156862745, 0.6)",
          "shape": "spline"
         },
         "mode": "lines",
         "name": "Cluster 1",
         "showlegend": false,
         "type": "scatter",
         "visible": true,
         "x": [
          0,
          0.14164224746811022,
          0.2805716391608708,
          0.3369857728059401,
          0.49829197767260625,
          0.6486267636953562,
          0.7987147182544719,
          0.8546449575619145,
          1
         ],
         "y": [
          0.20180783667370011,
          0.5674104119392901,
          0.8205574197669325,
          0.7647105363712726,
          0.2671481025586329,
          0.8482053123904929,
          0.24137486330779226,
          0.3065249677851235,
          1
         ]
        },
        {
         "hovertext": "Cluster 2",
         "legendgroup": "90% band: Cluster 2",
         "line": {
          "color": "rgba(0.7450980392156863, 0.6823529411764706, 0.8313725490196079, 0.6)",
          "shape": "spline"
         },
         "mode": "lines",
         "name": "90% band: Cluster 2; 2587 Solutions        ",
         "showlegend": true,
         "type": "scatter",
         "visible": true,
         "x": [
          0,
          0.14164224746811022,
          0.2805716391608708,
          0.3369857728059401,
          0.49829197767260625,
          0.6486267636953562,
          0.7987147182544719,
          0.8546449575619145,
          1
         ],
         "y": [
          0.10639083259070324,
          0.0027021902691858166,
          0.29218386242769195,
          0.19987310187908672,
          5.876680235801142e-8,
          0.17921223647342938,
          0.24642638049226948,
          0.3089977448260035,
          0.00011202009126822307
         ]
        },
        {
         "fill": "tonexty",
         "fillcolor": "rgba(0.7450980392156863, 0.6823529411764706, 0.8313725490196079, 0.6)",
         "hovertext": "Cluster 2",
         "legendgroup": "90% band: Cluster 2",
         "line": {
          "color": "rgba(0.7450980392156863, 0.6823529411764706, 0.8313725490196079, 0.6)",
          "shape": "spline"
         },
         "mode": "lines",
         "name": "Cluster 2",
         "showlegend": false,
         "type": "scatter",
         "visible": true,
         "x": [
          0,
          0.14164224746811022,
          0.2805716391608708,
          0.3369857728059401,
          0.49829197767260625,
          0.6486267636953562,
          0.7987147182544719,
          0.8546449575619145,
          1
         ],
         "y": [
          0.20180531881876057,
          0.6292630760048616,
          0.45658758935108307,
          0.36192336117587515,
          0.2471582720768166,
          0.8870523328821491,
          0.28785056956577065,
          0.3677492500654756,
          1
         ]
        },
        {
         "hovertext": "Cluster 3",
         "legendgroup": "90% band: Cluster 3",
         "line": {
          "color": "rgba(0.9921568627450981, 0.7529411764705882, 0.5254901960784314, 0.6)",
          "shape": "spline"
         },
         "mode": "lines",
         "name": "90% band: Cluster 3; 2587 Solutions        ",
         "showlegend": true,
         "type": "scatter",
         "visible": true,
         "x": [
          0,
          0.14164224746811022,
          0.2805716391608708,
          0.3369857728059401,
          0.49829197767260625,
          0.6486267636953562,
          0.7987147182544719,
          0.8546449575619145,
          1
         ],
         "y": [
          0.10191061982285203,
          0.001552734746741215,
          0.1738953385442833,
          0.09249477598338268,
          5.735321446952732e-8,
          0.17921211356684594,
          0.2928488756488577,
          0.367603735291404,
          0
         ]
        },
        {
         "fill": "tonexty",
         "fillcolor": "rgba(0.9921568627450981, 0.7529411764705882, 0.5254901960784314, 0.6)",
         "hovertext": "Cluster 3",
         "legendgroup": "90% band: Cluster 3",
         "line": {
          "color": "rgba(0.9921568627450981, 0.7529411764705882, 0.5254901960784314, 0.6)",
          "shape": "spline"
         },
         "mode": "lines",
         "name": "Cluster 3",
         "showlegend": false,
         "type": "scatter",
         "visible": true,
         "x": [
          0,
          0.14164224746811022,
          0.2805716391608708,
          0.3369857728059401,
          0.49829197767260625,
          0.6486267636953562,
          0.7987147182544719,
          0.8546449575619145,
          1
         ],
         "y": [
          0.2018079009819024,
          0.7025878739438148,
          0.36721925808786676,
          0.27417367998609515,
          0.23001687677049654,
          0.8963571273339376,
          0.352476241015916,
          0.46302137090572826,
          1
         ]
        },
        {
         "hovertext": "Cluster 4",
         "legendgroup": "90% band: Cluster 4",
         "line": {
          "color": "rgba(1.0, 1.0, 0.6, 0.6)",
          "shape": "spline"
         },
         "mode": "lines",
         "name": "90% band: Cluster 4; 2588 Solutions        ",
         "showlegend": true,
         "type": "scatter",
         "visible": true,
         "x": [
          0,
          0.14164224746811022,
          0.2805716391608708,
          0.3369857728059401,
          0.49829197767260625,
          0.6486267636953562,
          0.7987147182544719,
          0.8546449575619145,
          1
         ],
         "y": [
          0.09804916869082046,
          0.0013973741467383208,
          0.01550036831031291,
          0.0018240991193213933,
          5.6896345625314056e-8,
          0.13147509981250635,
          0.3574816603350099,
          0.45049230825164116,
          0
         ]
        },
        {
         "fill": "tonexty",
         "fillcolor": "rgba(1.0, 1.0, 0.6, 0.6)",
         "hovertext": "Cluster 4",
         "legendgroup": "90% band: Cluster 4",
         "line": {
          "color": "rgba(1.0, 1.0, 0.6, 0.6)",
          "shape": "spline"
         },
         "mode": "lines",
         "name": "Cluster 4",
         "showlegend": false,
         "type": "scatter",
         "visible": true,
         "x": [
          0,
          0.14164224746811022,
          0.2805716391608708,
          0.3369857728059401,
          0.49829197767260625,
          0.6486267636953562,
          0.7987147182544719,
          0.8546449575619145,
          1
         ],
         "y": [
          0.3358950948826888,
          0.6915230054824406,
          0.25459175674409223,
          0.17000895156895038,
          0.33850563551727136,
          0.8921497337343594,
          0.4102359600970174,
          0.5495788567679157,
          1
         ]
        },
        {
         "hovertext": "Cluster 5",
         "legendgroup": "90% band: Cluster 5",
         "line": {
          "color": "rgba(0.2196078431372549, 0.4235294117647059, 0.6901960784313725, 0.6)",
          "shape": "spline"
         },
         "mode": "lines",
         "name": "90% band: Cluster 5; 2587 Solutions        ",
         "showlegend": true,
         "type": "scatter",
         "visible": true,
         "x": [
          0,
          0.14164224746811022,
          0.2805716391608708,
          0.3369857728059401,
          0.49829197767260625,
          0.6486267636953562,
          0.7987147182544719,
          0.8546449575619145,
          1
         ],
         "y": [
          0.07705988589949252,
          0.0014665742481343549,
          0,
          2.9409786067528953e-14,
          5.607267626946302e-8,
          0.023503929659061753,
          0.41667654791237335,
          0.5263098110846511,
          0
         ]
        },
        {
         "fill": "tonexty",
         "fillcolor": "rgba(0.2196078431372549, 0.4235294117647059, 0.6901960784313725, 0.6)",
         "hovertext": "Cluster 5",
         "legendgroup": "90% band: Cluster 5",
         "line": {
          "color": "rgba(0.2196078431372549, 0.4235294117647059, 0.6901960784313725, 0.6)",
          "shape": "spline"
         },
         "mode": "lines",
         "name": "Cluster 5",
         "showlegend": false,
         "type": "scatter",
         "visible": true,
         "x": [
          0,
          0.14164224746811022,
          0.2805716391608708,
          0.3369857728059401,
          0.49829197767260625,
          0.6486267636953562,
          0.7987147182544719,
          0.8546449575619145,
          1
         ],
         "y": [
          0.3358912607324506,
          0.5777963509690424,
          0.12945019650479953,
          0.07084764499859264,
          0.40972159780400663,
          0.8853175758390864,
          0.46526589637868715,
          0.6193034413384413,
          1
         ]
        },
        {
         "hovertext": "Cluster 6",
         "legendgroup": "90% band: Cluster 6",
         "line": {
          "color": "rgba(0.9411764705882353, 0.00784313725490196, 0.4980392156862745, 0.6)",
          "shape": "spline"
         },
         "mode": "lines",
         "name": "90% band: Cluster 6; 2587 Solutions        ",
         "showlegend": true,
         "type": "scatter",
         "visible": true,
         "x": [
          0,
          0.14164224746811022,
          0.2805716391608708,
          0.3369857728059401,
          0.49829197767260625,
          0.6486267636953562,
          0.7987147182544719,
          0.8546449575619145,
          1
         ],
         "y": [
          0.05898643361005819,
          0.0018964681086791992,
          0,
          2.9409786067528953e-14,
          5.209081776673482e-8,
          0.059293653556326154,
          0.47030478007841103,
          0.5926370922176543,
          0
         ]
        },
        {
         "fill": "tonexty",
         "fillcolor": "rgba(0.9411764705882353, 0.00784313725490196, 0.4980392156862745, 0.6)",
         "hovertext": "Cluster 6",
         "legendgroup": "90% band: Cluster 6",
         "line": {
          "color": "rgba(0.9411764705882353, 0.00784313725490196, 0.4980392156862745, 0.6)",
          "shape": "spline"
         },
         "mode": "lines",
         "name": "Cluster 6",
         "showlegend": false,
         "type": "scatter",
         "visible": true,
         "x": [
          0,
          0.14164224746811022,
          0.2805716391608708,
          0.3369857728059401,
          0.49829197767260625,
          0.6486267636953562,
          0.7987147182544719,
          0.8546449575619145,
          1
         ],
         "y": [
          0.2018094618807794,
          0.5154573309238468,
          0.03565262534191466,
          0.009871164970999359,
          0.48501187878253865,
          0.8971365075040878,
          0.5301477180192401,
          0.6939442286594247,
          1
         ]
        },
        {
         "hovertext": "Cluster 7",
         "legendgroup": "90% band: Cluster 7",
         "line": {
          "color": "rgba(0.7490196078431373, 0.3568627450980392, 0.09019607843137253, 0.6)",
          "shape": "spline"
         },
         "mode": "lines",
         "name": "90% band: Cluster 7; 2587 Solutions        ",
         "showlegend": true,
         "type": "scatter",
         "visible": true,
         "x": [
          0,
          0.14164224746811022,
          0.2805716391608708,
          0.3369857728059401,
          0.49829197767260625,
          0.6486267636953562,
          0.7987147182544719,
          0.8546449575619145,
          1
         ],
         "y": [
          0.09804917092048451,
          0.0006617929820119811,
          0,
          2.9409786067528953e-14,
          4.18968745194873e-8,
          0.07710369804577338,
          0.5372514444443806,
          0.6781835737903367,
          0
         ]
        },
        {
         "fill": "tonexty",
         "fillcolor": "rgba(0.7490196078431373, 0.3568627450980392, 0.09019607843137253, 0.6)",
         "hovertext": "Cluster 7",
         "legendgroup": "90% band: Cluster 7",
         "line": {
          "color": "rgba(0.7490196078431373, 0.3568627450980392, 0.09019607843137253, 0.6)",
          "shape": "spline"
         },
         "mode": "lines",
         "name": "Cluster 7",
         "showlegend": false,
         "type": "scatter",
         "visible": true,
         "x": [
          0,
          0.14164224746811022,
          0.2805716391608708,
          0.3369857728059401,
          0.49829197767260625,
          0.6486267636953562,
          0.7987147182544719,
          0.8546449575619145,
          1
         ],
         "y": [
          0.20180533033025258,
          0.31024801806963037,
          0,
          2.9409786067528953e-14,
          0.2309830026046785,
          0.9219839254831453,
          0.5648990057147286,
          0.7375315968819295,
          1
         ]
        },
        {
         "hovertext": "Cluster 8",
         "legendgroup": "90% band: Cluster 8",
         "line": {
          "color": "rgba(0.4, 0.4, 0.4, 0.6)",
          "shape": "spline"
         },
         "mode": "lines",
         "name": "90% band: Cluster 8; 2588 Solutions        ",
         "showlegend": true,
         "type": "scatter",
         "visible": true,
         "x": [
          0,
          0.14164224746811022,
          0.2805716391608708,
          0.3369857728059401,
          0.49829197767260625,
          0.6486267636953562,
          0.7987147182544719,
          0.8546449575619145,
          1
         ],
         "y": [
          0.02564730232342287,
          0.0016973157913984943,
          0,
          2.9409786067528953e-14,
          5.8057367903933096e-8,
          0.17921217142955512,
          0.567146705980928,
          0.7143006374403386,
          0
         ]
        },
        {
         "fill": "tonexty",
         "fillcolor": "rgba(0.4, 0.4, 0.4, 0.6)",
         "hovertext": "Cluster 8",
         "legendgroup": "90% band: Cluster 8",
         "line": {
          "color": "rgba(0.4, 0.4, 0.4, 0.6)",
          "shape": "spline"
         },
         "mode": "lines",
         "name": "Cluster 8",
         "showlegend": false,
         "type": "scatter",
         "visible": true,
         "x": [
          0,
          0.14164224746811022,
          0.2805716391608708,
          0.3369857728059401,
          0.49829197767260625,
          0.6486267636953562,
          0.7987147182544719,
          0.8546449575619145,
          1
         ],
         "y": [
          0.2018053885194523,
          0.7050938958130385,
          0,
          2.9409786067528953e-14,
          0.5760747795684302,
          0.8936989221131231,
          0.6281003290024727,
          0.8445502246352231,
          1
         ]
        },
        {
         "line": {
          "color": "black"
         },
         "mode": "text",
         "showlegend": false,
         "text": [
          "2.7e5"
         ],
         "textposition": "bottom center",
         "type": "scatter",
         "x": [
          0
         ],
         "y": [
          0
         ]
        },
        {
         "line": {
          "color": "black"
         },
         "mode": "text",
         "showlegend": false,
         "text": [
          "5.7e5"
         ],
         "textposition": "top center",
         "type": "scatter",
         "x": [
          0
         ],
         "y": [
          1
         ]
        },
        {
         "line": {
          "color": "black"
         },
         "mode": "markers+lines+text",
         "showlegend": false,
         "text": [
          "",
          "3.3",
          "3.9",
          "4.5",
          "5.1",
          ""
         ],
         "textposition": "middle left",
         "type": "scatter",
         "x": [
          0,
          0,
          0,
          0,
          0,
          0
         ],
         "y": [
          0,
          0.2,
          0.4,
          0.6000000000000001,
          0.8,
          1
         ]
        },
        {
         "mode": "text",
         "showlegend": false,
         "text": "Ppeak",
         "textfont": {
          "size": 20
         },
         "type": "scatter",
         "x": [
          0
         ],
         "y": [
          1.1
         ]
        },
        {
         "line": {
          "color": "black"
         },
         "mode": "text",
         "showlegend": false,
         "text": [
          "0.0e3"
         ],
         "textposition": "bottom center",
         "type": "scatter",
         "x": [
          0.14164224746811022
         ],
         "y": [
          0
         ]
        },
        {
         "line": {
          "color": "black"
         },
         "mode": "text",
         "showlegend": false,
         "text": [
          "9.1e3"
         ],
         "textposition": "top center",
         "type": "scatter",
         "x": [
          0.14164224746811022
         ],
         "y": [
          1
         ]
        },
        {
         "line": {
          "color": "black"
         },
         "mode": "markers+lines+text",
         "showlegend": false,
         "text": [
          "",
          "1.8",
          "3.6",
          "5.5",
          "7.3",
          ""
         ],
         "textposition": "middle left",
         "type": "scatter",
         "x": [
          0.14164224746811022,
          0.14164224746811022,
          0.14164224746811022,
          0.14164224746811022,
          0.14164224746811022,
          0.14164224746811022
         ],
         "y": [
          0,
          0.2,
          0.4,
          0.6000000000000001,
          0.8,
          1
         ]
        },
        {
         "mode": "text",
         "showlegend": false,
         "text": "pRes",
         "textfont": {
          "size": 20
         },
         "type": "scatter",
         "x": [
          0.14164224746811022
         ],
         "y": [
          1.1
         ]
        },
        {
         "line": {
          "color": "black"
         },
         "mode": "text",
         "showlegend": false,
         "text": [
          "0.0e5"
         ],
         "textposition": "bottom center",
         "type": "scatter",
         "x": [
          0.2805716391608708
         ],
         "y": [
          0
         ]
        },
        {
         "line": {
          "color": "black"
         },
         "mode": "text",
         "showlegend": false,
         "text": [
          "3.1e5"
         ],
         "textposition": "top center",
         "type": "scatter",
         "x": [
          0.2805716391608708
         ],
         "y": [
          1
         ]
        },
        {
         "line": {
          "color": "black"
         },
         "mode": "markers+lines+text",
         "showlegend": false,
         "text": [
          "",
          "0.6",
          "1.2",
          "1.9",
          "2.5",
          ""
         ],
         "textposition": "middle left",
         "type": "scatter",
         "x": [
          0.2805716391608708,
          0.2805716391608708,
          0.2805716391608708,
          0.2805716391608708,
          0.2805716391608708,
          0.2805716391608708
         ],
         "y": [
          0,
          0.2,
          0.4,
          0.6000000000000001,
          0.8,
          1
         ]
        },
        {
         "mode": "text",
         "showlegend": false,
         "text": "mPpeak",
         "textfont": {
          "size": 20
         },
         "type": "scatter",
         "x": [
          0.2805716391608708
         ],
         "y": [
          1.1
         ]
        },
        {
         "line": {
          "color": "black"
         },
         "mode": "text",
         "showlegend": false,
         "text": [
          "-0.0e4"
         ],
         "textposition": "bottom center",
         "type": "scatter",
         "x": [
          0.3369857728059401
         ],
         "y": [
          0
         ]
        },
        {
         "line": {
          "color": "black"
         },
         "mode": "text",
         "showlegend": false,
         "text": [
          "7.6e4"
         ],
         "textposition": "top center",
         "type": "scatter",
         "x": [
          0.3369857728059401
         ],
         "y": [
          1
         ]
        },
        {
         "line": {
          "color": "black"
         },
         "mode": "markers+lines+text",
         "showlegend": false,
         "text": [
          "",
          "1.5",
          "3.0",
          "4.6",
          "6.1",
          ""
         ],
         "textposition": "middle left",
         "type": "scatter",
         "x": [
          0.3369857728059401,
          0.3369857728059401,
          0.3369857728059401,
          0.3369857728059401,
          0.3369857728059401,
          0.3369857728059401
         ],
         "y": [
          0,
          0.2,
          0.4,
          0.6000000000000001,
          0.8,
          1
         ]
        },
        {
         "mode": "text",
         "showlegend": false,
         "text": "bGrid",
         "textfont": {
          "size": 20
         },
         "type": "scatter",
         "x": [
          0.3369857728059401
         ],
         "y": [
          1.1
         ]
        },
        {
         "line": {
          "color": "black"
         },
         "mode": "text",
         "showlegend": false,
         "text": [
          "0.0e4"
         ],
         "textposition": "bottom center",
         "type": "scatter",
         "x": [
          0.49829197767260625
         ],
         "y": [
          0
         ]
        },
        {
         "line": {
          "color": "black"
         },
         "mode": "text",
         "showlegend": false,
         "text": [
          "16.8e4"
         ],
         "textposition": "top center",
         "type": "scatter",
         "x": [
          0.49829197767260625
         ],
         "y": [
          1
         ]
        },
        {
         "line": {
          "color": "black"
         },
         "mode": "markers+lines+text",
         "showlegend": false,
         "text": [
          "",
          "3.4",
          "6.7",
          "10.1",
          "13.5",
          ""
         ],
         "textposition": "middle left",
         "type": "scatter",
         "x": [
          0.49829197767260625,
          0.49829197767260625,
          0.49829197767260625,
          0.49829197767260625,
          0.49829197767260625,
          0.49829197767260625
         ],
         "y": [
          0,
          0.2,
          0.4,
          0.6000000000000001,
          0.8,
          1
         ]
        },
        {
         "mode": "text",
         "showlegend": false,
         "text": "bDis",
         "textfont": {
          "size": 20
         },
         "type": "scatter",
         "x": [
          0.49829197767260625
         ],
         "y": [
          1.1
         ]
        },
        {
         "line": {
          "color": "black"
         },
         "mode": "text",
         "showlegend": false,
         "text": [
          "0.0"
         ],
         "textposition": "bottom center",
         "type": "scatter",
         "x": [
          0.6486267636953562
         ],
         "y": [
          0
         ]
        },
        {
         "line": {
          "color": "black"
         },
         "mode": "text",
         "showlegend": false,
         "text": [
          "1.0"
         ],
         "textposition": "top center",
         "type": "scatter",
         "x": [
          0.6486267636953562
         ],
         "y": [
          1
         ]
        },
        {
         "line": {
          "color": "black"
         },
         "mode": "markers+lines+text",
         "showlegend": false,
         "text": [
          "",
          "0.2",
          "0.4",
          "0.6",
          "0.8",
          ""
         ],
         "textposition": "middle left",
         "type": "scatter",
         "x": [
          0.6486267636953562,
          0.6486267636953562,
          0.6486267636953562,
          0.6486267636953562,
          0.6486267636953562,
          0.6486267636953562
         ],
         "y": [
          0,
          0.2,
          0.4,
          0.6000000000000001,
          0.8,
          1
         ]
        },
        {
         "mode": "text",
         "showlegend": false,
         "text": "bSOC",
         "textfont": {
          "size": 20
         },
         "type": "scatter",
         "x": [
          0.6486267636953562
         ],
         "y": [
          1.1
         ]
        },
        {
         "line": {
          "color": "black"
         },
         "mode": "text",
         "showlegend": false,
         "text": [
          "2.1e3"
         ],
         "textposition": "bottom center",
         "type": "scatter",
         "x": [
          0.7987147182544719
         ],
         "y": [
          0
         ]
        },
        {
         "line": {
          "color": "black"
         },
         "mode": "text",
         "showlegend": false,
         "text": [
          "2.2e3"
         ],
         "textposition": "top center",
         "type": "scatter",
         "x": [
          0.7987147182544719
         ],
         "y": [
          1
         ]
        },
        {
         "line": {
          "color": "black"
         },
         "mode": "markers+lines+text",
         "showlegend": false,
         "text": [
          "",
          "2.1",
          "2.1",
          "2.2",
          "2.2",
          ""
         ],
         "textposition": "middle left",
         "type": "scatter",
         "x": [
          0.7987147182544719,
          0.7987147182544719,
          0.7987147182544719,
          0.7987147182544719,
          0.7987147182544719,
          0.7987147182544719
         ],
         "y": [
          0,
          0.2,
          0.4,
          0.6000000000000001,
          0.8,
          1
         ]
        },
        {
         "mode": "text",
         "showlegend": false,
         "text": "CO2",
         "textfont": {
          "size": 20
         },
         "type": "scatter",
         "x": [
          0.7987147182544719
         ],
         "y": [
          1.1
         ]
        },
        {
         "line": {
          "color": "black"
         },
         "mode": "text",
         "showlegend": false,
         "text": [
          "3.2e5"
         ],
         "textposition": "bottom center",
         "type": "scatter",
         "x": [
          0.8546449575619145
         ],
         "y": [
          0
         ]
        },
        {
         "line": {
          "color": "black"
         },
         "mode": "text",
         "showlegend": false,
         "text": [
          "3.4e5"
         ],
         "textposition": "top center",
         "type": "scatter",
         "x": [
          0.8546449575619145
         ],
         "y": [
          1
         ]
        },
        {
         "line": {
          "color": "black"
         },
         "mode": "markers+lines+text",
         "showlegend": false,
         "text": [
          "",
          "3.2",
          "3.3",
          "3.3",
          "3.4",
          ""
         ],
         "textposition": "middle left",
         "type": "scatter",
         "x": [
          0.8546449575619145,
          0.8546449575619145,
          0.8546449575619145,
          0.8546449575619145,
          0.8546449575619145,
          0.8546449575619145
         ],
         "y": [
          0,
          0.2,
          0.4,
          0.6000000000000001,
          0.8,
          1
         ]
        },
        {
         "mode": "text",
         "showlegend": false,
         "text": "Costs",
         "textfont": {
          "size": 20
         },
         "type": "scatter",
         "x": [
          0.8546449575619145
         ],
         "y": [
          1.1
         ]
        },
        {
         "line": {
          "color": "black"
         },
         "mode": "text",
         "showlegend": false,
         "text": [
          "0.0"
         ],
         "textposition": "bottom center",
         "type": "scatter",
         "x": [
          1
         ],
         "y": [
          0
         ]
        },
        {
         "line": {
          "color": "black"
         },
         "mode": "text",
         "showlegend": false,
         "text": [
          "1.0"
         ],
         "textposition": "top center",
         "type": "scatter",
         "x": [
          1
         ],
         "y": [
          1
         ]
        },
        {
         "line": {
          "color": "black"
         },
         "mode": "markers+lines+text",
         "showlegend": false,
         "text": [
          "",
          "0.2",
          "0.4",
          "0.6",
          "0.8",
          ""
         ],
         "textposition": "middle left",
         "type": "scatter",
         "x": [
          1,
          1,
          1,
          1,
          1,
          1
         ],
         "y": [
          0,
          0.2,
          0.4,
          0.6000000000000001,
          0.8,
          1
         ]
        },
        {
         "mode": "text",
         "showlegend": false,
         "text": "bSOC% Time",
         "textfont": {
          "size": 20
         },
         "type": "scatter",
         "x": [
          1
         ],
         "y": [
          1.1
         ]
        }
       ],
       "layout": {
        "font": {
         "size": 18
        },
        "height": 700,
        "legend": {
         "font": {
          "size": 24
         },
         "orientation": "h",
         "yanchor": "top"
        },
        "plot_bgcolor": "rgba(0,0,0,0)",
        "template": {
         "data": {
          "bar": [
           {
            "error_x": {
             "color": "#2a3f5f"
            },
            "error_y": {
             "color": "#2a3f5f"
            },
            "marker": {
             "line": {
              "color": "#E5ECF6",
              "width": 0.5
             },
             "pattern": {
              "fillmode": "overlay",
              "size": 10,
              "solidity": 0.2
             }
            },
            "type": "bar"
           }
          ],
          "barpolar": [
           {
            "marker": {
             "line": {
              "color": "#E5ECF6",
              "width": 0.5
             },
             "pattern": {
              "fillmode": "overlay",
              "size": 10,
              "solidity": 0.2
             }
            },
            "type": "barpolar"
           }
          ],
          "carpet": [
           {
            "aaxis": {
             "endlinecolor": "#2a3f5f",
             "gridcolor": "white",
             "linecolor": "white",
             "minorgridcolor": "white",
             "startlinecolor": "#2a3f5f"
            },
            "baxis": {
             "endlinecolor": "#2a3f5f",
             "gridcolor": "white",
             "linecolor": "white",
             "minorgridcolor": "white",
             "startlinecolor": "#2a3f5f"
            },
            "type": "carpet"
           }
          ],
          "choropleth": [
           {
            "colorbar": {
             "outlinewidth": 0,
             "ticks": ""
            },
            "type": "choropleth"
           }
          ],
          "contour": [
           {
            "colorbar": {
             "outlinewidth": 0,
             "ticks": ""
            },
            "colorscale": [
             [
              0,
              "#0d0887"
             ],
             [
              0.1111111111111111,
              "#46039f"
             ],
             [
              0.2222222222222222,
              "#7201a8"
             ],
             [
              0.3333333333333333,
              "#9c179e"
             ],
             [
              0.4444444444444444,
              "#bd3786"
             ],
             [
              0.5555555555555556,
              "#d8576b"
             ],
             [
              0.6666666666666666,
              "#ed7953"
             ],
             [
              0.7777777777777778,
              "#fb9f3a"
             ],
             [
              0.8888888888888888,
              "#fdca26"
             ],
             [
              1,
              "#f0f921"
             ]
            ],
            "type": "contour"
           }
          ],
          "contourcarpet": [
           {
            "colorbar": {
             "outlinewidth": 0,
             "ticks": ""
            },
            "type": "contourcarpet"
           }
          ],
          "heatmap": [
           {
            "colorbar": {
             "outlinewidth": 0,
             "ticks": ""
            },
            "colorscale": [
             [
              0,
              "#0d0887"
             ],
             [
              0.1111111111111111,
              "#46039f"
             ],
             [
              0.2222222222222222,
              "#7201a8"
             ],
             [
              0.3333333333333333,
              "#9c179e"
             ],
             [
              0.4444444444444444,
              "#bd3786"
             ],
             [
              0.5555555555555556,
              "#d8576b"
             ],
             [
              0.6666666666666666,
              "#ed7953"
             ],
             [
              0.7777777777777778,
              "#fb9f3a"
             ],
             [
              0.8888888888888888,
              "#fdca26"
             ],
             [
              1,
              "#f0f921"
             ]
            ],
            "type": "heatmap"
           }
          ],
          "heatmapgl": [
           {
            "colorbar": {
             "outlinewidth": 0,
             "ticks": ""
            },
            "colorscale": [
             [
              0,
              "#0d0887"
             ],
             [
              0.1111111111111111,
              "#46039f"
             ],
             [
              0.2222222222222222,
              "#7201a8"
             ],
             [
              0.3333333333333333,
              "#9c179e"
             ],
             [
              0.4444444444444444,
              "#bd3786"
             ],
             [
              0.5555555555555556,
              "#d8576b"
             ],
             [
              0.6666666666666666,
              "#ed7953"
             ],
             [
              0.7777777777777778,
              "#fb9f3a"
             ],
             [
              0.8888888888888888,
              "#fdca26"
             ],
             [
              1,
              "#f0f921"
             ]
            ],
            "type": "heatmapgl"
           }
          ],
          "histogram": [
           {
            "marker": {
             "pattern": {
              "fillmode": "overlay",
              "size": 10,
              "solidity": 0.2
             }
            },
            "type": "histogram"
           }
          ],
          "histogram2d": [
           {
            "colorbar": {
             "outlinewidth": 0,
             "ticks": ""
            },
            "colorscale": [
             [
              0,
              "#0d0887"
             ],
             [
              0.1111111111111111,
              "#46039f"
             ],
             [
              0.2222222222222222,
              "#7201a8"
             ],
             [
              0.3333333333333333,
              "#9c179e"
             ],
             [
              0.4444444444444444,
              "#bd3786"
             ],
             [
              0.5555555555555556,
              "#d8576b"
             ],
             [
              0.6666666666666666,
              "#ed7953"
             ],
             [
              0.7777777777777778,
              "#fb9f3a"
             ],
             [
              0.8888888888888888,
              "#fdca26"
             ],
             [
              1,
              "#f0f921"
             ]
            ],
            "type": "histogram2d"
           }
          ],
          "histogram2dcontour": [
           {
            "colorbar": {
             "outlinewidth": 0,
             "ticks": ""
            },
            "colorscale": [
             [
              0,
              "#0d0887"
             ],
             [
              0.1111111111111111,
              "#46039f"
             ],
             [
              0.2222222222222222,
              "#7201a8"
             ],
             [
              0.3333333333333333,
              "#9c179e"
             ],
             [
              0.4444444444444444,
              "#bd3786"
             ],
             [
              0.5555555555555556,
              "#d8576b"
             ],
             [
              0.6666666666666666,
              "#ed7953"
             ],
             [
              0.7777777777777778,
              "#fb9f3a"
             ],
             [
              0.8888888888888888,
              "#fdca26"
             ],
             [
              1,
              "#f0f921"
             ]
            ],
            "type": "histogram2dcontour"
           }
          ],
          "mesh3d": [
           {
            "colorbar": {
             "outlinewidth": 0,
             "ticks": ""
            },
            "type": "mesh3d"
           }
          ],
          "parcoords": [
           {
            "line": {
             "colorbar": {
              "outlinewidth": 0,
              "ticks": ""
             }
            },
            "type": "parcoords"
           }
          ],
          "pie": [
           {
            "automargin": true,
            "type": "pie"
           }
          ],
          "scatter": [
           {
            "fillpattern": {
             "fillmode": "overlay",
             "size": 10,
             "solidity": 0.2
            },
            "type": "scatter"
           }
          ],
          "scatter3d": [
           {
            "line": {
             "colorbar": {
              "outlinewidth": 0,
              "ticks": ""
             }
            },
            "marker": {
             "colorbar": {
              "outlinewidth": 0,
              "ticks": ""
             }
            },
            "type": "scatter3d"
           }
          ],
          "scattercarpet": [
           {
            "marker": {
             "colorbar": {
              "outlinewidth": 0,
              "ticks": ""
             }
            },
            "type": "scattercarpet"
           }
          ],
          "scattergeo": [
           {
            "marker": {
             "colorbar": {
              "outlinewidth": 0,
              "ticks": ""
             }
            },
            "type": "scattergeo"
           }
          ],
          "scattergl": [
           {
            "marker": {
             "colorbar": {
              "outlinewidth": 0,
              "ticks": ""
             }
            },
            "type": "scattergl"
           }
          ],
          "scattermapbox": [
           {
            "marker": {
             "colorbar": {
              "outlinewidth": 0,
              "ticks": ""
             }
            },
            "type": "scattermapbox"
           }
          ],
          "scatterpolar": [
           {
            "marker": {
             "colorbar": {
              "outlinewidth": 0,
              "ticks": ""
             }
            },
            "type": "scatterpolar"
           }
          ],
          "scatterpolargl": [
           {
            "marker": {
             "colorbar": {
              "outlinewidth": 0,
              "ticks": ""
             }
            },
            "type": "scatterpolargl"
           }
          ],
          "scatterternary": [
           {
            "marker": {
             "colorbar": {
              "outlinewidth": 0,
              "ticks": ""
             }
            },
            "type": "scatterternary"
           }
          ],
          "surface": [
           {
            "colorbar": {
             "outlinewidth": 0,
             "ticks": ""
            },
            "colorscale": [
             [
              0,
              "#0d0887"
             ],
             [
              0.1111111111111111,
              "#46039f"
             ],
             [
              0.2222222222222222,
              "#7201a8"
             ],
             [
              0.3333333333333333,
              "#9c179e"
             ],
             [
              0.4444444444444444,
              "#bd3786"
             ],
             [
              0.5555555555555556,
              "#d8576b"
             ],
             [
              0.6666666666666666,
              "#ed7953"
             ],
             [
              0.7777777777777778,
              "#fb9f3a"
             ],
             [
              0.8888888888888888,
              "#fdca26"
             ],
             [
              1,
              "#f0f921"
             ]
            ],
            "type": "surface"
           }
          ],
          "table": [
           {
            "cells": {
             "fill": {
              "color": "#EBF0F8"
             },
             "line": {
              "color": "white"
             }
            },
            "header": {
             "fill": {
              "color": "#C8D4E3"
             },
             "line": {
              "color": "white"
             }
            },
            "type": "table"
           }
          ]
         },
         "layout": {
          "annotationdefaults": {
           "arrowcolor": "#2a3f5f",
           "arrowhead": 0,
           "arrowwidth": 1
          },
          "autotypenumbers": "strict",
          "coloraxis": {
           "colorbar": {
            "outlinewidth": 0,
            "ticks": ""
           }
          },
          "colorscale": {
           "diverging": [
            [
             0,
             "#8e0152"
            ],
            [
             0.1,
             "#c51b7d"
            ],
            [
             0.2,
             "#de77ae"
            ],
            [
             0.3,
             "#f1b6da"
            ],
            [
             0.4,
             "#fde0ef"
            ],
            [
             0.5,
             "#f7f7f7"
            ],
            [
             0.6,
             "#e6f5d0"
            ],
            [
             0.7,
             "#b8e186"
            ],
            [
             0.8,
             "#7fbc41"
            ],
            [
             0.9,
             "#4d9221"
            ],
            [
             1,
             "#276419"
            ]
           ],
           "sequential": [
            [
             0,
             "#0d0887"
            ],
            [
             0.1111111111111111,
             "#46039f"
            ],
            [
             0.2222222222222222,
             "#7201a8"
            ],
            [
             0.3333333333333333,
             "#9c179e"
            ],
            [
             0.4444444444444444,
             "#bd3786"
            ],
            [
             0.5555555555555556,
             "#d8576b"
            ],
            [
             0.6666666666666666,
             "#ed7953"
            ],
            [
             0.7777777777777778,
             "#fb9f3a"
            ],
            [
             0.8888888888888888,
             "#fdca26"
            ],
            [
             1,
             "#f0f921"
            ]
           ],
           "sequentialminus": [
            [
             0,
             "#0d0887"
            ],
            [
             0.1111111111111111,
             "#46039f"
            ],
            [
             0.2222222222222222,
             "#7201a8"
            ],
            [
             0.3333333333333333,
             "#9c179e"
            ],
            [
             0.4444444444444444,
             "#bd3786"
            ],
            [
             0.5555555555555556,
             "#d8576b"
            ],
            [
             0.6666666666666666,
             "#ed7953"
            ],
            [
             0.7777777777777778,
             "#fb9f3a"
            ],
            [
             0.8888888888888888,
             "#fdca26"
            ],
            [
             1,
             "#f0f921"
            ]
           ]
          },
          "colorway": [
           "#636efa",
           "#EF553B",
           "#00cc96",
           "#ab63fa",
           "#FFA15A",
           "#19d3f3",
           "#FF6692",
           "#B6E880",
           "#FF97FF",
           "#FECB52"
          ],
          "font": {
           "color": "#2a3f5f"
          },
          "geo": {
           "bgcolor": "white",
           "lakecolor": "white",
           "landcolor": "#E5ECF6",
           "showlakes": true,
           "showland": true,
           "subunitcolor": "white"
          },
          "hoverlabel": {
           "align": "left"
          },
          "hovermode": "closest",
          "mapbox": {
           "style": "light"
          },
          "paper_bgcolor": "white",
          "plot_bgcolor": "#E5ECF6",
          "polar": {
           "angularaxis": {
            "gridcolor": "white",
            "linecolor": "white",
            "ticks": ""
           },
           "bgcolor": "#E5ECF6",
           "radialaxis": {
            "gridcolor": "white",
            "linecolor": "white",
            "ticks": ""
           }
          },
          "scene": {
           "xaxis": {
            "backgroundcolor": "#E5ECF6",
            "gridcolor": "white",
            "gridwidth": 2,
            "linecolor": "white",
            "showbackground": true,
            "ticks": "",
            "zerolinecolor": "white"
           },
           "yaxis": {
            "backgroundcolor": "#E5ECF6",
            "gridcolor": "white",
            "gridwidth": 2,
            "linecolor": "white",
            "showbackground": true,
            "ticks": "",
            "zerolinecolor": "white"
           },
           "zaxis": {
            "backgroundcolor": "#E5ECF6",
            "gridcolor": "white",
            "gridwidth": 2,
            "linecolor": "white",
            "showbackground": true,
            "ticks": "",
            "zerolinecolor": "white"
           }
          },
          "shapedefaults": {
           "line": {
            "color": "#2a3f5f"
           }
          },
          "ternary": {
           "aaxis": {
            "gridcolor": "white",
            "linecolor": "white",
            "ticks": ""
           },
           "baxis": {
            "gridcolor": "white",
            "linecolor": "white",
            "ticks": ""
           },
           "bgcolor": "#E5ECF6",
           "caxis": {
            "gridcolor": "white",
            "linecolor": "white",
            "ticks": ""
           }
          },
          "title": {
           "x": 0.05
          },
          "xaxis": {
           "automargin": true,
           "gridcolor": "white",
           "linecolor": "white",
           "ticks": "",
           "title": {
            "standoff": 15
           },
           "zerolinecolor": "white",
           "zerolinewidth": 2
          },
          "yaxis": {
           "automargin": true,
           "gridcolor": "white",
           "linecolor": "white",
           "ticks": "",
           "title": {
            "standoff": 15
           },
           "zerolinecolor": "white",
           "zerolinewidth": 2
          }
         }
        },
        "width": 1500,
        "xaxis": {
         "showgrid": false,
         "showticklabels": false,
         "zeroline": false
        },
        "yaxis": {
         "showgrid": false,
         "showticklabels": false,
         "zeroline": false
        }
       }
      }
     },
     "metadata": {},
     "output_type": "display_data"
    }
   ],
   "source": [
    "corr, obj_order = order_objectives(data[objs], use_absolute_corr=False)\n",
    "\n",
    "# Cluster into 8 groups\n",
    "obj_to_cluster = \"CO2\"\n",
    "n_clusters = 8\n",
    "\n",
    "data[\"cluster\"] = 1\n",
    "for i in range(1, n_clusters):\n",
    "    data.loc[data[obj_to_cluster] > data[obj_to_cluster].quantile(i / n_clusters), \"cluster\"] = i+1\n",
    "\n",
    "ordered_data, axis_dist, axis_signs = calculate_axes_positions(\n",
    "        data[objs],\n",
    "        obj_order,\n",
    "        corr,\n",
    "        dist_parameter=0.521,\n",
    "        distance_formula=1,\n",
    "    )\n",
    "\n",
    "scales = pd.DataFrame([ordered_data.min(axis=0), ordered_data.max(axis=0)], index=[\"min\", \"max\"])\n",
    "\n",
    "fig = SCORE_bands(\n",
    "    ordered_data,\n",
    "    color_groups=data[\"cluster\"].tolist(),\n",
    "    bands=True,\n",
    "    quantile=0.05,\n",
    "    axis_positions=axis_dist,\n",
    "    solutions=False,\n",
    "    scales=scales[ordered_data.columns],\n",
    ")\n",
    "\n",
    "fig.update_layout(\n",
    "    width=1500,\n",
    "    height=700,\n",
    ")\n"
   ]
  },
  {
   "cell_type": "code",
   "execution_count": 5,
   "id": "a71ed1a5",
   "metadata": {},
   "outputs": [
    {
     "data": {
      "application/vnd.plotly.v1+json": {
       "config": {
        "plotlyServerURL": "https://plot.ly"
       },
       "data": [
        {
         "hovertext": "Cluster 1",
         "legendgroup": "90% band: Cluster 1",
         "line": {
          "color": "rgba(0.4980392156862745, 0.788235294117647, 0.4980392156862745, 0.6)",
          "shape": "spline"
         },
         "mode": "lines",
         "name": "90% band: Cluster 1; 324 Solutions        ",
         "showlegend": true,
         "type": "scatter",
         "visible": true,
         "x": [
          0,
          0.14164224746811022,
          0.2805716391608708,
          0.3369857728059401,
          0.49829197767260625,
          0.6486267636953562,
          0.7987147182544719,
          0.8546449575619145,
          1
         ],
         "y": [
          0.10236350743675542,
          0.004802546828433069,
          0.23050538321941202,
          0.13998314763592337,
          5.91742926845244e-8,
          0.17921218661610663,
          0.2906514736081634,
          0.36298545169681895,
          0
         ]
        },
        {
         "fill": "tonexty",
         "fillcolor": "rgba(0.4980392156862745, 0.788235294117647, 0.4980392156862745, 0.6)",
         "hovertext": "Cluster 1",
         "legendgroup": "90% band: Cluster 1",
         "line": {
          "color": "rgba(0.4980392156862745, 0.788235294117647, 0.4980392156862745, 0.6)",
          "shape": "spline"
         },
         "mode": "lines",
         "name": "Cluster 1",
         "showlegend": false,
         "type": "scatter",
         "visible": true,
         "x": [
          0,
          0.14164224746811022,
          0.2805716391608708,
          0.3369857728059401,
          0.49829197767260625,
          0.6486267636953562,
          0.7987147182544719,
          0.8546449575619145,
          1
         ],
         "y": [
          0.20180984134275995,
          0.6296040481597993,
          0.4160563637627562,
          0.31807018125940606,
          0.24937675602530318,
          0.8953587515705165,
          0.29618441703376447,
          0.4201506280683794,
          1
         ]
        },
        {
         "hovertext": "Cluster 2",
         "legendgroup": "90% band: Cluster 2",
         "line": {
          "color": "rgba(0.7450980392156863, 0.6823529411764706, 0.8313725490196079, 0.6)",
          "shape": "spline"
         },
         "mode": "lines",
         "name": "90% band: Cluster 2; 323 Solutions        ",
         "showlegend": true,
         "type": "scatter",
         "visible": true,
         "x": [
          0,
          0.14164224746811022,
          0.2805716391608708,
          0.3369857728059401,
          0.49829197767260625,
          0.6486267636953562,
          0.7987147182544719,
          0.8546449575619145,
          1
         ],
         "y": [
          0.1055377757048706,
          0.001622497615654195,
          0.2299040273480771,
          0.14068978051770786,
          5.5702610577513734e-8,
          0.14426392764830223,
          0.29682976912448616,
          0.3716231858995318,
          0.00011202009126822307
         ]
        },
        {
         "fill": "tonexty",
         "fillcolor": "rgba(0.7450980392156863, 0.6823529411764706, 0.8313725490196079, 0.6)",
         "hovertext": "Cluster 2",
         "legendgroup": "90% band: Cluster 2",
         "line": {
          "color": "rgba(0.7450980392156863, 0.6823529411764706, 0.8313725490196079, 0.6)",
          "shape": "spline"
         },
         "mode": "lines",
         "name": "Cluster 2",
         "showlegend": false,
         "type": "scatter",
         "visible": true,
         "x": [
          0,
          0.14164224746811022,
          0.2805716391608708,
          0.3369857728059401,
          0.49829197767260625,
          0.6486267636953562,
          0.7987147182544719,
          0.8546449575619145,
          1
         ],
         "y": [
          0.20180534255067795,
          0.6423926886219911,
          0.41367472715906667,
          0.300683861604215,
          0.22956028625133648,
          0.8654854240682327,
          0.30454042907721773,
          0.4363678795427924,
          1
         ]
        },
        {
         "hovertext": "Cluster 3",
         "legendgroup": "90% band: Cluster 3",
         "line": {
          "color": "rgba(0.9921568627450981, 0.7529411764705882, 0.5254901960784314, 0.6)",
          "shape": "spline"
         },
         "mode": "lines",
         "name": "90% band: Cluster 3; 323 Solutions        ",
         "showlegend": true,
         "type": "scatter",
         "visible": true,
         "x": [
          0,
          0.14164224746811022,
          0.2805716391608708,
          0.3369857728059401,
          0.49829197767260625,
          0.6486267636953562,
          0.7987147182544719,
          0.8546449575619145,
          1
         ],
         "y": [
          0.10528959134168,
          0.0027282667424989686,
          0.19931638428906584,
          0.1185727701010967,
          5.735241401048109e-8,
          0.17921279153196235,
          0.30534227965879424,
          0.3823268683220943,
          0
         ]
        },
        {
         "fill": "tonexty",
         "fillcolor": "rgba(0.9921568627450981, 0.7529411764705882, 0.5254901960784314, 0.6)",
         "hovertext": "Cluster 3",
         "legendgroup": "90% band: Cluster 3",
         "line": {
          "color": "rgba(0.9921568627450981, 0.7529411764705882, 0.5254901960784314, 0.6)",
          "shape": "spline"
         },
         "mode": "lines",
         "name": "Cluster 3",
         "showlegend": false,
         "type": "scatter",
         "visible": true,
         "x": [
          0,
          0.14164224746811022,
          0.2805716391608708,
          0.3369857728059401,
          0.49829197767260625,
          0.6486267636953562,
          0.7987147182544719,
          0.8546449575619145,
          1
         ],
         "y": [
          0.20181120282921117,
          0.6843364180301988,
          0.3865963877576262,
          0.28440293396757527,
          0.27204421416322105,
          0.8973712921616713,
          0.3129551043049309,
          0.45013750101574795,
          1
         ]
        },
        {
         "hovertext": "Cluster 4",
         "legendgroup": "90% band: Cluster 4",
         "line": {
          "color": "rgba(1.0, 1.0, 0.6, 0.6)",
          "shape": "spline"
         },
         "mode": "lines",
         "name": "90% band: Cluster 4; 324 Solutions        ",
         "showlegend": true,
         "type": "scatter",
         "visible": true,
         "x": [
          0,
          0.14164224746811022,
          0.2805716391608708,
          0.3369857728059401,
          0.49829197767260625,
          0.6486267636953562,
          0.7987147182544719,
          0.8546449575619145,
          1
         ],
         "y": [
          0.10639083031074618,
          0.002040721243003824,
          0.18314870851435341,
          0.10175369787457325,
          5.798190805476059e-8,
          0.17921222642715212,
          0.31376529249359636,
          0.39310843616746644,
          0
         ]
        },
        {
         "fill": "tonexty",
         "fillcolor": "rgba(1.0, 1.0, 0.6, 0.6)",
         "hovertext": "Cluster 4",
         "legendgroup": "90% band: Cluster 4",
         "line": {
          "color": "rgba(1.0, 1.0, 0.6, 0.6)",
          "shape": "spline"
         },
         "mode": "lines",
         "name": "Cluster 4",
         "showlegend": false,
         "type": "scatter",
         "visible": true,
         "x": [
          0,
          0.14164224746811022,
          0.2805716391608708,
          0.3369857728059401,
          0.49829197767260625,
          0.6486267636953562,
          0.7987147182544719,
          0.8546449575619145,
          1
         ],
         "y": [
          0.2171877675408133,
          0.7057663508984537,
          0.3739638004970675,
          0.2714473590751575,
          0.22085033045707372,
          0.887103604946708,
          0.32228020762218795,
          0.4583519293203244,
          1
         ]
        },
        {
         "hovertext": "Cluster 5",
         "legendgroup": "90% band: Cluster 5",
         "line": {
          "color": "rgba(0.2196078431372549, 0.4235294117647059, 0.6901960784313725, 0.6)",
          "shape": "spline"
         },
         "mode": "lines",
         "name": "90% band: Cluster 5; 323 Solutions        ",
         "showlegend": true,
         "type": "scatter",
         "visible": true,
         "x": [
          0,
          0.14164224746811022,
          0.2805716391608708,
          0.3369857728059401,
          0.49829197767260625,
          0.6486267636953562,
          0.7987147182544719,
          0.8546449575619145,
          1
         ],
         "y": [
          0.09804916619292632,
          0.0015540542954136098,
          0.17259561247966596,
          0.09080550353336113,
          5.823416293223996e-8,
          0.151686475834322,
          0.32335759204615766,
          0.4049769203189068,
          0
         ]
        },
        {
         "fill": "tonexty",
         "fillcolor": "rgba(0.2196078431372549, 0.4235294117647059, 0.6901960784313725, 0.6)",
         "hovertext": "Cluster 5",
         "legendgroup": "90% band: Cluster 5",
         "line": {
          "color": "rgba(0.2196078431372549, 0.4235294117647059, 0.6901960784313725, 0.6)",
          "shape": "spline"
         },
         "mode": "lines",
         "name": "Cluster 5",
         "showlegend": false,
         "type": "scatter",
         "visible": true,
         "x": [
          0,
          0.14164224746811022,
          0.2805716391608708,
          0.3369857728059401,
          0.49829197767260625,
          0.6486267636953562,
          0.7987147182544719,
          0.8546449575619145,
          1
         ],
         "y": [
          0.20180766802393102,
          0.7438023525571623,
          0.3402176242448559,
          0.2485483387694745,
          0.2358529344346086,
          0.8857353649602512,
          0.33210910622271395,
          0.4737807688031416,
          1
         ]
        },
        {
         "hovertext": "Cluster 6",
         "legendgroup": "90% band: Cluster 6",
         "line": {
          "color": "rgba(0.9411764705882353, 0.00784313725490196, 0.4980392156862745, 0.6)",
          "shape": "spline"
         },
         "mode": "lines",
         "name": "90% band: Cluster 6; 323 Solutions        ",
         "showlegend": true,
         "type": "scatter",
         "visible": true,
         "x": [
          0,
          0.14164224746811022,
          0.2805716391608708,
          0.3369857728059401,
          0.49829197767260625,
          0.6486267636953562,
          0.7987147182544719,
          0.8546449575619145,
          1
         ],
         "y": [
          0.09954090065969479,
          0.0010161494536759016,
          0.163650326347133,
          0.0799980541724305,
          5.72176564977492e-8,
          0.13379369707956604,
          0.33356651696540074,
          0.41859959164170985,
          0
         ]
        },
        {
         "fill": "tonexty",
         "fillcolor": "rgba(0.9411764705882353, 0.00784313725490196, 0.4980392156862745, 0.6)",
         "hovertext": "Cluster 6",
         "legendgroup": "90% band: Cluster 6",
         "line": {
          "color": "rgba(0.9411764705882353, 0.00784313725490196, 0.4980392156862745, 0.6)",
          "shape": "spline"
         },
         "mode": "lines",
         "name": "Cluster 6",
         "showlegend": false,
         "type": "scatter",
         "visible": true,
         "x": [
          0,
          0.14164224746811022,
          0.2805716391608708,
          0.3369857728059401,
          0.49829197767260625,
          0.6486267636953562,
          0.7987147182544719,
          0.8546449575619145,
          1
         ],
         "y": [
          0.20180609218125736,
          0.7366394413659239,
          0.3164224256990267,
          0.22297049181025533,
          0.20867021819542284,
          0.8910129905675203,
          0.34132833287393166,
          0.48266023768408867,
          1
         ]
        },
        {
         "hovertext": "Cluster 7",
         "legendgroup": "90% band: Cluster 7",
         "line": {
          "color": "rgba(0.7490196078431373, 0.3568627450980392, 0.09019607843137253, 0.6)",
          "shape": "spline"
         },
         "mode": "lines",
         "name": "90% band: Cluster 7; 323 Solutions        ",
         "showlegend": true,
         "type": "scatter",
         "visible": true,
         "x": [
          0,
          0.14164224746811022,
          0.2805716391608708,
          0.3369857728059401,
          0.49829197767260625,
          0.6486267636953562,
          0.7987147182544719,
          0.8546449575619145,
          1
         ],
         "y": [
          0.10639083627886921,
          0.0013454289149977935,
          0.14735395027601722,
          0.06897632854899442,
          5.8932283557455036e-8,
          0.17921228980419912,
          0.3421214565020799,
          0.428706875317796,
          0.00012322200037264162
         ]
        },
        {
         "fill": "tonexty",
         "fillcolor": "rgba(0.7490196078431373, 0.3568627450980392, 0.09019607843137253, 0.6)",
         "hovertext": "Cluster 7",
         "legendgroup": "90% band: Cluster 7",
         "line": {
          "color": "rgba(0.7490196078431373, 0.3568627450980392, 0.09019607843137253, 0.6)",
          "shape": "spline"
         },
         "mode": "lines",
         "name": "Cluster 7",
         "showlegend": false,
         "type": "scatter",
         "visible": true,
         "x": [
          0,
          0.14164224746811022,
          0.2805716391608708,
          0.3369857728059401,
          0.49829197767260625,
          0.6486267636953562,
          0.7987147182544719,
          0.8546449575619145,
          1
         ],
         "y": [
          0.20180560670799547,
          0.7153912793463794,
          0.2885906909918836,
          0.20175624436927128,
          0.22195139386261908,
          0.9216162016898601,
          0.34885950753451567,
          0.48616537319723374,
          1
         ]
        },
        {
         "hovertext": "Cluster 8",
         "legendgroup": "90% band: Cluster 8",
         "line": {
          "color": "rgba(0.4, 0.4, 0.4, 0.6)",
          "shape": "spline"
         },
         "mode": "lines",
         "name": "90% band: Cluster 8; 324 Solutions        ",
         "showlegend": true,
         "type": "scatter",
         "visible": true,
         "x": [
          0,
          0.14164224746811022,
          0.2805716391608708,
          0.3369857728059401,
          0.49829197767260625,
          0.6486267636953562,
          0.7987147182544719,
          0.8546449575619145,
          1
         ],
         "y": [
          0.10712628177797698,
          0.0006030580759069981,
          0.13768624170499183,
          0.06442399822291736,
          5.291335706565153e-8,
          0.1792121225206028,
          0.34954935678918037,
          0.4385679144568235,
          0
         ]
        },
        {
         "fill": "tonexty",
         "fillcolor": "rgba(0.4, 0.4, 0.4, 0.6)",
         "hovertext": "Cluster 8",
         "legendgroup": "90% band: Cluster 8",
         "line": {
          "color": "rgba(0.4, 0.4, 0.4, 0.6)",
          "shape": "spline"
         },
         "mode": "lines",
         "name": "Cluster 8",
         "showlegend": false,
         "type": "scatter",
         "visible": true,
         "x": [
          0,
          0.14164224746811022,
          0.2805716391608708,
          0.3369857728059401,
          0.49829197767260625,
          0.6486267636953562,
          0.7987147182544719,
          0.8546449575619145,
          1
         ],
         "y": [
          0.2018064963271454,
          0.6186534516494034,
          0.28116331760868923,
          0.19967646395734648,
          0.22890447998321087,
          0.897410631139029,
          0.3546976109484084,
          0.4929148696758736,
          1
         ]
        },
        {
         "line": {
          "color": "black"
         },
         "mode": "text",
         "showlegend": false,
         "text": [
          "2.7e5"
         ],
         "textposition": "bottom center",
         "type": "scatter",
         "x": [
          0
         ],
         "y": [
          0
         ]
        },
        {
         "line": {
          "color": "black"
         },
         "mode": "text",
         "showlegend": false,
         "text": [
          "5.7e5"
         ],
         "textposition": "top center",
         "type": "scatter",
         "x": [
          0
         ],
         "y": [
          1
         ]
        },
        {
         "line": {
          "color": "black"
         },
         "mode": "markers+lines+text",
         "showlegend": false,
         "text": [
          "",
          "3.3",
          "3.9",
          "4.5",
          "5.1",
          ""
         ],
         "textposition": "middle left",
         "type": "scatter",
         "x": [
          0,
          0,
          0,
          0,
          0,
          0
         ],
         "y": [
          0,
          0.2,
          0.4,
          0.6000000000000001,
          0.8,
          1
         ]
        },
        {
         "mode": "text",
         "showlegend": false,
         "text": "Ppeak",
         "textfont": {
          "size": 20
         },
         "type": "scatter",
         "x": [
          0
         ],
         "y": [
          1.1
         ]
        },
        {
         "line": {
          "color": "black"
         },
         "mode": "text",
         "showlegend": false,
         "text": [
          "0.0e3"
         ],
         "textposition": "bottom center",
         "type": "scatter",
         "x": [
          0.14164224746811022
         ],
         "y": [
          0
         ]
        },
        {
         "line": {
          "color": "black"
         },
         "mode": "text",
         "showlegend": false,
         "text": [
          "9.1e3"
         ],
         "textposition": "top center",
         "type": "scatter",
         "x": [
          0.14164224746811022
         ],
         "y": [
          1
         ]
        },
        {
         "line": {
          "color": "black"
         },
         "mode": "markers+lines+text",
         "showlegend": false,
         "text": [
          "",
          "1.8",
          "3.6",
          "5.5",
          "7.3",
          ""
         ],
         "textposition": "middle left",
         "type": "scatter",
         "x": [
          0.14164224746811022,
          0.14164224746811022,
          0.14164224746811022,
          0.14164224746811022,
          0.14164224746811022,
          0.14164224746811022
         ],
         "y": [
          0,
          0.2,
          0.4,
          0.6000000000000001,
          0.8,
          1
         ]
        },
        {
         "mode": "text",
         "showlegend": false,
         "text": "pRes",
         "textfont": {
          "size": 20
         },
         "type": "scatter",
         "x": [
          0.14164224746811022
         ],
         "y": [
          1.1
         ]
        },
        {
         "line": {
          "color": "black"
         },
         "mode": "text",
         "showlegend": false,
         "text": [
          "0.0e5"
         ],
         "textposition": "bottom center",
         "type": "scatter",
         "x": [
          0.2805716391608708
         ],
         "y": [
          0
         ]
        },
        {
         "line": {
          "color": "black"
         },
         "mode": "text",
         "showlegend": false,
         "text": [
          "3.1e5"
         ],
         "textposition": "top center",
         "type": "scatter",
         "x": [
          0.2805716391608708
         ],
         "y": [
          1
         ]
        },
        {
         "line": {
          "color": "black"
         },
         "mode": "markers+lines+text",
         "showlegend": false,
         "text": [
          "",
          "0.6",
          "1.2",
          "1.9",
          "2.5",
          ""
         ],
         "textposition": "middle left",
         "type": "scatter",
         "x": [
          0.2805716391608708,
          0.2805716391608708,
          0.2805716391608708,
          0.2805716391608708,
          0.2805716391608708,
          0.2805716391608708
         ],
         "y": [
          0,
          0.2,
          0.4,
          0.6000000000000001,
          0.8,
          1
         ]
        },
        {
         "mode": "text",
         "showlegend": false,
         "text": "mPpeak",
         "textfont": {
          "size": 20
         },
         "type": "scatter",
         "x": [
          0.2805716391608708
         ],
         "y": [
          1.1
         ]
        },
        {
         "line": {
          "color": "black"
         },
         "mode": "text",
         "showlegend": false,
         "text": [
          "-0.0e4"
         ],
         "textposition": "bottom center",
         "type": "scatter",
         "x": [
          0.3369857728059401
         ],
         "y": [
          0
         ]
        },
        {
         "line": {
          "color": "black"
         },
         "mode": "text",
         "showlegend": false,
         "text": [
          "7.6e4"
         ],
         "textposition": "top center",
         "type": "scatter",
         "x": [
          0.3369857728059401
         ],
         "y": [
          1
         ]
        },
        {
         "line": {
          "color": "black"
         },
         "mode": "markers+lines+text",
         "showlegend": false,
         "text": [
          "",
          "1.5",
          "3.0",
          "4.6",
          "6.1",
          ""
         ],
         "textposition": "middle left",
         "type": "scatter",
         "x": [
          0.3369857728059401,
          0.3369857728059401,
          0.3369857728059401,
          0.3369857728059401,
          0.3369857728059401,
          0.3369857728059401
         ],
         "y": [
          0,
          0.2,
          0.4,
          0.6000000000000001,
          0.8,
          1
         ]
        },
        {
         "mode": "text",
         "showlegend": false,
         "text": "bGrid",
         "textfont": {
          "size": 20
         },
         "type": "scatter",
         "x": [
          0.3369857728059401
         ],
         "y": [
          1.1
         ]
        },
        {
         "line": {
          "color": "black"
         },
         "mode": "text",
         "showlegend": false,
         "text": [
          "0.0e4"
         ],
         "textposition": "bottom center",
         "type": "scatter",
         "x": [
          0.49829197767260625
         ],
         "y": [
          0
         ]
        },
        {
         "line": {
          "color": "black"
         },
         "mode": "text",
         "showlegend": false,
         "text": [
          "16.8e4"
         ],
         "textposition": "top center",
         "type": "scatter",
         "x": [
          0.49829197767260625
         ],
         "y": [
          1
         ]
        },
        {
         "line": {
          "color": "black"
         },
         "mode": "markers+lines+text",
         "showlegend": false,
         "text": [
          "",
          "3.4",
          "6.7",
          "10.1",
          "13.5",
          ""
         ],
         "textposition": "middle left",
         "type": "scatter",
         "x": [
          0.49829197767260625,
          0.49829197767260625,
          0.49829197767260625,
          0.49829197767260625,
          0.49829197767260625,
          0.49829197767260625
         ],
         "y": [
          0,
          0.2,
          0.4,
          0.6000000000000001,
          0.8,
          1
         ]
        },
        {
         "mode": "text",
         "showlegend": false,
         "text": "bDis",
         "textfont": {
          "size": 20
         },
         "type": "scatter",
         "x": [
          0.49829197767260625
         ],
         "y": [
          1.1
         ]
        },
        {
         "line": {
          "color": "black"
         },
         "mode": "text",
         "showlegend": false,
         "text": [
          "0.0"
         ],
         "textposition": "bottom center",
         "type": "scatter",
         "x": [
          0.6486267636953562
         ],
         "y": [
          0
         ]
        },
        {
         "line": {
          "color": "black"
         },
         "mode": "text",
         "showlegend": false,
         "text": [
          "1.0"
         ],
         "textposition": "top center",
         "type": "scatter",
         "x": [
          0.6486267636953562
         ],
         "y": [
          1
         ]
        },
        {
         "line": {
          "color": "black"
         },
         "mode": "markers+lines+text",
         "showlegend": false,
         "text": [
          "",
          "0.2",
          "0.4",
          "0.6",
          "0.8",
          ""
         ],
         "textposition": "middle left",
         "type": "scatter",
         "x": [
          0.6486267636953562,
          0.6486267636953562,
          0.6486267636953562,
          0.6486267636953562,
          0.6486267636953562,
          0.6486267636953562
         ],
         "y": [
          0,
          0.2,
          0.4,
          0.6000000000000001,
          0.8,
          1
         ]
        },
        {
         "mode": "text",
         "showlegend": false,
         "text": "bSOC",
         "textfont": {
          "size": 20
         },
         "type": "scatter",
         "x": [
          0.6486267636953562
         ],
         "y": [
          1.1
         ]
        },
        {
         "line": {
          "color": "black"
         },
         "mode": "text",
         "showlegend": false,
         "text": [
          "2.1e3"
         ],
         "textposition": "bottom center",
         "type": "scatter",
         "x": [
          0.7987147182544719
         ],
         "y": [
          0
         ]
        },
        {
         "line": {
          "color": "black"
         },
         "mode": "text",
         "showlegend": false,
         "text": [
          "2.2e3"
         ],
         "textposition": "top center",
         "type": "scatter",
         "x": [
          0.7987147182544719
         ],
         "y": [
          1
         ]
        },
        {
         "line": {
          "color": "black"
         },
         "mode": "markers+lines+text",
         "showlegend": false,
         "text": [
          "",
          "2.1",
          "2.1",
          "2.2",
          "2.2",
          ""
         ],
         "textposition": "middle left",
         "type": "scatter",
         "x": [
          0.7987147182544719,
          0.7987147182544719,
          0.7987147182544719,
          0.7987147182544719,
          0.7987147182544719,
          0.7987147182544719
         ],
         "y": [
          0,
          0.2,
          0.4,
          0.6000000000000001,
          0.8,
          1
         ]
        },
        {
         "mode": "text",
         "showlegend": false,
         "text": "CO2",
         "textfont": {
          "size": 20
         },
         "type": "scatter",
         "x": [
          0.7987147182544719
         ],
         "y": [
          1.1
         ]
        },
        {
         "line": {
          "color": "black"
         },
         "mode": "text",
         "showlegend": false,
         "text": [
          "3.2e5"
         ],
         "textposition": "bottom center",
         "type": "scatter",
         "x": [
          0.8546449575619145
         ],
         "y": [
          0
         ]
        },
        {
         "line": {
          "color": "black"
         },
         "mode": "text",
         "showlegend": false,
         "text": [
          "3.4e5"
         ],
         "textposition": "top center",
         "type": "scatter",
         "x": [
          0.8546449575619145
         ],
         "y": [
          1
         ]
        },
        {
         "line": {
          "color": "black"
         },
         "mode": "markers+lines+text",
         "showlegend": false,
         "text": [
          "",
          "3.2",
          "3.3",
          "3.3",
          "3.4",
          ""
         ],
         "textposition": "middle left",
         "type": "scatter",
         "x": [
          0.8546449575619145,
          0.8546449575619145,
          0.8546449575619145,
          0.8546449575619145,
          0.8546449575619145,
          0.8546449575619145
         ],
         "y": [
          0,
          0.2,
          0.4,
          0.6000000000000001,
          0.8,
          1
         ]
        },
        {
         "mode": "text",
         "showlegend": false,
         "text": "Costs",
         "textfont": {
          "size": 20
         },
         "type": "scatter",
         "x": [
          0.8546449575619145
         ],
         "y": [
          1.1
         ]
        },
        {
         "line": {
          "color": "black"
         },
         "mode": "text",
         "showlegend": false,
         "text": [
          "0.0"
         ],
         "textposition": "bottom center",
         "type": "scatter",
         "x": [
          1
         ],
         "y": [
          0
         ]
        },
        {
         "line": {
          "color": "black"
         },
         "mode": "text",
         "showlegend": false,
         "text": [
          "1.0"
         ],
         "textposition": "top center",
         "type": "scatter",
         "x": [
          1
         ],
         "y": [
          1
         ]
        },
        {
         "line": {
          "color": "black"
         },
         "mode": "markers+lines+text",
         "showlegend": false,
         "text": [
          "",
          "0.2",
          "0.4",
          "0.6",
          "0.8",
          ""
         ],
         "textposition": "middle left",
         "type": "scatter",
         "x": [
          1,
          1,
          1,
          1,
          1,
          1
         ],
         "y": [
          0,
          0.2,
          0.4,
          0.6000000000000001,
          0.8,
          1
         ]
        },
        {
         "mode": "text",
         "showlegend": false,
         "text": "bSOC% Time",
         "textfont": {
          "size": 20
         },
         "type": "scatter",
         "x": [
          1
         ],
         "y": [
          1.1
         ]
        }
       ],
       "layout": {
        "font": {
         "size": 18
        },
        "height": 700,
        "legend": {
         "font": {
          "size": 24
         },
         "orientation": "h",
         "yanchor": "top"
        },
        "plot_bgcolor": "rgba(0,0,0,0)",
        "template": {
         "data": {
          "bar": [
           {
            "error_x": {
             "color": "#2a3f5f"
            },
            "error_y": {
             "color": "#2a3f5f"
            },
            "marker": {
             "line": {
              "color": "#E5ECF6",
              "width": 0.5
             },
             "pattern": {
              "fillmode": "overlay",
              "size": 10,
              "solidity": 0.2
             }
            },
            "type": "bar"
           }
          ],
          "barpolar": [
           {
            "marker": {
             "line": {
              "color": "#E5ECF6",
              "width": 0.5
             },
             "pattern": {
              "fillmode": "overlay",
              "size": 10,
              "solidity": 0.2
             }
            },
            "type": "barpolar"
           }
          ],
          "carpet": [
           {
            "aaxis": {
             "endlinecolor": "#2a3f5f",
             "gridcolor": "white",
             "linecolor": "white",
             "minorgridcolor": "white",
             "startlinecolor": "#2a3f5f"
            },
            "baxis": {
             "endlinecolor": "#2a3f5f",
             "gridcolor": "white",
             "linecolor": "white",
             "minorgridcolor": "white",
             "startlinecolor": "#2a3f5f"
            },
            "type": "carpet"
           }
          ],
          "choropleth": [
           {
            "colorbar": {
             "outlinewidth": 0,
             "ticks": ""
            },
            "type": "choropleth"
           }
          ],
          "contour": [
           {
            "colorbar": {
             "outlinewidth": 0,
             "ticks": ""
            },
            "colorscale": [
             [
              0,
              "#0d0887"
             ],
             [
              0.1111111111111111,
              "#46039f"
             ],
             [
              0.2222222222222222,
              "#7201a8"
             ],
             [
              0.3333333333333333,
              "#9c179e"
             ],
             [
              0.4444444444444444,
              "#bd3786"
             ],
             [
              0.5555555555555556,
              "#d8576b"
             ],
             [
              0.6666666666666666,
              "#ed7953"
             ],
             [
              0.7777777777777778,
              "#fb9f3a"
             ],
             [
              0.8888888888888888,
              "#fdca26"
             ],
             [
              1,
              "#f0f921"
             ]
            ],
            "type": "contour"
           }
          ],
          "contourcarpet": [
           {
            "colorbar": {
             "outlinewidth": 0,
             "ticks": ""
            },
            "type": "contourcarpet"
           }
          ],
          "heatmap": [
           {
            "colorbar": {
             "outlinewidth": 0,
             "ticks": ""
            },
            "colorscale": [
             [
              0,
              "#0d0887"
             ],
             [
              0.1111111111111111,
              "#46039f"
             ],
             [
              0.2222222222222222,
              "#7201a8"
             ],
             [
              0.3333333333333333,
              "#9c179e"
             ],
             [
              0.4444444444444444,
              "#bd3786"
             ],
             [
              0.5555555555555556,
              "#d8576b"
             ],
             [
              0.6666666666666666,
              "#ed7953"
             ],
             [
              0.7777777777777778,
              "#fb9f3a"
             ],
             [
              0.8888888888888888,
              "#fdca26"
             ],
             [
              1,
              "#f0f921"
             ]
            ],
            "type": "heatmap"
           }
          ],
          "heatmapgl": [
           {
            "colorbar": {
             "outlinewidth": 0,
             "ticks": ""
            },
            "colorscale": [
             [
              0,
              "#0d0887"
             ],
             [
              0.1111111111111111,
              "#46039f"
             ],
             [
              0.2222222222222222,
              "#7201a8"
             ],
             [
              0.3333333333333333,
              "#9c179e"
             ],
             [
              0.4444444444444444,
              "#bd3786"
             ],
             [
              0.5555555555555556,
              "#d8576b"
             ],
             [
              0.6666666666666666,
              "#ed7953"
             ],
             [
              0.7777777777777778,
              "#fb9f3a"
             ],
             [
              0.8888888888888888,
              "#fdca26"
             ],
             [
              1,
              "#f0f921"
             ]
            ],
            "type": "heatmapgl"
           }
          ],
          "histogram": [
           {
            "marker": {
             "pattern": {
              "fillmode": "overlay",
              "size": 10,
              "solidity": 0.2
             }
            },
            "type": "histogram"
           }
          ],
          "histogram2d": [
           {
            "colorbar": {
             "outlinewidth": 0,
             "ticks": ""
            },
            "colorscale": [
             [
              0,
              "#0d0887"
             ],
             [
              0.1111111111111111,
              "#46039f"
             ],
             [
              0.2222222222222222,
              "#7201a8"
             ],
             [
              0.3333333333333333,
              "#9c179e"
             ],
             [
              0.4444444444444444,
              "#bd3786"
             ],
             [
              0.5555555555555556,
              "#d8576b"
             ],
             [
              0.6666666666666666,
              "#ed7953"
             ],
             [
              0.7777777777777778,
              "#fb9f3a"
             ],
             [
              0.8888888888888888,
              "#fdca26"
             ],
             [
              1,
              "#f0f921"
             ]
            ],
            "type": "histogram2d"
           }
          ],
          "histogram2dcontour": [
           {
            "colorbar": {
             "outlinewidth": 0,
             "ticks": ""
            },
            "colorscale": [
             [
              0,
              "#0d0887"
             ],
             [
              0.1111111111111111,
              "#46039f"
             ],
             [
              0.2222222222222222,
              "#7201a8"
             ],
             [
              0.3333333333333333,
              "#9c179e"
             ],
             [
              0.4444444444444444,
              "#bd3786"
             ],
             [
              0.5555555555555556,
              "#d8576b"
             ],
             [
              0.6666666666666666,
              "#ed7953"
             ],
             [
              0.7777777777777778,
              "#fb9f3a"
             ],
             [
              0.8888888888888888,
              "#fdca26"
             ],
             [
              1,
              "#f0f921"
             ]
            ],
            "type": "histogram2dcontour"
           }
          ],
          "mesh3d": [
           {
            "colorbar": {
             "outlinewidth": 0,
             "ticks": ""
            },
            "type": "mesh3d"
           }
          ],
          "parcoords": [
           {
            "line": {
             "colorbar": {
              "outlinewidth": 0,
              "ticks": ""
             }
            },
            "type": "parcoords"
           }
          ],
          "pie": [
           {
            "automargin": true,
            "type": "pie"
           }
          ],
          "scatter": [
           {
            "fillpattern": {
             "fillmode": "overlay",
             "size": 10,
             "solidity": 0.2
            },
            "type": "scatter"
           }
          ],
          "scatter3d": [
           {
            "line": {
             "colorbar": {
              "outlinewidth": 0,
              "ticks": ""
             }
            },
            "marker": {
             "colorbar": {
              "outlinewidth": 0,
              "ticks": ""
             }
            },
            "type": "scatter3d"
           }
          ],
          "scattercarpet": [
           {
            "marker": {
             "colorbar": {
              "outlinewidth": 0,
              "ticks": ""
             }
            },
            "type": "scattercarpet"
           }
          ],
          "scattergeo": [
           {
            "marker": {
             "colorbar": {
              "outlinewidth": 0,
              "ticks": ""
             }
            },
            "type": "scattergeo"
           }
          ],
          "scattergl": [
           {
            "marker": {
             "colorbar": {
              "outlinewidth": 0,
              "ticks": ""
             }
            },
            "type": "scattergl"
           }
          ],
          "scattermapbox": [
           {
            "marker": {
             "colorbar": {
              "outlinewidth": 0,
              "ticks": ""
             }
            },
            "type": "scattermapbox"
           }
          ],
          "scatterpolar": [
           {
            "marker": {
             "colorbar": {
              "outlinewidth": 0,
              "ticks": ""
             }
            },
            "type": "scatterpolar"
           }
          ],
          "scatterpolargl": [
           {
            "marker": {
             "colorbar": {
              "outlinewidth": 0,
              "ticks": ""
             }
            },
            "type": "scatterpolargl"
           }
          ],
          "scatterternary": [
           {
            "marker": {
             "colorbar": {
              "outlinewidth": 0,
              "ticks": ""
             }
            },
            "type": "scatterternary"
           }
          ],
          "surface": [
           {
            "colorbar": {
             "outlinewidth": 0,
             "ticks": ""
            },
            "colorscale": [
             [
              0,
              "#0d0887"
             ],
             [
              0.1111111111111111,
              "#46039f"
             ],
             [
              0.2222222222222222,
              "#7201a8"
             ],
             [
              0.3333333333333333,
              "#9c179e"
             ],
             [
              0.4444444444444444,
              "#bd3786"
             ],
             [
              0.5555555555555556,
              "#d8576b"
             ],
             [
              0.6666666666666666,
              "#ed7953"
             ],
             [
              0.7777777777777778,
              "#fb9f3a"
             ],
             [
              0.8888888888888888,
              "#fdca26"
             ],
             [
              1,
              "#f0f921"
             ]
            ],
            "type": "surface"
           }
          ],
          "table": [
           {
            "cells": {
             "fill": {
              "color": "#EBF0F8"
             },
             "line": {
              "color": "white"
             }
            },
            "header": {
             "fill": {
              "color": "#C8D4E3"
             },
             "line": {
              "color": "white"
             }
            },
            "type": "table"
           }
          ]
         },
         "layout": {
          "annotationdefaults": {
           "arrowcolor": "#2a3f5f",
           "arrowhead": 0,
           "arrowwidth": 1
          },
          "autotypenumbers": "strict",
          "coloraxis": {
           "colorbar": {
            "outlinewidth": 0,
            "ticks": ""
           }
          },
          "colorscale": {
           "diverging": [
            [
             0,
             "#8e0152"
            ],
            [
             0.1,
             "#c51b7d"
            ],
            [
             0.2,
             "#de77ae"
            ],
            [
             0.3,
             "#f1b6da"
            ],
            [
             0.4,
             "#fde0ef"
            ],
            [
             0.5,
             "#f7f7f7"
            ],
            [
             0.6,
             "#e6f5d0"
            ],
            [
             0.7,
             "#b8e186"
            ],
            [
             0.8,
             "#7fbc41"
            ],
            [
             0.9,
             "#4d9221"
            ],
            [
             1,
             "#276419"
            ]
           ],
           "sequential": [
            [
             0,
             "#0d0887"
            ],
            [
             0.1111111111111111,
             "#46039f"
            ],
            [
             0.2222222222222222,
             "#7201a8"
            ],
            [
             0.3333333333333333,
             "#9c179e"
            ],
            [
             0.4444444444444444,
             "#bd3786"
            ],
            [
             0.5555555555555556,
             "#d8576b"
            ],
            [
             0.6666666666666666,
             "#ed7953"
            ],
            [
             0.7777777777777778,
             "#fb9f3a"
            ],
            [
             0.8888888888888888,
             "#fdca26"
            ],
            [
             1,
             "#f0f921"
            ]
           ],
           "sequentialminus": [
            [
             0,
             "#0d0887"
            ],
            [
             0.1111111111111111,
             "#46039f"
            ],
            [
             0.2222222222222222,
             "#7201a8"
            ],
            [
             0.3333333333333333,
             "#9c179e"
            ],
            [
             0.4444444444444444,
             "#bd3786"
            ],
            [
             0.5555555555555556,
             "#d8576b"
            ],
            [
             0.6666666666666666,
             "#ed7953"
            ],
            [
             0.7777777777777778,
             "#fb9f3a"
            ],
            [
             0.8888888888888888,
             "#fdca26"
            ],
            [
             1,
             "#f0f921"
            ]
           ]
          },
          "colorway": [
           "#636efa",
           "#EF553B",
           "#00cc96",
           "#ab63fa",
           "#FFA15A",
           "#19d3f3",
           "#FF6692",
           "#B6E880",
           "#FF97FF",
           "#FECB52"
          ],
          "font": {
           "color": "#2a3f5f"
          },
          "geo": {
           "bgcolor": "white",
           "lakecolor": "white",
           "landcolor": "#E5ECF6",
           "showlakes": true,
           "showland": true,
           "subunitcolor": "white"
          },
          "hoverlabel": {
           "align": "left"
          },
          "hovermode": "closest",
          "mapbox": {
           "style": "light"
          },
          "paper_bgcolor": "white",
          "plot_bgcolor": "#E5ECF6",
          "polar": {
           "angularaxis": {
            "gridcolor": "white",
            "linecolor": "white",
            "ticks": ""
           },
           "bgcolor": "#E5ECF6",
           "radialaxis": {
            "gridcolor": "white",
            "linecolor": "white",
            "ticks": ""
           }
          },
          "scene": {
           "xaxis": {
            "backgroundcolor": "#E5ECF6",
            "gridcolor": "white",
            "gridwidth": 2,
            "linecolor": "white",
            "showbackground": true,
            "ticks": "",
            "zerolinecolor": "white"
           },
           "yaxis": {
            "backgroundcolor": "#E5ECF6",
            "gridcolor": "white",
            "gridwidth": 2,
            "linecolor": "white",
            "showbackground": true,
            "ticks": "",
            "zerolinecolor": "white"
           },
           "zaxis": {
            "backgroundcolor": "#E5ECF6",
            "gridcolor": "white",
            "gridwidth": 2,
            "linecolor": "white",
            "showbackground": true,
            "ticks": "",
            "zerolinecolor": "white"
           }
          },
          "shapedefaults": {
           "line": {
            "color": "#2a3f5f"
           }
          },
          "ternary": {
           "aaxis": {
            "gridcolor": "white",
            "linecolor": "white",
            "ticks": ""
           },
           "baxis": {
            "gridcolor": "white",
            "linecolor": "white",
            "ticks": ""
           },
           "bgcolor": "#E5ECF6",
           "caxis": {
            "gridcolor": "white",
            "linecolor": "white",
            "ticks": ""
           }
          },
          "title": {
           "x": 0.05
          },
          "xaxis": {
           "automargin": true,
           "gridcolor": "white",
           "linecolor": "white",
           "ticks": "",
           "title": {
            "standoff": 15
           },
           "zerolinecolor": "white",
           "zerolinewidth": 2
          },
          "yaxis": {
           "automargin": true,
           "gridcolor": "white",
           "linecolor": "white",
           "ticks": "",
           "title": {
            "standoff": 15
           },
           "zerolinecolor": "white",
           "zerolinewidth": 2
          }
         }
        },
        "width": 1500,
        "xaxis": {
         "showgrid": false,
         "showticklabels": false,
         "zeroline": false
        },
        "yaxis": {
         "showgrid": false,
         "showticklabels": false,
         "zeroline": false
        }
       }
      }
     },
     "metadata": {},
     "output_type": "display_data"
    }
   ],
   "source": [
    "# Choose Band 3\n",
    "\n",
    "band = 3\n",
    "\n",
    "data_copy = data.copy()\n",
    "data_copy = data_copy[data_copy[\"cluster\"]== band]\n",
    "\n",
    "\n",
    "# Cluster into 8 groups\n",
    "obj_to_cluster = \"CO2\"\n",
    "n_clusters = 8\n",
    "\n",
    "data_copy[\"cluster\"] = 1\n",
    "for i in range(1, n_clusters):\n",
    "    data_copy.loc[data_copy[obj_to_cluster] > data_copy[obj_to_cluster].quantile(i / n_clusters), \"cluster\"] = i+1\n",
    "\n",
    "ordered_data, axis_dist, axis_signs = calculate_axes_positions(\n",
    "        data_copy[objs],\n",
    "        obj_order,\n",
    "        corr,\n",
    "        dist_parameter=0.521,\n",
    "        distance_formula=1,\n",
    "    )\n",
    "\n",
    "#scales = pd.DataFrame([ordered_data.min(axis=0), ordered_data.max(axis=0)], index=[\"min\", \"max\"])\n",
    "\n",
    "fig = SCORE_bands(\n",
    "    ordered_data,\n",
    "    color_groups=data_copy[\"cluster\"].tolist(),\n",
    "    bands=True,\n",
    "    quantile=0.05,\n",
    "    axis_positions=axis_dist,\n",
    "    solutions=False,\n",
    "    scales=scales[ordered_data.columns],\n",
    ")\n",
    "\n",
    "fig.update_layout(\n",
    "    width=1500,\n",
    "    height=700,\n",
    ")\n"
   ]
  },
  {
   "cell_type": "code",
   "execution_count": 6,
   "id": "b4d9f5ba",
   "metadata": {},
   "outputs": [
    {
     "data": {
      "application/vnd.plotly.v1+json": {
       "config": {
        "plotlyServerURL": "https://plot.ly"
       },
       "data": [
        {
         "hovertext": "Cluster 1",
         "legendgroup": "90% band: Cluster 1",
         "line": {
          "color": "rgba(0.4980392156862745, 0.788235294117647, 0.4980392156862745, 0.6)",
          "shape": "spline"
         },
         "mode": "lines",
         "name": "90% band: Cluster 1; 324 Solutions        ",
         "showlegend": true,
         "type": "scatter",
         "visible": true,
         "x": [
          0,
          0.14164224746811022,
          0.2805716391608708,
          0.3369857728059401,
          0.49829197767260625,
          0.6486267636953562,
          0.7987147182544719,
          0.8546449575619145,
          1
         ],
         "y": [
          0.12119990310074957,
          0.0001785361925780306,
          0.17734805345538238,
          0.11874178780420203,
          9.236728521069664e-13,
          0.11508759674617612,
          0.29783247812449887,
          0.37652852785436236,
          0.0035734288087454764
         ]
        },
        {
         "fill": "tonexty",
         "fillcolor": "rgba(0.4980392156862745, 0.788235294117647, 0.4980392156862745, 0.6)",
         "hovertext": "Cluster 1",
         "legendgroup": "90% band: Cluster 1",
         "line": {
          "color": "rgba(0.4980392156862745, 0.788235294117647, 0.4980392156862745, 0.6)",
          "shape": "spline"
         },
         "mode": "lines",
         "name": "Cluster 1",
         "showlegend": false,
         "type": "scatter",
         "visible": true,
         "x": [
          0,
          0.14164224746811022,
          0.2805716391608708,
          0.3369857728059401,
          0.49829197767260625,
          0.6486267636953562,
          0.7987147182544719,
          0.8546449575619145,
          1
         ],
         "y": [
          0.20180529579560794,
          0.003486090318165612,
          0.32656619619857635,
          0.23496379100818449,
          0.05824149232028058,
          0.8870594726905058,
          0.3533991310549539,
          0.4764783267410193,
          1
         ]
        },
        {
         "hovertext": "Cluster 2",
         "legendgroup": "90% band: Cluster 2",
         "line": {
          "color": "rgba(0.7450980392156863, 0.6823529411764706, 0.8313725490196079, 0.6)",
          "shape": "spline"
         },
         "mode": "lines",
         "name": "90% band: Cluster 2; 323 Solutions        ",
         "showlegend": true,
         "type": "scatter",
         "visible": true,
         "x": [
          0,
          0.14164224746811022,
          0.2805716391608708,
          0.3369857728059401,
          0.49829197767260625,
          0.6486267636953562,
          0.7987147182544719,
          0.8546449575619145,
          1
         ],
         "y": [
          0.09804916967991956,
          0.004148912097532475,
          0.17578024374045292,
          0.11230325100513565,
          4.0344639020310225e-8,
          0.1474486873885005,
          0.2927283155835527,
          0.3662950584940082,
          0.000224039182312407
         ]
        },
        {
         "fill": "tonexty",
         "fillcolor": "rgba(0.7450980392156863, 0.6823529411764706, 0.8313725490196079, 0.6)",
         "hovertext": "Cluster 2",
         "legendgroup": "90% band: Cluster 2",
         "line": {
          "color": "rgba(0.7450980392156863, 0.6823529411764706, 0.8313725490196079, 0.6)",
          "shape": "spline"
         },
         "mode": "lines",
         "name": "Cluster 2",
         "showlegend": false,
         "type": "scatter",
         "visible": true,
         "x": [
          0,
          0.14164224746811022,
          0.2805716391608708,
          0.3369857728059401,
          0.49829197767260625,
          0.6486267636953562,
          0.7987147182544719,
          0.8546449575619145,
          1
         ],
         "y": [
          0.20180529469233383,
          0.011513090247751458,
          0.3228189517202267,
          0.24879434301706346,
          0.14640070460547558,
          0.8912033813257724,
          0.3521095735014878,
          0.45023886982052286,
          1
         ]
        },
        {
         "hovertext": "Cluster 3",
         "legendgroup": "90% band: Cluster 3",
         "line": {
          "color": "rgba(0.9921568627450981, 0.7529411764705882, 0.5254901960784314, 0.6)",
          "shape": "spline"
         },
         "mode": "lines",
         "name": "90% band: Cluster 3; 323 Solutions        ",
         "showlegend": true,
         "type": "scatter",
         "visible": true,
         "x": [
          0,
          0.14164224746811022,
          0.2805716391608708,
          0.3369857728059401,
          0.49829197767260625,
          0.6486267636953562,
          0.7987147182544719,
          0.8546449575619145,
          1
         ],
         "y": [
          0.09804916324239346,
          0.013220620415865905,
          0.16548261844640402,
          0.08112791437986198,
          5.166527698511303e-8,
          0.09912642778852276,
          0.29330003038716457,
          0.3691557744431463,
          0
         ]
        },
        {
         "fill": "tonexty",
         "fillcolor": "rgba(0.9921568627450981, 0.7529411764705882, 0.5254901960784314, 0.6)",
         "hovertext": "Cluster 3",
         "legendgroup": "90% band: Cluster 3",
         "line": {
          "color": "rgba(0.9921568627450981, 0.7529411764705882, 0.5254901960784314, 0.6)",
          "shape": "spline"
         },
         "mode": "lines",
         "name": "Cluster 3",
         "showlegend": false,
         "type": "scatter",
         "visible": true,
         "x": [
          0,
          0.14164224746811022,
          0.2805716391608708,
          0.3369857728059401,
          0.49829197767260625,
          0.6486267636953562,
          0.7987147182544719,
          0.8546449575619145,
          1
         ],
         "y": [
          0.20180529311330553,
          0.03726255194844036,
          0.3857824618968871,
          0.266541849324507,
          0.27350307472334273,
          0.880824840851792,
          0.3533542065028681,
          0.4572476165337951,
          1
         ]
        },
        {
         "hovertext": "Cluster 4",
         "legendgroup": "90% band: Cluster 4",
         "line": {
          "color": "rgba(1.0, 1.0, 0.6, 0.6)",
          "shape": "spline"
         },
         "mode": "lines",
         "name": "90% band: Cluster 4; 324 Solutions        ",
         "showlegend": true,
         "type": "scatter",
         "visible": true,
         "x": [
          0,
          0.14164224746811022,
          0.2805716391608708,
          0.3369857728059401,
          0.49829197767260625,
          0.6486267636953562,
          0.7987147182544719,
          0.8546449575619145,
          1
         ],
         "y": [
          0.0774450162222236,
          0.0409785607376167,
          0.14927226709553432,
          0.06942420980749991,
          5.667249443149537e-8,
          0.09164188830245946,
          0.292589546647623,
          0.36770067939981027,
          0
         ]
        },
        {
         "fill": "tonexty",
         "fillcolor": "rgba(1.0, 1.0, 0.6, 0.6)",
         "hovertext": "Cluster 4",
         "legendgroup": "90% band: Cluster 4",
         "line": {
          "color": "rgba(1.0, 1.0, 0.6, 0.6)",
          "shape": "spline"
         },
         "mode": "lines",
         "name": "Cluster 4",
         "showlegend": false,
         "type": "scatter",
         "visible": true,
         "x": [
          0,
          0.14164224746811022,
          0.2805716391608708,
          0.3369857728059401,
          0.49829197767260625,
          0.6486267636953562,
          0.7987147182544719,
          0.8546449575619145,
          1
         ],
         "y": [
          0.20180532017103184,
          0.09482206736297012,
          0.3956941389214119,
          0.2912897494537543,
          0.4267711010940693,
          0.9040127226918413,
          0.35153041891642295,
          0.4583337814653103,
          1
         ]
        },
        {
         "hovertext": "Cluster 5",
         "legendgroup": "90% band: Cluster 5",
         "line": {
          "color": "rgba(0.2196078431372549, 0.4235294117647059, 0.6901960784313725, 0.6)",
          "shape": "spline"
         },
         "mode": "lines",
         "name": "90% band: Cluster 5; 323 Solutions        ",
         "showlegend": true,
         "type": "scatter",
         "visible": true,
         "x": [
          0,
          0.14164224746811022,
          0.2805716391608708,
          0.3369857728059401,
          0.49829197767260625,
          0.6486267636953562,
          0.7987147182544719,
          0.8546449575619145,
          1
         ],
         "y": [
          0.10653658571531424,
          0.09763467769230906,
          0.17489716547013595,
          0.09486583875865394,
          5.85946665582245e-8,
          0.17921241216815875,
          0.2926874674802358,
          0.367448646622649,
          0
         ]
        },
        {
         "fill": "tonexty",
         "fillcolor": "rgba(0.2196078431372549, 0.4235294117647059, 0.6901960784313725, 0.6)",
         "hovertext": "Cluster 5",
         "legendgroup": "90% band: Cluster 5",
         "line": {
          "color": "rgba(0.2196078431372549, 0.4235294117647059, 0.6901960784313725, 0.6)",
          "shape": "spline"
         },
         "mode": "lines",
         "name": "Cluster 5",
         "showlegend": false,
         "type": "scatter",
         "visible": true,
         "x": [
          0,
          0.14164224746811022,
          0.2805716391608708,
          0.3369857728059401,
          0.49829197767260625,
          0.6486267636953562,
          0.7987147182544719,
          0.8546449575619145,
          1
         ],
         "y": [
          0.3905896549008979,
          0.16610802912526107,
          0.36371903671577677,
          0.26530689362337634,
          0.27298236010117033,
          0.8571838598001171,
          0.35223229995550376,
          0.466648192565688,
          1
         ]
        },
        {
         "hovertext": "Cluster 6",
         "legendgroup": "90% band: Cluster 6",
         "line": {
          "color": "rgba(0.9411764705882353, 0.00784313725490196, 0.4980392156862745, 0.6)",
          "shape": "spline"
         },
         "mode": "lines",
         "name": "90% band: Cluster 6; 323 Solutions        ",
         "showlegend": true,
         "type": "scatter",
         "visible": true,
         "x": [
          0,
          0.14164224746811022,
          0.2805716391608708,
          0.3369857728059401,
          0.49829197767260625,
          0.6486267636953562,
          0.7987147182544719,
          0.8546449575619145,
          1
         ],
         "y": [
          0.11775413775703965,
          0.17271544849628825,
          0.17774507626146624,
          0.08436044625220451,
          5.92667447240048e-8,
          0.17921212098593184,
          0.2925511074771728,
          0.367185699574121,
          0.00011202009126822307
         ]
        },
        {
         "fill": "tonexty",
         "fillcolor": "rgba(0.9411764705882353, 0.00784313725490196, 0.4980392156862745, 0.6)",
         "hovertext": "Cluster 6",
         "legendgroup": "90% band: Cluster 6",
         "line": {
          "color": "rgba(0.9411764705882353, 0.00784313725490196, 0.4980392156862745, 0.6)",
          "shape": "spline"
         },
         "mode": "lines",
         "name": "Cluster 6",
         "showlegend": false,
         "type": "scatter",
         "visible": true,
         "x": [
          0,
          0.14164224746811022,
          0.2805716391608708,
          0.3369857728059401,
          0.49829197767260625,
          0.6486267636953562,
          0.7987147182544719,
          0.8546449575619145,
          1
         ],
         "y": [
          0.20633356824893848,
          0.2784394537432717,
          0.38885016053025023,
          0.2820427682847444,
          0.2858580037754049,
          0.6930622451546894,
          0.3516302514043333,
          0.47285585799760754,
          1
         ]
        },
        {
         "hovertext": "Cluster 7",
         "legendgroup": "90% band: Cluster 7",
         "line": {
          "color": "rgba(0.7490196078431373, 0.3568627450980392, 0.09019607843137253, 0.6)",
          "shape": "spline"
         },
         "mode": "lines",
         "name": "90% band: Cluster 7; 323 Solutions        ",
         "showlegend": true,
         "type": "scatter",
         "visible": true,
         "x": [
          0,
          0.14164224746811022,
          0.2805716391608708,
          0.3369857728059401,
          0.49829197767260625,
          0.6486267636953562,
          0.7987147182544719,
          0.8546449575619145,
          1
         ],
         "y": [
          0.15559829265279448,
          0.29273302520762,
          0.20797302385007926,
          0.11908895039011816,
          0.01629859334217129,
          0.3457286442842963,
          0.2916854288647791,
          0.36522979146537515,
          0.0004480793648488531
         ]
        },
        {
         "fill": "tonexty",
         "fillcolor": "rgba(0.7490196078431373, 0.3568627450980392, 0.09019607843137253, 0.6)",
         "hovertext": "Cluster 7",
         "legendgroup": "90% band: Cluster 7",
         "line": {
          "color": "rgba(0.7490196078431373, 0.3568627450980392, 0.09019607843137253, 0.6)",
          "shape": "spline"
         },
         "mode": "lines",
         "name": "Cluster 7",
         "showlegend": false,
         "type": "scatter",
         "visible": true,
         "x": [
          0,
          0.14164224746811022,
          0.2805716391608708,
          0.3369857728059401,
          0.49829197767260625,
          0.6486267636953562,
          0.7987147182544719,
          0.8546449575619145,
          1
         ],
         "y": [
          0.36346539344088713,
          0.5306564713125815,
          0.36806201735839955,
          0.2737028775090668,
          0.24355125565983887,
          0.8484783657309528,
          0.3488526612480833,
          0.47651549349080735,
          0.9521451778462402
         ]
        },
        {
         "hovertext": "Cluster 8",
         "legendgroup": "90% band: Cluster 8",
         "line": {
          "color": "rgba(0.4, 0.4, 0.4, 0.6)",
          "shape": "spline"
         },
         "mode": "lines",
         "name": "90% band: Cluster 8; 324 Solutions        ",
         "showlegend": true,
         "type": "scatter",
         "visible": true,
         "x": [
          0,
          0.14164224746811022,
          0.2805716391608708,
          0.3369857728059401,
          0.49829197767260625,
          0.6486267636953562,
          0.7987147182544719,
          0.8546449575619145,
          1
         ],
         "y": [
          0.17816623172103563,
          0.5580739105230207,
          0.17576941325145043,
          0.08972917738803479,
          0.021211214143538423,
          0.5228915123381068,
          0.2944998408210102,
          0.3695803598493167,
          0.0010081778207418903
         ]
        },
        {
         "fill": "tonexty",
         "fillcolor": "rgba(0.4, 0.4, 0.4, 0.6)",
         "hovertext": "Cluster 8",
         "legendgroup": "90% band: Cluster 8",
         "line": {
          "color": "rgba(0.4, 0.4, 0.4, 0.6)",
          "shape": "spline"
         },
         "mode": "lines",
         "name": "Cluster 8",
         "showlegend": false,
         "type": "scatter",
         "visible": true,
         "x": [
          0,
          0.14164224746811022,
          0.2805716391608708,
          0.3369857728059401,
          0.49829197767260625,
          0.6486267636953562,
          0.7987147182544719,
          0.8546449575619145,
          1
         ],
         "y": [
          0.2018100653485467,
          0.8276329027795178,
          0.35528229116085747,
          0.28416843115855445,
          0.08588839246426042,
          0.9334000267952818,
          0.35103399443113986,
          0.44392998269238226,
          0.9922370338309707
         ]
        },
        {
         "line": {
          "color": "black"
         },
         "mode": "text",
         "showlegend": false,
         "text": [
          "2.7e5"
         ],
         "textposition": "bottom center",
         "type": "scatter",
         "x": [
          0
         ],
         "y": [
          0
         ]
        },
        {
         "line": {
          "color": "black"
         },
         "mode": "text",
         "showlegend": false,
         "text": [
          "5.7e5"
         ],
         "textposition": "top center",
         "type": "scatter",
         "x": [
          0
         ],
         "y": [
          1
         ]
        },
        {
         "line": {
          "color": "black"
         },
         "mode": "markers+lines+text",
         "showlegend": false,
         "text": [
          "",
          "3.3",
          "3.9",
          "4.5",
          "5.1",
          ""
         ],
         "textposition": "middle left",
         "type": "scatter",
         "x": [
          0,
          0,
          0,
          0,
          0,
          0
         ],
         "y": [
          0,
          0.2,
          0.4,
          0.6000000000000001,
          0.8,
          1
         ]
        },
        {
         "mode": "text",
         "showlegend": false,
         "text": "Ppeak",
         "textfont": {
          "size": 20
         },
         "type": "scatter",
         "x": [
          0
         ],
         "y": [
          1.1
         ]
        },
        {
         "line": {
          "color": "black"
         },
         "mode": "text",
         "showlegend": false,
         "text": [
          "0.0e3"
         ],
         "textposition": "bottom center",
         "type": "scatter",
         "x": [
          0.14164224746811022
         ],
         "y": [
          0
         ]
        },
        {
         "line": {
          "color": "black"
         },
         "mode": "text",
         "showlegend": false,
         "text": [
          "9.1e3"
         ],
         "textposition": "top center",
         "type": "scatter",
         "x": [
          0.14164224746811022
         ],
         "y": [
          1
         ]
        },
        {
         "line": {
          "color": "black"
         },
         "mode": "markers+lines+text",
         "showlegend": false,
         "text": [
          "",
          "1.8",
          "3.6",
          "5.5",
          "7.3",
          ""
         ],
         "textposition": "middle left",
         "type": "scatter",
         "x": [
          0.14164224746811022,
          0.14164224746811022,
          0.14164224746811022,
          0.14164224746811022,
          0.14164224746811022,
          0.14164224746811022
         ],
         "y": [
          0,
          0.2,
          0.4,
          0.6000000000000001,
          0.8,
          1
         ]
        },
        {
         "mode": "text",
         "showlegend": false,
         "text": "pRes",
         "textfont": {
          "size": 20
         },
         "type": "scatter",
         "x": [
          0.14164224746811022
         ],
         "y": [
          1.1
         ]
        },
        {
         "line": {
          "color": "black"
         },
         "mode": "text",
         "showlegend": false,
         "text": [
          "0.0e5"
         ],
         "textposition": "bottom center",
         "type": "scatter",
         "x": [
          0.2805716391608708
         ],
         "y": [
          0
         ]
        },
        {
         "line": {
          "color": "black"
         },
         "mode": "text",
         "showlegend": false,
         "text": [
          "3.1e5"
         ],
         "textposition": "top center",
         "type": "scatter",
         "x": [
          0.2805716391608708
         ],
         "y": [
          1
         ]
        },
        {
         "line": {
          "color": "black"
         },
         "mode": "markers+lines+text",
         "showlegend": false,
         "text": [
          "",
          "0.6",
          "1.2",
          "1.9",
          "2.5",
          ""
         ],
         "textposition": "middle left",
         "type": "scatter",
         "x": [
          0.2805716391608708,
          0.2805716391608708,
          0.2805716391608708,
          0.2805716391608708,
          0.2805716391608708,
          0.2805716391608708
         ],
         "y": [
          0,
          0.2,
          0.4,
          0.6000000000000001,
          0.8,
          1
         ]
        },
        {
         "mode": "text",
         "showlegend": false,
         "text": "mPpeak",
         "textfont": {
          "size": 20
         },
         "type": "scatter",
         "x": [
          0.2805716391608708
         ],
         "y": [
          1.1
         ]
        },
        {
         "line": {
          "color": "black"
         },
         "mode": "text",
         "showlegend": false,
         "text": [
          "-0.0e4"
         ],
         "textposition": "bottom center",
         "type": "scatter",
         "x": [
          0.3369857728059401
         ],
         "y": [
          0
         ]
        },
        {
         "line": {
          "color": "black"
         },
         "mode": "text",
         "showlegend": false,
         "text": [
          "7.6e4"
         ],
         "textposition": "top center",
         "type": "scatter",
         "x": [
          0.3369857728059401
         ],
         "y": [
          1
         ]
        },
        {
         "line": {
          "color": "black"
         },
         "mode": "markers+lines+text",
         "showlegend": false,
         "text": [
          "",
          "1.5",
          "3.0",
          "4.6",
          "6.1",
          ""
         ],
         "textposition": "middle left",
         "type": "scatter",
         "x": [
          0.3369857728059401,
          0.3369857728059401,
          0.3369857728059401,
          0.3369857728059401,
          0.3369857728059401,
          0.3369857728059401
         ],
         "y": [
          0,
          0.2,
          0.4,
          0.6000000000000001,
          0.8,
          1
         ]
        },
        {
         "mode": "text",
         "showlegend": false,
         "text": "bGrid",
         "textfont": {
          "size": 20
         },
         "type": "scatter",
         "x": [
          0.3369857728059401
         ],
         "y": [
          1.1
         ]
        },
        {
         "line": {
          "color": "black"
         },
         "mode": "text",
         "showlegend": false,
         "text": [
          "0.0e4"
         ],
         "textposition": "bottom center",
         "type": "scatter",
         "x": [
          0.49829197767260625
         ],
         "y": [
          0
         ]
        },
        {
         "line": {
          "color": "black"
         },
         "mode": "text",
         "showlegend": false,
         "text": [
          "16.8e4"
         ],
         "textposition": "top center",
         "type": "scatter",
         "x": [
          0.49829197767260625
         ],
         "y": [
          1
         ]
        },
        {
         "line": {
          "color": "black"
         },
         "mode": "markers+lines+text",
         "showlegend": false,
         "text": [
          "",
          "3.4",
          "6.7",
          "10.1",
          "13.5",
          ""
         ],
         "textposition": "middle left",
         "type": "scatter",
         "x": [
          0.49829197767260625,
          0.49829197767260625,
          0.49829197767260625,
          0.49829197767260625,
          0.49829197767260625,
          0.49829197767260625
         ],
         "y": [
          0,
          0.2,
          0.4,
          0.6000000000000001,
          0.8,
          1
         ]
        },
        {
         "mode": "text",
         "showlegend": false,
         "text": "bDis",
         "textfont": {
          "size": 20
         },
         "type": "scatter",
         "x": [
          0.49829197767260625
         ],
         "y": [
          1.1
         ]
        },
        {
         "line": {
          "color": "black"
         },
         "mode": "text",
         "showlegend": false,
         "text": [
          "0.0"
         ],
         "textposition": "bottom center",
         "type": "scatter",
         "x": [
          0.6486267636953562
         ],
         "y": [
          0
         ]
        },
        {
         "line": {
          "color": "black"
         },
         "mode": "text",
         "showlegend": false,
         "text": [
          "1.0"
         ],
         "textposition": "top center",
         "type": "scatter",
         "x": [
          0.6486267636953562
         ],
         "y": [
          1
         ]
        },
        {
         "line": {
          "color": "black"
         },
         "mode": "markers+lines+text",
         "showlegend": false,
         "text": [
          "",
          "0.2",
          "0.4",
          "0.6",
          "0.8",
          ""
         ],
         "textposition": "middle left",
         "type": "scatter",
         "x": [
          0.6486267636953562,
          0.6486267636953562,
          0.6486267636953562,
          0.6486267636953562,
          0.6486267636953562,
          0.6486267636953562
         ],
         "y": [
          0,
          0.2,
          0.4,
          0.6000000000000001,
          0.8,
          1
         ]
        },
        {
         "mode": "text",
         "showlegend": false,
         "text": "bSOC",
         "textfont": {
          "size": 20
         },
         "type": "scatter",
         "x": [
          0.6486267636953562
         ],
         "y": [
          1.1
         ]
        },
        {
         "line": {
          "color": "black"
         },
         "mode": "text",
         "showlegend": false,
         "text": [
          "2.1e3"
         ],
         "textposition": "bottom center",
         "type": "scatter",
         "x": [
          0.7987147182544719
         ],
         "y": [
          0
         ]
        },
        {
         "line": {
          "color": "black"
         },
         "mode": "text",
         "showlegend": false,
         "text": [
          "2.2e3"
         ],
         "textposition": "top center",
         "type": "scatter",
         "x": [
          0.7987147182544719
         ],
         "y": [
          1
         ]
        },
        {
         "line": {
          "color": "black"
         },
         "mode": "markers+lines+text",
         "showlegend": false,
         "text": [
          "",
          "2.1",
          "2.1",
          "2.2",
          "2.2",
          ""
         ],
         "textposition": "middle left",
         "type": "scatter",
         "x": [
          0.7987147182544719,
          0.7987147182544719,
          0.7987147182544719,
          0.7987147182544719,
          0.7987147182544719,
          0.7987147182544719
         ],
         "y": [
          0,
          0.2,
          0.4,
          0.6000000000000001,
          0.8,
          1
         ]
        },
        {
         "mode": "text",
         "showlegend": false,
         "text": "CO2",
         "textfont": {
          "size": 20
         },
         "type": "scatter",
         "x": [
          0.7987147182544719
         ],
         "y": [
          1.1
         ]
        },
        {
         "line": {
          "color": "black"
         },
         "mode": "text",
         "showlegend": false,
         "text": [
          "3.2e5"
         ],
         "textposition": "bottom center",
         "type": "scatter",
         "x": [
          0.8546449575619145
         ],
         "y": [
          0
         ]
        },
        {
         "line": {
          "color": "black"
         },
         "mode": "text",
         "showlegend": false,
         "text": [
          "3.4e5"
         ],
         "textposition": "top center",
         "type": "scatter",
         "x": [
          0.8546449575619145
         ],
         "y": [
          1
         ]
        },
        {
         "line": {
          "color": "black"
         },
         "mode": "markers+lines+text",
         "showlegend": false,
         "text": [
          "",
          "3.2",
          "3.3",
          "3.3",
          "3.4",
          ""
         ],
         "textposition": "middle left",
         "type": "scatter",
         "x": [
          0.8546449575619145,
          0.8546449575619145,
          0.8546449575619145,
          0.8546449575619145,
          0.8546449575619145,
          0.8546449575619145
         ],
         "y": [
          0,
          0.2,
          0.4,
          0.6000000000000001,
          0.8,
          1
         ]
        },
        {
         "mode": "text",
         "showlegend": false,
         "text": "Costs",
         "textfont": {
          "size": 20
         },
         "type": "scatter",
         "x": [
          0.8546449575619145
         ],
         "y": [
          1.1
         ]
        },
        {
         "line": {
          "color": "black"
         },
         "mode": "text",
         "showlegend": false,
         "text": [
          "0.0"
         ],
         "textposition": "bottom center",
         "type": "scatter",
         "x": [
          1
         ],
         "y": [
          0
         ]
        },
        {
         "line": {
          "color": "black"
         },
         "mode": "text",
         "showlegend": false,
         "text": [
          "1.0"
         ],
         "textposition": "top center",
         "type": "scatter",
         "x": [
          1
         ],
         "y": [
          1
         ]
        },
        {
         "line": {
          "color": "black"
         },
         "mode": "markers+lines+text",
         "showlegend": false,
         "text": [
          "",
          "0.2",
          "0.4",
          "0.6",
          "0.8",
          ""
         ],
         "textposition": "middle left",
         "type": "scatter",
         "x": [
          1,
          1,
          1,
          1,
          1,
          1
         ],
         "y": [
          0,
          0.2,
          0.4,
          0.6000000000000001,
          0.8,
          1
         ]
        },
        {
         "mode": "text",
         "showlegend": false,
         "text": "bSOC% Time",
         "textfont": {
          "size": 20
         },
         "type": "scatter",
         "x": [
          1
         ],
         "y": [
          1.1
         ]
        }
       ],
       "layout": {
        "font": {
         "size": 18
        },
        "height": 700,
        "legend": {
         "font": {
          "size": 24
         },
         "orientation": "h",
         "yanchor": "top"
        },
        "plot_bgcolor": "rgba(0,0,0,0)",
        "template": {
         "data": {
          "bar": [
           {
            "error_x": {
             "color": "#2a3f5f"
            },
            "error_y": {
             "color": "#2a3f5f"
            },
            "marker": {
             "line": {
              "color": "#E5ECF6",
              "width": 0.5
             },
             "pattern": {
              "fillmode": "overlay",
              "size": 10,
              "solidity": 0.2
             }
            },
            "type": "bar"
           }
          ],
          "barpolar": [
           {
            "marker": {
             "line": {
              "color": "#E5ECF6",
              "width": 0.5
             },
             "pattern": {
              "fillmode": "overlay",
              "size": 10,
              "solidity": 0.2
             }
            },
            "type": "barpolar"
           }
          ],
          "carpet": [
           {
            "aaxis": {
             "endlinecolor": "#2a3f5f",
             "gridcolor": "white",
             "linecolor": "white",
             "minorgridcolor": "white",
             "startlinecolor": "#2a3f5f"
            },
            "baxis": {
             "endlinecolor": "#2a3f5f",
             "gridcolor": "white",
             "linecolor": "white",
             "minorgridcolor": "white",
             "startlinecolor": "#2a3f5f"
            },
            "type": "carpet"
           }
          ],
          "choropleth": [
           {
            "colorbar": {
             "outlinewidth": 0,
             "ticks": ""
            },
            "type": "choropleth"
           }
          ],
          "contour": [
           {
            "colorbar": {
             "outlinewidth": 0,
             "ticks": ""
            },
            "colorscale": [
             [
              0,
              "#0d0887"
             ],
             [
              0.1111111111111111,
              "#46039f"
             ],
             [
              0.2222222222222222,
              "#7201a8"
             ],
             [
              0.3333333333333333,
              "#9c179e"
             ],
             [
              0.4444444444444444,
              "#bd3786"
             ],
             [
              0.5555555555555556,
              "#d8576b"
             ],
             [
              0.6666666666666666,
              "#ed7953"
             ],
             [
              0.7777777777777778,
              "#fb9f3a"
             ],
             [
              0.8888888888888888,
              "#fdca26"
             ],
             [
              1,
              "#f0f921"
             ]
            ],
            "type": "contour"
           }
          ],
          "contourcarpet": [
           {
            "colorbar": {
             "outlinewidth": 0,
             "ticks": ""
            },
            "type": "contourcarpet"
           }
          ],
          "heatmap": [
           {
            "colorbar": {
             "outlinewidth": 0,
             "ticks": ""
            },
            "colorscale": [
             [
              0,
              "#0d0887"
             ],
             [
              0.1111111111111111,
              "#46039f"
             ],
             [
              0.2222222222222222,
              "#7201a8"
             ],
             [
              0.3333333333333333,
              "#9c179e"
             ],
             [
              0.4444444444444444,
              "#bd3786"
             ],
             [
              0.5555555555555556,
              "#d8576b"
             ],
             [
              0.6666666666666666,
              "#ed7953"
             ],
             [
              0.7777777777777778,
              "#fb9f3a"
             ],
             [
              0.8888888888888888,
              "#fdca26"
             ],
             [
              1,
              "#f0f921"
             ]
            ],
            "type": "heatmap"
           }
          ],
          "heatmapgl": [
           {
            "colorbar": {
             "outlinewidth": 0,
             "ticks": ""
            },
            "colorscale": [
             [
              0,
              "#0d0887"
             ],
             [
              0.1111111111111111,
              "#46039f"
             ],
             [
              0.2222222222222222,
              "#7201a8"
             ],
             [
              0.3333333333333333,
              "#9c179e"
             ],
             [
              0.4444444444444444,
              "#bd3786"
             ],
             [
              0.5555555555555556,
              "#d8576b"
             ],
             [
              0.6666666666666666,
              "#ed7953"
             ],
             [
              0.7777777777777778,
              "#fb9f3a"
             ],
             [
              0.8888888888888888,
              "#fdca26"
             ],
             [
              1,
              "#f0f921"
             ]
            ],
            "type": "heatmapgl"
           }
          ],
          "histogram": [
           {
            "marker": {
             "pattern": {
              "fillmode": "overlay",
              "size": 10,
              "solidity": 0.2
             }
            },
            "type": "histogram"
           }
          ],
          "histogram2d": [
           {
            "colorbar": {
             "outlinewidth": 0,
             "ticks": ""
            },
            "colorscale": [
             [
              0,
              "#0d0887"
             ],
             [
              0.1111111111111111,
              "#46039f"
             ],
             [
              0.2222222222222222,
              "#7201a8"
             ],
             [
              0.3333333333333333,
              "#9c179e"
             ],
             [
              0.4444444444444444,
              "#bd3786"
             ],
             [
              0.5555555555555556,
              "#d8576b"
             ],
             [
              0.6666666666666666,
              "#ed7953"
             ],
             [
              0.7777777777777778,
              "#fb9f3a"
             ],
             [
              0.8888888888888888,
              "#fdca26"
             ],
             [
              1,
              "#f0f921"
             ]
            ],
            "type": "histogram2d"
           }
          ],
          "histogram2dcontour": [
           {
            "colorbar": {
             "outlinewidth": 0,
             "ticks": ""
            },
            "colorscale": [
             [
              0,
              "#0d0887"
             ],
             [
              0.1111111111111111,
              "#46039f"
             ],
             [
              0.2222222222222222,
              "#7201a8"
             ],
             [
              0.3333333333333333,
              "#9c179e"
             ],
             [
              0.4444444444444444,
              "#bd3786"
             ],
             [
              0.5555555555555556,
              "#d8576b"
             ],
             [
              0.6666666666666666,
              "#ed7953"
             ],
             [
              0.7777777777777778,
              "#fb9f3a"
             ],
             [
              0.8888888888888888,
              "#fdca26"
             ],
             [
              1,
              "#f0f921"
             ]
            ],
            "type": "histogram2dcontour"
           }
          ],
          "mesh3d": [
           {
            "colorbar": {
             "outlinewidth": 0,
             "ticks": ""
            },
            "type": "mesh3d"
           }
          ],
          "parcoords": [
           {
            "line": {
             "colorbar": {
              "outlinewidth": 0,
              "ticks": ""
             }
            },
            "type": "parcoords"
           }
          ],
          "pie": [
           {
            "automargin": true,
            "type": "pie"
           }
          ],
          "scatter": [
           {
            "fillpattern": {
             "fillmode": "overlay",
             "size": 10,
             "solidity": 0.2
            },
            "type": "scatter"
           }
          ],
          "scatter3d": [
           {
            "line": {
             "colorbar": {
              "outlinewidth": 0,
              "ticks": ""
             }
            },
            "marker": {
             "colorbar": {
              "outlinewidth": 0,
              "ticks": ""
             }
            },
            "type": "scatter3d"
           }
          ],
          "scattercarpet": [
           {
            "marker": {
             "colorbar": {
              "outlinewidth": 0,
              "ticks": ""
             }
            },
            "type": "scattercarpet"
           }
          ],
          "scattergeo": [
           {
            "marker": {
             "colorbar": {
              "outlinewidth": 0,
              "ticks": ""
             }
            },
            "type": "scattergeo"
           }
          ],
          "scattergl": [
           {
            "marker": {
             "colorbar": {
              "outlinewidth": 0,
              "ticks": ""
             }
            },
            "type": "scattergl"
           }
          ],
          "scattermapbox": [
           {
            "marker": {
             "colorbar": {
              "outlinewidth": 0,
              "ticks": ""
             }
            },
            "type": "scattermapbox"
           }
          ],
          "scatterpolar": [
           {
            "marker": {
             "colorbar": {
              "outlinewidth": 0,
              "ticks": ""
             }
            },
            "type": "scatterpolar"
           }
          ],
          "scatterpolargl": [
           {
            "marker": {
             "colorbar": {
              "outlinewidth": 0,
              "ticks": ""
             }
            },
            "type": "scatterpolargl"
           }
          ],
          "scatterternary": [
           {
            "marker": {
             "colorbar": {
              "outlinewidth": 0,
              "ticks": ""
             }
            },
            "type": "scatterternary"
           }
          ],
          "surface": [
           {
            "colorbar": {
             "outlinewidth": 0,
             "ticks": ""
            },
            "colorscale": [
             [
              0,
              "#0d0887"
             ],
             [
              0.1111111111111111,
              "#46039f"
             ],
             [
              0.2222222222222222,
              "#7201a8"
             ],
             [
              0.3333333333333333,
              "#9c179e"
             ],
             [
              0.4444444444444444,
              "#bd3786"
             ],
             [
              0.5555555555555556,
              "#d8576b"
             ],
             [
              0.6666666666666666,
              "#ed7953"
             ],
             [
              0.7777777777777778,
              "#fb9f3a"
             ],
             [
              0.8888888888888888,
              "#fdca26"
             ],
             [
              1,
              "#f0f921"
             ]
            ],
            "type": "surface"
           }
          ],
          "table": [
           {
            "cells": {
             "fill": {
              "color": "#EBF0F8"
             },
             "line": {
              "color": "white"
             }
            },
            "header": {
             "fill": {
              "color": "#C8D4E3"
             },
             "line": {
              "color": "white"
             }
            },
            "type": "table"
           }
          ]
         },
         "layout": {
          "annotationdefaults": {
           "arrowcolor": "#2a3f5f",
           "arrowhead": 0,
           "arrowwidth": 1
          },
          "autotypenumbers": "strict",
          "coloraxis": {
           "colorbar": {
            "outlinewidth": 0,
            "ticks": ""
           }
          },
          "colorscale": {
           "diverging": [
            [
             0,
             "#8e0152"
            ],
            [
             0.1,
             "#c51b7d"
            ],
            [
             0.2,
             "#de77ae"
            ],
            [
             0.3,
             "#f1b6da"
            ],
            [
             0.4,
             "#fde0ef"
            ],
            [
             0.5,
             "#f7f7f7"
            ],
            [
             0.6,
             "#e6f5d0"
            ],
            [
             0.7,
             "#b8e186"
            ],
            [
             0.8,
             "#7fbc41"
            ],
            [
             0.9,
             "#4d9221"
            ],
            [
             1,
             "#276419"
            ]
           ],
           "sequential": [
            [
             0,
             "#0d0887"
            ],
            [
             0.1111111111111111,
             "#46039f"
            ],
            [
             0.2222222222222222,
             "#7201a8"
            ],
            [
             0.3333333333333333,
             "#9c179e"
            ],
            [
             0.4444444444444444,
             "#bd3786"
            ],
            [
             0.5555555555555556,
             "#d8576b"
            ],
            [
             0.6666666666666666,
             "#ed7953"
            ],
            [
             0.7777777777777778,
             "#fb9f3a"
            ],
            [
             0.8888888888888888,
             "#fdca26"
            ],
            [
             1,
             "#f0f921"
            ]
           ],
           "sequentialminus": [
            [
             0,
             "#0d0887"
            ],
            [
             0.1111111111111111,
             "#46039f"
            ],
            [
             0.2222222222222222,
             "#7201a8"
            ],
            [
             0.3333333333333333,
             "#9c179e"
            ],
            [
             0.4444444444444444,
             "#bd3786"
            ],
            [
             0.5555555555555556,
             "#d8576b"
            ],
            [
             0.6666666666666666,
             "#ed7953"
            ],
            [
             0.7777777777777778,
             "#fb9f3a"
            ],
            [
             0.8888888888888888,
             "#fdca26"
            ],
            [
             1,
             "#f0f921"
            ]
           ]
          },
          "colorway": [
           "#636efa",
           "#EF553B",
           "#00cc96",
           "#ab63fa",
           "#FFA15A",
           "#19d3f3",
           "#FF6692",
           "#B6E880",
           "#FF97FF",
           "#FECB52"
          ],
          "font": {
           "color": "#2a3f5f"
          },
          "geo": {
           "bgcolor": "white",
           "lakecolor": "white",
           "landcolor": "#E5ECF6",
           "showlakes": true,
           "showland": true,
           "subunitcolor": "white"
          },
          "hoverlabel": {
           "align": "left"
          },
          "hovermode": "closest",
          "mapbox": {
           "style": "light"
          },
          "paper_bgcolor": "white",
          "plot_bgcolor": "#E5ECF6",
          "polar": {
           "angularaxis": {
            "gridcolor": "white",
            "linecolor": "white",
            "ticks": ""
           },
           "bgcolor": "#E5ECF6",
           "radialaxis": {
            "gridcolor": "white",
            "linecolor": "white",
            "ticks": ""
           }
          },
          "scene": {
           "xaxis": {
            "backgroundcolor": "#E5ECF6",
            "gridcolor": "white",
            "gridwidth": 2,
            "linecolor": "white",
            "showbackground": true,
            "ticks": "",
            "zerolinecolor": "white"
           },
           "yaxis": {
            "backgroundcolor": "#E5ECF6",
            "gridcolor": "white",
            "gridwidth": 2,
            "linecolor": "white",
            "showbackground": true,
            "ticks": "",
            "zerolinecolor": "white"
           },
           "zaxis": {
            "backgroundcolor": "#E5ECF6",
            "gridcolor": "white",
            "gridwidth": 2,
            "linecolor": "white",
            "showbackground": true,
            "ticks": "",
            "zerolinecolor": "white"
           }
          },
          "shapedefaults": {
           "line": {
            "color": "#2a3f5f"
           }
          },
          "ternary": {
           "aaxis": {
            "gridcolor": "white",
            "linecolor": "white",
            "ticks": ""
           },
           "baxis": {
            "gridcolor": "white",
            "linecolor": "white",
            "ticks": ""
           },
           "bgcolor": "#E5ECF6",
           "caxis": {
            "gridcolor": "white",
            "linecolor": "white",
            "ticks": ""
           }
          },
          "title": {
           "x": 0.05
          },
          "xaxis": {
           "automargin": true,
           "gridcolor": "white",
           "linecolor": "white",
           "ticks": "",
           "title": {
            "standoff": 15
           },
           "zerolinecolor": "white",
           "zerolinewidth": 2
          },
          "yaxis": {
           "automargin": true,
           "gridcolor": "white",
           "linecolor": "white",
           "ticks": "",
           "title": {
            "standoff": 15
           },
           "zerolinecolor": "white",
           "zerolinewidth": 2
          }
         }
        },
        "width": 1500,
        "xaxis": {
         "showgrid": false,
         "showticklabels": false,
         "zeroline": false
        },
        "yaxis": {
         "showgrid": false,
         "showticklabels": false,
         "zeroline": false
        }
       }
      }
     },
     "metadata": {},
     "output_type": "display_data"
    }
   ],
   "source": [
    "# Choose Band 3, group by \"pRes\"\n",
    "\n",
    "band = 3\n",
    "\n",
    "data_copy = data.copy()\n",
    "data_copy = data_copy[data_copy[\"cluster\"]== band]\n",
    "\n",
    "\n",
    "# Cluster into 8 groups\n",
    "obj_to_cluster = \"pRes\"\n",
    "n_clusters = 8\n",
    "\n",
    "data_copy[\"cluster\"] = 1\n",
    "for i in range(1, n_clusters):\n",
    "    data_copy.loc[data_copy[obj_to_cluster] > data_copy[obj_to_cluster].quantile(i / n_clusters), \"cluster\"] = i+1\n",
    "\n",
    "ordered_data, axis_dist, axis_signs = calculate_axes_positions(\n",
    "        data_copy[objs],\n",
    "        obj_order,\n",
    "        corr,\n",
    "        dist_parameter=0.521,\n",
    "        distance_formula=1,\n",
    "    )\n",
    "\n",
    "#scales = pd.DataFrame([ordered_data.min(axis=0), ordered_data.max(axis=0)], index=[\"min\", \"max\"])\n",
    "\n",
    "fig = SCORE_bands(\n",
    "    ordered_data,\n",
    "    color_groups=data_copy[\"cluster\"].tolist(),\n",
    "    bands=True,\n",
    "    quantile=0.05,\n",
    "    axis_positions=axis_dist,\n",
    "    solutions=False,\n",
    "    scales=scales[ordered_data.columns],\n",
    ")\n",
    "\n",
    "fig.update_layout(\n",
    "    width=1500,\n",
    "    height=700,\n",
    ")\n"
   ]
  },
  {
   "cell_type": "code",
   "execution_count": 7,
   "id": "5ca9557c",
   "metadata": {},
   "outputs": [
    {
     "data": {
      "application/vnd.plotly.v1+json": {
       "config": {
        "plotlyServerURL": "https://plot.ly"
       },
       "data": [
        {
         "hovertext": "Cluster 1",
         "legendgroup": "90% band: Cluster 1",
         "line": {
          "color": "rgba(0.4980392156862745, 0.788235294117647, 0.4980392156862745, 0.6)",
          "shape": "spline"
         },
         "mode": "lines",
         "name": "90% band: Cluster 1; 41 Solutions        ",
         "showlegend": true,
         "type": "scatter",
         "visible": true,
         "x": [
          0,
          0.14164224746811022,
          0.2805716391608708,
          0.3369857728059401,
          0.49829197767260625,
          0.6486267636953562,
          0.7987147182544719,
          0.8546449575619145,
          1
         ],
         "y": [
          0.1788797858263003,
          0.5495158262068497,
          0.20445347498264566,
          0.11044986428358576,
          0.01994103239236861,
          0.5198795048426113,
          0.29543046099109127,
          0.3680576444015722,
          0.0010081778207418903
         ]
        },
        {
         "fill": "tonexty",
         "fillcolor": "rgba(0.4980392156862745, 0.788235294117647, 0.4980392156862745, 0.6)",
         "hovertext": "Cluster 1",
         "legendgroup": "90% band: Cluster 1",
         "line": {
          "color": "rgba(0.4980392156862745, 0.788235294117647, 0.4980392156862745, 0.6)",
          "shape": "spline"
         },
         "mode": "lines",
         "name": "Cluster 1",
         "showlegend": false,
         "type": "scatter",
         "visible": true,
         "x": [
          0,
          0.14164224746811022,
          0.2805716391608708,
          0.3369857728059401,
          0.49829197767260625,
          0.6486267636953562,
          0.7987147182544719,
          0.8546449575619145,
          1
         ],
         "y": [
          0.2018112293840058,
          0.5700305152690265,
          0.3491701103712268,
          0.27510516880089486,
          0.06505797378987495,
          0.945175932416581,
          0.3497488723525341,
          0.43975315358739303,
          0.9947350737144263
         ]
        },
        {
         "hovertext": "Cluster 2",
         "legendgroup": "90% band: Cluster 2",
         "line": {
          "color": "rgba(0.7450980392156863, 0.6823529411764706, 0.8313725490196079, 0.6)",
          "shape": "spline"
         },
         "mode": "lines",
         "name": "90% band: Cluster 2; 40 Solutions        ",
         "showlegend": true,
         "type": "scatter",
         "visible": true,
         "x": [
          0,
          0.14164224746811022,
          0.2805716391608708,
          0.3369857728059401,
          0.49829197767260625,
          0.6486267636953562,
          0.7987147182544719,
          0.8546449575619145,
          1
         ],
         "y": [
          0.1816147460168293,
          0.5753540055866818,
          0.15029840086930726,
          0.06391275339391272,
          0.019991826903588653,
          0.49947213503407323,
          0.300037185946499,
          0.3762223573220966,
          0.0010081778207418903
         ]
        },
        {
         "fill": "tonexty",
         "fillcolor": "rgba(0.7450980392156863, 0.6823529411764706, 0.8313725490196079, 0.6)",
         "hovertext": "Cluster 2",
         "legendgroup": "90% band: Cluster 2",
         "line": {
          "color": "rgba(0.7450980392156863, 0.6823529411764706, 0.8313725490196079, 0.6)",
          "shape": "spline"
         },
         "mode": "lines",
         "name": "Cluster 2",
         "showlegend": false,
         "type": "scatter",
         "visible": true,
         "x": [
          0,
          0.14164224746811022,
          0.2805716391608708,
          0.3369857728059401,
          0.49829197767260625,
          0.6486267636953562,
          0.7987147182544719,
          0.8546449575619145,
          1
         ],
         "y": [
          0.2018168723509466,
          0.5990142298666546,
          0.321602443123228,
          0.2514070039015273,
          0.05512696409475143,
          0.9329533737758836,
          0.35293503340984944,
          0.44837570669810856,
          0.9927971318867742
         ]
        },
        {
         "hovertext": "Cluster 3",
         "legendgroup": "90% band: Cluster 3",
         "line": {
          "color": "rgba(0.9921568627450981, 0.7529411764705882, 0.5254901960784314, 0.6)",
          "shape": "spline"
         },
         "mode": "lines",
         "name": "90% band: Cluster 3; 41 Solutions        ",
         "showlegend": true,
         "type": "scatter",
         "visible": true,
         "x": [
          0,
          0.14164224746811022,
          0.2805716391608708,
          0.3369857728059401,
          0.49829197767260625,
          0.6486267636953562,
          0.7987147182544719,
          0.8546449575619145,
          1
         ],
         "y": [
          0.1704122098361109,
          0.6036984258746804,
          0.1896971053498864,
          0.09503278916154562,
          0.021497029113569186,
          0.5223266401421958,
          0.29358250687765525,
          0.36804760571492806,
          0.0010081778207418903
         ]
        },
        {
         "fill": "tonexty",
         "fillcolor": "rgba(0.9921568627450981, 0.7529411764705882, 0.5254901960784314, 0.6)",
         "hovertext": "Cluster 3",
         "legendgroup": "90% band: Cluster 3",
         "line": {
          "color": "rgba(0.9921568627450981, 0.7529411764705882, 0.5254901960784314, 0.6)",
          "shape": "spline"
         },
         "mode": "lines",
         "name": "Cluster 3",
         "showlegend": false,
         "type": "scatter",
         "visible": true,
         "x": [
          0,
          0.14164224746811022,
          0.2805716391608708,
          0.3369857728059401,
          0.49829197767260625,
          0.6486267636953562,
          0.7987147182544719,
          0.8546449575619145,
          1
         ],
         "y": [
          0.20181080256262196,
          0.6306124402314367,
          0.35258995900593915,
          0.2842686867494076,
          0.11313702248858785,
          0.9057316561795931,
          0.3456163791694855,
          0.43542482420497663,
          0.9876778309696811
         ]
        },
        {
         "hovertext": "Cluster 4",
         "legendgroup": "90% band: Cluster 4",
         "line": {
          "color": "rgba(1.0, 1.0, 0.6, 0.6)",
          "shape": "spline"
         },
         "mode": "lines",
         "name": "90% band: Cluster 4; 40 Solutions        ",
         "showlegend": true,
         "type": "scatter",
         "visible": true,
         "x": [
          0,
          0.14164224746811022,
          0.2805716391608708,
          0.3369857728059401,
          0.49829197767260625,
          0.6486267636953562,
          0.7987147182544719,
          0.8546449575619145,
          1
         ],
         "y": [
          0.1781662346715685,
          0.6366412171502995,
          0.18203150681100141,
          0.09067438933090599,
          0.02424234276558786,
          0.5676656224672961,
          0.294118624081663,
          0.3699352394514401,
          0.001226615998490886
         ]
        },
        {
         "fill": "tonexty",
         "fillcolor": "rgba(1.0, 1.0, 0.6, 0.6)",
         "hovertext": "Cluster 4",
         "legendgroup": "90% band: Cluster 4",
         "line": {
          "color": "rgba(1.0, 1.0, 0.6, 0.6)",
          "shape": "spline"
         },
         "mode": "lines",
         "name": "Cluster 4",
         "showlegend": false,
         "type": "scatter",
         "visible": true,
         "x": [
          0,
          0.14164224746811022,
          0.2805716391608708,
          0.3369857728059401,
          0.49829197767260625,
          0.6486267636953562,
          0.7987147182544719,
          0.8546449575619145,
          1
         ],
         "y": [
          0.20182312490938603,
          0.6716465071424887,
          0.3551340550447483,
          0.28482511111825753,
          0.07390922897426845,
          0.8805755363617316,
          0.35237839334850113,
          0.4437890578480612,
          0.9784418055015726
         ]
        },
        {
         "hovertext": "Cluster 5",
         "legendgroup": "90% band: Cluster 5",
         "line": {
          "color": "rgba(0.2196078431372549, 0.4235294117647059, 0.6901960784313725, 0.6)",
          "shape": "spline"
         },
         "mode": "lines",
         "name": "90% band: Cluster 5; 40 Solutions        ",
         "showlegend": true,
         "type": "scatter",
         "visible": true,
         "x": [
          0,
          0.14164224746811022,
          0.2805716391608708,
          0.3369857728059401,
          0.49829197767260625,
          0.6486267636953562,
          0.7987147182544719,
          0.8546449575619145,
          1
         ],
         "y": [
          0.17816623435304507,
          0.6761841880963423,
          0.1550684391142273,
          0.07234631469672181,
          0.026848773671768182,
          0.5921459961099237,
          0.2947184088109867,
          0.3693117079537963,
          0.0016746953633397393
         ]
        },
        {
         "fill": "tonexty",
         "fillcolor": "rgba(0.2196078431372549, 0.4235294117647059, 0.6901960784313725, 0.6)",
         "hovertext": "Cluster 5",
         "legendgroup": "90% band: Cluster 5",
         "line": {
          "color": "rgba(0.2196078431372549, 0.4235294117647059, 0.6901960784313725, 0.6)",
          "shape": "spline"
         },
         "mode": "lines",
         "name": "Cluster 5",
         "showlegend": false,
         "type": "scatter",
         "visible": true,
         "x": [
          0,
          0.14164224746811022,
          0.2805716391608708,
          0.3369857728059401,
          0.49829197767260625,
          0.6486267636953562,
          0.7987147182544719,
          0.8546449575619145,
          1
         ],
         "y": [
          0.2018059846276521,
          0.7061774273559493,
          0.35618263207052103,
          0.2875606449448036,
          0.07030939304790537,
          0.9173044948335439,
          0.3460740292291388,
          0.4368870993389422,
          0.9909039991161567
         ]
        },
        {
         "hovertext": "Cluster 6",
         "legendgroup": "90% band: Cluster 6",
         "line": {
          "color": "rgba(0.9411764705882353, 0.00784313725490196, 0.4980392156862745, 0.6)",
          "shape": "spline"
         },
         "mode": "lines",
         "name": "90% band: Cluster 6; 41 Solutions        ",
         "showlegend": true,
         "type": "scatter",
         "visible": true,
         "x": [
          0,
          0.14164224746811022,
          0.2805716391608708,
          0.3369857728059401,
          0.49829197767260625,
          0.6486267636953562,
          0.7987147182544719,
          0.8546449575619145,
          1
         ],
         "y": [
          0.17816623502362053,
          0.7111113600575616,
          0.18672360384480077,
          0.10725080688708093,
          0.028196523514197453,
          0.6234549210329691,
          0.29575332346691063,
          0.3712556767602079,
          0.0014562561853667041
         ]
        },
        {
         "fill": "tonexty",
         "fillcolor": "rgba(0.9411764705882353, 0.00784313725490196, 0.4980392156862745, 0.6)",
         "hovertext": "Cluster 6",
         "legendgroup": "90% band: Cluster 6",
         "line": {
          "color": "rgba(0.9411764705882353, 0.00784313725490196, 0.4980392156862745, 0.6)",
          "shape": "spline"
         },
         "mode": "lines",
         "name": "Cluster 6",
         "showlegend": false,
         "type": "scatter",
         "visible": true,
         "x": [
          0,
          0.14164224746811022,
          0.2805716391608708,
          0.3369857728059401,
          0.49829197767260625,
          0.6486267636953562,
          0.7987147182544719,
          0.8546449575619145,
          1
         ],
         "y": [
          0.20180550199761196,
          0.7414517552507903,
          0.34426180268152023,
          0.26764391999231296,
          0.07627338079662843,
          0.9205294473864799,
          0.3509090908972819,
          0.4473790980156246,
          0.9919345804347369
         ]
        },
        {
         "hovertext": "Cluster 7",
         "legendgroup": "90% band: Cluster 7",
         "line": {
          "color": "rgba(0.7490196078431373, 0.3568627450980392, 0.09019607843137253, 0.6)",
          "shape": "spline"
         },
         "mode": "lines",
         "name": "90% band: Cluster 7; 40 Solutions        ",
         "showlegend": true,
         "type": "scatter",
         "visible": true,
         "x": [
          0,
          0.14164224746811022,
          0.2805716391608708,
          0.3369857728059401,
          0.49829197767260625,
          0.6486267636953562,
          0.7987147182544719,
          0.8546449575619145,
          1
         ],
         "y": [
          0.17816623358188308,
          0.7455625921600472,
          0.2009500534756365,
          0.1195132432858399,
          0.030415222190474375,
          0.6591073786995422,
          0.2964785332041218,
          0.3733083606681412,
          0.0014562561853667041
         ]
        },
        {
         "fill": "tonexty",
         "fillcolor": "rgba(0.7490196078431373, 0.3568627450980392, 0.09019607843137253, 0.6)",
         "hovertext": "Cluster 7",
         "legendgroup": "90% band: Cluster 7",
         "line": {
          "color": "rgba(0.7490196078431373, 0.3568627450980392, 0.09019607843137253, 0.6)",
          "shape": "spline"
         },
         "mode": "lines",
         "name": "Cluster 7",
         "showlegend": false,
         "type": "scatter",
         "visible": true,
         "x": [
          0,
          0.14164224746811022,
          0.2805716391608708,
          0.3369857728059401,
          0.49829197767260625,
          0.6486267636953562,
          0.7987147182544719,
          0.8546449575619145,
          1
         ],
         "y": [
          0.20180688839594757,
          0.7970190154090151,
          0.3587939050872711,
          0.2924802759810264,
          0.09010948273273607,
          0.9419362295536562,
          0.34998264801633144,
          0.4429710263422974,
          0.9922986446311123
         ]
        },
        {
         "hovertext": "Cluster 8",
         "legendgroup": "90% band: Cluster 8",
         "line": {
          "color": "rgba(0.4, 0.4, 0.4, 0.6)",
          "shape": "spline"
         },
         "mode": "lines",
         "name": "90% band: Cluster 8; 41 Solutions        ",
         "showlegend": true,
         "type": "scatter",
         "visible": true,
         "x": [
          0,
          0.14164224746811022,
          0.2805716391608708,
          0.3369857728059401,
          0.49829197767260625,
          0.6486267636953562,
          0.7987147182544719,
          0.8546449575619145,
          1
         ],
         "y": [
          0.17816623063314757,
          0.7995774661089834,
          0.1864916083510974,
          0.09491169142643396,
          0.03340766801353148,
          0.7031260635337808,
          0.2945659539175178,
          0.3682651424466646,
          0.001792315458947334
         ]
        },
        {
         "fill": "tonexty",
         "fillcolor": "rgba(0.4, 0.4, 0.4, 0.6)",
         "hovertext": "Cluster 8",
         "legendgroup": "90% band: Cluster 8",
         "line": {
          "color": "rgba(0.4, 0.4, 0.4, 0.6)",
          "shape": "spline"
         },
         "mode": "lines",
         "name": "Cluster 8",
         "showlegend": false,
         "type": "scatter",
         "visible": true,
         "x": [
          0,
          0.14164224746811022,
          0.2805716391608708,
          0.3369857728059401,
          0.49829197767260625,
          0.6486267636953562,
          0.7987147182544719,
          0.8546449575619145,
          1
         ],
         "y": [
          0.20180721676719718,
          0.8917064828284591,
          0.35566918987436485,
          0.2846289176345096,
          0.11638862593398354,
          0.9565856102664986,
          0.35419001367421715,
          0.4440275640477492,
          0.9920466005260052
         ]
        },
        {
         "line": {
          "color": "black"
         },
         "mode": "text",
         "showlegend": false,
         "text": [
          "2.7e5"
         ],
         "textposition": "bottom center",
         "type": "scatter",
         "x": [
          0
         ],
         "y": [
          0
         ]
        },
        {
         "line": {
          "color": "black"
         },
         "mode": "text",
         "showlegend": false,
         "text": [
          "5.7e5"
         ],
         "textposition": "top center",
         "type": "scatter",
         "x": [
          0
         ],
         "y": [
          1
         ]
        },
        {
         "line": {
          "color": "black"
         },
         "mode": "markers+lines+text",
         "showlegend": false,
         "text": [
          "",
          "3.3",
          "3.9",
          "4.5",
          "5.1",
          ""
         ],
         "textposition": "middle left",
         "type": "scatter",
         "x": [
          0,
          0,
          0,
          0,
          0,
          0
         ],
         "y": [
          0,
          0.2,
          0.4,
          0.6000000000000001,
          0.8,
          1
         ]
        },
        {
         "mode": "text",
         "showlegend": false,
         "text": "Ppeak",
         "textfont": {
          "size": 20
         },
         "type": "scatter",
         "x": [
          0
         ],
         "y": [
          1.1
         ]
        },
        {
         "line": {
          "color": "black"
         },
         "mode": "text",
         "showlegend": false,
         "text": [
          "0.0e3"
         ],
         "textposition": "bottom center",
         "type": "scatter",
         "x": [
          0.14164224746811022
         ],
         "y": [
          0
         ]
        },
        {
         "line": {
          "color": "black"
         },
         "mode": "text",
         "showlegend": false,
         "text": [
          "9.1e3"
         ],
         "textposition": "top center",
         "type": "scatter",
         "x": [
          0.14164224746811022
         ],
         "y": [
          1
         ]
        },
        {
         "line": {
          "color": "black"
         },
         "mode": "markers+lines+text",
         "showlegend": false,
         "text": [
          "",
          "1.8",
          "3.6",
          "5.5",
          "7.3",
          ""
         ],
         "textposition": "middle left",
         "type": "scatter",
         "x": [
          0.14164224746811022,
          0.14164224746811022,
          0.14164224746811022,
          0.14164224746811022,
          0.14164224746811022,
          0.14164224746811022
         ],
         "y": [
          0,
          0.2,
          0.4,
          0.6000000000000001,
          0.8,
          1
         ]
        },
        {
         "mode": "text",
         "showlegend": false,
         "text": "pRes",
         "textfont": {
          "size": 20
         },
         "type": "scatter",
         "x": [
          0.14164224746811022
         ],
         "y": [
          1.1
         ]
        },
        {
         "line": {
          "color": "black"
         },
         "mode": "text",
         "showlegend": false,
         "text": [
          "0.0e5"
         ],
         "textposition": "bottom center",
         "type": "scatter",
         "x": [
          0.2805716391608708
         ],
         "y": [
          0
         ]
        },
        {
         "line": {
          "color": "black"
         },
         "mode": "text",
         "showlegend": false,
         "text": [
          "3.1e5"
         ],
         "textposition": "top center",
         "type": "scatter",
         "x": [
          0.2805716391608708
         ],
         "y": [
          1
         ]
        },
        {
         "line": {
          "color": "black"
         },
         "mode": "markers+lines+text",
         "showlegend": false,
         "text": [
          "",
          "0.6",
          "1.2",
          "1.9",
          "2.5",
          ""
         ],
         "textposition": "middle left",
         "type": "scatter",
         "x": [
          0.2805716391608708,
          0.2805716391608708,
          0.2805716391608708,
          0.2805716391608708,
          0.2805716391608708,
          0.2805716391608708
         ],
         "y": [
          0,
          0.2,
          0.4,
          0.6000000000000001,
          0.8,
          1
         ]
        },
        {
         "mode": "text",
         "showlegend": false,
         "text": "mPpeak",
         "textfont": {
          "size": 20
         },
         "type": "scatter",
         "x": [
          0.2805716391608708
         ],
         "y": [
          1.1
         ]
        },
        {
         "line": {
          "color": "black"
         },
         "mode": "text",
         "showlegend": false,
         "text": [
          "-0.0e4"
         ],
         "textposition": "bottom center",
         "type": "scatter",
         "x": [
          0.3369857728059401
         ],
         "y": [
          0
         ]
        },
        {
         "line": {
          "color": "black"
         },
         "mode": "text",
         "showlegend": false,
         "text": [
          "7.6e4"
         ],
         "textposition": "top center",
         "type": "scatter",
         "x": [
          0.3369857728059401
         ],
         "y": [
          1
         ]
        },
        {
         "line": {
          "color": "black"
         },
         "mode": "markers+lines+text",
         "showlegend": false,
         "text": [
          "",
          "1.5",
          "3.0",
          "4.6",
          "6.1",
          ""
         ],
         "textposition": "middle left",
         "type": "scatter",
         "x": [
          0.3369857728059401,
          0.3369857728059401,
          0.3369857728059401,
          0.3369857728059401,
          0.3369857728059401,
          0.3369857728059401
         ],
         "y": [
          0,
          0.2,
          0.4,
          0.6000000000000001,
          0.8,
          1
         ]
        },
        {
         "mode": "text",
         "showlegend": false,
         "text": "bGrid",
         "textfont": {
          "size": 20
         },
         "type": "scatter",
         "x": [
          0.3369857728059401
         ],
         "y": [
          1.1
         ]
        },
        {
         "line": {
          "color": "black"
         },
         "mode": "text",
         "showlegend": false,
         "text": [
          "0.0e4"
         ],
         "textposition": "bottom center",
         "type": "scatter",
         "x": [
          0.49829197767260625
         ],
         "y": [
          0
         ]
        },
        {
         "line": {
          "color": "black"
         },
         "mode": "text",
         "showlegend": false,
         "text": [
          "16.8e4"
         ],
         "textposition": "top center",
         "type": "scatter",
         "x": [
          0.49829197767260625
         ],
         "y": [
          1
         ]
        },
        {
         "line": {
          "color": "black"
         },
         "mode": "markers+lines+text",
         "showlegend": false,
         "text": [
          "",
          "3.4",
          "6.7",
          "10.1",
          "13.5",
          ""
         ],
         "textposition": "middle left",
         "type": "scatter",
         "x": [
          0.49829197767260625,
          0.49829197767260625,
          0.49829197767260625,
          0.49829197767260625,
          0.49829197767260625,
          0.49829197767260625
         ],
         "y": [
          0,
          0.2,
          0.4,
          0.6000000000000001,
          0.8,
          1
         ]
        },
        {
         "mode": "text",
         "showlegend": false,
         "text": "bDis",
         "textfont": {
          "size": 20
         },
         "type": "scatter",
         "x": [
          0.49829197767260625
         ],
         "y": [
          1.1
         ]
        },
        {
         "line": {
          "color": "black"
         },
         "mode": "text",
         "showlegend": false,
         "text": [
          "0.0"
         ],
         "textposition": "bottom center",
         "type": "scatter",
         "x": [
          0.6486267636953562
         ],
         "y": [
          0
         ]
        },
        {
         "line": {
          "color": "black"
         },
         "mode": "text",
         "showlegend": false,
         "text": [
          "1.0"
         ],
         "textposition": "top center",
         "type": "scatter",
         "x": [
          0.6486267636953562
         ],
         "y": [
          1
         ]
        },
        {
         "line": {
          "color": "black"
         },
         "mode": "markers+lines+text",
         "showlegend": false,
         "text": [
          "",
          "0.2",
          "0.4",
          "0.6",
          "0.8",
          ""
         ],
         "textposition": "middle left",
         "type": "scatter",
         "x": [
          0.6486267636953562,
          0.6486267636953562,
          0.6486267636953562,
          0.6486267636953562,
          0.6486267636953562,
          0.6486267636953562
         ],
         "y": [
          0,
          0.2,
          0.4,
          0.6000000000000001,
          0.8,
          1
         ]
        },
        {
         "mode": "text",
         "showlegend": false,
         "text": "bSOC",
         "textfont": {
          "size": 20
         },
         "type": "scatter",
         "x": [
          0.6486267636953562
         ],
         "y": [
          1.1
         ]
        },
        {
         "line": {
          "color": "black"
         },
         "mode": "text",
         "showlegend": false,
         "text": [
          "2.1e3"
         ],
         "textposition": "bottom center",
         "type": "scatter",
         "x": [
          0.7987147182544719
         ],
         "y": [
          0
         ]
        },
        {
         "line": {
          "color": "black"
         },
         "mode": "text",
         "showlegend": false,
         "text": [
          "2.2e3"
         ],
         "textposition": "top center",
         "type": "scatter",
         "x": [
          0.7987147182544719
         ],
         "y": [
          1
         ]
        },
        {
         "line": {
          "color": "black"
         },
         "mode": "markers+lines+text",
         "showlegend": false,
         "text": [
          "",
          "2.1",
          "2.1",
          "2.2",
          "2.2",
          ""
         ],
         "textposition": "middle left",
         "type": "scatter",
         "x": [
          0.7987147182544719,
          0.7987147182544719,
          0.7987147182544719,
          0.7987147182544719,
          0.7987147182544719,
          0.7987147182544719
         ],
         "y": [
          0,
          0.2,
          0.4,
          0.6000000000000001,
          0.8,
          1
         ]
        },
        {
         "mode": "text",
         "showlegend": false,
         "text": "CO2",
         "textfont": {
          "size": 20
         },
         "type": "scatter",
         "x": [
          0.7987147182544719
         ],
         "y": [
          1.1
         ]
        },
        {
         "line": {
          "color": "black"
         },
         "mode": "text",
         "showlegend": false,
         "text": [
          "3.2e5"
         ],
         "textposition": "bottom center",
         "type": "scatter",
         "x": [
          0.8546449575619145
         ],
         "y": [
          0
         ]
        },
        {
         "line": {
          "color": "black"
         },
         "mode": "text",
         "showlegend": false,
         "text": [
          "3.4e5"
         ],
         "textposition": "top center",
         "type": "scatter",
         "x": [
          0.8546449575619145
         ],
         "y": [
          1
         ]
        },
        {
         "line": {
          "color": "black"
         },
         "mode": "markers+lines+text",
         "showlegend": false,
         "text": [
          "",
          "3.2",
          "3.3",
          "3.3",
          "3.4",
          ""
         ],
         "textposition": "middle left",
         "type": "scatter",
         "x": [
          0.8546449575619145,
          0.8546449575619145,
          0.8546449575619145,
          0.8546449575619145,
          0.8546449575619145,
          0.8546449575619145
         ],
         "y": [
          0,
          0.2,
          0.4,
          0.6000000000000001,
          0.8,
          1
         ]
        },
        {
         "mode": "text",
         "showlegend": false,
         "text": "Costs",
         "textfont": {
          "size": 20
         },
         "type": "scatter",
         "x": [
          0.8546449575619145
         ],
         "y": [
          1.1
         ]
        },
        {
         "line": {
          "color": "black"
         },
         "mode": "text",
         "showlegend": false,
         "text": [
          "0.0"
         ],
         "textposition": "bottom center",
         "type": "scatter",
         "x": [
          1
         ],
         "y": [
          0
         ]
        },
        {
         "line": {
          "color": "black"
         },
         "mode": "text",
         "showlegend": false,
         "text": [
          "1.0"
         ],
         "textposition": "top center",
         "type": "scatter",
         "x": [
          1
         ],
         "y": [
          1
         ]
        },
        {
         "line": {
          "color": "black"
         },
         "mode": "markers+lines+text",
         "showlegend": false,
         "text": [
          "",
          "0.2",
          "0.4",
          "0.6",
          "0.8",
          ""
         ],
         "textposition": "middle left",
         "type": "scatter",
         "x": [
          1,
          1,
          1,
          1,
          1,
          1
         ],
         "y": [
          0,
          0.2,
          0.4,
          0.6000000000000001,
          0.8,
          1
         ]
        },
        {
         "mode": "text",
         "showlegend": false,
         "text": "bSOC% Time",
         "textfont": {
          "size": 20
         },
         "type": "scatter",
         "x": [
          1
         ],
         "y": [
          1.1
         ]
        }
       ],
       "layout": {
        "font": {
         "size": 18
        },
        "height": 700,
        "legend": {
         "font": {
          "size": 24
         },
         "orientation": "h",
         "yanchor": "top"
        },
        "plot_bgcolor": "rgba(0,0,0,0)",
        "template": {
         "data": {
          "bar": [
           {
            "error_x": {
             "color": "#2a3f5f"
            },
            "error_y": {
             "color": "#2a3f5f"
            },
            "marker": {
             "line": {
              "color": "#E5ECF6",
              "width": 0.5
             },
             "pattern": {
              "fillmode": "overlay",
              "size": 10,
              "solidity": 0.2
             }
            },
            "type": "bar"
           }
          ],
          "barpolar": [
           {
            "marker": {
             "line": {
              "color": "#E5ECF6",
              "width": 0.5
             },
             "pattern": {
              "fillmode": "overlay",
              "size": 10,
              "solidity": 0.2
             }
            },
            "type": "barpolar"
           }
          ],
          "carpet": [
           {
            "aaxis": {
             "endlinecolor": "#2a3f5f",
             "gridcolor": "white",
             "linecolor": "white",
             "minorgridcolor": "white",
             "startlinecolor": "#2a3f5f"
            },
            "baxis": {
             "endlinecolor": "#2a3f5f",
             "gridcolor": "white",
             "linecolor": "white",
             "minorgridcolor": "white",
             "startlinecolor": "#2a3f5f"
            },
            "type": "carpet"
           }
          ],
          "choropleth": [
           {
            "colorbar": {
             "outlinewidth": 0,
             "ticks": ""
            },
            "type": "choropleth"
           }
          ],
          "contour": [
           {
            "colorbar": {
             "outlinewidth": 0,
             "ticks": ""
            },
            "colorscale": [
             [
              0,
              "#0d0887"
             ],
             [
              0.1111111111111111,
              "#46039f"
             ],
             [
              0.2222222222222222,
              "#7201a8"
             ],
             [
              0.3333333333333333,
              "#9c179e"
             ],
             [
              0.4444444444444444,
              "#bd3786"
             ],
             [
              0.5555555555555556,
              "#d8576b"
             ],
             [
              0.6666666666666666,
              "#ed7953"
             ],
             [
              0.7777777777777778,
              "#fb9f3a"
             ],
             [
              0.8888888888888888,
              "#fdca26"
             ],
             [
              1,
              "#f0f921"
             ]
            ],
            "type": "contour"
           }
          ],
          "contourcarpet": [
           {
            "colorbar": {
             "outlinewidth": 0,
             "ticks": ""
            },
            "type": "contourcarpet"
           }
          ],
          "heatmap": [
           {
            "colorbar": {
             "outlinewidth": 0,
             "ticks": ""
            },
            "colorscale": [
             [
              0,
              "#0d0887"
             ],
             [
              0.1111111111111111,
              "#46039f"
             ],
             [
              0.2222222222222222,
              "#7201a8"
             ],
             [
              0.3333333333333333,
              "#9c179e"
             ],
             [
              0.4444444444444444,
              "#bd3786"
             ],
             [
              0.5555555555555556,
              "#d8576b"
             ],
             [
              0.6666666666666666,
              "#ed7953"
             ],
             [
              0.7777777777777778,
              "#fb9f3a"
             ],
             [
              0.8888888888888888,
              "#fdca26"
             ],
             [
              1,
              "#f0f921"
             ]
            ],
            "type": "heatmap"
           }
          ],
          "heatmapgl": [
           {
            "colorbar": {
             "outlinewidth": 0,
             "ticks": ""
            },
            "colorscale": [
             [
              0,
              "#0d0887"
             ],
             [
              0.1111111111111111,
              "#46039f"
             ],
             [
              0.2222222222222222,
              "#7201a8"
             ],
             [
              0.3333333333333333,
              "#9c179e"
             ],
             [
              0.4444444444444444,
              "#bd3786"
             ],
             [
              0.5555555555555556,
              "#d8576b"
             ],
             [
              0.6666666666666666,
              "#ed7953"
             ],
             [
              0.7777777777777778,
              "#fb9f3a"
             ],
             [
              0.8888888888888888,
              "#fdca26"
             ],
             [
              1,
              "#f0f921"
             ]
            ],
            "type": "heatmapgl"
           }
          ],
          "histogram": [
           {
            "marker": {
             "pattern": {
              "fillmode": "overlay",
              "size": 10,
              "solidity": 0.2
             }
            },
            "type": "histogram"
           }
          ],
          "histogram2d": [
           {
            "colorbar": {
             "outlinewidth": 0,
             "ticks": ""
            },
            "colorscale": [
             [
              0,
              "#0d0887"
             ],
             [
              0.1111111111111111,
              "#46039f"
             ],
             [
              0.2222222222222222,
              "#7201a8"
             ],
             [
              0.3333333333333333,
              "#9c179e"
             ],
             [
              0.4444444444444444,
              "#bd3786"
             ],
             [
              0.5555555555555556,
              "#d8576b"
             ],
             [
              0.6666666666666666,
              "#ed7953"
             ],
             [
              0.7777777777777778,
              "#fb9f3a"
             ],
             [
              0.8888888888888888,
              "#fdca26"
             ],
             [
              1,
              "#f0f921"
             ]
            ],
            "type": "histogram2d"
           }
          ],
          "histogram2dcontour": [
           {
            "colorbar": {
             "outlinewidth": 0,
             "ticks": ""
            },
            "colorscale": [
             [
              0,
              "#0d0887"
             ],
             [
              0.1111111111111111,
              "#46039f"
             ],
             [
              0.2222222222222222,
              "#7201a8"
             ],
             [
              0.3333333333333333,
              "#9c179e"
             ],
             [
              0.4444444444444444,
              "#bd3786"
             ],
             [
              0.5555555555555556,
              "#d8576b"
             ],
             [
              0.6666666666666666,
              "#ed7953"
             ],
             [
              0.7777777777777778,
              "#fb9f3a"
             ],
             [
              0.8888888888888888,
              "#fdca26"
             ],
             [
              1,
              "#f0f921"
             ]
            ],
            "type": "histogram2dcontour"
           }
          ],
          "mesh3d": [
           {
            "colorbar": {
             "outlinewidth": 0,
             "ticks": ""
            },
            "type": "mesh3d"
           }
          ],
          "parcoords": [
           {
            "line": {
             "colorbar": {
              "outlinewidth": 0,
              "ticks": ""
             }
            },
            "type": "parcoords"
           }
          ],
          "pie": [
           {
            "automargin": true,
            "type": "pie"
           }
          ],
          "scatter": [
           {
            "fillpattern": {
             "fillmode": "overlay",
             "size": 10,
             "solidity": 0.2
            },
            "type": "scatter"
           }
          ],
          "scatter3d": [
           {
            "line": {
             "colorbar": {
              "outlinewidth": 0,
              "ticks": ""
             }
            },
            "marker": {
             "colorbar": {
              "outlinewidth": 0,
              "ticks": ""
             }
            },
            "type": "scatter3d"
           }
          ],
          "scattercarpet": [
           {
            "marker": {
             "colorbar": {
              "outlinewidth": 0,
              "ticks": ""
             }
            },
            "type": "scattercarpet"
           }
          ],
          "scattergeo": [
           {
            "marker": {
             "colorbar": {
              "outlinewidth": 0,
              "ticks": ""
             }
            },
            "type": "scattergeo"
           }
          ],
          "scattergl": [
           {
            "marker": {
             "colorbar": {
              "outlinewidth": 0,
              "ticks": ""
             }
            },
            "type": "scattergl"
           }
          ],
          "scattermapbox": [
           {
            "marker": {
             "colorbar": {
              "outlinewidth": 0,
              "ticks": ""
             }
            },
            "type": "scattermapbox"
           }
          ],
          "scatterpolar": [
           {
            "marker": {
             "colorbar": {
              "outlinewidth": 0,
              "ticks": ""
             }
            },
            "type": "scatterpolar"
           }
          ],
          "scatterpolargl": [
           {
            "marker": {
             "colorbar": {
              "outlinewidth": 0,
              "ticks": ""
             }
            },
            "type": "scatterpolargl"
           }
          ],
          "scatterternary": [
           {
            "marker": {
             "colorbar": {
              "outlinewidth": 0,
              "ticks": ""
             }
            },
            "type": "scatterternary"
           }
          ],
          "surface": [
           {
            "colorbar": {
             "outlinewidth": 0,
             "ticks": ""
            },
            "colorscale": [
             [
              0,
              "#0d0887"
             ],
             [
              0.1111111111111111,
              "#46039f"
             ],
             [
              0.2222222222222222,
              "#7201a8"
             ],
             [
              0.3333333333333333,
              "#9c179e"
             ],
             [
              0.4444444444444444,
              "#bd3786"
             ],
             [
              0.5555555555555556,
              "#d8576b"
             ],
             [
              0.6666666666666666,
              "#ed7953"
             ],
             [
              0.7777777777777778,
              "#fb9f3a"
             ],
             [
              0.8888888888888888,
              "#fdca26"
             ],
             [
              1,
              "#f0f921"
             ]
            ],
            "type": "surface"
           }
          ],
          "table": [
           {
            "cells": {
             "fill": {
              "color": "#EBF0F8"
             },
             "line": {
              "color": "white"
             }
            },
            "header": {
             "fill": {
              "color": "#C8D4E3"
             },
             "line": {
              "color": "white"
             }
            },
            "type": "table"
           }
          ]
         },
         "layout": {
          "annotationdefaults": {
           "arrowcolor": "#2a3f5f",
           "arrowhead": 0,
           "arrowwidth": 1
          },
          "autotypenumbers": "strict",
          "coloraxis": {
           "colorbar": {
            "outlinewidth": 0,
            "ticks": ""
           }
          },
          "colorscale": {
           "diverging": [
            [
             0,
             "#8e0152"
            ],
            [
             0.1,
             "#c51b7d"
            ],
            [
             0.2,
             "#de77ae"
            ],
            [
             0.3,
             "#f1b6da"
            ],
            [
             0.4,
             "#fde0ef"
            ],
            [
             0.5,
             "#f7f7f7"
            ],
            [
             0.6,
             "#e6f5d0"
            ],
            [
             0.7,
             "#b8e186"
            ],
            [
             0.8,
             "#7fbc41"
            ],
            [
             0.9,
             "#4d9221"
            ],
            [
             1,
             "#276419"
            ]
           ],
           "sequential": [
            [
             0,
             "#0d0887"
            ],
            [
             0.1111111111111111,
             "#46039f"
            ],
            [
             0.2222222222222222,
             "#7201a8"
            ],
            [
             0.3333333333333333,
             "#9c179e"
            ],
            [
             0.4444444444444444,
             "#bd3786"
            ],
            [
             0.5555555555555556,
             "#d8576b"
            ],
            [
             0.6666666666666666,
             "#ed7953"
            ],
            [
             0.7777777777777778,
             "#fb9f3a"
            ],
            [
             0.8888888888888888,
             "#fdca26"
            ],
            [
             1,
             "#f0f921"
            ]
           ],
           "sequentialminus": [
            [
             0,
             "#0d0887"
            ],
            [
             0.1111111111111111,
             "#46039f"
            ],
            [
             0.2222222222222222,
             "#7201a8"
            ],
            [
             0.3333333333333333,
             "#9c179e"
            ],
            [
             0.4444444444444444,
             "#bd3786"
            ],
            [
             0.5555555555555556,
             "#d8576b"
            ],
            [
             0.6666666666666666,
             "#ed7953"
            ],
            [
             0.7777777777777778,
             "#fb9f3a"
            ],
            [
             0.8888888888888888,
             "#fdca26"
            ],
            [
             1,
             "#f0f921"
            ]
           ]
          },
          "colorway": [
           "#636efa",
           "#EF553B",
           "#00cc96",
           "#ab63fa",
           "#FFA15A",
           "#19d3f3",
           "#FF6692",
           "#B6E880",
           "#FF97FF",
           "#FECB52"
          ],
          "font": {
           "color": "#2a3f5f"
          },
          "geo": {
           "bgcolor": "white",
           "lakecolor": "white",
           "landcolor": "#E5ECF6",
           "showlakes": true,
           "showland": true,
           "subunitcolor": "white"
          },
          "hoverlabel": {
           "align": "left"
          },
          "hovermode": "closest",
          "mapbox": {
           "style": "light"
          },
          "paper_bgcolor": "white",
          "plot_bgcolor": "#E5ECF6",
          "polar": {
           "angularaxis": {
            "gridcolor": "white",
            "linecolor": "white",
            "ticks": ""
           },
           "bgcolor": "#E5ECF6",
           "radialaxis": {
            "gridcolor": "white",
            "linecolor": "white",
            "ticks": ""
           }
          },
          "scene": {
           "xaxis": {
            "backgroundcolor": "#E5ECF6",
            "gridcolor": "white",
            "gridwidth": 2,
            "linecolor": "white",
            "showbackground": true,
            "ticks": "",
            "zerolinecolor": "white"
           },
           "yaxis": {
            "backgroundcolor": "#E5ECF6",
            "gridcolor": "white",
            "gridwidth": 2,
            "linecolor": "white",
            "showbackground": true,
            "ticks": "",
            "zerolinecolor": "white"
           },
           "zaxis": {
            "backgroundcolor": "#E5ECF6",
            "gridcolor": "white",
            "gridwidth": 2,
            "linecolor": "white",
            "showbackground": true,
            "ticks": "",
            "zerolinecolor": "white"
           }
          },
          "shapedefaults": {
           "line": {
            "color": "#2a3f5f"
           }
          },
          "ternary": {
           "aaxis": {
            "gridcolor": "white",
            "linecolor": "white",
            "ticks": ""
           },
           "baxis": {
            "gridcolor": "white",
            "linecolor": "white",
            "ticks": ""
           },
           "bgcolor": "#E5ECF6",
           "caxis": {
            "gridcolor": "white",
            "linecolor": "white",
            "ticks": ""
           }
          },
          "title": {
           "x": 0.05
          },
          "xaxis": {
           "automargin": true,
           "gridcolor": "white",
           "linecolor": "white",
           "ticks": "",
           "title": {
            "standoff": 15
           },
           "zerolinecolor": "white",
           "zerolinewidth": 2
          },
          "yaxis": {
           "automargin": true,
           "gridcolor": "white",
           "linecolor": "white",
           "ticks": "",
           "title": {
            "standoff": 15
           },
           "zerolinecolor": "white",
           "zerolinewidth": 2
          }
         }
        },
        "width": 1500,
        "xaxis": {
         "showgrid": false,
         "showticklabels": false,
         "zeroline": false
        },
        "yaxis": {
         "showgrid": false,
         "showticklabels": false,
         "zeroline": false
        }
       }
      }
     },
     "metadata": {},
     "output_type": "display_data"
    }
   ],
   "source": [
    "# Choose Band 8, group by \"pRes\"\n",
    "\n",
    "band = 8\n",
    "\n",
    "data_copy = data_copy.copy()\n",
    "data_copy = data_copy[data_copy[\"cluster\"]== band]\n",
    "\n",
    "\n",
    "# Cluster into 8 groups\n",
    "obj_to_cluster = \"pRes\"\n",
    "n_clusters = 8\n",
    "\n",
    "data_copy[\"cluster\"] = 1\n",
    "for i in range(1, n_clusters):\n",
    "    data_copy.loc[data_copy[obj_to_cluster] > data_copy[obj_to_cluster].quantile(i / n_clusters), \"cluster\"] = i+1\n",
    "\n",
    "ordered_data, axis_dist, axis_signs = calculate_axes_positions(\n",
    "        data_copy[objs],\n",
    "        obj_order,\n",
    "        corr,\n",
    "        dist_parameter=0.521,\n",
    "        distance_formula=1,\n",
    "    )\n",
    "\n",
    "#scales = pd.DataFrame([ordered_data.min(axis=0), ordered_data.max(axis=0)], index=[\"min\", \"max\"])\n",
    "\n",
    "fig = SCORE_bands(\n",
    "    ordered_data,\n",
    "    color_groups=data_copy[\"cluster\"].tolist(),\n",
    "    bands=True,\n",
    "    quantile=0.05,\n",
    "    axis_positions=axis_dist,\n",
    "    solutions=False,\n",
    "    scales=scales[ordered_data.columns],\n",
    ")\n",
    "\n",
    "fig.update_layout(\n",
    "    width=1500,\n",
    "    height=700,\n",
    ")\n"
   ]
  },
  {
   "cell_type": "code",
   "execution_count": 8,
   "id": "58ff8352",
   "metadata": {},
   "outputs": [
    {
     "data": {
      "application/vnd.plotly.v1+json": {
       "config": {
        "plotlyServerURL": "https://plot.ly"
       },
       "data": [
        {
         "hovertext": "Cluster 1",
         "legendgroup": "90% band: Cluster 1",
         "line": {
          "color": "rgba(0.4980392156862745, 0.788235294117647, 0.4980392156862745, 0.6)",
          "shape": "spline"
         },
         "mode": "lines",
         "name": "90% band: Cluster 1; 42 Solutions        ",
         "showlegend": true,
         "type": "scatter",
         "visible": true,
         "x": [
          0,
          0.14164224746811022,
          0.2805716391608708,
          0.3369857728059401,
          0.49829197767260625,
          0.6486267636953562,
          0.7987147182544719,
          0.8546449575619145,
          1
         ],
         "y": [
          0.20180528709205134,
          0.5513465401193008,
          0.1750896614356851,
          0.08376279617375237,
          0.020035009187352674,
          0.5025506007045374,
          0.2991505180756511,
          0.3786987318038004,
          0.0010081778207418903
         ]
        },
        {
         "fill": "tonexty",
         "fillcolor": "rgba(0.4980392156862745, 0.788235294117647, 0.4980392156862745, 0.6)",
         "hovertext": "Cluster 1",
         "legendgroup": "90% band: Cluster 1",
         "line": {
          "color": "rgba(0.4980392156862745, 0.788235294117647, 0.4980392156862745, 0.6)",
          "shape": "spline"
         },
         "mode": "lines",
         "name": "Cluster 1",
         "showlegend": false,
         "type": "scatter",
         "visible": true,
         "x": [
          0,
          0.14164224746811022,
          0.2805716391608708,
          0.3369857728059401,
          0.49829197767260625,
          0.6486267636953562,
          0.7987147182544719,
          0.8546449575619145,
          1
         ],
         "y": [
          0.20180529276125328,
          0.6460428139664399,
          0.32659830133403006,
          0.24314187023951356,
          0.030724238756097363,
          0.6906871442672005,
          0.3528525287724924,
          0.44778600786487793,
          0.0013442370943225201
         ]
        },
        {
         "hovertext": "Cluster 2",
         "legendgroup": "90% band: Cluster 2",
         "line": {
          "color": "rgba(0.7450980392156863, 0.6823529411764706, 0.8313725490196079, 0.6)",
          "shape": "spline"
         },
         "mode": "lines",
         "name": "90% band: Cluster 2; 48 Solutions        ",
         "showlegend": true,
         "type": "scatter",
         "visible": true,
         "x": [
          0,
          0.14164224746811022,
          0.2805716391608708,
          0.3369857728059401,
          0.49829197767260625,
          0.6486267636953562,
          0.7987147182544719,
          0.8546449575619145,
          1
         ],
         "y": [
          0.20180528738788991,
          0.5937124576420301,
          0.1756453412216575,
          0.09627909423894791,
          0.02070422241243959,
          0.5083068749659229,
          0.30714874045847396,
          0.39297588852926046,
          0.0014562561853667041
         ]
        },
        {
         "fill": "tonexty",
         "fillcolor": "rgba(0.7450980392156863, 0.6823529411764706, 0.8313725490196079, 0.6)",
         "hovertext": "Cluster 2",
         "legendgroup": "90% band: Cluster 2",
         "line": {
          "color": "rgba(0.7450980392156863, 0.6823529411764706, 0.8313725490196079, 0.6)",
          "shape": "spline"
         },
         "mode": "lines",
         "name": "Cluster 2",
         "showlegend": false,
         "type": "scatter",
         "visible": true,
         "x": [
          0,
          0.14164224746811022,
          0.2805716391608708,
          0.3369857728059401,
          0.49829197767260625,
          0.6486267636953562,
          0.7987147182544719,
          0.8546449575619145,
          1
         ],
         "y": [
          0.2018052982096803,
          0.7821031698078302,
          0.3551590935302678,
          0.23816453218715322,
          0.033335263401068134,
          0.7003374194656364,
          0.35060141701104414,
          0.45069844641287443,
          0.0016802963679031504
         ]
        },
        {
         "hovertext": "Cluster 3",
         "legendgroup": "90% band: Cluster 3",
         "line": {
          "color": "rgba(0.9921568627450981, 0.7529411764705882, 0.5254901960784314, 0.6)",
          "shape": "spline"
         },
         "mode": "lines",
         "name": "90% band: Cluster 3; 35 Solutions        ",
         "showlegend": true,
         "type": "scatter",
         "visible": true,
         "x": [
          0,
          0.14164224746811022,
          0.2805716391608708,
          0.3369857728059401,
          0.49829197767260625,
          0.6486267636953562,
          0.7987147182544719,
          0.8546449575619145,
          1
         ],
         "y": [
          0.1943578217644692,
          0.5680742870122032,
          0.19043976805467147,
          0.12502817375252345,
          0.022244910495131963,
          0.5513904716269348,
          0.29310720949863217,
          0.3686798778932843,
          0.001792315458947334
         ]
        },
        {
         "fill": "tonexty",
         "fillcolor": "rgba(0.9921568627450981, 0.7529411764705882, 0.5254901960784314, 0.6)",
         "hovertext": "Cluster 3",
         "legendgroup": "90% band: Cluster 3",
         "line": {
          "color": "rgba(0.9921568627450981, 0.7529411764705882, 0.5254901960784314, 0.6)",
          "shape": "spline"
         },
         "mode": "lines",
         "name": "Cluster 3",
         "showlegend": false,
         "type": "scatter",
         "visible": true,
         "x": [
          0,
          0.14164224746811022,
          0.2805716391608708,
          0.3369857728059401,
          0.49829197767260625,
          0.6486267636953562,
          0.7987147182544719,
          0.8546449575619145,
          1
         ],
         "y": [
          0.2018053219815861,
          0.8010386343026618,
          0.33821693426801963,
          0.26649598352886006,
          0.03896088788646438,
          0.705326957931586,
          0.35143087753500823,
          0.44449044321225745,
          0.0021283747325279642
         ]
        },
        {
         "hovertext": "Cluster 4",
         "legendgroup": "90% band: Cluster 4",
         "line": {
          "color": "rgba(1.0, 1.0, 0.6, 0.6)",
          "shape": "spline"
         },
         "mode": "lines",
         "name": "90% band: Cluster 4; 37 Solutions        ",
         "showlegend": true,
         "type": "scatter",
         "visible": true,
         "x": [
          0,
          0.14164224746811022,
          0.2805716391608708,
          0.3369857728059401,
          0.49829197767260625,
          0.6486267636953562,
          0.7987147182544719,
          0.8546449575619145,
          1
         ],
         "y": [
          0.18179717000161877,
          0.5639882833384917,
          0.16447907944886636,
          0.07969658284774478,
          0.020226886206104914,
          0.5183073026756845,
          0.2994449025064235,
          0.37534148778987003,
          0.0022403948237961872
         ]
        },
        {
         "fill": "tonexty",
         "fillcolor": "rgba(1.0, 1.0, 0.6, 0.6)",
         "hovertext": "Cluster 4",
         "legendgroup": "90% band: Cluster 4",
         "line": {
          "color": "rgba(1.0, 1.0, 0.6, 0.6)",
          "shape": "spline"
         },
         "mode": "lines",
         "name": "Cluster 4",
         "showlegend": false,
         "type": "scatter",
         "visible": true,
         "x": [
          0,
          0.14164224746811022,
          0.2805716391608708,
          0.3369857728059401,
          0.49829197767260625,
          0.6486267636953562,
          0.7987147182544719,
          0.8546449575619145,
          1
         ],
         "y": [
          0.20180554967553876,
          0.7826409246866007,
          0.33434984690400443,
          0.22717683529862884,
          0.04954742649122032,
          0.700230755982327,
          0.3433375257206835,
          0.4364890079493253,
          0.003808670100207075
         ]
        },
        {
         "hovertext": "Cluster 5",
         "legendgroup": "90% band: Cluster 5",
         "line": {
          "color": "rgba(0.2196078431372549, 0.4235294117647059, 0.6901960784313725, 0.6)",
          "shape": "spline"
         },
         "mode": "lines",
         "name": "90% band: Cluster 5; 40 Solutions        ",
         "showlegend": true,
         "type": "scatter",
         "visible": true,
         "x": [
          0,
          0.14164224746811022,
          0.2805716391608708,
          0.3369857728059401,
          0.49829197767260625,
          0.6486267636953562,
          0.7987147182544719,
          0.8546449575619145,
          1
         ],
         "y": [
          0.17002451422633505,
          0.5691102532309283,
          0.1607426265699071,
          0.0857585528759681,
          0.022372697112308805,
          0.5271409134186366,
          0.29416404532015905,
          0.36995100505675066,
          0.003920690191475298
         ]
        },
        {
         "fill": "tonexty",
         "fillcolor": "rgba(0.2196078431372549, 0.4235294117647059, 0.6901960784313725, 0.6)",
         "hovertext": "Cluster 5",
         "legendgroup": "90% band: Cluster 5",
         "line": {
          "color": "rgba(0.2196078431372549, 0.4235294117647059, 0.6901960784313725, 0.6)",
          "shape": "spline"
         },
         "mode": "lines",
         "name": "Cluster 5",
         "showlegend": false,
         "type": "scatter",
         "visible": true,
         "x": [
          0,
          0.14164224746811022,
          0.2805716391608708,
          0.3369857728059401,
          0.49829197767260625,
          0.6486267636953562,
          0.7987147182544719,
          0.8546449575619145,
          1
         ],
         "y": [
          0.2018207093954065,
          0.7564647904760862,
          0.3481697035340607,
          0.28482511111825753,
          0.11332896169604893,
          0.8061220582745983,
          0.3500811806116048,
          0.4437717969905666,
          0.8245939284194327
         ]
        },
        {
         "hovertext": "Cluster 6",
         "legendgroup": "90% band: Cluster 6",
         "line": {
          "color": "rgba(0.9411764705882353, 0.00784313725490196, 0.4980392156862745, 0.6)",
          "shape": "spline"
         },
         "mode": "lines",
         "name": "90% band: Cluster 6; 41 Solutions        ",
         "showlegend": true,
         "type": "scatter",
         "visible": true,
         "x": [
          0,
          0.14164224746811022,
          0.2805716391608708,
          0.3369857728059401,
          0.49829197767260625,
          0.6486267636953562,
          0.7987147182544719,
          0.8546449575619145,
          1
         ],
         "y": [
          0.17041220648323283,
          0.5622935519355383,
          0.24147696244488773,
          0.16663378106803592,
          0.0511159942429196,
          0.7009542026258082,
          0.29342674753189024,
          0.3653707962728262,
          0.8544863896407414
         ]
        },
        {
         "fill": "tonexty",
         "fillcolor": "rgba(0.9411764705882353, 0.00784313725490196, 0.4980392156862745, 0.6)",
         "hovertext": "Cluster 6",
         "legendgroup": "90% band: Cluster 6",
         "line": {
          "color": "rgba(0.9411764705882353, 0.00784313725490196, 0.4980392156862745, 0.6)",
          "shape": "spline"
         },
         "mode": "lines",
         "name": "Cluster 6",
         "showlegend": false,
         "type": "scatter",
         "visible": true,
         "x": [
          0,
          0.14164224746811022,
          0.2805716391608708,
          0.3369857728059401,
          0.49829197767260625,
          0.6486267636953562,
          0.7987147182544719,
          0.8546449575619145,
          1
         ],
         "y": [
          0.18845218410698253,
          0.8698806724027541,
          0.3645268027840053,
          0.2920239342814232,
          0.12533825058441345,
          0.9200302493488538,
          0.3503704818421324,
          0.438984226034967,
          0.934132407320058
         ]
        },
        {
         "hovertext": "Cluster 7",
         "legendgroup": "90% band: Cluster 7",
         "line": {
          "color": "rgba(0.7490196078431373, 0.3568627450980392, 0.09019607843137253, 0.6)",
          "shape": "spline"
         },
         "mode": "lines",
         "name": "90% band: Cluster 7; 40 Solutions        ",
         "showlegend": true,
         "type": "scatter",
         "visible": true,
         "x": [
          0,
          0.14164224746811022,
          0.2805716391608708,
          0.3369857728059401,
          0.49829197767260625,
          0.6486267636953562,
          0.7987147182544719,
          0.8546449575619145,
          1
         ],
         "y": [
          0.17816623132961373,
          0.5522481352522915,
          0.22060542578904682,
          0.13665237043664036,
          0.028444588678233563,
          0.7115505526089555,
          0.29353999812188714,
          0.3682033953767299,
          0.9404055114901131
         ]
        },
        {
         "fill": "tonexty",
         "fillcolor": "rgba(0.7490196078431373, 0.3568627450980392, 0.09019607843137253, 0.6)",
         "hovertext": "Cluster 7",
         "legendgroup": "90% band: Cluster 7",
         "line": {
          "color": "rgba(0.7490196078431373, 0.3568627450980392, 0.09019607843137253, 0.6)",
          "shape": "spline"
         },
         "mode": "lines",
         "name": "Cluster 7",
         "showlegend": false,
         "type": "scatter",
         "visible": true,
         "x": [
          0,
          0.14164224746811022,
          0.2805716391608708,
          0.3369857728059401,
          0.49829197767260625,
          0.6486267636953562,
          0.7987147182544719,
          0.8546449575619145,
          1
         ],
         "y": [
          0.20508033243923823,
          0.8488153145590678,
          0.3671794756612869,
          0.29894043535241277,
          0.07639948400806658,
          0.9452997540662778,
          0.34803331971598844,
          0.4395242706938495,
          0.9898118068897066
         ]
        },
        {
         "hovertext": "Cluster 8",
         "legendgroup": "90% band: Cluster 8",
         "line": {
          "color": "rgba(0.4, 0.4, 0.4, 0.6)",
          "shape": "spline"
         },
         "mode": "lines",
         "name": "90% band: Cluster 8; 41 Solutions        ",
         "showlegend": true,
         "type": "scatter",
         "visible": true,
         "x": [
          0,
          0.14164224746811022,
          0.2805716391608708,
          0.3369857728059401,
          0.49829197767260625,
          0.6486267636953562,
          0.7987147182544719,
          0.8546449575619145,
          1
         ],
         "y": [
          0.18571118981990997,
          0.5604393552539875,
          0.18715433886812058,
          0.11044986428358576,
          0.02469743718156482,
          0.7123957699803333,
          0.3002014281808756,
          0.37793965937410795,
          0.9908143833337493
         ]
        },
        {
         "fill": "tonexty",
         "fillcolor": "rgba(0.4, 0.4, 0.4, 0.6)",
         "hovertext": "Cluster 8",
         "legendgroup": "90% band: Cluster 8",
         "line": {
          "color": "rgba(0.4, 0.4, 0.4, 0.6)",
          "shape": "spline"
         },
         "mode": "lines",
         "name": "Cluster 8",
         "showlegend": false,
         "type": "scatter",
         "visible": true,
         "x": [
          0,
          0.14164224746811022,
          0.2805716391608708,
          0.3369857728059401,
          0.49829197767260625,
          0.6486267636953562,
          0.7987147182544719,
          0.8546449575619145,
          1
         ],
         "y": [
          0.20180671741592815,
          0.8790531574751536,
          0.34764079959130917,
          0.25954422989399506,
          0.06354664683290438,
          0.9622772303212175,
          0.3455551582340148,
          0.4369892642578464,
          0.9947350737144263
         ]
        },
        {
         "line": {
          "color": "black"
         },
         "mode": "text",
         "showlegend": false,
         "text": [
          "2.7e5"
         ],
         "textposition": "bottom center",
         "type": "scatter",
         "x": [
          0
         ],
         "y": [
          0
         ]
        },
        {
         "line": {
          "color": "black"
         },
         "mode": "text",
         "showlegend": false,
         "text": [
          "5.7e5"
         ],
         "textposition": "top center",
         "type": "scatter",
         "x": [
          0
         ],
         "y": [
          1
         ]
        },
        {
         "line": {
          "color": "black"
         },
         "mode": "markers+lines+text",
         "showlegend": false,
         "text": [
          "",
          "3.3",
          "3.9",
          "4.5",
          "5.1",
          ""
         ],
         "textposition": "middle left",
         "type": "scatter",
         "x": [
          0,
          0,
          0,
          0,
          0,
          0
         ],
         "y": [
          0,
          0.2,
          0.4,
          0.6000000000000001,
          0.8,
          1
         ]
        },
        {
         "mode": "text",
         "showlegend": false,
         "text": "Ppeak",
         "textfont": {
          "size": 20
         },
         "type": "scatter",
         "x": [
          0
         ],
         "y": [
          1.1
         ]
        },
        {
         "line": {
          "color": "black"
         },
         "mode": "text",
         "showlegend": false,
         "text": [
          "0.0e3"
         ],
         "textposition": "bottom center",
         "type": "scatter",
         "x": [
          0.14164224746811022
         ],
         "y": [
          0
         ]
        },
        {
         "line": {
          "color": "black"
         },
         "mode": "text",
         "showlegend": false,
         "text": [
          "9.1e3"
         ],
         "textposition": "top center",
         "type": "scatter",
         "x": [
          0.14164224746811022
         ],
         "y": [
          1
         ]
        },
        {
         "line": {
          "color": "black"
         },
         "mode": "markers+lines+text",
         "showlegend": false,
         "text": [
          "",
          "1.8",
          "3.6",
          "5.5",
          "7.3",
          ""
         ],
         "textposition": "middle left",
         "type": "scatter",
         "x": [
          0.14164224746811022,
          0.14164224746811022,
          0.14164224746811022,
          0.14164224746811022,
          0.14164224746811022,
          0.14164224746811022
         ],
         "y": [
          0,
          0.2,
          0.4,
          0.6000000000000001,
          0.8,
          1
         ]
        },
        {
         "mode": "text",
         "showlegend": false,
         "text": "pRes",
         "textfont": {
          "size": 20
         },
         "type": "scatter",
         "x": [
          0.14164224746811022
         ],
         "y": [
          1.1
         ]
        },
        {
         "line": {
          "color": "black"
         },
         "mode": "text",
         "showlegend": false,
         "text": [
          "0.0e5"
         ],
         "textposition": "bottom center",
         "type": "scatter",
         "x": [
          0.2805716391608708
         ],
         "y": [
          0
         ]
        },
        {
         "line": {
          "color": "black"
         },
         "mode": "text",
         "showlegend": false,
         "text": [
          "3.1e5"
         ],
         "textposition": "top center",
         "type": "scatter",
         "x": [
          0.2805716391608708
         ],
         "y": [
          1
         ]
        },
        {
         "line": {
          "color": "black"
         },
         "mode": "markers+lines+text",
         "showlegend": false,
         "text": [
          "",
          "0.6",
          "1.2",
          "1.9",
          "2.5",
          ""
         ],
         "textposition": "middle left",
         "type": "scatter",
         "x": [
          0.2805716391608708,
          0.2805716391608708,
          0.2805716391608708,
          0.2805716391608708,
          0.2805716391608708,
          0.2805716391608708
         ],
         "y": [
          0,
          0.2,
          0.4,
          0.6000000000000001,
          0.8,
          1
         ]
        },
        {
         "mode": "text",
         "showlegend": false,
         "text": "mPpeak",
         "textfont": {
          "size": 20
         },
         "type": "scatter",
         "x": [
          0.2805716391608708
         ],
         "y": [
          1.1
         ]
        },
        {
         "line": {
          "color": "black"
         },
         "mode": "text",
         "showlegend": false,
         "text": [
          "-0.0e4"
         ],
         "textposition": "bottom center",
         "type": "scatter",
         "x": [
          0.3369857728059401
         ],
         "y": [
          0
         ]
        },
        {
         "line": {
          "color": "black"
         },
         "mode": "text",
         "showlegend": false,
         "text": [
          "7.6e4"
         ],
         "textposition": "top center",
         "type": "scatter",
         "x": [
          0.3369857728059401
         ],
         "y": [
          1
         ]
        },
        {
         "line": {
          "color": "black"
         },
         "mode": "markers+lines+text",
         "showlegend": false,
         "text": [
          "",
          "1.5",
          "3.0",
          "4.6",
          "6.1",
          ""
         ],
         "textposition": "middle left",
         "type": "scatter",
         "x": [
          0.3369857728059401,
          0.3369857728059401,
          0.3369857728059401,
          0.3369857728059401,
          0.3369857728059401,
          0.3369857728059401
         ],
         "y": [
          0,
          0.2,
          0.4,
          0.6000000000000001,
          0.8,
          1
         ]
        },
        {
         "mode": "text",
         "showlegend": false,
         "text": "bGrid",
         "textfont": {
          "size": 20
         },
         "type": "scatter",
         "x": [
          0.3369857728059401
         ],
         "y": [
          1.1
         ]
        },
        {
         "line": {
          "color": "black"
         },
         "mode": "text",
         "showlegend": false,
         "text": [
          "0.0e4"
         ],
         "textposition": "bottom center",
         "type": "scatter",
         "x": [
          0.49829197767260625
         ],
         "y": [
          0
         ]
        },
        {
         "line": {
          "color": "black"
         },
         "mode": "text",
         "showlegend": false,
         "text": [
          "16.8e4"
         ],
         "textposition": "top center",
         "type": "scatter",
         "x": [
          0.49829197767260625
         ],
         "y": [
          1
         ]
        },
        {
         "line": {
          "color": "black"
         },
         "mode": "markers+lines+text",
         "showlegend": false,
         "text": [
          "",
          "3.4",
          "6.7",
          "10.1",
          "13.5",
          ""
         ],
         "textposition": "middle left",
         "type": "scatter",
         "x": [
          0.49829197767260625,
          0.49829197767260625,
          0.49829197767260625,
          0.49829197767260625,
          0.49829197767260625,
          0.49829197767260625
         ],
         "y": [
          0,
          0.2,
          0.4,
          0.6000000000000001,
          0.8,
          1
         ]
        },
        {
         "mode": "text",
         "showlegend": false,
         "text": "bDis",
         "textfont": {
          "size": 20
         },
         "type": "scatter",
         "x": [
          0.49829197767260625
         ],
         "y": [
          1.1
         ]
        },
        {
         "line": {
          "color": "black"
         },
         "mode": "text",
         "showlegend": false,
         "text": [
          "0.0"
         ],
         "textposition": "bottom center",
         "type": "scatter",
         "x": [
          0.6486267636953562
         ],
         "y": [
          0
         ]
        },
        {
         "line": {
          "color": "black"
         },
         "mode": "text",
         "showlegend": false,
         "text": [
          "1.0"
         ],
         "textposition": "top center",
         "type": "scatter",
         "x": [
          0.6486267636953562
         ],
         "y": [
          1
         ]
        },
        {
         "line": {
          "color": "black"
         },
         "mode": "markers+lines+text",
         "showlegend": false,
         "text": [
          "",
          "0.2",
          "0.4",
          "0.6",
          "0.8",
          ""
         ],
         "textposition": "middle left",
         "type": "scatter",
         "x": [
          0.6486267636953562,
          0.6486267636953562,
          0.6486267636953562,
          0.6486267636953562,
          0.6486267636953562,
          0.6486267636953562
         ],
         "y": [
          0,
          0.2,
          0.4,
          0.6000000000000001,
          0.8,
          1
         ]
        },
        {
         "mode": "text",
         "showlegend": false,
         "text": "bSOC",
         "textfont": {
          "size": 20
         },
         "type": "scatter",
         "x": [
          0.6486267636953562
         ],
         "y": [
          1.1
         ]
        },
        {
         "line": {
          "color": "black"
         },
         "mode": "text",
         "showlegend": false,
         "text": [
          "2.1e3"
         ],
         "textposition": "bottom center",
         "type": "scatter",
         "x": [
          0.7987147182544719
         ],
         "y": [
          0
         ]
        },
        {
         "line": {
          "color": "black"
         },
         "mode": "text",
         "showlegend": false,
         "text": [
          "2.2e3"
         ],
         "textposition": "top center",
         "type": "scatter",
         "x": [
          0.7987147182544719
         ],
         "y": [
          1
         ]
        },
        {
         "line": {
          "color": "black"
         },
         "mode": "markers+lines+text",
         "showlegend": false,
         "text": [
          "",
          "2.1",
          "2.1",
          "2.2",
          "2.2",
          ""
         ],
         "textposition": "middle left",
         "type": "scatter",
         "x": [
          0.7987147182544719,
          0.7987147182544719,
          0.7987147182544719,
          0.7987147182544719,
          0.7987147182544719,
          0.7987147182544719
         ],
         "y": [
          0,
          0.2,
          0.4,
          0.6000000000000001,
          0.8,
          1
         ]
        },
        {
         "mode": "text",
         "showlegend": false,
         "text": "CO2",
         "textfont": {
          "size": 20
         },
         "type": "scatter",
         "x": [
          0.7987147182544719
         ],
         "y": [
          1.1
         ]
        },
        {
         "line": {
          "color": "black"
         },
         "mode": "text",
         "showlegend": false,
         "text": [
          "3.2e5"
         ],
         "textposition": "bottom center",
         "type": "scatter",
         "x": [
          0.8546449575619145
         ],
         "y": [
          0
         ]
        },
        {
         "line": {
          "color": "black"
         },
         "mode": "text",
         "showlegend": false,
         "text": [
          "3.4e5"
         ],
         "textposition": "top center",
         "type": "scatter",
         "x": [
          0.8546449575619145
         ],
         "y": [
          1
         ]
        },
        {
         "line": {
          "color": "black"
         },
         "mode": "markers+lines+text",
         "showlegend": false,
         "text": [
          "",
          "3.2",
          "3.3",
          "3.3",
          "3.4",
          ""
         ],
         "textposition": "middle left",
         "type": "scatter",
         "x": [
          0.8546449575619145,
          0.8546449575619145,
          0.8546449575619145,
          0.8546449575619145,
          0.8546449575619145,
          0.8546449575619145
         ],
         "y": [
          0,
          0.2,
          0.4,
          0.6000000000000001,
          0.8,
          1
         ]
        },
        {
         "mode": "text",
         "showlegend": false,
         "text": "Costs",
         "textfont": {
          "size": 20
         },
         "type": "scatter",
         "x": [
          0.8546449575619145
         ],
         "y": [
          1.1
         ]
        },
        {
         "line": {
          "color": "black"
         },
         "mode": "text",
         "showlegend": false,
         "text": [
          "0.0"
         ],
         "textposition": "bottom center",
         "type": "scatter",
         "x": [
          1
         ],
         "y": [
          0
         ]
        },
        {
         "line": {
          "color": "black"
         },
         "mode": "text",
         "showlegend": false,
         "text": [
          "1.0"
         ],
         "textposition": "top center",
         "type": "scatter",
         "x": [
          1
         ],
         "y": [
          1
         ]
        },
        {
         "line": {
          "color": "black"
         },
         "mode": "markers+lines+text",
         "showlegend": false,
         "text": [
          "",
          "0.2",
          "0.4",
          "0.6",
          "0.8",
          ""
         ],
         "textposition": "middle left",
         "type": "scatter",
         "x": [
          1,
          1,
          1,
          1,
          1,
          1
         ],
         "y": [
          0,
          0.2,
          0.4,
          0.6000000000000001,
          0.8,
          1
         ]
        },
        {
         "mode": "text",
         "showlegend": false,
         "text": "bSOC% Time",
         "textfont": {
          "size": 20
         },
         "type": "scatter",
         "x": [
          1
         ],
         "y": [
          1.1
         ]
        }
       ],
       "layout": {
        "font": {
         "size": 18
        },
        "height": 700,
        "legend": {
         "font": {
          "size": 24
         },
         "orientation": "h",
         "yanchor": "top"
        },
        "plot_bgcolor": "rgba(0,0,0,0)",
        "template": {
         "data": {
          "bar": [
           {
            "error_x": {
             "color": "#2a3f5f"
            },
            "error_y": {
             "color": "#2a3f5f"
            },
            "marker": {
             "line": {
              "color": "#E5ECF6",
              "width": 0.5
             },
             "pattern": {
              "fillmode": "overlay",
              "size": 10,
              "solidity": 0.2
             }
            },
            "type": "bar"
           }
          ],
          "barpolar": [
           {
            "marker": {
             "line": {
              "color": "#E5ECF6",
              "width": 0.5
             },
             "pattern": {
              "fillmode": "overlay",
              "size": 10,
              "solidity": 0.2
             }
            },
            "type": "barpolar"
           }
          ],
          "carpet": [
           {
            "aaxis": {
             "endlinecolor": "#2a3f5f",
             "gridcolor": "white",
             "linecolor": "white",
             "minorgridcolor": "white",
             "startlinecolor": "#2a3f5f"
            },
            "baxis": {
             "endlinecolor": "#2a3f5f",
             "gridcolor": "white",
             "linecolor": "white",
             "minorgridcolor": "white",
             "startlinecolor": "#2a3f5f"
            },
            "type": "carpet"
           }
          ],
          "choropleth": [
           {
            "colorbar": {
             "outlinewidth": 0,
             "ticks": ""
            },
            "type": "choropleth"
           }
          ],
          "contour": [
           {
            "colorbar": {
             "outlinewidth": 0,
             "ticks": ""
            },
            "colorscale": [
             [
              0,
              "#0d0887"
             ],
             [
              0.1111111111111111,
              "#46039f"
             ],
             [
              0.2222222222222222,
              "#7201a8"
             ],
             [
              0.3333333333333333,
              "#9c179e"
             ],
             [
              0.4444444444444444,
              "#bd3786"
             ],
             [
              0.5555555555555556,
              "#d8576b"
             ],
             [
              0.6666666666666666,
              "#ed7953"
             ],
             [
              0.7777777777777778,
              "#fb9f3a"
             ],
             [
              0.8888888888888888,
              "#fdca26"
             ],
             [
              1,
              "#f0f921"
             ]
            ],
            "type": "contour"
           }
          ],
          "contourcarpet": [
           {
            "colorbar": {
             "outlinewidth": 0,
             "ticks": ""
            },
            "type": "contourcarpet"
           }
          ],
          "heatmap": [
           {
            "colorbar": {
             "outlinewidth": 0,
             "ticks": ""
            },
            "colorscale": [
             [
              0,
              "#0d0887"
             ],
             [
              0.1111111111111111,
              "#46039f"
             ],
             [
              0.2222222222222222,
              "#7201a8"
             ],
             [
              0.3333333333333333,
              "#9c179e"
             ],
             [
              0.4444444444444444,
              "#bd3786"
             ],
             [
              0.5555555555555556,
              "#d8576b"
             ],
             [
              0.6666666666666666,
              "#ed7953"
             ],
             [
              0.7777777777777778,
              "#fb9f3a"
             ],
             [
              0.8888888888888888,
              "#fdca26"
             ],
             [
              1,
              "#f0f921"
             ]
            ],
            "type": "heatmap"
           }
          ],
          "heatmapgl": [
           {
            "colorbar": {
             "outlinewidth": 0,
             "ticks": ""
            },
            "colorscale": [
             [
              0,
              "#0d0887"
             ],
             [
              0.1111111111111111,
              "#46039f"
             ],
             [
              0.2222222222222222,
              "#7201a8"
             ],
             [
              0.3333333333333333,
              "#9c179e"
             ],
             [
              0.4444444444444444,
              "#bd3786"
             ],
             [
              0.5555555555555556,
              "#d8576b"
             ],
             [
              0.6666666666666666,
              "#ed7953"
             ],
             [
              0.7777777777777778,
              "#fb9f3a"
             ],
             [
              0.8888888888888888,
              "#fdca26"
             ],
             [
              1,
              "#f0f921"
             ]
            ],
            "type": "heatmapgl"
           }
          ],
          "histogram": [
           {
            "marker": {
             "pattern": {
              "fillmode": "overlay",
              "size": 10,
              "solidity": 0.2
             }
            },
            "type": "histogram"
           }
          ],
          "histogram2d": [
           {
            "colorbar": {
             "outlinewidth": 0,
             "ticks": ""
            },
            "colorscale": [
             [
              0,
              "#0d0887"
             ],
             [
              0.1111111111111111,
              "#46039f"
             ],
             [
              0.2222222222222222,
              "#7201a8"
             ],
             [
              0.3333333333333333,
              "#9c179e"
             ],
             [
              0.4444444444444444,
              "#bd3786"
             ],
             [
              0.5555555555555556,
              "#d8576b"
             ],
             [
              0.6666666666666666,
              "#ed7953"
             ],
             [
              0.7777777777777778,
              "#fb9f3a"
             ],
             [
              0.8888888888888888,
              "#fdca26"
             ],
             [
              1,
              "#f0f921"
             ]
            ],
            "type": "histogram2d"
           }
          ],
          "histogram2dcontour": [
           {
            "colorbar": {
             "outlinewidth": 0,
             "ticks": ""
            },
            "colorscale": [
             [
              0,
              "#0d0887"
             ],
             [
              0.1111111111111111,
              "#46039f"
             ],
             [
              0.2222222222222222,
              "#7201a8"
             ],
             [
              0.3333333333333333,
              "#9c179e"
             ],
             [
              0.4444444444444444,
              "#bd3786"
             ],
             [
              0.5555555555555556,
              "#d8576b"
             ],
             [
              0.6666666666666666,
              "#ed7953"
             ],
             [
              0.7777777777777778,
              "#fb9f3a"
             ],
             [
              0.8888888888888888,
              "#fdca26"
             ],
             [
              1,
              "#f0f921"
             ]
            ],
            "type": "histogram2dcontour"
           }
          ],
          "mesh3d": [
           {
            "colorbar": {
             "outlinewidth": 0,
             "ticks": ""
            },
            "type": "mesh3d"
           }
          ],
          "parcoords": [
           {
            "line": {
             "colorbar": {
              "outlinewidth": 0,
              "ticks": ""
             }
            },
            "type": "parcoords"
           }
          ],
          "pie": [
           {
            "automargin": true,
            "type": "pie"
           }
          ],
          "scatter": [
           {
            "fillpattern": {
             "fillmode": "overlay",
             "size": 10,
             "solidity": 0.2
            },
            "type": "scatter"
           }
          ],
          "scatter3d": [
           {
            "line": {
             "colorbar": {
              "outlinewidth": 0,
              "ticks": ""
             }
            },
            "marker": {
             "colorbar": {
              "outlinewidth": 0,
              "ticks": ""
             }
            },
            "type": "scatter3d"
           }
          ],
          "scattercarpet": [
           {
            "marker": {
             "colorbar": {
              "outlinewidth": 0,
              "ticks": ""
             }
            },
            "type": "scattercarpet"
           }
          ],
          "scattergeo": [
           {
            "marker": {
             "colorbar": {
              "outlinewidth": 0,
              "ticks": ""
             }
            },
            "type": "scattergeo"
           }
          ],
          "scattergl": [
           {
            "marker": {
             "colorbar": {
              "outlinewidth": 0,
              "ticks": ""
             }
            },
            "type": "scattergl"
           }
          ],
          "scattermapbox": [
           {
            "marker": {
             "colorbar": {
              "outlinewidth": 0,
              "ticks": ""
             }
            },
            "type": "scattermapbox"
           }
          ],
          "scatterpolar": [
           {
            "marker": {
             "colorbar": {
              "outlinewidth": 0,
              "ticks": ""
             }
            },
            "type": "scatterpolar"
           }
          ],
          "scatterpolargl": [
           {
            "marker": {
             "colorbar": {
              "outlinewidth": 0,
              "ticks": ""
             }
            },
            "type": "scatterpolargl"
           }
          ],
          "scatterternary": [
           {
            "marker": {
             "colorbar": {
              "outlinewidth": 0,
              "ticks": ""
             }
            },
            "type": "scatterternary"
           }
          ],
          "surface": [
           {
            "colorbar": {
             "outlinewidth": 0,
             "ticks": ""
            },
            "colorscale": [
             [
              0,
              "#0d0887"
             ],
             [
              0.1111111111111111,
              "#46039f"
             ],
             [
              0.2222222222222222,
              "#7201a8"
             ],
             [
              0.3333333333333333,
              "#9c179e"
             ],
             [
              0.4444444444444444,
              "#bd3786"
             ],
             [
              0.5555555555555556,
              "#d8576b"
             ],
             [
              0.6666666666666666,
              "#ed7953"
             ],
             [
              0.7777777777777778,
              "#fb9f3a"
             ],
             [
              0.8888888888888888,
              "#fdca26"
             ],
             [
              1,
              "#f0f921"
             ]
            ],
            "type": "surface"
           }
          ],
          "table": [
           {
            "cells": {
             "fill": {
              "color": "#EBF0F8"
             },
             "line": {
              "color": "white"
             }
            },
            "header": {
             "fill": {
              "color": "#C8D4E3"
             },
             "line": {
              "color": "white"
             }
            },
            "type": "table"
           }
          ]
         },
         "layout": {
          "annotationdefaults": {
           "arrowcolor": "#2a3f5f",
           "arrowhead": 0,
           "arrowwidth": 1
          },
          "autotypenumbers": "strict",
          "coloraxis": {
           "colorbar": {
            "outlinewidth": 0,
            "ticks": ""
           }
          },
          "colorscale": {
           "diverging": [
            [
             0,
             "#8e0152"
            ],
            [
             0.1,
             "#c51b7d"
            ],
            [
             0.2,
             "#de77ae"
            ],
            [
             0.3,
             "#f1b6da"
            ],
            [
             0.4,
             "#fde0ef"
            ],
            [
             0.5,
             "#f7f7f7"
            ],
            [
             0.6,
             "#e6f5d0"
            ],
            [
             0.7,
             "#b8e186"
            ],
            [
             0.8,
             "#7fbc41"
            ],
            [
             0.9,
             "#4d9221"
            ],
            [
             1,
             "#276419"
            ]
           ],
           "sequential": [
            [
             0,
             "#0d0887"
            ],
            [
             0.1111111111111111,
             "#46039f"
            ],
            [
             0.2222222222222222,
             "#7201a8"
            ],
            [
             0.3333333333333333,
             "#9c179e"
            ],
            [
             0.4444444444444444,
             "#bd3786"
            ],
            [
             0.5555555555555556,
             "#d8576b"
            ],
            [
             0.6666666666666666,
             "#ed7953"
            ],
            [
             0.7777777777777778,
             "#fb9f3a"
            ],
            [
             0.8888888888888888,
             "#fdca26"
            ],
            [
             1,
             "#f0f921"
            ]
           ],
           "sequentialminus": [
            [
             0,
             "#0d0887"
            ],
            [
             0.1111111111111111,
             "#46039f"
            ],
            [
             0.2222222222222222,
             "#7201a8"
            ],
            [
             0.3333333333333333,
             "#9c179e"
            ],
            [
             0.4444444444444444,
             "#bd3786"
            ],
            [
             0.5555555555555556,
             "#d8576b"
            ],
            [
             0.6666666666666666,
             "#ed7953"
            ],
            [
             0.7777777777777778,
             "#fb9f3a"
            ],
            [
             0.8888888888888888,
             "#fdca26"
            ],
            [
             1,
             "#f0f921"
            ]
           ]
          },
          "colorway": [
           "#636efa",
           "#EF553B",
           "#00cc96",
           "#ab63fa",
           "#FFA15A",
           "#19d3f3",
           "#FF6692",
           "#B6E880",
           "#FF97FF",
           "#FECB52"
          ],
          "font": {
           "color": "#2a3f5f"
          },
          "geo": {
           "bgcolor": "white",
           "lakecolor": "white",
           "landcolor": "#E5ECF6",
           "showlakes": true,
           "showland": true,
           "subunitcolor": "white"
          },
          "hoverlabel": {
           "align": "left"
          },
          "hovermode": "closest",
          "mapbox": {
           "style": "light"
          },
          "paper_bgcolor": "white",
          "plot_bgcolor": "#E5ECF6",
          "polar": {
           "angularaxis": {
            "gridcolor": "white",
            "linecolor": "white",
            "ticks": ""
           },
           "bgcolor": "#E5ECF6",
           "radialaxis": {
            "gridcolor": "white",
            "linecolor": "white",
            "ticks": ""
           }
          },
          "scene": {
           "xaxis": {
            "backgroundcolor": "#E5ECF6",
            "gridcolor": "white",
            "gridwidth": 2,
            "linecolor": "white",
            "showbackground": true,
            "ticks": "",
            "zerolinecolor": "white"
           },
           "yaxis": {
            "backgroundcolor": "#E5ECF6",
            "gridcolor": "white",
            "gridwidth": 2,
            "linecolor": "white",
            "showbackground": true,
            "ticks": "",
            "zerolinecolor": "white"
           },
           "zaxis": {
            "backgroundcolor": "#E5ECF6",
            "gridcolor": "white",
            "gridwidth": 2,
            "linecolor": "white",
            "showbackground": true,
            "ticks": "",
            "zerolinecolor": "white"
           }
          },
          "shapedefaults": {
           "line": {
            "color": "#2a3f5f"
           }
          },
          "ternary": {
           "aaxis": {
            "gridcolor": "white",
            "linecolor": "white",
            "ticks": ""
           },
           "baxis": {
            "gridcolor": "white",
            "linecolor": "white",
            "ticks": ""
           },
           "bgcolor": "#E5ECF6",
           "caxis": {
            "gridcolor": "white",
            "linecolor": "white",
            "ticks": ""
           }
          },
          "title": {
           "x": 0.05
          },
          "xaxis": {
           "automargin": true,
           "gridcolor": "white",
           "linecolor": "white",
           "ticks": "",
           "title": {
            "standoff": 15
           },
           "zerolinecolor": "white",
           "zerolinewidth": 2
          },
          "yaxis": {
           "automargin": true,
           "gridcolor": "white",
           "linecolor": "white",
           "ticks": "",
           "title": {
            "standoff": 15
           },
           "zerolinecolor": "white",
           "zerolinewidth": 2
          }
         }
        },
        "width": 1500,
        "xaxis": {
         "showgrid": false,
         "showticklabels": false,
         "zeroline": false
        },
        "yaxis": {
         "showgrid": false,
         "showticklabels": false,
         "zeroline": false
        }
       }
      }
     },
     "metadata": {},
     "output_type": "display_data"
    }
   ],
   "source": [
    "# Same data as before. group by \"bSOC% Time\"\n",
    "\n",
    "#band = 8\n",
    "\n",
    "data_copy = data_copy.copy()\n",
    "#data_copy = data_copy[data_copy[\"cluster\"]== band]\n",
    "\n",
    "\n",
    "# Cluster into 8 groups\n",
    "obj_to_cluster = \"bSOC% Time\"\n",
    "n_clusters = 8\n",
    "\n",
    "data_copy[\"cluster\"] = 1\n",
    "for i in range(1, n_clusters):\n",
    "    data_copy.loc[data_copy[obj_to_cluster] > data_copy[obj_to_cluster].quantile(i / n_clusters), \"cluster\"] = i+1\n",
    "\n",
    "ordered_data, axis_dist, axis_signs = calculate_axes_positions(\n",
    "        data_copy[objs],\n",
    "        obj_order,\n",
    "        corr,\n",
    "        dist_parameter=0.521,\n",
    "        distance_formula=1,\n",
    "    )\n",
    "\n",
    "#scales = pd.DataFrame([ordered_data.min(axis=0), ordered_data.max(axis=0)], index=[\"min\", \"max\"])\n",
    "\n",
    "fig = SCORE_bands(\n",
    "    ordered_data,\n",
    "    color_groups=data_copy[\"cluster\"].tolist(),\n",
    "    bands=True,\n",
    "    quantile=0.05,\n",
    "    axis_positions=axis_dist,\n",
    "    solutions=False,\n",
    "    scales=scales[ordered_data.columns],\n",
    ")\n",
    "\n",
    "fig.update_layout(\n",
    "    width=1500,\n",
    "    height=700,\n",
    ")\n"
   ]
  },
  {
   "cell_type": "code",
   "execution_count": 9,
   "id": "8c43a9e4",
   "metadata": {},
   "outputs": [
    {
     "data": {
      "application/vnd.plotly.v1+json": {
       "config": {
        "plotlyServerURL": "https://plot.ly"
       },
       "data": [
        {
         "hovertext": "Cluster 1",
         "legendgroup": "90% band: Cluster 1",
         "line": {
          "color": "rgba(0.4980392156862745, 0.788235294117647, 0.4980392156862745, 0.6)",
          "shape": "spline"
         },
         "mode": "lines",
         "name": "90% band: Cluster 1; 6 Solutions        ",
         "showlegend": true,
         "type": "scatter",
         "visible": true,
         "x": [
          0,
          0.14164224746811022,
          0.2805716391608708,
          0.3369857728059401,
          0.49829197767260625,
          0.6486267636953562,
          0.7987147182544719,
          0.8546449575619145,
          1
         ],
         "y": [
          0.20180532639062077,
          0.5679113438616693,
          0.18018930431316155,
          0.09960238335084065,
          0.02370752464158061,
          0.7115060741432011,
          0.3104547076071494,
          0.38663094745219195,
          0.9910384227646335
         ]
        },
        {
         "fill": "tonexty",
         "fillcolor": "rgba(0.4980392156862745, 0.788235294117647, 0.4980392156862745, 0.6)",
         "hovertext": "Cluster 1",
         "legendgroup": "90% band: Cluster 1",
         "line": {
          "color": "rgba(0.4980392156862745, 0.788235294117647, 0.4980392156862745, 0.6)",
          "shape": "spline"
         },
         "mode": "lines",
         "name": "Cluster 1",
         "showlegend": false,
         "type": "scatter",
         "visible": true,
         "x": [
          0,
          0.14164224746811022,
          0.2805716391608708,
          0.3369857728059401,
          0.49829197767260625,
          0.6486267636953562,
          0.7987147182544719,
          0.8546449575619145,
          1
         ],
         "y": [
          0.20180533358123176,
          0.8126449755612116,
          0.30561035879481413,
          0.23513063469246073,
          0.03398583739384578,
          0.714490530740296,
          0.3496149538758453,
          0.43668801923862116,
          0.9917945555707077
         ]
        },
        {
         "hovertext": "Cluster 2",
         "legendgroup": "90% band: Cluster 2",
         "line": {
          "color": "rgba(0.7450980392156863, 0.6823529411764706, 0.8313725490196079, 0.6)",
          "shape": "spline"
         },
         "mode": "lines",
         "name": "90% band: Cluster 2; 5 Solutions        ",
         "showlegend": true,
         "type": "scatter",
         "visible": true,
         "x": [
          0,
          0.14164224746811022,
          0.2805716391608708,
          0.3369857728059401,
          0.49829197767260625,
          0.6486267636953562,
          0.7987147182544719,
          0.8546449575619145,
          1
         ],
         "y": [
          0.20180533342306534,
          0.6012262138195102,
          0.16658153134990947,
          0.09385465199858335,
          0.031374166146313345,
          0.7206835829901632,
          0.3301737363728523,
          0.419186550929865,
          0.9907023636815985
         ]
        },
        {
         "fill": "tonexty",
         "fillcolor": "rgba(0.7450980392156863, 0.6823529411764706, 0.8313725490196079, 0.6)",
         "hovertext": "Cluster 2",
         "legendgroup": "90% band: Cluster 2",
         "line": {
          "color": "rgba(0.7450980392156863, 0.6823529411764706, 0.8313725490196079, 0.6)",
          "shape": "spline"
         },
         "mode": "lines",
         "name": "Cluster 2",
         "showlegend": false,
         "type": "scatter",
         "visible": true,
         "x": [
          0,
          0.14164224746811022,
          0.2805716391608708,
          0.3369857728059401,
          0.49829197767260625,
          0.6486267636953562,
          0.7987147182544719,
          0.8546449575619145,
          1
         ],
         "y": [
          0.201805576297391,
          0.8015784258244631,
          0.2859055100110505,
          0.16072886761368677,
          0.035481471109099896,
          0.7500436537600648,
          0.3486263112640846,
          0.43863805648114823,
          0.9947798809507542
         ]
        },
        {
         "hovertext": "Cluster 3",
         "legendgroup": "90% band: Cluster 3",
         "line": {
          "color": "rgba(0.9921568627450981, 0.7529411764705882, 0.5254901960784314, 0.6)",
          "shape": "spline"
         },
         "mode": "lines",
         "name": "90% band: Cluster 3; 5 Solutions        ",
         "showlegend": true,
         "type": "scatter",
         "visible": true,
         "x": [
          0,
          0.14164224746811022,
          0.2805716391608708,
          0.3369857728059401,
          0.49829197767260625,
          0.6486267636953562,
          0.7987147182544719,
          0.8546449575619145,
          1
         ],
         "y": [
          0.2000519259607029,
          0.5614735438557905,
          0.2522899591741297,
          0.16137467374865166,
          0.02478909251388897,
          0.7625947886565508,
          0.30016046244625183,
          0.3766622083195103,
          0.991150442443938
         ]
        },
        {
         "fill": "tonexty",
         "fillcolor": "rgba(0.9921568627450981, 0.7529411764705882, 0.5254901960784314, 0.6)",
         "hovertext": "Cluster 3",
         "legendgroup": "90% band: Cluster 3",
         "line": {
          "color": "rgba(0.9921568627450981, 0.7529411764705882, 0.5254901960784314, 0.6)",
          "shape": "spline"
         },
         "mode": "lines",
         "name": "Cluster 3",
         "showlegend": false,
         "type": "scatter",
         "visible": true,
         "x": [
          0,
          0.14164224746811022,
          0.2805716391608708,
          0.3369857728059401,
          0.49829197767260625,
          0.6486267636953562,
          0.7987147182544719,
          0.8546449575619145,
          1
         ],
         "y": [
          0.20180564398288017,
          0.8022848126649436,
          0.32111067848549185,
          0.2512677503500917,
          0.03751564214768872,
          0.7838903092612395,
          0.3276747153231977,
          0.41933036437999416,
          0.9943318025861295
         ]
        },
        {
         "hovertext": "Cluster 4",
         "legendgroup": "90% band: Cluster 4",
         "line": {
          "color": "rgba(1.0, 1.0, 0.6, 0.6)",
          "shape": "spline"
         },
         "mode": "lines",
         "name": "90% band: Cluster 4; 5 Solutions        ",
         "showlegend": true,
         "type": "scatter",
         "visible": true,
         "x": [
          0,
          0.14164224746811022,
          0.2805716391608708,
          0.3369857728059401,
          0.49829197767260625,
          0.6486267636953562,
          0.7987147182544719,
          0.8546449575619145,
          1
         ],
         "y": [
          0.1998532573329567,
          0.6094759536583125,
          0.25643734485108755,
          0.1657018279247472,
          0.03678773495126688,
          0.7991018102305765,
          0.31172122114503076,
          0.3983551935066818,
          0.9926515068183607
         ]
        },
        {
         "fill": "tonexty",
         "fillcolor": "rgba(1.0, 1.0, 0.6, 0.6)",
         "hovertext": "Cluster 4",
         "legendgroup": "90% band: Cluster 4",
         "line": {
          "color": "rgba(1.0, 1.0, 0.6, 0.6)",
          "shape": "spline"
         },
         "mode": "lines",
         "name": "Cluster 4",
         "showlegend": false,
         "type": "scatter",
         "visible": true,
         "x": [
          0,
          0.14164224746811022,
          0.2805716391608708,
          0.3369857728059401,
          0.49829197767260625,
          0.6486267636953562,
          0.7987147182544719,
          0.8546449575619145,
          1
         ],
         "y": [
          0.20180559860727043,
          0.7971869888875938,
          0.29404056167410547,
          0.22260647416167653,
          0.03984716239052902,
          0.8082562696229979,
          0.33524816552969994,
          0.4257472448983845,
          0.9945782458459093
         ]
        },
        {
         "hovertext": "Cluster 5",
         "legendgroup": "90% band: Cluster 5",
         "line": {
          "color": "rgba(0.2196078431372549, 0.4235294117647059, 0.6901960784313725, 0.6)",
          "shape": "spline"
         },
         "mode": "lines",
         "name": "90% band: Cluster 5; 5 Solutions        ",
         "showlegend": true,
         "type": "scatter",
         "visible": true,
         "x": [
          0,
          0.14164224746811022,
          0.2805716391608708,
          0.3369857728059401,
          0.49829197767260625,
          0.6486267636953562,
          0.7987147182544719,
          0.8546449575619145,
          1
         ],
         "y": [
          0.1907289027464027,
          0.6334872571040799,
          0.22649070616287048,
          0.14739796999997778,
          0.03328446895376985,
          0.8458518602020704,
          0.3023280464052331,
          0.3801029611400957,
          0.9905455360166888
         ]
        },
        {
         "fill": "tonexty",
         "fillcolor": "rgba(0.2196078431372549, 0.4235294117647059, 0.6901960784313725, 0.6)",
         "hovertext": "Cluster 5",
         "legendgroup": "90% band: Cluster 5",
         "line": {
          "color": "rgba(0.2196078431372549, 0.4235294117647059, 0.6901960784313725, 0.6)",
          "shape": "spline"
         },
         "mode": "lines",
         "name": "Cluster 5",
         "showlegend": false,
         "type": "scatter",
         "visible": true,
         "x": [
          0,
          0.14164224746811022,
          0.2805716391608708,
          0.3369857728059401,
          0.49829197767260625,
          0.6486267636953562,
          0.7987147182544719,
          0.8546449575619145,
          1
         ],
         "y": [
          0.20180672713927478,
          0.853645140300036,
          0.34397420518495214,
          0.271147680746964,
          0.054683917182444294,
          0.9215803275919159,
          0.34034480257242766,
          0.4253750969518092,
          0.9923154477448249
         ]
        },
        {
         "hovertext": "Cluster 6",
         "legendgroup": "90% band: Cluster 6",
         "line": {
          "color": "rgba(0.9411764705882353, 0.00784313725490196, 0.4980392156862745, 0.6)",
          "shape": "spline"
         },
         "mode": "lines",
         "name": "90% band: Cluster 6; 5 Solutions        ",
         "showlegend": true,
         "type": "scatter",
         "visible": true,
         "x": [
          0,
          0.14164224746811022,
          0.2805716391608708,
          0.3369857728059401,
          0.49829197767260625,
          0.6486267636953562,
          0.7987147182544719,
          0.8546449575619145,
          1
         ],
         "y": [
          0.18312222790156565,
          0.6139979915053408,
          0.25829625439766407,
          0.19253696551889202,
          0.034825283568827366,
          0.9319256188252427,
          0.3193070709628714,
          0.40317444819290554,
          0.9912624624877101
         ]
        },
        {
         "fill": "tonexty",
         "fillcolor": "rgba(0.9411764705882353, 0.00784313725490196, 0.4980392156862745, 0.6)",
         "hovertext": "Cluster 6",
         "legendgroup": "90% band: Cluster 6",
         "line": {
          "color": "rgba(0.9411764705882353, 0.00784313725490196, 0.4980392156862745, 0.6)",
          "shape": "spline"
         },
         "mode": "lines",
         "name": "Cluster 6",
         "showlegend": false,
         "type": "scatter",
         "visible": true,
         "x": [
          0,
          0.14164224746811022,
          0.2805716391608708,
          0.3369857728059401,
          0.49829197767260625,
          0.6486267636953562,
          0.7987147182544719,
          0.8546449575619145,
          1
         ],
         "y": [
          0.20180667402144,
          0.8700690464052667,
          0.31840244658063616,
          0.24932994198816477,
          0.0635172089560929,
          0.9393159459319527,
          0.34333596157586743,
          0.4342244417421433,
          0.9941077628036826
         ]
        },
        {
         "hovertext": "Cluster 7",
         "legendgroup": "90% band: Cluster 7",
         "line": {
          "color": "rgba(0.7490196078431373, 0.3568627450980392, 0.09019607843137253, 0.6)",
          "shape": "spline"
         },
         "mode": "lines",
         "name": "90% band: Cluster 7; 5 Solutions        ",
         "showlegend": true,
         "type": "scatter",
         "visible": true,
         "x": [
          0,
          0.14164224746811022,
          0.2805716391608708,
          0.3369857728059401,
          0.49829197767260625,
          0.6486267636953562,
          0.7987147182544719,
          0.8546449575619145,
          1
         ],
         "y": [
          0.1859096190477457,
          0.6296377748230214,
          0.26543313154829334,
          0.19656668625178214,
          0.0449224673124082,
          0.9428505336586754,
          0.30059688325769346,
          0.37795540804081895,
          0.9908591912199262
         ]
        },
        {
         "fill": "tonexty",
         "fillcolor": "rgba(0.7490196078431373, 0.3568627450980392, 0.09019607843137253, 0.6)",
         "hovertext": "Cluster 7",
         "legendgroup": "90% band: Cluster 7",
         "line": {
          "color": "rgba(0.7490196078431373, 0.3568627450980392, 0.09019607843137253, 0.6)",
          "shape": "spline"
         },
         "mode": "lines",
         "name": "Cluster 7",
         "showlegend": false,
         "type": "scatter",
         "visible": true,
         "x": [
          0,
          0.14164224746811022,
          0.2805716391608708,
          0.3369857728059401,
          0.49829197767260625,
          0.6486267636953562,
          0.7987147182544719,
          0.8546449575619145,
          1
         ],
         "y": [
          0.19709121894639178,
          0.7973723987094896,
          0.356551513028012,
          0.28168187627913505,
          0.06282723278278267,
          0.9564548821218135,
          0.338784000044851,
          0.42237855168170857,
          0.9939957435125936
         ]
        },
        {
         "hovertext": "Cluster 8",
         "legendgroup": "90% band: Cluster 8",
         "line": {
          "color": "rgba(0.4, 0.4, 0.4, 0.6)",
          "shape": "spline"
         },
         "mode": "lines",
         "name": "90% band: Cluster 8; 5 Solutions        ",
         "showlegend": true,
         "type": "scatter",
         "visible": true,
         "x": [
          0,
          0.14164224746811022,
          0.2805716391608708,
          0.3369857728059401,
          0.49829197767260625,
          0.6486267636953562,
          0.7987147182544719,
          0.8546449575619145,
          1
         ],
         "y": [
          0.18171928858229316,
          0.5519546204678663,
          0.2626680263745583,
          0.19762016279620304,
          0.031067548410522717,
          0.9568507893216374,
          0.31408006002555244,
          0.3944588011638702,
          0.9909039991061029
         ]
        },
        {
         "fill": "tonexty",
         "fillcolor": "rgba(0.4, 0.4, 0.4, 0.6)",
         "hovertext": "Cluster 8",
         "legendgroup": "90% band: Cluster 8",
         "line": {
          "color": "rgba(0.4, 0.4, 0.4, 0.6)",
          "shape": "spline"
         },
         "mode": "lines",
         "name": "Cluster 8",
         "showlegend": false,
         "type": "scatter",
         "visible": true,
         "x": [
          0,
          0.14164224746811022,
          0.2805716391608708,
          0.3369857728059401,
          0.49829197767260625,
          0.6486267636953562,
          0.7987147182544719,
          0.8546449575619145,
          1
         ],
         "y": [
          0.20180705313053876,
          0.8827900525297452,
          0.3061600602323795,
          0.2439427217364806,
          0.06319437018793639,
          0.9695910822370859,
          0.33872552467304595,
          0.42313505003058177,
          0.9942421869132045
         ]
        },
        {
         "line": {
          "color": "black"
         },
         "mode": "text",
         "showlegend": false,
         "text": [
          "2.7e5"
         ],
         "textposition": "bottom center",
         "type": "scatter",
         "x": [
          0
         ],
         "y": [
          0
         ]
        },
        {
         "line": {
          "color": "black"
         },
         "mode": "text",
         "showlegend": false,
         "text": [
          "5.7e5"
         ],
         "textposition": "top center",
         "type": "scatter",
         "x": [
          0
         ],
         "y": [
          1
         ]
        },
        {
         "line": {
          "color": "black"
         },
         "mode": "markers+lines+text",
         "showlegend": false,
         "text": [
          "",
          "3.3",
          "3.9",
          "4.5",
          "5.1",
          ""
         ],
         "textposition": "middle left",
         "type": "scatter",
         "x": [
          0,
          0,
          0,
          0,
          0,
          0
         ],
         "y": [
          0,
          0.2,
          0.4,
          0.6000000000000001,
          0.8,
          1
         ]
        },
        {
         "mode": "text",
         "showlegend": false,
         "text": "Ppeak",
         "textfont": {
          "size": 20
         },
         "type": "scatter",
         "x": [
          0
         ],
         "y": [
          1.1
         ]
        },
        {
         "line": {
          "color": "black"
         },
         "mode": "text",
         "showlegend": false,
         "text": [
          "0.0e3"
         ],
         "textposition": "bottom center",
         "type": "scatter",
         "x": [
          0.14164224746811022
         ],
         "y": [
          0
         ]
        },
        {
         "line": {
          "color": "black"
         },
         "mode": "text",
         "showlegend": false,
         "text": [
          "9.1e3"
         ],
         "textposition": "top center",
         "type": "scatter",
         "x": [
          0.14164224746811022
         ],
         "y": [
          1
         ]
        },
        {
         "line": {
          "color": "black"
         },
         "mode": "markers+lines+text",
         "showlegend": false,
         "text": [
          "",
          "1.8",
          "3.6",
          "5.5",
          "7.3",
          ""
         ],
         "textposition": "middle left",
         "type": "scatter",
         "x": [
          0.14164224746811022,
          0.14164224746811022,
          0.14164224746811022,
          0.14164224746811022,
          0.14164224746811022,
          0.14164224746811022
         ],
         "y": [
          0,
          0.2,
          0.4,
          0.6000000000000001,
          0.8,
          1
         ]
        },
        {
         "mode": "text",
         "showlegend": false,
         "text": "pRes",
         "textfont": {
          "size": 20
         },
         "type": "scatter",
         "x": [
          0.14164224746811022
         ],
         "y": [
          1.1
         ]
        },
        {
         "line": {
          "color": "black"
         },
         "mode": "text",
         "showlegend": false,
         "text": [
          "0.0e5"
         ],
         "textposition": "bottom center",
         "type": "scatter",
         "x": [
          0.2805716391608708
         ],
         "y": [
          0
         ]
        },
        {
         "line": {
          "color": "black"
         },
         "mode": "text",
         "showlegend": false,
         "text": [
          "3.1e5"
         ],
         "textposition": "top center",
         "type": "scatter",
         "x": [
          0.2805716391608708
         ],
         "y": [
          1
         ]
        },
        {
         "line": {
          "color": "black"
         },
         "mode": "markers+lines+text",
         "showlegend": false,
         "text": [
          "",
          "0.6",
          "1.2",
          "1.9",
          "2.5",
          ""
         ],
         "textposition": "middle left",
         "type": "scatter",
         "x": [
          0.2805716391608708,
          0.2805716391608708,
          0.2805716391608708,
          0.2805716391608708,
          0.2805716391608708,
          0.2805716391608708
         ],
         "y": [
          0,
          0.2,
          0.4,
          0.6000000000000001,
          0.8,
          1
         ]
        },
        {
         "mode": "text",
         "showlegend": false,
         "text": "mPpeak",
         "textfont": {
          "size": 20
         },
         "type": "scatter",
         "x": [
          0.2805716391608708
         ],
         "y": [
          1.1
         ]
        },
        {
         "line": {
          "color": "black"
         },
         "mode": "text",
         "showlegend": false,
         "text": [
          "-0.0e4"
         ],
         "textposition": "bottom center",
         "type": "scatter",
         "x": [
          0.3369857728059401
         ],
         "y": [
          0
         ]
        },
        {
         "line": {
          "color": "black"
         },
         "mode": "text",
         "showlegend": false,
         "text": [
          "7.6e4"
         ],
         "textposition": "top center",
         "type": "scatter",
         "x": [
          0.3369857728059401
         ],
         "y": [
          1
         ]
        },
        {
         "line": {
          "color": "black"
         },
         "mode": "markers+lines+text",
         "showlegend": false,
         "text": [
          "",
          "1.5",
          "3.0",
          "4.6",
          "6.1",
          ""
         ],
         "textposition": "middle left",
         "type": "scatter",
         "x": [
          0.3369857728059401,
          0.3369857728059401,
          0.3369857728059401,
          0.3369857728059401,
          0.3369857728059401,
          0.3369857728059401
         ],
         "y": [
          0,
          0.2,
          0.4,
          0.6000000000000001,
          0.8,
          1
         ]
        },
        {
         "mode": "text",
         "showlegend": false,
         "text": "bGrid",
         "textfont": {
          "size": 20
         },
         "type": "scatter",
         "x": [
          0.3369857728059401
         ],
         "y": [
          1.1
         ]
        },
        {
         "line": {
          "color": "black"
         },
         "mode": "text",
         "showlegend": false,
         "text": [
          "0.0e4"
         ],
         "textposition": "bottom center",
         "type": "scatter",
         "x": [
          0.49829197767260625
         ],
         "y": [
          0
         ]
        },
        {
         "line": {
          "color": "black"
         },
         "mode": "text",
         "showlegend": false,
         "text": [
          "16.8e4"
         ],
         "textposition": "top center",
         "type": "scatter",
         "x": [
          0.49829197767260625
         ],
         "y": [
          1
         ]
        },
        {
         "line": {
          "color": "black"
         },
         "mode": "markers+lines+text",
         "showlegend": false,
         "text": [
          "",
          "3.4",
          "6.7",
          "10.1",
          "13.5",
          ""
         ],
         "textposition": "middle left",
         "type": "scatter",
         "x": [
          0.49829197767260625,
          0.49829197767260625,
          0.49829197767260625,
          0.49829197767260625,
          0.49829197767260625,
          0.49829197767260625
         ],
         "y": [
          0,
          0.2,
          0.4,
          0.6000000000000001,
          0.8,
          1
         ]
        },
        {
         "mode": "text",
         "showlegend": false,
         "text": "bDis",
         "textfont": {
          "size": 20
         },
         "type": "scatter",
         "x": [
          0.49829197767260625
         ],
         "y": [
          1.1
         ]
        },
        {
         "line": {
          "color": "black"
         },
         "mode": "text",
         "showlegend": false,
         "text": [
          "0.0"
         ],
         "textposition": "bottom center",
         "type": "scatter",
         "x": [
          0.6486267636953562
         ],
         "y": [
          0
         ]
        },
        {
         "line": {
          "color": "black"
         },
         "mode": "text",
         "showlegend": false,
         "text": [
          "1.0"
         ],
         "textposition": "top center",
         "type": "scatter",
         "x": [
          0.6486267636953562
         ],
         "y": [
          1
         ]
        },
        {
         "line": {
          "color": "black"
         },
         "mode": "markers+lines+text",
         "showlegend": false,
         "text": [
          "",
          "0.2",
          "0.4",
          "0.6",
          "0.8",
          ""
         ],
         "textposition": "middle left",
         "type": "scatter",
         "x": [
          0.6486267636953562,
          0.6486267636953562,
          0.6486267636953562,
          0.6486267636953562,
          0.6486267636953562,
          0.6486267636953562
         ],
         "y": [
          0,
          0.2,
          0.4,
          0.6000000000000001,
          0.8,
          1
         ]
        },
        {
         "mode": "text",
         "showlegend": false,
         "text": "bSOC",
         "textfont": {
          "size": 20
         },
         "type": "scatter",
         "x": [
          0.6486267636953562
         ],
         "y": [
          1.1
         ]
        },
        {
         "line": {
          "color": "black"
         },
         "mode": "text",
         "showlegend": false,
         "text": [
          "2.1e3"
         ],
         "textposition": "bottom center",
         "type": "scatter",
         "x": [
          0.7987147182544719
         ],
         "y": [
          0
         ]
        },
        {
         "line": {
          "color": "black"
         },
         "mode": "text",
         "showlegend": false,
         "text": [
          "2.2e3"
         ],
         "textposition": "top center",
         "type": "scatter",
         "x": [
          0.7987147182544719
         ],
         "y": [
          1
         ]
        },
        {
         "line": {
          "color": "black"
         },
         "mode": "markers+lines+text",
         "showlegend": false,
         "text": [
          "",
          "2.1",
          "2.1",
          "2.2",
          "2.2",
          ""
         ],
         "textposition": "middle left",
         "type": "scatter",
         "x": [
          0.7987147182544719,
          0.7987147182544719,
          0.7987147182544719,
          0.7987147182544719,
          0.7987147182544719,
          0.7987147182544719
         ],
         "y": [
          0,
          0.2,
          0.4,
          0.6000000000000001,
          0.8,
          1
         ]
        },
        {
         "mode": "text",
         "showlegend": false,
         "text": "CO2",
         "textfont": {
          "size": 20
         },
         "type": "scatter",
         "x": [
          0.7987147182544719
         ],
         "y": [
          1.1
         ]
        },
        {
         "line": {
          "color": "black"
         },
         "mode": "text",
         "showlegend": false,
         "text": [
          "3.2e5"
         ],
         "textposition": "bottom center",
         "type": "scatter",
         "x": [
          0.8546449575619145
         ],
         "y": [
          0
         ]
        },
        {
         "line": {
          "color": "black"
         },
         "mode": "text",
         "showlegend": false,
         "text": [
          "3.4e5"
         ],
         "textposition": "top center",
         "type": "scatter",
         "x": [
          0.8546449575619145
         ],
         "y": [
          1
         ]
        },
        {
         "line": {
          "color": "black"
         },
         "mode": "markers+lines+text",
         "showlegend": false,
         "text": [
          "",
          "3.2",
          "3.3",
          "3.3",
          "3.4",
          ""
         ],
         "textposition": "middle left",
         "type": "scatter",
         "x": [
          0.8546449575619145,
          0.8546449575619145,
          0.8546449575619145,
          0.8546449575619145,
          0.8546449575619145,
          0.8546449575619145
         ],
         "y": [
          0,
          0.2,
          0.4,
          0.6000000000000001,
          0.8,
          1
         ]
        },
        {
         "mode": "text",
         "showlegend": false,
         "text": "Costs",
         "textfont": {
          "size": 20
         },
         "type": "scatter",
         "x": [
          0.8546449575619145
         ],
         "y": [
          1.1
         ]
        },
        {
         "line": {
          "color": "black"
         },
         "mode": "text",
         "showlegend": false,
         "text": [
          "0.0"
         ],
         "textposition": "bottom center",
         "type": "scatter",
         "x": [
          1
         ],
         "y": [
          0
         ]
        },
        {
         "line": {
          "color": "black"
         },
         "mode": "text",
         "showlegend": false,
         "text": [
          "1.0"
         ],
         "textposition": "top center",
         "type": "scatter",
         "x": [
          1
         ],
         "y": [
          1
         ]
        },
        {
         "line": {
          "color": "black"
         },
         "mode": "markers+lines+text",
         "showlegend": false,
         "text": [
          "",
          "0.2",
          "0.4",
          "0.6",
          "0.8",
          ""
         ],
         "textposition": "middle left",
         "type": "scatter",
         "x": [
          1,
          1,
          1,
          1,
          1,
          1
         ],
         "y": [
          0,
          0.2,
          0.4,
          0.6000000000000001,
          0.8,
          1
         ]
        },
        {
         "mode": "text",
         "showlegend": false,
         "text": "bSOC% Time",
         "textfont": {
          "size": 20
         },
         "type": "scatter",
         "x": [
          1
         ],
         "y": [
          1.1
         ]
        }
       ],
       "layout": {
        "font": {
         "size": 18
        },
        "height": 700,
        "legend": {
         "font": {
          "size": 24
         },
         "orientation": "h",
         "yanchor": "top"
        },
        "plot_bgcolor": "rgba(0,0,0,0)",
        "template": {
         "data": {
          "bar": [
           {
            "error_x": {
             "color": "#2a3f5f"
            },
            "error_y": {
             "color": "#2a3f5f"
            },
            "marker": {
             "line": {
              "color": "#E5ECF6",
              "width": 0.5
             },
             "pattern": {
              "fillmode": "overlay",
              "size": 10,
              "solidity": 0.2
             }
            },
            "type": "bar"
           }
          ],
          "barpolar": [
           {
            "marker": {
             "line": {
              "color": "#E5ECF6",
              "width": 0.5
             },
             "pattern": {
              "fillmode": "overlay",
              "size": 10,
              "solidity": 0.2
             }
            },
            "type": "barpolar"
           }
          ],
          "carpet": [
           {
            "aaxis": {
             "endlinecolor": "#2a3f5f",
             "gridcolor": "white",
             "linecolor": "white",
             "minorgridcolor": "white",
             "startlinecolor": "#2a3f5f"
            },
            "baxis": {
             "endlinecolor": "#2a3f5f",
             "gridcolor": "white",
             "linecolor": "white",
             "minorgridcolor": "white",
             "startlinecolor": "#2a3f5f"
            },
            "type": "carpet"
           }
          ],
          "choropleth": [
           {
            "colorbar": {
             "outlinewidth": 0,
             "ticks": ""
            },
            "type": "choropleth"
           }
          ],
          "contour": [
           {
            "colorbar": {
             "outlinewidth": 0,
             "ticks": ""
            },
            "colorscale": [
             [
              0,
              "#0d0887"
             ],
             [
              0.1111111111111111,
              "#46039f"
             ],
             [
              0.2222222222222222,
              "#7201a8"
             ],
             [
              0.3333333333333333,
              "#9c179e"
             ],
             [
              0.4444444444444444,
              "#bd3786"
             ],
             [
              0.5555555555555556,
              "#d8576b"
             ],
             [
              0.6666666666666666,
              "#ed7953"
             ],
             [
              0.7777777777777778,
              "#fb9f3a"
             ],
             [
              0.8888888888888888,
              "#fdca26"
             ],
             [
              1,
              "#f0f921"
             ]
            ],
            "type": "contour"
           }
          ],
          "contourcarpet": [
           {
            "colorbar": {
             "outlinewidth": 0,
             "ticks": ""
            },
            "type": "contourcarpet"
           }
          ],
          "heatmap": [
           {
            "colorbar": {
             "outlinewidth": 0,
             "ticks": ""
            },
            "colorscale": [
             [
              0,
              "#0d0887"
             ],
             [
              0.1111111111111111,
              "#46039f"
             ],
             [
              0.2222222222222222,
              "#7201a8"
             ],
             [
              0.3333333333333333,
              "#9c179e"
             ],
             [
              0.4444444444444444,
              "#bd3786"
             ],
             [
              0.5555555555555556,
              "#d8576b"
             ],
             [
              0.6666666666666666,
              "#ed7953"
             ],
             [
              0.7777777777777778,
              "#fb9f3a"
             ],
             [
              0.8888888888888888,
              "#fdca26"
             ],
             [
              1,
              "#f0f921"
             ]
            ],
            "type": "heatmap"
           }
          ],
          "heatmapgl": [
           {
            "colorbar": {
             "outlinewidth": 0,
             "ticks": ""
            },
            "colorscale": [
             [
              0,
              "#0d0887"
             ],
             [
              0.1111111111111111,
              "#46039f"
             ],
             [
              0.2222222222222222,
              "#7201a8"
             ],
             [
              0.3333333333333333,
              "#9c179e"
             ],
             [
              0.4444444444444444,
              "#bd3786"
             ],
             [
              0.5555555555555556,
              "#d8576b"
             ],
             [
              0.6666666666666666,
              "#ed7953"
             ],
             [
              0.7777777777777778,
              "#fb9f3a"
             ],
             [
              0.8888888888888888,
              "#fdca26"
             ],
             [
              1,
              "#f0f921"
             ]
            ],
            "type": "heatmapgl"
           }
          ],
          "histogram": [
           {
            "marker": {
             "pattern": {
              "fillmode": "overlay",
              "size": 10,
              "solidity": 0.2
             }
            },
            "type": "histogram"
           }
          ],
          "histogram2d": [
           {
            "colorbar": {
             "outlinewidth": 0,
             "ticks": ""
            },
            "colorscale": [
             [
              0,
              "#0d0887"
             ],
             [
              0.1111111111111111,
              "#46039f"
             ],
             [
              0.2222222222222222,
              "#7201a8"
             ],
             [
              0.3333333333333333,
              "#9c179e"
             ],
             [
              0.4444444444444444,
              "#bd3786"
             ],
             [
              0.5555555555555556,
              "#d8576b"
             ],
             [
              0.6666666666666666,
              "#ed7953"
             ],
             [
              0.7777777777777778,
              "#fb9f3a"
             ],
             [
              0.8888888888888888,
              "#fdca26"
             ],
             [
              1,
              "#f0f921"
             ]
            ],
            "type": "histogram2d"
           }
          ],
          "histogram2dcontour": [
           {
            "colorbar": {
             "outlinewidth": 0,
             "ticks": ""
            },
            "colorscale": [
             [
              0,
              "#0d0887"
             ],
             [
              0.1111111111111111,
              "#46039f"
             ],
             [
              0.2222222222222222,
              "#7201a8"
             ],
             [
              0.3333333333333333,
              "#9c179e"
             ],
             [
              0.4444444444444444,
              "#bd3786"
             ],
             [
              0.5555555555555556,
              "#d8576b"
             ],
             [
              0.6666666666666666,
              "#ed7953"
             ],
             [
              0.7777777777777778,
              "#fb9f3a"
             ],
             [
              0.8888888888888888,
              "#fdca26"
             ],
             [
              1,
              "#f0f921"
             ]
            ],
            "type": "histogram2dcontour"
           }
          ],
          "mesh3d": [
           {
            "colorbar": {
             "outlinewidth": 0,
             "ticks": ""
            },
            "type": "mesh3d"
           }
          ],
          "parcoords": [
           {
            "line": {
             "colorbar": {
              "outlinewidth": 0,
              "ticks": ""
             }
            },
            "type": "parcoords"
           }
          ],
          "pie": [
           {
            "automargin": true,
            "type": "pie"
           }
          ],
          "scatter": [
           {
            "fillpattern": {
             "fillmode": "overlay",
             "size": 10,
             "solidity": 0.2
            },
            "type": "scatter"
           }
          ],
          "scatter3d": [
           {
            "line": {
             "colorbar": {
              "outlinewidth": 0,
              "ticks": ""
             }
            },
            "marker": {
             "colorbar": {
              "outlinewidth": 0,
              "ticks": ""
             }
            },
            "type": "scatter3d"
           }
          ],
          "scattercarpet": [
           {
            "marker": {
             "colorbar": {
              "outlinewidth": 0,
              "ticks": ""
             }
            },
            "type": "scattercarpet"
           }
          ],
          "scattergeo": [
           {
            "marker": {
             "colorbar": {
              "outlinewidth": 0,
              "ticks": ""
             }
            },
            "type": "scattergeo"
           }
          ],
          "scattergl": [
           {
            "marker": {
             "colorbar": {
              "outlinewidth": 0,
              "ticks": ""
             }
            },
            "type": "scattergl"
           }
          ],
          "scattermapbox": [
           {
            "marker": {
             "colorbar": {
              "outlinewidth": 0,
              "ticks": ""
             }
            },
            "type": "scattermapbox"
           }
          ],
          "scatterpolar": [
           {
            "marker": {
             "colorbar": {
              "outlinewidth": 0,
              "ticks": ""
             }
            },
            "type": "scatterpolar"
           }
          ],
          "scatterpolargl": [
           {
            "marker": {
             "colorbar": {
              "outlinewidth": 0,
              "ticks": ""
             }
            },
            "type": "scatterpolargl"
           }
          ],
          "scatterternary": [
           {
            "marker": {
             "colorbar": {
              "outlinewidth": 0,
              "ticks": ""
             }
            },
            "type": "scatterternary"
           }
          ],
          "surface": [
           {
            "colorbar": {
             "outlinewidth": 0,
             "ticks": ""
            },
            "colorscale": [
             [
              0,
              "#0d0887"
             ],
             [
              0.1111111111111111,
              "#46039f"
             ],
             [
              0.2222222222222222,
              "#7201a8"
             ],
             [
              0.3333333333333333,
              "#9c179e"
             ],
             [
              0.4444444444444444,
              "#bd3786"
             ],
             [
              0.5555555555555556,
              "#d8576b"
             ],
             [
              0.6666666666666666,
              "#ed7953"
             ],
             [
              0.7777777777777778,
              "#fb9f3a"
             ],
             [
              0.8888888888888888,
              "#fdca26"
             ],
             [
              1,
              "#f0f921"
             ]
            ],
            "type": "surface"
           }
          ],
          "table": [
           {
            "cells": {
             "fill": {
              "color": "#EBF0F8"
             },
             "line": {
              "color": "white"
             }
            },
            "header": {
             "fill": {
              "color": "#C8D4E3"
             },
             "line": {
              "color": "white"
             }
            },
            "type": "table"
           }
          ]
         },
         "layout": {
          "annotationdefaults": {
           "arrowcolor": "#2a3f5f",
           "arrowhead": 0,
           "arrowwidth": 1
          },
          "autotypenumbers": "strict",
          "coloraxis": {
           "colorbar": {
            "outlinewidth": 0,
            "ticks": ""
           }
          },
          "colorscale": {
           "diverging": [
            [
             0,
             "#8e0152"
            ],
            [
             0.1,
             "#c51b7d"
            ],
            [
             0.2,
             "#de77ae"
            ],
            [
             0.3,
             "#f1b6da"
            ],
            [
             0.4,
             "#fde0ef"
            ],
            [
             0.5,
             "#f7f7f7"
            ],
            [
             0.6,
             "#e6f5d0"
            ],
            [
             0.7,
             "#b8e186"
            ],
            [
             0.8,
             "#7fbc41"
            ],
            [
             0.9,
             "#4d9221"
            ],
            [
             1,
             "#276419"
            ]
           ],
           "sequential": [
            [
             0,
             "#0d0887"
            ],
            [
             0.1111111111111111,
             "#46039f"
            ],
            [
             0.2222222222222222,
             "#7201a8"
            ],
            [
             0.3333333333333333,
             "#9c179e"
            ],
            [
             0.4444444444444444,
             "#bd3786"
            ],
            [
             0.5555555555555556,
             "#d8576b"
            ],
            [
             0.6666666666666666,
             "#ed7953"
            ],
            [
             0.7777777777777778,
             "#fb9f3a"
            ],
            [
             0.8888888888888888,
             "#fdca26"
            ],
            [
             1,
             "#f0f921"
            ]
           ],
           "sequentialminus": [
            [
             0,
             "#0d0887"
            ],
            [
             0.1111111111111111,
             "#46039f"
            ],
            [
             0.2222222222222222,
             "#7201a8"
            ],
            [
             0.3333333333333333,
             "#9c179e"
            ],
            [
             0.4444444444444444,
             "#bd3786"
            ],
            [
             0.5555555555555556,
             "#d8576b"
            ],
            [
             0.6666666666666666,
             "#ed7953"
            ],
            [
             0.7777777777777778,
             "#fb9f3a"
            ],
            [
             0.8888888888888888,
             "#fdca26"
            ],
            [
             1,
             "#f0f921"
            ]
           ]
          },
          "colorway": [
           "#636efa",
           "#EF553B",
           "#00cc96",
           "#ab63fa",
           "#FFA15A",
           "#19d3f3",
           "#FF6692",
           "#B6E880",
           "#FF97FF",
           "#FECB52"
          ],
          "font": {
           "color": "#2a3f5f"
          },
          "geo": {
           "bgcolor": "white",
           "lakecolor": "white",
           "landcolor": "#E5ECF6",
           "showlakes": true,
           "showland": true,
           "subunitcolor": "white"
          },
          "hoverlabel": {
           "align": "left"
          },
          "hovermode": "closest",
          "mapbox": {
           "style": "light"
          },
          "paper_bgcolor": "white",
          "plot_bgcolor": "#E5ECF6",
          "polar": {
           "angularaxis": {
            "gridcolor": "white",
            "linecolor": "white",
            "ticks": ""
           },
           "bgcolor": "#E5ECF6",
           "radialaxis": {
            "gridcolor": "white",
            "linecolor": "white",
            "ticks": ""
           }
          },
          "scene": {
           "xaxis": {
            "backgroundcolor": "#E5ECF6",
            "gridcolor": "white",
            "gridwidth": 2,
            "linecolor": "white",
            "showbackground": true,
            "ticks": "",
            "zerolinecolor": "white"
           },
           "yaxis": {
            "backgroundcolor": "#E5ECF6",
            "gridcolor": "white",
            "gridwidth": 2,
            "linecolor": "white",
            "showbackground": true,
            "ticks": "",
            "zerolinecolor": "white"
           },
           "zaxis": {
            "backgroundcolor": "#E5ECF6",
            "gridcolor": "white",
            "gridwidth": 2,
            "linecolor": "white",
            "showbackground": true,
            "ticks": "",
            "zerolinecolor": "white"
           }
          },
          "shapedefaults": {
           "line": {
            "color": "#2a3f5f"
           }
          },
          "ternary": {
           "aaxis": {
            "gridcolor": "white",
            "linecolor": "white",
            "ticks": ""
           },
           "baxis": {
            "gridcolor": "white",
            "linecolor": "white",
            "ticks": ""
           },
           "bgcolor": "#E5ECF6",
           "caxis": {
            "gridcolor": "white",
            "linecolor": "white",
            "ticks": ""
           }
          },
          "title": {
           "x": 0.05
          },
          "xaxis": {
           "automargin": true,
           "gridcolor": "white",
           "linecolor": "white",
           "ticks": "",
           "title": {
            "standoff": 15
           },
           "zerolinecolor": "white",
           "zerolinewidth": 2
          },
          "yaxis": {
           "automargin": true,
           "gridcolor": "white",
           "linecolor": "white",
           "ticks": "",
           "title": {
            "standoff": 15
           },
           "zerolinecolor": "white",
           "zerolinewidth": 2
          }
         }
        },
        "width": 1500,
        "xaxis": {
         "showgrid": false,
         "showticklabels": false,
         "zeroline": false
        },
        "yaxis": {
         "showgrid": false,
         "showticklabels": false,
         "zeroline": false
        }
       }
      }
     },
     "metadata": {},
     "output_type": "display_data"
    }
   ],
   "source": [
    "# Choose band 8. group by \"bSOC\"\n",
    "\n",
    "band = 8\n",
    "\n",
    "data_copy = data_copy.copy()\n",
    "data_copy = data_copy[data_copy[\"cluster\"]== band]\n",
    "\n",
    "\n",
    "# Cluster into 8 groups\n",
    "obj_to_cluster = \"bSOC\"\n",
    "n_clusters = 8\n",
    "\n",
    "data_copy[\"cluster\"] = 1\n",
    "for i in range(1, n_clusters):\n",
    "    data_copy.loc[data_copy[obj_to_cluster] > data_copy[obj_to_cluster].quantile(i / n_clusters), \"cluster\"] = i+1\n",
    "\n",
    "ordered_data, axis_dist, axis_signs = calculate_axes_positions(\n",
    "        data_copy[objs],\n",
    "        obj_order,\n",
    "        corr,\n",
    "        dist_parameter=0.521,\n",
    "        distance_formula=1,\n",
    "    )\n",
    "\n",
    "#scales = pd.DataFrame([ordered_data.min(axis=0), ordered_data.max(axis=0)], index=[\"min\", \"max\"])\n",
    "\n",
    "fig = SCORE_bands(\n",
    "    ordered_data,\n",
    "    color_groups=data_copy[\"cluster\"].tolist(),\n",
    "    bands=True,\n",
    "    quantile=0.05,\n",
    "    axis_positions=axis_dist,\n",
    "    solutions=False,\n",
    "    scales=scales[ordered_data.columns],\n",
    ")\n",
    "\n",
    "fig.update_layout(\n",
    "    width=1500,\n",
    "    height=700,\n",
    ")\n"
   ]
  },
  {
   "cell_type": "code",
   "execution_count": 10,
   "id": "9cde22e6",
   "metadata": {},
   "outputs": [
    {
     "data": {
      "application/vnd.plotly.v1+json": {
       "config": {
        "plotlyServerURL": "https://plot.ly"
       },
       "data": [
        {
         "hovertemplate": "bSOC=%{x}<br>pRes=%{y}<extra></extra>",
         "legendgroup": "",
         "marker": {
          "color": "#636efa",
          "symbol": "circle"
         },
         "mode": "markers",
         "name": "",
         "orientation": "v",
         "showlegend": false,
         "type": "scatter",
         "x": [
          0.753475588,
          0.743887615,
          0.755991839,
          0.895221389,
          0.9112045589832092,
          0.910971217,
          0.913324449,
          0.8348421007359008,
          0.932642075,
          0.926705005,
          0.9273195216001968,
          0.8562637291369399,
          0.919027695,
          0.927316597,
          0.904236533,
          0.78876501,
          0.787586392,
          0.919642134,
          0.9351206452329408,
          0.910007212,
          0.7657609719218961,
          0.8209224144845579,
          0.891930469,
          0.928545499,
          0.7152605358911641,
          0.699246275,
          0.715253452,
          0.699157477,
          0.7346441131192208,
          0.698835495,
          0.701311908,
          0.7317309950862769,
          0.6982504030044611,
          0.6979205767550771,
          0.779662568,
          0.781168396,
          0.7656100565778979,
          0.7816506963734711,
          0.940576622,
          0.704424328,
          0.904268785
         ],
         "xaxis": "x",
         "y": [
          5180.927572,
          5224.110224,
          5314.522641455779,
          6214.257715108729,
          6699.811556,
          7023.932057,
          6802.843257369661,
          6174.821048,
          6819.9330179833305,
          6744.660395,
          7329.761207,
          6834.08814,
          6860.013948,
          7342.671514,
          8127.177913943498,
          6576.762605,
          5279.880173,
          5466.847501573479,
          5093.799839221911,
          5392.605125,
          5083.761338,
          7988.141939219059,
          5653.01903,
          4997.453867517371,
          6751.379173011071,
          6599.056263,
          6761.149476521529,
          6626.899249509711,
          7266.171209,
          7242.590423,
          7432.308116,
          5142.548477,
          5163.519136,
          5161.0624981826895,
          7154.673682,
          7135.442751805559,
          7784.825848,
          7266.901212459109,
          8195.170362,
          7288.892533,
          6331.257610834039
         ],
         "yaxis": "y"
        }
       ],
       "layout": {
        "height": 300,
        "legend": {
         "tracegroupgap": 0
        },
        "margin": {
         "t": 60
        },
        "template": {
         "data": {
          "bar": [
           {
            "error_x": {
             "color": "#2a3f5f"
            },
            "error_y": {
             "color": "#2a3f5f"
            },
            "marker": {
             "line": {
              "color": "#E5ECF6",
              "width": 0.5
             },
             "pattern": {
              "fillmode": "overlay",
              "size": 10,
              "solidity": 0.2
             }
            },
            "type": "bar"
           }
          ],
          "barpolar": [
           {
            "marker": {
             "line": {
              "color": "#E5ECF6",
              "width": 0.5
             },
             "pattern": {
              "fillmode": "overlay",
              "size": 10,
              "solidity": 0.2
             }
            },
            "type": "barpolar"
           }
          ],
          "carpet": [
           {
            "aaxis": {
             "endlinecolor": "#2a3f5f",
             "gridcolor": "white",
             "linecolor": "white",
             "minorgridcolor": "white",
             "startlinecolor": "#2a3f5f"
            },
            "baxis": {
             "endlinecolor": "#2a3f5f",
             "gridcolor": "white",
             "linecolor": "white",
             "minorgridcolor": "white",
             "startlinecolor": "#2a3f5f"
            },
            "type": "carpet"
           }
          ],
          "choropleth": [
           {
            "colorbar": {
             "outlinewidth": 0,
             "ticks": ""
            },
            "type": "choropleth"
           }
          ],
          "contour": [
           {
            "colorbar": {
             "outlinewidth": 0,
             "ticks": ""
            },
            "colorscale": [
             [
              0,
              "#0d0887"
             ],
             [
              0.1111111111111111,
              "#46039f"
             ],
             [
              0.2222222222222222,
              "#7201a8"
             ],
             [
              0.3333333333333333,
              "#9c179e"
             ],
             [
              0.4444444444444444,
              "#bd3786"
             ],
             [
              0.5555555555555556,
              "#d8576b"
             ],
             [
              0.6666666666666666,
              "#ed7953"
             ],
             [
              0.7777777777777778,
              "#fb9f3a"
             ],
             [
              0.8888888888888888,
              "#fdca26"
             ],
             [
              1,
              "#f0f921"
             ]
            ],
            "type": "contour"
           }
          ],
          "contourcarpet": [
           {
            "colorbar": {
             "outlinewidth": 0,
             "ticks": ""
            },
            "type": "contourcarpet"
           }
          ],
          "heatmap": [
           {
            "colorbar": {
             "outlinewidth": 0,
             "ticks": ""
            },
            "colorscale": [
             [
              0,
              "#0d0887"
             ],
             [
              0.1111111111111111,
              "#46039f"
             ],
             [
              0.2222222222222222,
              "#7201a8"
             ],
             [
              0.3333333333333333,
              "#9c179e"
             ],
             [
              0.4444444444444444,
              "#bd3786"
             ],
             [
              0.5555555555555556,
              "#d8576b"
             ],
             [
              0.6666666666666666,
              "#ed7953"
             ],
             [
              0.7777777777777778,
              "#fb9f3a"
             ],
             [
              0.8888888888888888,
              "#fdca26"
             ],
             [
              1,
              "#f0f921"
             ]
            ],
            "type": "heatmap"
           }
          ],
          "heatmapgl": [
           {
            "colorbar": {
             "outlinewidth": 0,
             "ticks": ""
            },
            "colorscale": [
             [
              0,
              "#0d0887"
             ],
             [
              0.1111111111111111,
              "#46039f"
             ],
             [
              0.2222222222222222,
              "#7201a8"
             ],
             [
              0.3333333333333333,
              "#9c179e"
             ],
             [
              0.4444444444444444,
              "#bd3786"
             ],
             [
              0.5555555555555556,
              "#d8576b"
             ],
             [
              0.6666666666666666,
              "#ed7953"
             ],
             [
              0.7777777777777778,
              "#fb9f3a"
             ],
             [
              0.8888888888888888,
              "#fdca26"
             ],
             [
              1,
              "#f0f921"
             ]
            ],
            "type": "heatmapgl"
           }
          ],
          "histogram": [
           {
            "marker": {
             "pattern": {
              "fillmode": "overlay",
              "size": 10,
              "solidity": 0.2
             }
            },
            "type": "histogram"
           }
          ],
          "histogram2d": [
           {
            "colorbar": {
             "outlinewidth": 0,
             "ticks": ""
            },
            "colorscale": [
             [
              0,
              "#0d0887"
             ],
             [
              0.1111111111111111,
              "#46039f"
             ],
             [
              0.2222222222222222,
              "#7201a8"
             ],
             [
              0.3333333333333333,
              "#9c179e"
             ],
             [
              0.4444444444444444,
              "#bd3786"
             ],
             [
              0.5555555555555556,
              "#d8576b"
             ],
             [
              0.6666666666666666,
              "#ed7953"
             ],
             [
              0.7777777777777778,
              "#fb9f3a"
             ],
             [
              0.8888888888888888,
              "#fdca26"
             ],
             [
              1,
              "#f0f921"
             ]
            ],
            "type": "histogram2d"
           }
          ],
          "histogram2dcontour": [
           {
            "colorbar": {
             "outlinewidth": 0,
             "ticks": ""
            },
            "colorscale": [
             [
              0,
              "#0d0887"
             ],
             [
              0.1111111111111111,
              "#46039f"
             ],
             [
              0.2222222222222222,
              "#7201a8"
             ],
             [
              0.3333333333333333,
              "#9c179e"
             ],
             [
              0.4444444444444444,
              "#bd3786"
             ],
             [
              0.5555555555555556,
              "#d8576b"
             ],
             [
              0.6666666666666666,
              "#ed7953"
             ],
             [
              0.7777777777777778,
              "#fb9f3a"
             ],
             [
              0.8888888888888888,
              "#fdca26"
             ],
             [
              1,
              "#f0f921"
             ]
            ],
            "type": "histogram2dcontour"
           }
          ],
          "mesh3d": [
           {
            "colorbar": {
             "outlinewidth": 0,
             "ticks": ""
            },
            "type": "mesh3d"
           }
          ],
          "parcoords": [
           {
            "line": {
             "colorbar": {
              "outlinewidth": 0,
              "ticks": ""
             }
            },
            "type": "parcoords"
           }
          ],
          "pie": [
           {
            "automargin": true,
            "type": "pie"
           }
          ],
          "scatter": [
           {
            "fillpattern": {
             "fillmode": "overlay",
             "size": 10,
             "solidity": 0.2
            },
            "type": "scatter"
           }
          ],
          "scatter3d": [
           {
            "line": {
             "colorbar": {
              "outlinewidth": 0,
              "ticks": ""
             }
            },
            "marker": {
             "colorbar": {
              "outlinewidth": 0,
              "ticks": ""
             }
            },
            "type": "scatter3d"
           }
          ],
          "scattercarpet": [
           {
            "marker": {
             "colorbar": {
              "outlinewidth": 0,
              "ticks": ""
             }
            },
            "type": "scattercarpet"
           }
          ],
          "scattergeo": [
           {
            "marker": {
             "colorbar": {
              "outlinewidth": 0,
              "ticks": ""
             }
            },
            "type": "scattergeo"
           }
          ],
          "scattergl": [
           {
            "marker": {
             "colorbar": {
              "outlinewidth": 0,
              "ticks": ""
             }
            },
            "type": "scattergl"
           }
          ],
          "scattermapbox": [
           {
            "marker": {
             "colorbar": {
              "outlinewidth": 0,
              "ticks": ""
             }
            },
            "type": "scattermapbox"
           }
          ],
          "scatterpolar": [
           {
            "marker": {
             "colorbar": {
              "outlinewidth": 0,
              "ticks": ""
             }
            },
            "type": "scatterpolar"
           }
          ],
          "scatterpolargl": [
           {
            "marker": {
             "colorbar": {
              "outlinewidth": 0,
              "ticks": ""
             }
            },
            "type": "scatterpolargl"
           }
          ],
          "scatterternary": [
           {
            "marker": {
             "colorbar": {
              "outlinewidth": 0,
              "ticks": ""
             }
            },
            "type": "scatterternary"
           }
          ],
          "surface": [
           {
            "colorbar": {
             "outlinewidth": 0,
             "ticks": ""
            },
            "colorscale": [
             [
              0,
              "#0d0887"
             ],
             [
              0.1111111111111111,
              "#46039f"
             ],
             [
              0.2222222222222222,
              "#7201a8"
             ],
             [
              0.3333333333333333,
              "#9c179e"
             ],
             [
              0.4444444444444444,
              "#bd3786"
             ],
             [
              0.5555555555555556,
              "#d8576b"
             ],
             [
              0.6666666666666666,
              "#ed7953"
             ],
             [
              0.7777777777777778,
              "#fb9f3a"
             ],
             [
              0.8888888888888888,
              "#fdca26"
             ],
             [
              1,
              "#f0f921"
             ]
            ],
            "type": "surface"
           }
          ],
          "table": [
           {
            "cells": {
             "fill": {
              "color": "#EBF0F8"
             },
             "line": {
              "color": "white"
             }
            },
            "header": {
             "fill": {
              "color": "#C8D4E3"
             },
             "line": {
              "color": "white"
             }
            },
            "type": "table"
           }
          ]
         },
         "layout": {
          "annotationdefaults": {
           "arrowcolor": "#2a3f5f",
           "arrowhead": 0,
           "arrowwidth": 1
          },
          "autotypenumbers": "strict",
          "coloraxis": {
           "colorbar": {
            "outlinewidth": 0,
            "ticks": ""
           }
          },
          "colorscale": {
           "diverging": [
            [
             0,
             "#8e0152"
            ],
            [
             0.1,
             "#c51b7d"
            ],
            [
             0.2,
             "#de77ae"
            ],
            [
             0.3,
             "#f1b6da"
            ],
            [
             0.4,
             "#fde0ef"
            ],
            [
             0.5,
             "#f7f7f7"
            ],
            [
             0.6,
             "#e6f5d0"
            ],
            [
             0.7,
             "#b8e186"
            ],
            [
             0.8,
             "#7fbc41"
            ],
            [
             0.9,
             "#4d9221"
            ],
            [
             1,
             "#276419"
            ]
           ],
           "sequential": [
            [
             0,
             "#0d0887"
            ],
            [
             0.1111111111111111,
             "#46039f"
            ],
            [
             0.2222222222222222,
             "#7201a8"
            ],
            [
             0.3333333333333333,
             "#9c179e"
            ],
            [
             0.4444444444444444,
             "#bd3786"
            ],
            [
             0.5555555555555556,
             "#d8576b"
            ],
            [
             0.6666666666666666,
             "#ed7953"
            ],
            [
             0.7777777777777778,
             "#fb9f3a"
            ],
            [
             0.8888888888888888,
             "#fdca26"
            ],
            [
             1,
             "#f0f921"
            ]
           ],
           "sequentialminus": [
            [
             0,
             "#0d0887"
            ],
            [
             0.1111111111111111,
             "#46039f"
            ],
            [
             0.2222222222222222,
             "#7201a8"
            ],
            [
             0.3333333333333333,
             "#9c179e"
            ],
            [
             0.4444444444444444,
             "#bd3786"
            ],
            [
             0.5555555555555556,
             "#d8576b"
            ],
            [
             0.6666666666666666,
             "#ed7953"
            ],
            [
             0.7777777777777778,
             "#fb9f3a"
            ],
            [
             0.8888888888888888,
             "#fdca26"
            ],
            [
             1,
             "#f0f921"
            ]
           ]
          },
          "colorway": [
           "#636efa",
           "#EF553B",
           "#00cc96",
           "#ab63fa",
           "#FFA15A",
           "#19d3f3",
           "#FF6692",
           "#B6E880",
           "#FF97FF",
           "#FECB52"
          ],
          "font": {
           "color": "#2a3f5f"
          },
          "geo": {
           "bgcolor": "white",
           "lakecolor": "white",
           "landcolor": "#E5ECF6",
           "showlakes": true,
           "showland": true,
           "subunitcolor": "white"
          },
          "hoverlabel": {
           "align": "left"
          },
          "hovermode": "closest",
          "mapbox": {
           "style": "light"
          },
          "paper_bgcolor": "white",
          "plot_bgcolor": "#E5ECF6",
          "polar": {
           "angularaxis": {
            "gridcolor": "white",
            "linecolor": "white",
            "ticks": ""
           },
           "bgcolor": "#E5ECF6",
           "radialaxis": {
            "gridcolor": "white",
            "linecolor": "white",
            "ticks": ""
           }
          },
          "scene": {
           "xaxis": {
            "backgroundcolor": "#E5ECF6",
            "gridcolor": "white",
            "gridwidth": 2,
            "linecolor": "white",
            "showbackground": true,
            "ticks": "",
            "zerolinecolor": "white"
           },
           "yaxis": {
            "backgroundcolor": "#E5ECF6",
            "gridcolor": "white",
            "gridwidth": 2,
            "linecolor": "white",
            "showbackground": true,
            "ticks": "",
            "zerolinecolor": "white"
           },
           "zaxis": {
            "backgroundcolor": "#E5ECF6",
            "gridcolor": "white",
            "gridwidth": 2,
            "linecolor": "white",
            "showbackground": true,
            "ticks": "",
            "zerolinecolor": "white"
           }
          },
          "shapedefaults": {
           "line": {
            "color": "#2a3f5f"
           }
          },
          "ternary": {
           "aaxis": {
            "gridcolor": "white",
            "linecolor": "white",
            "ticks": ""
           },
           "baxis": {
            "gridcolor": "white",
            "linecolor": "white",
            "ticks": ""
           },
           "bgcolor": "#E5ECF6",
           "caxis": {
            "gridcolor": "white",
            "linecolor": "white",
            "ticks": ""
           }
          },
          "title": {
           "x": 0.05
          },
          "xaxis": {
           "automargin": true,
           "gridcolor": "white",
           "linecolor": "white",
           "ticks": "",
           "title": {
            "standoff": 15
           },
           "zerolinecolor": "white",
           "zerolinewidth": 2
          },
          "yaxis": {
           "automargin": true,
           "gridcolor": "white",
           "linecolor": "white",
           "ticks": "",
           "title": {
            "standoff": 15
           },
           "zerolinecolor": "white",
           "zerolinewidth": 2
          }
         }
        },
        "title": {
         "text": "Battery SOC vs. Resilience for Band 8"
        },
        "width": 300,
        "xaxis": {
         "anchor": "y",
         "domain": [
          0,
          1
         ],
         "title": {
          "text": "Mean battery state of charge"
         }
        },
        "yaxis": {
         "anchor": "x",
         "domain": [
          0,
          1
         ],
         "title": {
          "text": "Positive resilience"
         }
        }
       }
      }
     },
     "metadata": {},
     "output_type": "display_data"
    }
   ],
   "source": [
    "ex.scatter(\n",
    "    data_copy,\n",
    "    x=\"bSOC\",\n",
    "    y=\"pRes\"\n",
    ").update_layout(\n",
    "    width=300,\n",
    "    height=300,\n",
    "    title=\"Battery SOC vs. Resilience for Band 8\",\n",
    "    xaxis_title=\"Mean battery state of charge\",\n",
    "    yaxis_title=\"Positive resilience\",\n",
    ").show()"
   ]
  },
  {
   "cell_type": "code",
   "execution_count": null,
   "id": "64fe32f2",
   "metadata": {},
   "outputs": [
    {
     "data": {
      "application/vnd.plotly.v1+json": {
       "config": {
        "plotlyServerURL": "https://plot.ly"
       },
       "data": [
        {
         "hovertext": "Cluster 1",
         "legendgroup": "90% band: Cluster 1",
         "line": {
          "color": "rgba(0.4980392156862745, 0.788235294117647, 0.4980392156862745, 0.6)",
          "shape": "spline"
         },
         "mode": "lines",
         "name": "90% band: Cluster 1; 1 Solutions        ",
         "showlegend": true,
         "type": "scatter",
         "visible": true,
         "x": [
          0,
          0.14164224746811022,
          0.2805716391608708,
          0.3369857728059401,
          0.49829197767260625,
          0.6486267636953562,
          0.7987147182544719,
          0.8546449575619145,
          1
         ],
         "y": [
          0.20180609679818928,
          0.8790531574751536,
          0.2683070715255591,
          0.20103189426083468,
          0.039415646368005694,
          0.8428765191932994,
          0.34164594875782206,
          0.42671209883111194,
          0.9911504427965315
         ]
        },
        {
         "fill": "tonexty",
         "fillcolor": "rgba(0.4980392156862745, 0.788235294117647, 0.4980392156862745, 0.6)",
         "hovertext": "Cluster 1",
         "legendgroup": "90% band: Cluster 1",
         "line": {
          "color": "rgba(0.4980392156862745, 0.788235294117647, 0.4980392156862745, 0.6)",
          "shape": "spline"
         },
         "mode": "lines",
         "name": "Cluster 1",
         "showlegend": false,
         "type": "scatter",
         "visible": true,
         "x": [
          0,
          0.14164224746811022,
          0.2805716391608708,
          0.3369857728059401,
          0.49829197767260625,
          0.6486267636953562,
          0.7987147182544719,
          0.8546449575619145,
          1
         ],
         "y": [
          0.20180609679818928,
          0.8790531574751536,
          0.2683070715255591,
          0.20103189426083468,
          0.039415646368005694,
          0.8428765191932994,
          0.34164594875782206,
          0.42671209883111194,
          0.9911504427965315
         ]
        },
        {
         "hovertext": "Cluster 2",
         "legendgroup": "90% band: Cluster 2",
         "line": {
          "color": "rgba(0.9921568627450981, 0.7529411764705882, 0.5254901960784314, 0.6)",
          "shape": "spline"
         },
         "mode": "lines",
         "name": "90% band: Cluster 2; 1 Solutions        ",
         "showlegend": true,
         "type": "scatter",
         "visible": true,
         "x": [
          0,
          0.14164224746811022,
          0.2805716391608708,
          0.3369857728059401,
          0.49829197767260625,
          0.6486267636953562,
          0.7987147182544719,
          0.8546449575619145,
          1
         ],
         "y": [
          0.19961375105654391,
          0.6794398969006875,
          0.329307827559524,
          0.25954422989399506,
          0.040420440374649994,
          0.8577532242371544,
          0.30545842473191004,
          0.38073759493867426,
          0.9926066989818982
         ]
        },
        {
         "fill": "tonexty",
         "fillcolor": "rgba(0.9921568627450981, 0.7529411764705882, 0.5254901960784314, 0.6)",
         "hovertext": "Cluster 2",
         "legendgroup": "90% band: Cluster 2",
         "line": {
          "color": "rgba(0.9921568627450981, 0.7529411764705882, 0.5254901960784314, 0.6)",
          "shape": "spline"
         },
         "mode": "lines",
         "name": "Cluster 2",
         "showlegend": false,
         "type": "scatter",
         "visible": true,
         "x": [
          0,
          0.14164224746811022,
          0.2805716391608708,
          0.3369857728059401,
          0.49829197767260625,
          0.6486267636953562,
          0.7987147182544719,
          0.8546449575619145,
          1
         ],
         "y": [
          0.19961375105654391,
          0.6794398969006875,
          0.329307827559524,
          0.25954422989399506,
          0.040420440374649994,
          0.8577532242371544,
          0.30545842473191004,
          0.38073759493867426,
          0.9926066989818982
         ]
        },
        {
         "hovertext": "Cluster 3",
         "legendgroup": "90% band: Cluster 3",
         "line": {
          "color": "rgba(0.2196078431372549, 0.4235294117647059, 0.6901960784313725, 0.6)",
          "shape": "spline"
         },
         "mode": "lines",
         "name": "90% band: Cluster 3; 1 Solutions        ",
         "showlegend": true,
         "type": "scatter",
         "visible": true,
         "x": [
          0,
          0.14164224746811022,
          0.2805716391608708,
          0.3369857728059401,
          0.49829197767260625,
          0.6486267636953562,
          0.7987147182544719,
          0.8546449575619145,
          1
         ],
         "y": [
          0.1996150794668526,
          0.7520130715995659,
          0.2721015197383754,
          0.20669242747644045,
          0.048872865320331194,
          0.8806476517067808,
          0.33514021783085,
          0.4200270894345981,
          0.9908143833337493
         ]
        },
        {
         "fill": "tonexty",
         "fillcolor": "rgba(0.2196078431372549, 0.4235294117647059, 0.6901960784313725, 0.6)",
         "hovertext": "Cluster 3",
         "legendgroup": "90% band: Cluster 3",
         "line": {
          "color": "rgba(0.2196078431372549, 0.4235294117647059, 0.6901960784313725, 0.6)",
          "shape": "spline"
         },
         "mode": "lines",
         "name": "Cluster 3",
         "showlegend": false,
         "type": "scatter",
         "visible": true,
         "x": [
          0,
          0.14164224746811022,
          0.2805716391608708,
          0.3369857728059401,
          0.49829197767260625,
          0.6486267636953562,
          0.7987147182544719,
          0.8546449575619145,
          1
         ],
         "y": [
          0.1996150794668526,
          0.7520130715995659,
          0.2721015197383754,
          0.20669242747644045,
          0.048872865320331194,
          0.8806476517067808,
          0.33514021783085,
          0.4200270894345981,
          0.9908143833337493
         ]
        },
        {
         "hovertext": "Cluster 4",
         "legendgroup": "90% band: Cluster 4",
         "line": {
          "color": "rgba(0.7490196078431373, 0.3568627450980392, 0.09019607843137253, 0.6)",
          "shape": "spline"
         },
         "mode": "lines",
         "name": "90% band: Cluster 4; 1 Solutions        ",
         "showlegend": true,
         "type": "scatter",
         "visible": true,
         "x": [
          0,
          0.14164224746811022,
          0.2805716391608708,
          0.3369857728059401,
          0.49829197767260625,
          0.6486267636953562,
          0.7987147182544719,
          0.8546449575619145,
          1
         ],
         "y": [
          0.18850769066886738,
          0.6219990971549281,
          0.34764079959130917,
          0.27404854346020624,
          0.05613668014797257,
          0.9187665833578056,
          0.30154545182356385,
          0.37994430269045104,
          0.9904783241874237
         ]
        },
        {
         "fill": "tonexty",
         "fillcolor": "rgba(0.7490196078431373, 0.3568627450980392, 0.09019607843137253, 0.6)",
         "hovertext": "Cluster 4",
         "legendgroup": "90% band: Cluster 4",
         "line": {
          "color": "rgba(0.7490196078431373, 0.3568627450980392, 0.09019607843137253, 0.6)",
          "shape": "spline"
         },
         "mode": "lines",
         "name": "Cluster 4",
         "showlegend": false,
         "type": "scatter",
         "visible": true,
         "x": [
          0,
          0.14164224746811022,
          0.2805716391608708,
          0.3369857728059401,
          0.49829197767260625,
          0.6486267636953562,
          0.7987147182544719,
          0.8546449575619145,
          1
         ],
         "y": [
          0.18850769066886738,
          0.6219990971549281,
          0.34764079959130917,
          0.27404854346020624,
          0.05613668014797257,
          0.9187665833578056,
          0.30154545182356385,
          0.37994430269045104,
          0.9904783241874237
         ]
        },
        {
         "hovertext": "Cluster 5",
         "legendgroup": "90% band: Cluster 5",
         "line": {
          "color": "rgba(0.4, 0.4, 0.4, 0.6)",
          "shape": "spline"
         },
         "mode": "lines",
         "name": "90% band: Cluster 5; 1 Solutions        ",
         "showlegend": true,
         "type": "scatter",
         "visible": true,
         "x": [
          0,
          0.14164224746811022,
          0.2805716391608708,
          0.3369857728059401,
          0.49829197767260625,
          0.6486267636953562,
          0.7987147182544719,
          0.8546449575619145,
          1
         ],
         "y": [
          0.20180688472454616,
          0.6837811482180266,
          0.21603661482219833,
          0.13398948893476356,
          0.031751674600210895,
          0.9222837636504434,
          0.31651895964253324,
          0.3963149532049374,
          0.9908143833337493
         ]
        },
        {
         "fill": "tonexty",
         "fillcolor": "rgba(0.4, 0.4, 0.4, 0.6)",
         "hovertext": "Cluster 5",
         "legendgroup": "90% band: Cluster 5",
         "line": {
          "color": "rgba(0.4, 0.4, 0.4, 0.6)",
          "shape": "spline"
         },
         "mode": "lines",
         "name": "Cluster 5",
         "showlegend": false,
         "type": "scatter",
         "visible": true,
         "x": [
          0,
          0.14164224746811022,
          0.2805716391608708,
          0.3369857728059401,
          0.49829197767260625,
          0.6486267636953562,
          0.7987147182544719,
          0.8546449575619145,
          1
         ],
         "y": [
          0.20180688472454616,
          0.6837811482180266,
          0.21603661482219833,
          0.13398948893476356,
          0.031751674600210895,
          0.9222837636504434,
          0.31651895964253324,
          0.3963149532049374,
          0.9908143833337493
         ]
        },
        {
         "line": {
          "color": "black"
         },
         "mode": "text",
         "showlegend": false,
         "text": [
          "2.7e5"
         ],
         "textposition": "bottom center",
         "type": "scatter",
         "x": [
          0
         ],
         "y": [
          0
         ]
        },
        {
         "line": {
          "color": "black"
         },
         "mode": "text",
         "showlegend": false,
         "text": [
          "5.7e5"
         ],
         "textposition": "top center",
         "type": "scatter",
         "x": [
          0
         ],
         "y": [
          1
         ]
        },
        {
         "line": {
          "color": "black"
         },
         "mode": "markers+lines+text",
         "showlegend": false,
         "text": [
          "",
          "3.3",
          "3.9",
          "4.5",
          "5.1",
          ""
         ],
         "textposition": "middle left",
         "type": "scatter",
         "x": [
          0,
          0,
          0,
          0,
          0,
          0
         ],
         "y": [
          0,
          0.2,
          0.4,
          0.6000000000000001,
          0.8,
          1
         ]
        },
        {
         "mode": "text",
         "showlegend": false,
         "text": "Ppeak",
         "textfont": {
          "size": 20
         },
         "type": "scatter",
         "x": [
          0
         ],
         "y": [
          1.1
         ]
        },
        {
         "line": {
          "color": "black"
         },
         "mode": "text",
         "showlegend": false,
         "text": [
          "0.0e3"
         ],
         "textposition": "bottom center",
         "type": "scatter",
         "x": [
          0.14164224746811022
         ],
         "y": [
          0
         ]
        },
        {
         "line": {
          "color": "black"
         },
         "mode": "text",
         "showlegend": false,
         "text": [
          "9.1e3"
         ],
         "textposition": "top center",
         "type": "scatter",
         "x": [
          0.14164224746811022
         ],
         "y": [
          1
         ]
        },
        {
         "line": {
          "color": "black"
         },
         "mode": "markers+lines+text",
         "showlegend": false,
         "text": [
          "",
          "1.8",
          "3.6",
          "5.5",
          "7.3",
          ""
         ],
         "textposition": "middle left",
         "type": "scatter",
         "x": [
          0.14164224746811022,
          0.14164224746811022,
          0.14164224746811022,
          0.14164224746811022,
          0.14164224746811022,
          0.14164224746811022
         ],
         "y": [
          0,
          0.2,
          0.4,
          0.6000000000000001,
          0.8,
          1
         ]
        },
        {
         "mode": "text",
         "showlegend": false,
         "text": "pRes",
         "textfont": {
          "size": 20
         },
         "type": "scatter",
         "x": [
          0.14164224746811022
         ],
         "y": [
          1.1
         ]
        },
        {
         "line": {
          "color": "black"
         },
         "mode": "text",
         "showlegend": false,
         "text": [
          "0.0e5"
         ],
         "textposition": "bottom center",
         "type": "scatter",
         "x": [
          0.2805716391608708
         ],
         "y": [
          0
         ]
        },
        {
         "line": {
          "color": "black"
         },
         "mode": "text",
         "showlegend": false,
         "text": [
          "3.1e5"
         ],
         "textposition": "top center",
         "type": "scatter",
         "x": [
          0.2805716391608708
         ],
         "y": [
          1
         ]
        },
        {
         "line": {
          "color": "black"
         },
         "mode": "markers+lines+text",
         "showlegend": false,
         "text": [
          "",
          "0.6",
          "1.2",
          "1.9",
          "2.5",
          ""
         ],
         "textposition": "middle left",
         "type": "scatter",
         "x": [
          0.2805716391608708,
          0.2805716391608708,
          0.2805716391608708,
          0.2805716391608708,
          0.2805716391608708,
          0.2805716391608708
         ],
         "y": [
          0,
          0.2,
          0.4,
          0.6000000000000001,
          0.8,
          1
         ]
        },
        {
         "mode": "text",
         "showlegend": false,
         "text": "mPpeak",
         "textfont": {
          "size": 20
         },
         "type": "scatter",
         "x": [
          0.2805716391608708
         ],
         "y": [
          1.1
         ]
        },
        {
         "line": {
          "color": "black"
         },
         "mode": "text",
         "showlegend": false,
         "text": [
          "-0.0e4"
         ],
         "textposition": "bottom center",
         "type": "scatter",
         "x": [
          0.3369857728059401
         ],
         "y": [
          0
         ]
        },
        {
         "line": {
          "color": "black"
         },
         "mode": "text",
         "showlegend": false,
         "text": [
          "7.6e4"
         ],
         "textposition": "top center",
         "type": "scatter",
         "x": [
          0.3369857728059401
         ],
         "y": [
          1
         ]
        },
        {
         "line": {
          "color": "black"
         },
         "mode": "markers+lines+text",
         "showlegend": false,
         "text": [
          "",
          "1.5",
          "3.0",
          "4.6",
          "6.1",
          ""
         ],
         "textposition": "middle left",
         "type": "scatter",
         "x": [
          0.3369857728059401,
          0.3369857728059401,
          0.3369857728059401,
          0.3369857728059401,
          0.3369857728059401,
          0.3369857728059401
         ],
         "y": [
          0,
          0.2,
          0.4,
          0.6000000000000001,
          0.8,
          1
         ]
        },
        {
         "mode": "text",
         "showlegend": false,
         "text": "bGrid",
         "textfont": {
          "size": 20
         },
         "type": "scatter",
         "x": [
          0.3369857728059401
         ],
         "y": [
          1.1
         ]
        },
        {
         "line": {
          "color": "black"
         },
         "mode": "text",
         "showlegend": false,
         "text": [
          "0.0e4"
         ],
         "textposition": "bottom center",
         "type": "scatter",
         "x": [
          0.49829197767260625
         ],
         "y": [
          0
         ]
        },
        {
         "line": {
          "color": "black"
         },
         "mode": "text",
         "showlegend": false,
         "text": [
          "16.8e4"
         ],
         "textposition": "top center",
         "type": "scatter",
         "x": [
          0.49829197767260625
         ],
         "y": [
          1
         ]
        },
        {
         "line": {
          "color": "black"
         },
         "mode": "markers+lines+text",
         "showlegend": false,
         "text": [
          "",
          "3.4",
          "6.7",
          "10.1",
          "13.5",
          ""
         ],
         "textposition": "middle left",
         "type": "scatter",
         "x": [
          0.49829197767260625,
          0.49829197767260625,
          0.49829197767260625,
          0.49829197767260625,
          0.49829197767260625,
          0.49829197767260625
         ],
         "y": [
          0,
          0.2,
          0.4,
          0.6000000000000001,
          0.8,
          1
         ]
        },
        {
         "mode": "text",
         "showlegend": false,
         "text": "bDis",
         "textfont": {
          "size": 20
         },
         "type": "scatter",
         "x": [
          0.49829197767260625
         ],
         "y": [
          1.1
         ]
        },
        {
         "line": {
          "color": "black"
         },
         "mode": "text",
         "showlegend": false,
         "text": [
          "0.0"
         ],
         "textposition": "bottom center",
         "type": "scatter",
         "x": [
          0.6486267636953562
         ],
         "y": [
          0
         ]
        },
        {
         "line": {
          "color": "black"
         },
         "mode": "text",
         "showlegend": false,
         "text": [
          "1.0"
         ],
         "textposition": "top center",
         "type": "scatter",
         "x": [
          0.6486267636953562
         ],
         "y": [
          1
         ]
        },
        {
         "line": {
          "color": "black"
         },
         "mode": "markers+lines+text",
         "showlegend": false,
         "text": [
          "",
          "0.2",
          "0.4",
          "0.6",
          "0.8",
          ""
         ],
         "textposition": "middle left",
         "type": "scatter",
         "x": [
          0.6486267636953562,
          0.6486267636953562,
          0.6486267636953562,
          0.6486267636953562,
          0.6486267636953562,
          0.6486267636953562
         ],
         "y": [
          0,
          0.2,
          0.4,
          0.6000000000000001,
          0.8,
          1
         ]
        },
        {
         "mode": "text",
         "showlegend": false,
         "text": "bSOC",
         "textfont": {
          "size": 20
         },
         "type": "scatter",
         "x": [
          0.6486267636953562
         ],
         "y": [
          1.1
         ]
        },
        {
         "line": {
          "color": "black"
         },
         "mode": "text",
         "showlegend": false,
         "text": [
          "2.1e3"
         ],
         "textposition": "bottom center",
         "type": "scatter",
         "x": [
          0.7987147182544719
         ],
         "y": [
          0
         ]
        },
        {
         "line": {
          "color": "black"
         },
         "mode": "text",
         "showlegend": false,
         "text": [
          "2.2e3"
         ],
         "textposition": "top center",
         "type": "scatter",
         "x": [
          0.7987147182544719
         ],
         "y": [
          1
         ]
        },
        {
         "line": {
          "color": "black"
         },
         "mode": "markers+lines+text",
         "showlegend": false,
         "text": [
          "",
          "2.1",
          "2.1",
          "2.2",
          "2.2",
          ""
         ],
         "textposition": "middle left",
         "type": "scatter",
         "x": [
          0.7987147182544719,
          0.7987147182544719,
          0.7987147182544719,
          0.7987147182544719,
          0.7987147182544719,
          0.7987147182544719
         ],
         "y": [
          0,
          0.2,
          0.4,
          0.6000000000000001,
          0.8,
          1
         ]
        },
        {
         "mode": "text",
         "showlegend": false,
         "text": "CO2",
         "textfont": {
          "size": 20
         },
         "type": "scatter",
         "x": [
          0.7987147182544719
         ],
         "y": [
          1.1
         ]
        },
        {
         "line": {
          "color": "black"
         },
         "mode": "text",
         "showlegend": false,
         "text": [
          "3.2e5"
         ],
         "textposition": "bottom center",
         "type": "scatter",
         "x": [
          0.8546449575619145
         ],
         "y": [
          0
         ]
        },
        {
         "line": {
          "color": "black"
         },
         "mode": "text",
         "showlegend": false,
         "text": [
          "3.4e5"
         ],
         "textposition": "top center",
         "type": "scatter",
         "x": [
          0.8546449575619145
         ],
         "y": [
          1
         ]
        },
        {
         "line": {
          "color": "black"
         },
         "mode": "markers+lines+text",
         "showlegend": false,
         "text": [
          "",
          "3.2",
          "3.3",
          "3.3",
          "3.4",
          ""
         ],
         "textposition": "middle left",
         "type": "scatter",
         "x": [
          0.8546449575619145,
          0.8546449575619145,
          0.8546449575619145,
          0.8546449575619145,
          0.8546449575619145,
          0.8546449575619145
         ],
         "y": [
          0,
          0.2,
          0.4,
          0.6000000000000001,
          0.8,
          1
         ]
        },
        {
         "mode": "text",
         "showlegend": false,
         "text": "Costs",
         "textfont": {
          "size": 20
         },
         "type": "scatter",
         "x": [
          0.8546449575619145
         ],
         "y": [
          1.1
         ]
        },
        {
         "line": {
          "color": "black"
         },
         "mode": "text",
         "showlegend": false,
         "text": [
          "0.0"
         ],
         "textposition": "bottom center",
         "type": "scatter",
         "x": [
          1
         ],
         "y": [
          0
         ]
        },
        {
         "line": {
          "color": "black"
         },
         "mode": "text",
         "showlegend": false,
         "text": [
          "1.0"
         ],
         "textposition": "top center",
         "type": "scatter",
         "x": [
          1
         ],
         "y": [
          1
         ]
        },
        {
         "line": {
          "color": "black"
         },
         "mode": "markers+lines+text",
         "showlegend": false,
         "text": [
          "",
          "0.2",
          "0.4",
          "0.6",
          "0.8",
          ""
         ],
         "textposition": "middle left",
         "type": "scatter",
         "x": [
          1,
          1,
          1,
          1,
          1,
          1
         ],
         "y": [
          0,
          0.2,
          0.4,
          0.6000000000000001,
          0.8,
          1
         ]
        },
        {
         "mode": "text",
         "showlegend": false,
         "text": "bSOC% Time",
         "textfont": {
          "size": 20
         },
         "type": "scatter",
         "x": [
          1
         ],
         "y": [
          1.1
         ]
        }
       ],
       "layout": {
        "font": {
         "size": 18
        },
        "height": 700,
        "legend": {
         "font": {
          "size": 24
         },
         "orientation": "h",
         "yanchor": "top"
        },
        "plot_bgcolor": "rgba(0,0,0,0)",
        "template": {
         "data": {
          "bar": [
           {
            "error_x": {
             "color": "#2a3f5f"
            },
            "error_y": {
             "color": "#2a3f5f"
            },
            "marker": {
             "line": {
              "color": "#E5ECF6",
              "width": 0.5
             },
             "pattern": {
              "fillmode": "overlay",
              "size": 10,
              "solidity": 0.2
             }
            },
            "type": "bar"
           }
          ],
          "barpolar": [
           {
            "marker": {
             "line": {
              "color": "#E5ECF6",
              "width": 0.5
             },
             "pattern": {
              "fillmode": "overlay",
              "size": 10,
              "solidity": 0.2
             }
            },
            "type": "barpolar"
           }
          ],
          "carpet": [
           {
            "aaxis": {
             "endlinecolor": "#2a3f5f",
             "gridcolor": "white",
             "linecolor": "white",
             "minorgridcolor": "white",
             "startlinecolor": "#2a3f5f"
            },
            "baxis": {
             "endlinecolor": "#2a3f5f",
             "gridcolor": "white",
             "linecolor": "white",
             "minorgridcolor": "white",
             "startlinecolor": "#2a3f5f"
            },
            "type": "carpet"
           }
          ],
          "choropleth": [
           {
            "colorbar": {
             "outlinewidth": 0,
             "ticks": ""
            },
            "type": "choropleth"
           }
          ],
          "contour": [
           {
            "colorbar": {
             "outlinewidth": 0,
             "ticks": ""
            },
            "colorscale": [
             [
              0,
              "#0d0887"
             ],
             [
              0.1111111111111111,
              "#46039f"
             ],
             [
              0.2222222222222222,
              "#7201a8"
             ],
             [
              0.3333333333333333,
              "#9c179e"
             ],
             [
              0.4444444444444444,
              "#bd3786"
             ],
             [
              0.5555555555555556,
              "#d8576b"
             ],
             [
              0.6666666666666666,
              "#ed7953"
             ],
             [
              0.7777777777777778,
              "#fb9f3a"
             ],
             [
              0.8888888888888888,
              "#fdca26"
             ],
             [
              1,
              "#f0f921"
             ]
            ],
            "type": "contour"
           }
          ],
          "contourcarpet": [
           {
            "colorbar": {
             "outlinewidth": 0,
             "ticks": ""
            },
            "type": "contourcarpet"
           }
          ],
          "heatmap": [
           {
            "colorbar": {
             "outlinewidth": 0,
             "ticks": ""
            },
            "colorscale": [
             [
              0,
              "#0d0887"
             ],
             [
              0.1111111111111111,
              "#46039f"
             ],
             [
              0.2222222222222222,
              "#7201a8"
             ],
             [
              0.3333333333333333,
              "#9c179e"
             ],
             [
              0.4444444444444444,
              "#bd3786"
             ],
             [
              0.5555555555555556,
              "#d8576b"
             ],
             [
              0.6666666666666666,
              "#ed7953"
             ],
             [
              0.7777777777777778,
              "#fb9f3a"
             ],
             [
              0.8888888888888888,
              "#fdca26"
             ],
             [
              1,
              "#f0f921"
             ]
            ],
            "type": "heatmap"
           }
          ],
          "heatmapgl": [
           {
            "colorbar": {
             "outlinewidth": 0,
             "ticks": ""
            },
            "colorscale": [
             [
              0,
              "#0d0887"
             ],
             [
              0.1111111111111111,
              "#46039f"
             ],
             [
              0.2222222222222222,
              "#7201a8"
             ],
             [
              0.3333333333333333,
              "#9c179e"
             ],
             [
              0.4444444444444444,
              "#bd3786"
             ],
             [
              0.5555555555555556,
              "#d8576b"
             ],
             [
              0.6666666666666666,
              "#ed7953"
             ],
             [
              0.7777777777777778,
              "#fb9f3a"
             ],
             [
              0.8888888888888888,
              "#fdca26"
             ],
             [
              1,
              "#f0f921"
             ]
            ],
            "type": "heatmapgl"
           }
          ],
          "histogram": [
           {
            "marker": {
             "pattern": {
              "fillmode": "overlay",
              "size": 10,
              "solidity": 0.2
             }
            },
            "type": "histogram"
           }
          ],
          "histogram2d": [
           {
            "colorbar": {
             "outlinewidth": 0,
             "ticks": ""
            },
            "colorscale": [
             [
              0,
              "#0d0887"
             ],
             [
              0.1111111111111111,
              "#46039f"
             ],
             [
              0.2222222222222222,
              "#7201a8"
             ],
             [
              0.3333333333333333,
              "#9c179e"
             ],
             [
              0.4444444444444444,
              "#bd3786"
             ],
             [
              0.5555555555555556,
              "#d8576b"
             ],
             [
              0.6666666666666666,
              "#ed7953"
             ],
             [
              0.7777777777777778,
              "#fb9f3a"
             ],
             [
              0.8888888888888888,
              "#fdca26"
             ],
             [
              1,
              "#f0f921"
             ]
            ],
            "type": "histogram2d"
           }
          ],
          "histogram2dcontour": [
           {
            "colorbar": {
             "outlinewidth": 0,
             "ticks": ""
            },
            "colorscale": [
             [
              0,
              "#0d0887"
             ],
             [
              0.1111111111111111,
              "#46039f"
             ],
             [
              0.2222222222222222,
              "#7201a8"
             ],
             [
              0.3333333333333333,
              "#9c179e"
             ],
             [
              0.4444444444444444,
              "#bd3786"
             ],
             [
              0.5555555555555556,
              "#d8576b"
             ],
             [
              0.6666666666666666,
              "#ed7953"
             ],
             [
              0.7777777777777778,
              "#fb9f3a"
             ],
             [
              0.8888888888888888,
              "#fdca26"
             ],
             [
              1,
              "#f0f921"
             ]
            ],
            "type": "histogram2dcontour"
           }
          ],
          "mesh3d": [
           {
            "colorbar": {
             "outlinewidth": 0,
             "ticks": ""
            },
            "type": "mesh3d"
           }
          ],
          "parcoords": [
           {
            "line": {
             "colorbar": {
              "outlinewidth": 0,
              "ticks": ""
             }
            },
            "type": "parcoords"
           }
          ],
          "pie": [
           {
            "automargin": true,
            "type": "pie"
           }
          ],
          "scatter": [
           {
            "fillpattern": {
             "fillmode": "overlay",
             "size": 10,
             "solidity": 0.2
            },
            "type": "scatter"
           }
          ],
          "scatter3d": [
           {
            "line": {
             "colorbar": {
              "outlinewidth": 0,
              "ticks": ""
             }
            },
            "marker": {
             "colorbar": {
              "outlinewidth": 0,
              "ticks": ""
             }
            },
            "type": "scatter3d"
           }
          ],
          "scattercarpet": [
           {
            "marker": {
             "colorbar": {
              "outlinewidth": 0,
              "ticks": ""
             }
            },
            "type": "scattercarpet"
           }
          ],
          "scattergeo": [
           {
            "marker": {
             "colorbar": {
              "outlinewidth": 0,
              "ticks": ""
             }
            },
            "type": "scattergeo"
           }
          ],
          "scattergl": [
           {
            "marker": {
             "colorbar": {
              "outlinewidth": 0,
              "ticks": ""
             }
            },
            "type": "scattergl"
           }
          ],
          "scattermapbox": [
           {
            "marker": {
             "colorbar": {
              "outlinewidth": 0,
              "ticks": ""
             }
            },
            "type": "scattermapbox"
           }
          ],
          "scatterpolar": [
           {
            "marker": {
             "colorbar": {
              "outlinewidth": 0,
              "ticks": ""
             }
            },
            "type": "scatterpolar"
           }
          ],
          "scatterpolargl": [
           {
            "marker": {
             "colorbar": {
              "outlinewidth": 0,
              "ticks": ""
             }
            },
            "type": "scatterpolargl"
           }
          ],
          "scatterternary": [
           {
            "marker": {
             "colorbar": {
              "outlinewidth": 0,
              "ticks": ""
             }
            },
            "type": "scatterternary"
           }
          ],
          "surface": [
           {
            "colorbar": {
             "outlinewidth": 0,
             "ticks": ""
            },
            "colorscale": [
             [
              0,
              "#0d0887"
             ],
             [
              0.1111111111111111,
              "#46039f"
             ],
             [
              0.2222222222222222,
              "#7201a8"
             ],
             [
              0.3333333333333333,
              "#9c179e"
             ],
             [
              0.4444444444444444,
              "#bd3786"
             ],
             [
              0.5555555555555556,
              "#d8576b"
             ],
             [
              0.6666666666666666,
              "#ed7953"
             ],
             [
              0.7777777777777778,
              "#fb9f3a"
             ],
             [
              0.8888888888888888,
              "#fdca26"
             ],
             [
              1,
              "#f0f921"
             ]
            ],
            "type": "surface"
           }
          ],
          "table": [
           {
            "cells": {
             "fill": {
              "color": "#EBF0F8"
             },
             "line": {
              "color": "white"
             }
            },
            "header": {
             "fill": {
              "color": "#C8D4E3"
             },
             "line": {
              "color": "white"
             }
            },
            "type": "table"
           }
          ]
         },
         "layout": {
          "annotationdefaults": {
           "arrowcolor": "#2a3f5f",
           "arrowhead": 0,
           "arrowwidth": 1
          },
          "autotypenumbers": "strict",
          "coloraxis": {
           "colorbar": {
            "outlinewidth": 0,
            "ticks": ""
           }
          },
          "colorscale": {
           "diverging": [
            [
             0,
             "#8e0152"
            ],
            [
             0.1,
             "#c51b7d"
            ],
            [
             0.2,
             "#de77ae"
            ],
            [
             0.3,
             "#f1b6da"
            ],
            [
             0.4,
             "#fde0ef"
            ],
            [
             0.5,
             "#f7f7f7"
            ],
            [
             0.6,
             "#e6f5d0"
            ],
            [
             0.7,
             "#b8e186"
            ],
            [
             0.8,
             "#7fbc41"
            ],
            [
             0.9,
             "#4d9221"
            ],
            [
             1,
             "#276419"
            ]
           ],
           "sequential": [
            [
             0,
             "#0d0887"
            ],
            [
             0.1111111111111111,
             "#46039f"
            ],
            [
             0.2222222222222222,
             "#7201a8"
            ],
            [
             0.3333333333333333,
             "#9c179e"
            ],
            [
             0.4444444444444444,
             "#bd3786"
            ],
            [
             0.5555555555555556,
             "#d8576b"
            ],
            [
             0.6666666666666666,
             "#ed7953"
            ],
            [
             0.7777777777777778,
             "#fb9f3a"
            ],
            [
             0.8888888888888888,
             "#fdca26"
            ],
            [
             1,
             "#f0f921"
            ]
           ],
           "sequentialminus": [
            [
             0,
             "#0d0887"
            ],
            [
             0.1111111111111111,
             "#46039f"
            ],
            [
             0.2222222222222222,
             "#7201a8"
            ],
            [
             0.3333333333333333,
             "#9c179e"
            ],
            [
             0.4444444444444444,
             "#bd3786"
            ],
            [
             0.5555555555555556,
             "#d8576b"
            ],
            [
             0.6666666666666666,
             "#ed7953"
            ],
            [
             0.7777777777777778,
             "#fb9f3a"
            ],
            [
             0.8888888888888888,
             "#fdca26"
            ],
            [
             1,
             "#f0f921"
            ]
           ]
          },
          "colorway": [
           "#636efa",
           "#EF553B",
           "#00cc96",
           "#ab63fa",
           "#FFA15A",
           "#19d3f3",
           "#FF6692",
           "#B6E880",
           "#FF97FF",
           "#FECB52"
          ],
          "font": {
           "color": "#2a3f5f"
          },
          "geo": {
           "bgcolor": "white",
           "lakecolor": "white",
           "landcolor": "#E5ECF6",
           "showlakes": true,
           "showland": true,
           "subunitcolor": "white"
          },
          "hoverlabel": {
           "align": "left"
          },
          "hovermode": "closest",
          "mapbox": {
           "style": "light"
          },
          "paper_bgcolor": "white",
          "plot_bgcolor": "#E5ECF6",
          "polar": {
           "angularaxis": {
            "gridcolor": "white",
            "linecolor": "white",
            "ticks": ""
           },
           "bgcolor": "#E5ECF6",
           "radialaxis": {
            "gridcolor": "white",
            "linecolor": "white",
            "ticks": ""
           }
          },
          "scene": {
           "xaxis": {
            "backgroundcolor": "#E5ECF6",
            "gridcolor": "white",
            "gridwidth": 2,
            "linecolor": "white",
            "showbackground": true,
            "ticks": "",
            "zerolinecolor": "white"
           },
           "yaxis": {
            "backgroundcolor": "#E5ECF6",
            "gridcolor": "white",
            "gridwidth": 2,
            "linecolor": "white",
            "showbackground": true,
            "ticks": "",
            "zerolinecolor": "white"
           },
           "zaxis": {
            "backgroundcolor": "#E5ECF6",
            "gridcolor": "white",
            "gridwidth": 2,
            "linecolor": "white",
            "showbackground": true,
            "ticks": "",
            "zerolinecolor": "white"
           }
          },
          "shapedefaults": {
           "line": {
            "color": "#2a3f5f"
           }
          },
          "ternary": {
           "aaxis": {
            "gridcolor": "white",
            "linecolor": "white",
            "ticks": ""
           },
           "baxis": {
            "gridcolor": "white",
            "linecolor": "white",
            "ticks": ""
           },
           "bgcolor": "#E5ECF6",
           "caxis": {
            "gridcolor": "white",
            "linecolor": "white",
            "ticks": ""
           }
          },
          "title": {
           "x": 0.05
          },
          "xaxis": {
           "automargin": true,
           "gridcolor": "white",
           "linecolor": "white",
           "ticks": "",
           "title": {
            "standoff": 15
           },
           "zerolinecolor": "white",
           "zerolinewidth": 2
          },
          "yaxis": {
           "automargin": true,
           "gridcolor": "white",
           "linecolor": "white",
           "ticks": "",
           "title": {
            "standoff": 15
           },
           "zerolinecolor": "white",
           "zerolinewidth": 2
          }
         }
        },
        "width": 1500,
        "xaxis": {
         "showgrid": false,
         "showticklabels": false,
         "zeroline": false
        },
        "yaxis": {
         "showgrid": false,
         "showticklabels": false,
         "zeroline": false
        }
       }
      }
     },
     "metadata": {},
     "output_type": "display_data"
    }
   ],
   "source": [
    "# Choose band 5. group by \"bSOC\"\n",
    "\n",
    "band = 5\n",
    "\n",
    "data_copy = data_copy.copy()\n",
    "data_copy = data_copy[data_copy[\"cluster\"]== band]\n",
    "\n",
    "\n",
    "# Cluster into 8 groups\n",
    "obj_to_cluster = \"bSOC\"\n",
    "n_clusters = 5\n",
    "\n",
    "data_copy[\"cluster\"] = 1\n",
    "for i in range(1, n_clusters):\n",
    "    data_copy.loc[data_copy[obj_to_cluster] > data_copy[obj_to_cluster].quantile(i / n_clusters), \"cluster\"] = i+1\n",
    "\n",
    "ordered_data, axis_dist, axis_signs = calculate_axes_positions(\n",
    "        data_copy[objs],\n",
    "        obj_order,\n",
    "        corr,\n",
    "        dist_parameter=0.521,\n",
    "        distance_formula=1,\n",
    "    )\n",
    "\n",
    "#scales = pd.DataFrame([ordered_data.min(axis=0), ordered_data.max(axis=0)], index=[\"min\", \"max\"])\n",
    "\n",
    "fig = SCORE_bands(\n",
    "    ordered_data,\n",
    "    color_groups=data_copy[\"cluster\"].tolist(),\n",
    "    bands=True,\n",
    "    quantile=0.05,\n",
    "    axis_positions=axis_dist,\n",
    "    solutions=False,\n",
    "    scales=scales[ordered_data.columns],\n",
    ")\n",
    "\n",
    "fig.update_layout(\n",
    "    width=1500,\n",
    "    height=700,\n",
    ")\n"
   ]
  },
  {
   "cell_type": "code",
   "execution_count": null,
   "id": "e8eb59e9",
   "metadata": {},
   "outputs": [],
   "source": []
  }
 ],
 "metadata": {
  "kernelspec": {
   "display_name": ".venv",
   "language": "python",
   "name": "python3"
  },
  "language_info": {
   "codemirror_mode": {
    "name": "ipython",
    "version": 3
   },
   "file_extension": ".py",
   "mimetype": "text/x-python",
   "name": "python",
   "nbconvert_exporter": "python",
   "pygments_lexer": "ipython3",
   "version": "3.12.10"
  }
 },
 "nbformat": 4,
 "nbformat_minor": 5
}
