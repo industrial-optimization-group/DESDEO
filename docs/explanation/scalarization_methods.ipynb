{
 "cells": [
  {
   "cell_type": "markdown",
   "id": "d74e3f48",
   "metadata": {},
   "source": [
    "# Scalarization-based methods\n",
    "\n",
    "In DESDEO, scalarization-based methods are implemented in a modular fashion.\n",
    "This means that no method is provided _per se_, but instead the different\n",
    "components required to build the method are provided. This idea is best illustrated\n",
    "by examples.\n",
    "\n",
    "## Example: The achievement scalarizing function method\n",
    "\n",
    "In the achievement scalarizing function (ASF) method, a scalarization function is solved\n",
    "iteratively with new preference information provided by a decision maker. The \n",
    "preference information consists in this case of a reference point containing\n",
    "aspiration levels.\n",
    "\n",
    "Suppose we have an instance of `Problem` defined as `problem`:"
   ]
  },
  {
   "cell_type": "code",
   "execution_count": null,
   "id": "d10280e1",
   "metadata": {},
   "outputs": [],
   "source": [
    "from desdeo.api.db_models import Problem\n",
    "\n",
    "\n",
    "problem: Problem = Problem(...)"
   ]
  },
  {
   "cell_type": "markdown",
   "id": "3e8675c2",
   "metadata": {},
   "source": [
    "Now, to \"implement\" the  ASF method, we first need preference information\n",
    "for the decision maker. Suppose `z_pref` is a list of aspiration levels."
   ]
  },
  {
   "cell_type": "code",
   "execution_count": null,
   "id": "8e06dd37",
   "metadata": {},
   "outputs": [],
   "source": [
    "z_pref = [...]"
   ]
  },
  {
   "cell_type": "markdown",
   "id": "2416bea8",
   "metadata": {},
   "source": [
    "The ASF is defined as follows:\n",
    "\n",
    "$$\n",
    "    S_\\text{AS}(F(\\mathbf{x}); \\mathbf{\\bar{z}}, \\mathbf{z}^\\star, \\mathbf{z}^\\text{nad}) = \n",
    "    \\underset{i=1,\\ldots,k}{\\text{max}}\n",
    "    \\left[\n",
    "    \\frac{f_i(\\mathbf{x}) - \\bar{z}_i}{z^\\text{nad}_i - (z_i^\\star - \\delta)}\n",
    "    \\right]\n",
    "    + \\rho\\sum_{i=1}^{k} \\frac{f_i(\\mathbf{x})}{z_i^\\text{nad} - (z_i^\\star - \\delta)},\n",
    "$$\n",
    "\n",
    "where the variables \\(F(\\mathbf{x}) = [f_1(\\mathbf{x}),\\dots,f_k(\\mathbf{x})], \\mathbf{z}^\\star, \\mathbf{z}^\\text{nad}\\)\n",
    "are assumed to be available through the instance of `problem`. The variable \\(\\mathbf{\\bar{z}}\\) is our reference point,\n",
    "which is provided by a decision maker.\n",
    "\n",
    "Now, to create the ASF method, we first create the ASF and then add it to the instance of `problem`:\n",
    "\n",
    "!!! TODO\n",
    "    fix this"
   ]
  },
  {
   "cell_type": "code",
   "execution_count": null,
   "id": "8810b5af",
   "metadata": {},
   "outputs": [],
   "source": [
    "problem = create_asf(problem=problem, symbol=\"s_asf\", ref_point=z, delta=1e-6, rho=1e-6)"
   ]
  },
  {
   "cell_type": "markdown",
   "id": "11b7482f",
   "metadata": {},
   "source": [
    "In the above example, we create an instance of the ASF where the variables of the function have been replaced by the\n",
    "corresponding variables found in the instance of `problem`. When creating scalarization functions of any type, at least\n",
    "the problem and a symbol must be supplied. In this example, the argument `z` (reference point) is also\n",
    "needed. The symbol is important because it is used later in solvers to specify\n",
    "which scalarization functions should be optimized. In the ASF example, `delta` and `rho` are optional parameters of the\n",
    "scalarization function. The number of parameters found in scalarization functions varies.\n",
    "\n",
    "<div class=\"admonition note\">\n",
    "<p class=\"admonition-title\">Note</p>\n",
    "<p>\n",
    "    When creating scalarization functions of any kind, the `tag` argument is very important because it is used\n",
    "    to specify to solvers which scalarization functions should be optimized. The `tag` must be unique inside\n",
    "    the instance of problem, i.e., no other field of a `problem` dataclass should share the same symbol.\n",
    "</p>\n",
    "</div>\n",
    "\n",
    "\n",
    "To solve the scalarization function, we can use the solver. For instance, the `scipy_solver` can utilize the\n",
    "minimizer routine defined in `scipy.optimize.minimize`. To solve the problem utilizing `scipy_solver`, we do:"
   ]
  },
  {
   "cell_type": "code",
   "execution_count": null,
   "id": "b36ea95c",
   "metadata": {},
   "outputs": [],
   "source": [
    "scipy_solver(problem, objective_tag=\"s_asf\", kwargs={...})"
   ]
  },
  {
   "cell_type": "markdown",
   "id": "69ec75af",
   "metadata": {},
   "source": [
    "As mentioned, the `tag` defined previously is now important so that we can tell the solver what\n",
    "to use as an objective when solving scalarization functions. The `kwargs` are optional arguments\n",
    "to control the internal solver, in this case, the routine `scipy.optimize.minimize`..."
   ]
  }
 ],
 "metadata": {
  "kernelspec": {
   "display_name": "desdeo",
   "language": "python",
   "name": "python3"
  },
  "language_info": {
   "codemirror_mode": {
    "name": "ipython",
    "version": 3
   },
   "file_extension": ".py",
   "mimetype": "text/x-python",
   "name": "python",
   "nbconvert_exporter": "python",
   "pygments_lexer": "ipython3",
   "version": "3.12.9"
  }
 },
 "nbformat": 4,
 "nbformat_minor": 5
}
