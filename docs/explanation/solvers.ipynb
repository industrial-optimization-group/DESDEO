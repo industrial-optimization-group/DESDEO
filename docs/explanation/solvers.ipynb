{
 "cells": [
  {
   "cell_type": "markdown",
   "id": "5a5bfdb2",
   "metadata": {},
   "source": [
    "# Solvers\n",
    "\n",
    "While DESDEO is a framework for interactive multiobjective \n",
    "optimization, it does not implement any optimizers _per se_.\n",
    "Instead, DESDEO provides interfaces to many existing solvers.\n",
    "How these interfaces work in general is explained in the \n",
    "section [Solver interfaces](#solver-interfaces), while the\n",
    "currently implemented solvers in DESDEO are introduced and\n",
    "a couple of examples on how to use the solvers are\n",
    "given in the section [Solver examples](#solver-examples).\n",
    "\n",
    "## Solver interfaces\n",
    "\n",
    "The solver interfaces rely internally heavily on the evaluators discussed\n",
    "in the section [Parsing and evaluating](../parsing_and_evaluating). It is\n",
    "the evaluators that make sure the `Problem` being solved is in a format that\n",
    "can be evaluated by a solver. The solver interfaces discussed here are\n",
    "in charge of making sure that when an outside solver evaluates a problem, the information\n",
    "from the solver is passed to the evaluator in a correct format, and that the\n",
    "output of the solver is then processed in a way that it can be utilized elsewhere\n",
    "in DESDEO. The interfaces also pass information from DESDEO to solvers\n",
    "in a compatible format. To put it simply, the solver interfaces are translators between the\n",
    "evaluators in DESDEO and the solvers found outside of DESDEO.\n",
    "\n",
    "## Solver examples\n",
    "\n",
    "How solvers can be utilized in practice is best illustrated with examples. We provide\n",
    "here a few examples on how to utilize different solvers through the solver interfaces\n",
    "available in DESDEO.\n",
    "\n",
    "### Scipy solvers\n",
    "\n",
    "The Scipy solvers in desdeo, found in the module [Scipy solver\n",
    "interfaces][desdeo.tools.scipy_solver_interfaces] can be used to interface with\n",
    "the optimization routines found in the Scipy library. There are interfaces to\n",
    "the solvers\n",
    "[`minimize`](https://docs.scipy.org/doc/scipy/reference/generated/scipy.optimize.minimize.html)\n",
    "and [`differential_evolution`](https://docs.scipy.org/doc/scipy/reference/generated/scipy.optimize.differential_evolution.html).\n",
    "Scipy solvers do not support TensorVariables.\n",
    "\n",
    "First, to illustrate the usage of the `minimize` interface, and the interfaces in general, consider the following\n",
    "example:"
   ]
  },
  {
   "cell_type": "code",
   "execution_count": null,
   "id": "9192f27b",
   "metadata": {},
   "outputs": [],
   "source": [
    "from desdeo.api.db_models import Problem\n",
    "from desdeo.tools import ScipyMinimizeSolver\n",
    "from desdeo.tools.generics import SolverResults\n",
    "\n",
    "problem: Problem  # a problem with the objectives f_1, f_2, and f_3 to be minimized\n",
    "\n",
    "solver = ScipyMinimizeSolver(problem)\n",
    "\n",
    "results: SolverResults = solver.solve(\"f_1\")"
   ]
  },
  {
   "cell_type": "markdown",
   "id": "0e8f2a4d",
   "metadata": {},
   "source": [
    "In the above example, we consider an arbitrary `Problem` with three objectives.\n",
    "We then create a solver by calling [ScipyMinimizeSolver][desdeo.tools.scipy_solver_interfaces.ScipyMinimizeSolver]\n",
    "and supplying it the problem we want to solve. This makes all the necessary setups for the solver and then\n",
    "returns an instance of the ScipyMinimizeSolver class, which we have stored in `solver`. To run the solver, we call the `solve` function\n",
    "with the symbol of the function defined in the problem we wish to minimize. Then, the solver returns a pydantic\n",
    "dataclass of type [SolverResults][desdeo.tools.generics.SolverResults] with the results of the optimization. It\n",
    "is important to know that whichever function we request the solver to optimize, will be minimized. Therefore,\n",
    "in the example, if `f_1` was to be maximized instead, we should have called `solve` with the argument `f_1_min`.\n",
    "The results contained in SolverResults will then correspond to the original maximized function `f_1`. It is\n",
    "the jobs of the evaluators to make sure that `f_1_min` is available. Likewise, if we have\n",
    "[Scalarized](../scalarization) the problem, we can give the solver the symbol of the added\n",
    "scalarization function.\n",
    "\n",
    "Likewise for [ScipyDeSolver][desdeo.tools.scipy_solver_interfaces.ScipyDeSolver] utilizing\n",
    "`differential_evolution`:"
   ]
  },
  {
   "cell_type": "code",
   "execution_count": null,
   "id": "23cff9e8",
   "metadata": {},
   "outputs": [],
   "source": [
    "from desdeo.api.db_models import Problem\n",
    "from desdeo.tools import ScipyDeSolver\n",
    "from desdeo.tools.generics import SolverResults\n",
    "\n",
    "problem: Problem  # a problem with the objectives f_1, f_2, and f_3 to be minimized\n",
    "\n",
    "solver = ScipyDeSolver(problem)\n",
    "\n",
    "results: SolverResults = solver.solve(\"f_1\")"
   ]
  },
  {
   "cell_type": "markdown",
   "id": "fe6b5942",
   "metadata": {},
   "source": [
    "<div class=\"admonition note\">\n",
    "<p class=\"admonition-title\">Note</p>\n",
    "<p>\n",
    "    Whichever function we request a solver to optimize, it will be minimized.\n",
    "</p>\n",
    "</div>\n",
    "\n",
    "### Proximal solver\n",
    "\n",
    "The [proximal solver][desdeo.tools.proximal_solver.ProximalSolver] is useful when a `Problem` has been defines such that all of\n",
    "its objective functions have been defined with a\n",
    "[DiscreteRepresentation][desdeo.problem.schema.DiscreteRepresentation]. The\n",
    "proximal solver takes a symbol to optimize, and will return the decision\n",
    "variable values that correspond to the lowest value found for the symbol in the\n",
    "data. It works identically to the scipy solvers in the previous example:"
   ]
  },
  {
   "cell_type": "code",
   "execution_count": null,
   "id": "55f99e76",
   "metadata": {},
   "outputs": [],
   "source": [
    "from desdeo.tools import ProximalSolver\n",
    "\n",
    "problem: Problem  # a problem with the objectives f_1, f_2, and f_3, and a discrete definition available\n",
    "\n",
    "solver = ProximalSolver(problem)\n",
    "\n",
    "results: SolverResults = solver.solve(\"f_1\")"
   ]
  },
  {
   "cell_type": "markdown",
   "id": "ce86328b",
   "metadata": {},
   "source": [
    "### Pyomo solvers\n",
    "\n",
    "WIP.\n",
    "\n",
    "### Gurobipy solver\n",
    "\n",
    "The [gurobipy solver][desdeo.tools.gurobipy_solver_interfaces.GurobipySolver] is suitable for solving mixed-integer\n",
    "linear and quadratic optimization problems. GurobipySolver also does not support non-differentiable problems, for\n",
    "example, problems with some max terms, like many (non-differentiable) functions.\n",
    "Like the other solvers, the gurobipy solver takes the symbol of\n",
    "the objective function minimized (or maximized, with the above mentioned added `_min`) and returns the results of\n",
    "the optimization:"
   ]
  },
  {
   "cell_type": "code",
   "execution_count": null,
   "id": "29f18716",
   "metadata": {},
   "outputs": [],
   "source": [
    "from desdeo.tools import GurobipySolver\n",
    "\n",
    "problem: Problem  # a problem with the objectives f_1, f_2, and f_3\n",
    "\n",
    "solver = GurobipySolver(problem)\n",
    "\n",
    "results: SolverResults = solver.solve(\"f_1\")"
   ]
  },
  {
   "cell_type": "markdown",
   "id": "09a631f5",
   "metadata": {},
   "source": [
    "### Nevergrad solver\n",
    "\n",
    "TODO.\n",
    "\n",
    "### Summary of Solvers\n",
    "\n",
    "TODO."
   ]
  }
 ],
 "metadata": {
  "kernelspec": {
   "display_name": "desdeo",
   "language": "python",
   "name": "python3"
  },
  "language_info": {
   "name": "python",
   "version": "3.12.9"
  }
 },
 "nbformat": 4,
 "nbformat_minor": 5
}
