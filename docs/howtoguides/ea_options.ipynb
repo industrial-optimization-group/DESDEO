{
 "cells": [
  {
   "cell_type": "markdown",
   "id": "e0199265",
   "metadata": {},
   "source": [
    "# Using Evolutionary Algorithms in DESDEO using Pydantic Models\n",
    "\n",
    "Here, we will show multiple ways of using Evolutionary Algorithms (EAs) in DESDEO, depending on the user's needs. Be sure to read the explanation on [how these algorithms are structured](../../explanation/templates_and_pub_sub) and see the guide on the [underlying methods that implement the algorithms](./ea.ipynb)."
   ]
  },
  {
   "cell_type": "code",
   "execution_count": null,
   "id": "16eea4a7",
   "metadata": {},
   "outputs": [
    {
     "name": "stderr",
     "output_type": "stream",
     "text": [
      "/home/rishi/projects/DESDEO/desdeo/__init__.py:9: UserWarning: \n",
      "            \n",
      "The following required highly recommended executables cannot be found: bonmin, cbc, ipopt\n",
      "\n",
      "            DESDEO relies on powerful 3rd party solvers to solve multiobjective\n",
      "            optimization problems.  Without these solvers, sub-optimal defaults\n",
      "            will be used instead, which can lead to not optimal, or even wrong,\n",
      "            results.\n",
      "\n",
      "            It is highly recommended to have these solvers available\n",
      "            in the environment DESDEO is utilized!\n",
      "\n",
      "            For more information, see DESDEO's documentation: https://desdeo.readthedocs.io/en/latest/howtoguides/installing/#third-party-optimizers\n",
      "            \n",
      "  _check_executables(required_executables)\n"
     ]
    }
   ],
   "source": [
    "from rich.pretty import pprint  # Just for pretty printing\n",
    "\n",
    "from desdeo.emo import (\n",
    "    algorithms,\n",
    "    crossover,\n",
    "    generator,\n",
    "    mutation,\n",
    "    other,\n",
    "    preference_handling,\n",
    "    repair,\n",
    "    scalar_selection,\n",
    "    selection,\n",
    "    templates,\n",
    "    termination,\n",
    ")"
   ]
  },
  {
   "cell_type": "code",
   "execution_count": 6,
   "id": "69874fb0",
   "metadata": {},
   "outputs": [
    {
     "data": {
      "text/html": [
       "<pre style=\"white-space:pre;overflow-x:auto;line-height:normal;font-family:Menlo,'DejaVu Sans Mono',consolas,'Courier New',monospace\"><span style=\"color: #800080; text-decoration-color: #800080; font-weight: bold\">EMOOptions</span><span style=\"font-weight: bold\">(</span>\n",
       "<span style=\"color: #7fbf7f; text-decoration-color: #7fbf7f\">│   </span><span style=\"color: #808000; text-decoration-color: #808000\">preference</span>=<span style=\"color: #800080; text-decoration-color: #800080; font-style: italic\">None</span>,\n",
       "<span style=\"color: #7fbf7f; text-decoration-color: #7fbf7f\">│   </span><span style=\"color: #808000; text-decoration-color: #808000\">template</span>=<span style=\"color: #800080; text-decoration-color: #800080; font-weight: bold\">Template1Options</span><span style=\"font-weight: bold\">(</span>\n",
       "<span style=\"color: #7fbf7f; text-decoration-color: #7fbf7f\">│   │   </span><span style=\"color: #808000; text-decoration-color: #808000\">crossover</span>=<span style=\"color: #800080; text-decoration-color: #800080; font-weight: bold\">SimulatedBinaryCrossoverOptions</span><span style=\"font-weight: bold\">(</span>\n",
       "<span style=\"color: #7fbf7f; text-decoration-color: #7fbf7f\">│   │   │   </span><span style=\"color: #808000; text-decoration-color: #808000\">name</span>=<span style=\"color: #008000; text-decoration-color: #008000\">'SimulatedBinaryCrossover'</span>,\n",
       "<span style=\"color: #7fbf7f; text-decoration-color: #7fbf7f\">│   │   │   </span><span style=\"color: #808000; text-decoration-color: #808000\">xover_probability</span>=<span style=\"color: #008080; text-decoration-color: #008080; font-weight: bold\">0.5</span>,\n",
       "<span style=\"color: #7fbf7f; text-decoration-color: #7fbf7f\">│   │   │   </span><span style=\"color: #808000; text-decoration-color: #808000\">xover_distribution</span>=<span style=\"color: #008080; text-decoration-color: #008080; font-weight: bold\">30.0</span>\n",
       "<span style=\"color: #7fbf7f; text-decoration-color: #7fbf7f\">│   │   </span><span style=\"font-weight: bold\">)</span>,\n",
       "<span style=\"color: #7fbf7f; text-decoration-color: #7fbf7f\">│   │   </span><span style=\"color: #808000; text-decoration-color: #808000\">mutation</span>=<span style=\"color: #800080; text-decoration-color: #800080; font-weight: bold\">BoundedPolynomialMutationOptions</span><span style=\"font-weight: bold\">(</span>\n",
       "<span style=\"color: #7fbf7f; text-decoration-color: #7fbf7f\">│   │   │   </span><span style=\"color: #808000; text-decoration-color: #808000\">name</span>=<span style=\"color: #008000; text-decoration-color: #008000\">'BoundedPolynomialMutation'</span>,\n",
       "<span style=\"color: #7fbf7f; text-decoration-color: #7fbf7f\">│   │   │   </span><span style=\"color: #808000; text-decoration-color: #808000\">mutation_probability</span>=<span style=\"color: #800080; text-decoration-color: #800080; font-style: italic\">None</span>,\n",
       "<span style=\"color: #7fbf7f; text-decoration-color: #7fbf7f\">│   │   │   </span><span style=\"color: #808000; text-decoration-color: #808000\">distribution_index</span>=<span style=\"color: #008080; text-decoration-color: #008080; font-weight: bold\">20.0</span>\n",
       "<span style=\"color: #7fbf7f; text-decoration-color: #7fbf7f\">│   │   </span><span style=\"font-weight: bold\">)</span>,\n",
       "<span style=\"color: #7fbf7f; text-decoration-color: #7fbf7f\">│   │   </span><span style=\"color: #808000; text-decoration-color: #808000\">selection</span>=<span style=\"color: #800080; text-decoration-color: #800080; font-weight: bold\">RVEASelectorOptions</span><span style=\"font-weight: bold\">(</span>\n",
       "<span style=\"color: #7fbf7f; text-decoration-color: #7fbf7f\">│   │   │   </span><span style=\"color: #808000; text-decoration-color: #808000\">name</span>=<span style=\"color: #008000; text-decoration-color: #008000\">'RVEASelector'</span>,\n",
       "<span style=\"color: #7fbf7f; text-decoration-color: #7fbf7f\">│   │   │   </span><span style=\"color: #808000; text-decoration-color: #808000\">reference_vector_options</span>=<span style=\"color: #800080; text-decoration-color: #800080; font-weight: bold\">ReferenceVectorOptions</span><span style=\"font-weight: bold\">(</span><span style=\"color: #808000; text-decoration-color: #808000\">...</span><span style=\"font-weight: bold\">)</span>,\n",
       "<span style=\"color: #7fbf7f; text-decoration-color: #7fbf7f\">│   │   │   </span><span style=\"color: #808000; text-decoration-color: #808000\">parameter_adaptation_strategy</span>=<span style=\"color: #008000; text-decoration-color: #008000\">'GENERATION_BASED'</span>,\n",
       "<span style=\"color: #7fbf7f; text-decoration-color: #7fbf7f\">│   │   │   </span><span style=\"color: #808000; text-decoration-color: #808000\">alpha</span>=<span style=\"color: #008080; text-decoration-color: #008080; font-weight: bold\">2.0</span>\n",
       "<span style=\"color: #7fbf7f; text-decoration-color: #7fbf7f\">│   │   </span><span style=\"font-weight: bold\">)</span>,\n",
       "<span style=\"color: #7fbf7f; text-decoration-color: #7fbf7f\">│   │   </span><span style=\"color: #808000; text-decoration-color: #808000\">termination</span>=<span style=\"color: #800080; text-decoration-color: #800080; font-weight: bold\">MaxGenerationsTerminatorOptions</span><span style=\"font-weight: bold\">(</span><span style=\"color: #808000; text-decoration-color: #808000\">name</span>=<span style=\"color: #008000; text-decoration-color: #008000\">'MaxGenerationsTerminator'</span>, <span style=\"color: #808000; text-decoration-color: #808000\">max_generations</span>=<span style=\"color: #008080; text-decoration-color: #008080; font-weight: bold\">100</span><span style=\"font-weight: bold\">)</span>,\n",
       "<span style=\"color: #7fbf7f; text-decoration-color: #7fbf7f\">│   │   </span><span style=\"color: #808000; text-decoration-color: #808000\">generator</span>=<span style=\"color: #800080; text-decoration-color: #800080; font-weight: bold\">LHSGeneratorOptions</span><span style=\"font-weight: bold\">(</span><span style=\"color: #808000; text-decoration-color: #808000\">n_points</span>=<span style=\"color: #008080; text-decoration-color: #008080; font-weight: bold\">100</span>, <span style=\"color: #808000; text-decoration-color: #808000\">name</span>=<span style=\"color: #008000; text-decoration-color: #008000\">'LHSGenerator'</span><span style=\"font-weight: bold\">)</span>,\n",
       "<span style=\"color: #7fbf7f; text-decoration-color: #7fbf7f\">│   │   </span><span style=\"color: #808000; text-decoration-color: #808000\">repair</span>=<span style=\"color: #800080; text-decoration-color: #800080; font-weight: bold\">NoRepairOptions</span><span style=\"font-weight: bold\">(</span><span style=\"color: #808000; text-decoration-color: #808000\">name</span>=<span style=\"color: #008000; text-decoration-color: #008000\">'NoRepair'</span><span style=\"font-weight: bold\">)</span>,\n",
       "<span style=\"color: #7fbf7f; text-decoration-color: #7fbf7f\">│   │   </span><span style=\"color: #808000; text-decoration-color: #808000\">use_archive</span>=<span style=\"color: #00ff00; text-decoration-color: #00ff00; font-style: italic\">True</span>,\n",
       "<span style=\"color: #7fbf7f; text-decoration-color: #7fbf7f\">│   │   </span><span style=\"color: #808000; text-decoration-color: #808000\">seed</span>=<span style=\"color: #008080; text-decoration-color: #008080; font-weight: bold\">42</span>,\n",
       "<span style=\"color: #7fbf7f; text-decoration-color: #7fbf7f\">│   │   </span><span style=\"color: #808000; text-decoration-color: #808000\">verbosity</span>=<span style=\"color: #008080; text-decoration-color: #008080; font-weight: bold\">2</span>,\n",
       "<span style=\"color: #7fbf7f; text-decoration-color: #7fbf7f\">│   │   </span><span style=\"color: #808000; text-decoration-color: #808000\">algorithm_name</span>=<span style=\"color: #008000; text-decoration-color: #008000\">'RVEA'</span>,\n",
       "<span style=\"color: #7fbf7f; text-decoration-color: #7fbf7f\">│   │   </span><span style=\"color: #808000; text-decoration-color: #808000\">name</span>=<span style=\"color: #008000; text-decoration-color: #008000\">'Template1'</span>\n",
       "<span style=\"color: #7fbf7f; text-decoration-color: #7fbf7f\">│   </span><span style=\"font-weight: bold\">)</span>\n",
       "<span style=\"font-weight: bold\">)</span>\n",
       "</pre>\n"
      ],
      "text/plain": [
       "\u001b[1;35mEMOOptions\u001b[0m\u001b[1m(\u001b[0m\n",
       "\u001b[2;32m│   \u001b[0m\u001b[33mpreference\u001b[0m=\u001b[3;35mNone\u001b[0m,\n",
       "\u001b[2;32m│   \u001b[0m\u001b[33mtemplate\u001b[0m=\u001b[1;35mTemplate1Options\u001b[0m\u001b[1m(\u001b[0m\n",
       "\u001b[2;32m│   │   \u001b[0m\u001b[33mcrossover\u001b[0m=\u001b[1;35mSimulatedBinaryCrossoverOptions\u001b[0m\u001b[1m(\u001b[0m\n",
       "\u001b[2;32m│   │   │   \u001b[0m\u001b[33mname\u001b[0m=\u001b[32m'SimulatedBinaryCrossover'\u001b[0m,\n",
       "\u001b[2;32m│   │   │   \u001b[0m\u001b[33mxover_probability\u001b[0m=\u001b[1;36m0\u001b[0m\u001b[1;36m.5\u001b[0m,\n",
       "\u001b[2;32m│   │   │   \u001b[0m\u001b[33mxover_distribution\u001b[0m=\u001b[1;36m30\u001b[0m\u001b[1;36m.0\u001b[0m\n",
       "\u001b[2;32m│   │   \u001b[0m\u001b[1m)\u001b[0m,\n",
       "\u001b[2;32m│   │   \u001b[0m\u001b[33mmutation\u001b[0m=\u001b[1;35mBoundedPolynomialMutationOptions\u001b[0m\u001b[1m(\u001b[0m\n",
       "\u001b[2;32m│   │   │   \u001b[0m\u001b[33mname\u001b[0m=\u001b[32m'BoundedPolynomialMutation'\u001b[0m,\n",
       "\u001b[2;32m│   │   │   \u001b[0m\u001b[33mmutation_probability\u001b[0m=\u001b[3;35mNone\u001b[0m,\n",
       "\u001b[2;32m│   │   │   \u001b[0m\u001b[33mdistribution_index\u001b[0m=\u001b[1;36m20\u001b[0m\u001b[1;36m.0\u001b[0m\n",
       "\u001b[2;32m│   │   \u001b[0m\u001b[1m)\u001b[0m,\n",
       "\u001b[2;32m│   │   \u001b[0m\u001b[33mselection\u001b[0m=\u001b[1;35mRVEASelectorOptions\u001b[0m\u001b[1m(\u001b[0m\n",
       "\u001b[2;32m│   │   │   \u001b[0m\u001b[33mname\u001b[0m=\u001b[32m'RVEASelector'\u001b[0m,\n",
       "\u001b[2;32m│   │   │   \u001b[0m\u001b[33mreference_vector_options\u001b[0m=\u001b[1;35mReferenceVectorOptions\u001b[0m\u001b[1m(\u001b[0m\u001b[33m...\u001b[0m\u001b[1m)\u001b[0m,\n",
       "\u001b[2;32m│   │   │   \u001b[0m\u001b[33mparameter_adaptation_strategy\u001b[0m=\u001b[32m'GENERATION_BASED'\u001b[0m,\n",
       "\u001b[2;32m│   │   │   \u001b[0m\u001b[33malpha\u001b[0m=\u001b[1;36m2\u001b[0m\u001b[1;36m.0\u001b[0m\n",
       "\u001b[2;32m│   │   \u001b[0m\u001b[1m)\u001b[0m,\n",
       "\u001b[2;32m│   │   \u001b[0m\u001b[33mtermination\u001b[0m=\u001b[1;35mMaxGenerationsTerminatorOptions\u001b[0m\u001b[1m(\u001b[0m\u001b[33mname\u001b[0m=\u001b[32m'MaxGenerationsTerminator'\u001b[0m, \u001b[33mmax_generations\u001b[0m=\u001b[1;36m100\u001b[0m\u001b[1m)\u001b[0m,\n",
       "\u001b[2;32m│   │   \u001b[0m\u001b[33mgenerator\u001b[0m=\u001b[1;35mLHSGeneratorOptions\u001b[0m\u001b[1m(\u001b[0m\u001b[33mn_points\u001b[0m=\u001b[1;36m100\u001b[0m, \u001b[33mname\u001b[0m=\u001b[32m'LHSGenerator'\u001b[0m\u001b[1m)\u001b[0m,\n",
       "\u001b[2;32m│   │   \u001b[0m\u001b[33mrepair\u001b[0m=\u001b[1;35mNoRepairOptions\u001b[0m\u001b[1m(\u001b[0m\u001b[33mname\u001b[0m=\u001b[32m'NoRepair'\u001b[0m\u001b[1m)\u001b[0m,\n",
       "\u001b[2;32m│   │   \u001b[0m\u001b[33muse_archive\u001b[0m=\u001b[3;92mTrue\u001b[0m,\n",
       "\u001b[2;32m│   │   \u001b[0m\u001b[33mseed\u001b[0m=\u001b[1;36m42\u001b[0m,\n",
       "\u001b[2;32m│   │   \u001b[0m\u001b[33mverbosity\u001b[0m=\u001b[1;36m2\u001b[0m,\n",
       "\u001b[2;32m│   │   \u001b[0m\u001b[33malgorithm_name\u001b[0m=\u001b[32m'RVEA'\u001b[0m,\n",
       "\u001b[2;32m│   │   \u001b[0m\u001b[33mname\u001b[0m=\u001b[32m'Template1'\u001b[0m\n",
       "\u001b[2;32m│   \u001b[0m\u001b[1m)\u001b[0m\n",
       "\u001b[1m)\u001b[0m\n"
      ]
     },
     "metadata": {},
     "output_type": "display_data"
    }
   ],
   "source": [
    "pprint(algorithms.rvea_options(), max_depth=3)"
   ]
  },
  {
   "cell_type": "code",
   "execution_count": 9,
   "id": "4b130b09",
   "metadata": {},
   "outputs": [
    {
     "data": {
      "text/html": [
       "<pre style=\"white-space:pre;overflow-x:auto;line-height:normal;font-family:Menlo,'DejaVu Sans Mono',consolas,'Courier New',monospace\"><span style=\"font-weight: bold\">{</span>\n",
       "<span style=\"color: #7fbf7f; text-decoration-color: #7fbf7f\">│   </span><span style=\"color: #008000; text-decoration-color: #008000\">'description'</span>: <span style=\"color: #008000; text-decoration-color: #008000\">'Options for Simulated Binary Crossover (SBX).'</span>,\n",
       "<span style=\"color: #7fbf7f; text-decoration-color: #7fbf7f\">│   </span><span style=\"color: #008000; text-decoration-color: #008000\">'properties'</span>: <span style=\"font-weight: bold\">{</span>\n",
       "<span style=\"color: #7fbf7f; text-decoration-color: #7fbf7f\">│   │   </span><span style=\"color: #008000; text-decoration-color: #008000\">'name'</span>: <span style=\"font-weight: bold\">{</span>\n",
       "<span style=\"color: #7fbf7f; text-decoration-color: #7fbf7f\">│   │   │   </span><span style=\"color: #008000; text-decoration-color: #008000\">'const'</span>: <span style=\"color: #008000; text-decoration-color: #008000\">'SimulatedBinaryCrossover'</span>,\n",
       "<span style=\"color: #7fbf7f; text-decoration-color: #7fbf7f\">│   │   │   </span><span style=\"color: #008000; text-decoration-color: #008000\">'default'</span>: <span style=\"color: #008000; text-decoration-color: #008000\">'SimulatedBinaryCrossover'</span>,\n",
       "<span style=\"color: #7fbf7f; text-decoration-color: #7fbf7f\">│   │   │   </span><span style=\"color: #008000; text-decoration-color: #008000\">'description'</span>: <span style=\"color: #008000; text-decoration-color: #008000\">'The name of the crossover operator.'</span>,\n",
       "<span style=\"color: #7fbf7f; text-decoration-color: #7fbf7f\">│   │   │   </span><span style=\"color: #008000; text-decoration-color: #008000\">'title'</span>: <span style=\"color: #008000; text-decoration-color: #008000\">'Name'</span>,\n",
       "<span style=\"color: #7fbf7f; text-decoration-color: #7fbf7f\">│   │   │   </span><span style=\"color: #008000; text-decoration-color: #008000\">'type'</span>: <span style=\"color: #008000; text-decoration-color: #008000\">'string'</span>\n",
       "<span style=\"color: #7fbf7f; text-decoration-color: #7fbf7f\">│   │   </span><span style=\"font-weight: bold\">}</span>,\n",
       "<span style=\"color: #7fbf7f; text-decoration-color: #7fbf7f\">│   │   </span><span style=\"color: #008000; text-decoration-color: #008000\">'xover_probability'</span>: <span style=\"font-weight: bold\">{</span>\n",
       "<span style=\"color: #7fbf7f; text-decoration-color: #7fbf7f\">│   │   │   </span><span style=\"color: #008000; text-decoration-color: #008000\">'default'</span>: <span style=\"color: #008080; text-decoration-color: #008080; font-weight: bold\">0.5</span>,\n",
       "<span style=\"color: #7fbf7f; text-decoration-color: #7fbf7f\">│   │   │   </span><span style=\"color: #008000; text-decoration-color: #008000\">'description'</span>: <span style=\"color: #008000; text-decoration-color: #008000\">'The SBX crossover probability.'</span>,\n",
       "<span style=\"color: #7fbf7f; text-decoration-color: #7fbf7f\">│   │   │   </span><span style=\"color: #008000; text-decoration-color: #008000\">'maximum'</span>: <span style=\"color: #008080; text-decoration-color: #008080; font-weight: bold\">1.0</span>,\n",
       "<span style=\"color: #7fbf7f; text-decoration-color: #7fbf7f\">│   │   │   </span><span style=\"color: #008000; text-decoration-color: #008000\">'minimum'</span>: <span style=\"color: #008080; text-decoration-color: #008080; font-weight: bold\">0.0</span>,\n",
       "<span style=\"color: #7fbf7f; text-decoration-color: #7fbf7f\">│   │   │   </span><span style=\"color: #008000; text-decoration-color: #008000\">'title'</span>: <span style=\"color: #008000; text-decoration-color: #008000\">'Xover Probability'</span>,\n",
       "<span style=\"color: #7fbf7f; text-decoration-color: #7fbf7f\">│   │   │   </span><span style=\"color: #008000; text-decoration-color: #008000\">'type'</span>: <span style=\"color: #008000; text-decoration-color: #008000\">'number'</span>\n",
       "<span style=\"color: #7fbf7f; text-decoration-color: #7fbf7f\">│   │   </span><span style=\"font-weight: bold\">}</span>,\n",
       "<span style=\"color: #7fbf7f; text-decoration-color: #7fbf7f\">│   │   </span><span style=\"color: #008000; text-decoration-color: #008000\">'xover_distribution'</span>: <span style=\"font-weight: bold\">{</span>\n",
       "<span style=\"color: #7fbf7f; text-decoration-color: #7fbf7f\">│   │   │   </span><span style=\"color: #008000; text-decoration-color: #008000\">'default'</span>: <span style=\"color: #008080; text-decoration-color: #008080; font-weight: bold\">30.0</span>,\n",
       "<span style=\"color: #7fbf7f; text-decoration-color: #7fbf7f\">│   │   │   </span><span style=\"color: #008000; text-decoration-color: #008000\">'description'</span>: <span style=\"color: #008000; text-decoration-color: #008000\">'The SBX distribution index.'</span>,\n",
       "<span style=\"color: #7fbf7f; text-decoration-color: #7fbf7f\">│   │   │   </span><span style=\"color: #008000; text-decoration-color: #008000\">'exclusiveMinimum'</span>: <span style=\"color: #008080; text-decoration-color: #008080; font-weight: bold\">0.0</span>,\n",
       "<span style=\"color: #7fbf7f; text-decoration-color: #7fbf7f\">│   │   │   </span><span style=\"color: #008000; text-decoration-color: #008000\">'title'</span>: <span style=\"color: #008000; text-decoration-color: #008000\">'Xover Distribution'</span>,\n",
       "<span style=\"color: #7fbf7f; text-decoration-color: #7fbf7f\">│   │   │   </span><span style=\"color: #008000; text-decoration-color: #008000\">'type'</span>: <span style=\"color: #008000; text-decoration-color: #008000\">'number'</span>\n",
       "<span style=\"color: #7fbf7f; text-decoration-color: #7fbf7f\">│   │   </span><span style=\"font-weight: bold\">}</span>\n",
       "<span style=\"color: #7fbf7f; text-decoration-color: #7fbf7f\">│   </span><span style=\"font-weight: bold\">}</span>,\n",
       "<span style=\"color: #7fbf7f; text-decoration-color: #7fbf7f\">│   </span><span style=\"color: #008000; text-decoration-color: #008000\">'title'</span>: <span style=\"color: #008000; text-decoration-color: #008000\">'SimulatedBinaryCrossoverOptions'</span>,\n",
       "<span style=\"color: #7fbf7f; text-decoration-color: #7fbf7f\">│   </span><span style=\"color: #008000; text-decoration-color: #008000\">'type'</span>: <span style=\"color: #008000; text-decoration-color: #008000\">'object'</span>\n",
       "<span style=\"font-weight: bold\">}</span>\n",
       "</pre>\n"
      ],
      "text/plain": [
       "\u001b[1m{\u001b[0m\n",
       "\u001b[2;32m│   \u001b[0m\u001b[32m'description'\u001b[0m: \u001b[32m'Options for Simulated Binary Crossover \u001b[0m\u001b[32m(\u001b[0m\u001b[32mSBX\u001b[0m\u001b[32m)\u001b[0m\u001b[32m.'\u001b[0m,\n",
       "\u001b[2;32m│   \u001b[0m\u001b[32m'properties'\u001b[0m: \u001b[1m{\u001b[0m\n",
       "\u001b[2;32m│   │   \u001b[0m\u001b[32m'name'\u001b[0m: \u001b[1m{\u001b[0m\n",
       "\u001b[2;32m│   │   │   \u001b[0m\u001b[32m'const'\u001b[0m: \u001b[32m'SimulatedBinaryCrossover'\u001b[0m,\n",
       "\u001b[2;32m│   │   │   \u001b[0m\u001b[32m'default'\u001b[0m: \u001b[32m'SimulatedBinaryCrossover'\u001b[0m,\n",
       "\u001b[2;32m│   │   │   \u001b[0m\u001b[32m'description'\u001b[0m: \u001b[32m'The name of the crossover operator.'\u001b[0m,\n",
       "\u001b[2;32m│   │   │   \u001b[0m\u001b[32m'title'\u001b[0m: \u001b[32m'Name'\u001b[0m,\n",
       "\u001b[2;32m│   │   │   \u001b[0m\u001b[32m'type'\u001b[0m: \u001b[32m'string'\u001b[0m\n",
       "\u001b[2;32m│   │   \u001b[0m\u001b[1m}\u001b[0m,\n",
       "\u001b[2;32m│   │   \u001b[0m\u001b[32m'xover_probability'\u001b[0m: \u001b[1m{\u001b[0m\n",
       "\u001b[2;32m│   │   │   \u001b[0m\u001b[32m'default'\u001b[0m: \u001b[1;36m0.5\u001b[0m,\n",
       "\u001b[2;32m│   │   │   \u001b[0m\u001b[32m'description'\u001b[0m: \u001b[32m'The SBX crossover probability.'\u001b[0m,\n",
       "\u001b[2;32m│   │   │   \u001b[0m\u001b[32m'maximum'\u001b[0m: \u001b[1;36m1.0\u001b[0m,\n",
       "\u001b[2;32m│   │   │   \u001b[0m\u001b[32m'minimum'\u001b[0m: \u001b[1;36m0.0\u001b[0m,\n",
       "\u001b[2;32m│   │   │   \u001b[0m\u001b[32m'title'\u001b[0m: \u001b[32m'Xover Probability'\u001b[0m,\n",
       "\u001b[2;32m│   │   │   \u001b[0m\u001b[32m'type'\u001b[0m: \u001b[32m'number'\u001b[0m\n",
       "\u001b[2;32m│   │   \u001b[0m\u001b[1m}\u001b[0m,\n",
       "\u001b[2;32m│   │   \u001b[0m\u001b[32m'xover_distribution'\u001b[0m: \u001b[1m{\u001b[0m\n",
       "\u001b[2;32m│   │   │   \u001b[0m\u001b[32m'default'\u001b[0m: \u001b[1;36m30.0\u001b[0m,\n",
       "\u001b[2;32m│   │   │   \u001b[0m\u001b[32m'description'\u001b[0m: \u001b[32m'The SBX distribution index.'\u001b[0m,\n",
       "\u001b[2;32m│   │   │   \u001b[0m\u001b[32m'exclusiveMinimum'\u001b[0m: \u001b[1;36m0.0\u001b[0m,\n",
       "\u001b[2;32m│   │   │   \u001b[0m\u001b[32m'title'\u001b[0m: \u001b[32m'Xover Distribution'\u001b[0m,\n",
       "\u001b[2;32m│   │   │   \u001b[0m\u001b[32m'type'\u001b[0m: \u001b[32m'number'\u001b[0m\n",
       "\u001b[2;32m│   │   \u001b[0m\u001b[1m}\u001b[0m\n",
       "\u001b[2;32m│   \u001b[0m\u001b[1m}\u001b[0m,\n",
       "\u001b[2;32m│   \u001b[0m\u001b[32m'title'\u001b[0m: \u001b[32m'SimulatedBinaryCrossoverOptions'\u001b[0m,\n",
       "\u001b[2;32m│   \u001b[0m\u001b[32m'type'\u001b[0m: \u001b[32m'object'\u001b[0m\n",
       "\u001b[1m}\u001b[0m\n"
      ]
     },
     "metadata": {},
     "output_type": "display_data"
    }
   ],
   "source": [
    "pprint(crossover.SimulatedBinaryCrossoverOptions.model_json_schema())"
   ]
  },
  {
   "cell_type": "code",
   "execution_count": 10,
   "id": "0f1b2937",
   "metadata": {},
   "outputs": [],
   "source": [
    "import plotly.express as ex\n",
    "\n",
    "from desdeo.problem.testproblems import dtlz2"
   ]
  },
  {
   "cell_type": "code",
   "execution_count": 11,
   "id": "6292e4a0",
   "metadata": {},
   "outputs": [],
   "source": [
    "problem = dtlz2(n_objectives=3, n_variables=7)\n",
    "\n",
    "solver, extras = algorithms.emo_constructor(\n",
    "    emo_options=algorithms.rvea_options(),\n",
    "    problem=problem\n",
    ")\n",
    "\n",
    "results = solver()"
   ]
  },
  {
   "cell_type": "code",
   "execution_count": 12,
   "id": "469d242b",
   "metadata": {},
   "outputs": [
    {
     "data": {
      "application/vnd.plotly.v1+json": {
       "config": {
        "plotlyServerURL": "https://plot.ly"
       },
       "data": [
        {
         "hovertemplate": "f_1=%{x}<br>f_2=%{y}<br>f_3=%{z}<extra></extra>",
         "legendgroup": "",
         "marker": {
          "color": "#636efa",
          "symbol": "circle"
         },
         "mode": "markers",
         "name": "",
         "scene": "scene",
         "showlegend": false,
         "type": "scatter3d",
         "x": {
          "bdata": "vsQoNhwAiTw7XQy7A5frP3qxTpBNOe4/Ww1mlqMd4j+aK+XF7pRQP9Fh9R40mYQ8Ap2OKGNOwT8zAtCxFCrhP7g+6n+m4e8/Bbh3o/VQ0D/C630ts8jlPyfncsxtrNw/u+lsZMks2D/jutrGBIi8P8mls3dBir8/QuXrzkxetj9cOh3w3B/OP1lYsJHBuL4/QHYXuO9W5D9TBPSMfFXfP2Pugm5jeuw/RAMc5oslyT/FMtIEWsPtP5fvJQQ9ndw/wYT5d8R91j+DPQIxEIrLP3qI9A36mt8/yVMzEYiyyz/FCe2P+BHqP7Ba/ovBquI/4JNNo7Sx6T+q5HhjaCrkPwgeGc5aRts/WvHqFWpV1D8YTRuKS3nAP7YCmwYBP94+Ng1pGeiA7D9wdj7JA1K6P4O0gtDWINE/jdMzOWEM7z+vwdxdPyPhP8GTZiW7bO8/wf8sN3qD4j+ZrR1Py17uPxCLsEcLC9o/B9lgO3hj2D9G9OSLprnsP9BJ4/DyAPA/Qi6RVbiXfzxt4+micDbRPyJuX89T3uU/STw8NMNh7j9AW7jUq6nsP46VKk2xYu8/v7nbLe+C6D+6g2bhkqTmP7p21wOJjrk/6YAWknMr2j+ufq0Hjn3oP2WrL/Ic4e8/WG3Hm7vUvj/EOb/bmZy9P83x1J+cnNE+RovguUNL2z+mSUlNEZl/PBs8fYogRNA/zSBYNk6i5j8WEKLiINbtP81vhcFzkLg/AOi+Q42p0T81w+gAH1HWP6ztEL/iEck/4YCDb8bPjDwEPoEmd6rrP4QxggkiGO8/048f4gCpkTwZ5q3L5EjUP5Dw5afJJeo/jUTPLoeR5j/FGu3CEuPNPzR5XaS4l5E8LoMjWWqe4j/8sqz87yJaP9/mG24nJ+I/jQGCfQdyUT4UCBlHdZzpPz8kbMR/VJE8h4sUbga/7z8X+Iv93962P2OhIfCwE+o/UN6Kvz6l5j8=",
          "dtype": "f8"
         },
         "y": {
          "bdata": "6uhjJB+q5j+4eSLNi6DfP8F3jN74Ec4/oKCrUqgf2z+co7ONBjHJPxRaZq2BrOI/8TGK54hE5D/filkKg6XpPyIom5hXSrc/2zTGdRF37D/g3VAUU2HRP3Dpcwhbpuw/odDX9Eko0D9k7tPStrjLP5fxEUxEmOs/zMNMguDl7z/0ca+jWzDOP4fngCH9pu0/W0+qwhU3vz91X8up1aXrPxfmfQV8SNA/+JOom+Zk7z8Eo7FA/pHWPwAAAAAAAAAARzT20t0Lvj+vvOHRgNq8P6/BJb1SD8A/i8rzsu4T7z9BZyAWHqniPwAAAAAAAAAA4oWfdT0t0T+syE5y5JPoP/A6TbPqNeI/Z/k+nKPiGD+zawWEFHzoPz18J2HOX+4/48y3Cdk72D9F7U6wBRfvPylfyGG7GOE/49CNqiTCyz8clSozzu/QP+sFu9wOIck/cGio5WOQ4j8AAAAAAAAAALsJa3zFE9o/mbczM+CE7D+jB8quBHPcPwAAAAAAAAAAyxHeGg2k3D+xtVDHTKjpP1nrPjlD5+U/wJ55T1wx1D/25/p8A9j4PgAAAAAAAAAAYrAonlCFwD9pv7MD1x/iP5KEwA9ex+8/BFoRdaYn6j9C3PS7PYfkPwAAAAAAAAAAi93zjHmH3z9D0wggEFXWPzmnHSXLnuw/fgbscPmT5j8lUGbvX5OPPG1NB0RZWNg/AAAAAAAAAADhRIVcBqm9P1WAAAsznbg/84ddPEzf5T+3YyAdf+XtPwAAAAAAAAAACkg6T6Ae6j/cEJUPDAHAP7nUiakP3Ls/AEC5aZYC8D9DiaUmcWPuPxdPvoTfBdo/ELuOVnBM2z+k1oUgdkTuPxeW7xfX5e8/Y3EvU/8K6j9ym6ZiHznUPxY9JREDpOY/Znj1f7Hktj9V/vDL5DnhP3QwryL1a+8/U539cU3XuT8AAAAAAAAAAAAAAAAAAAAA1135RFyh5j8=",
          "dtype": "f8"
         },
         "z": {
          "bdata": "pIvkG5mn5j8WvxXxWPO+P4B2+mf4Vs4/916YbWSn5j+mNiTvQWvvPwqh5L+6Iuo/DWcnb8Rw6D/4g1XiYhXRPwAAAAAAAAAApF1lYipj2D+WczDHVtHlPwAAAAAAAAAAyFcKOiuH7D9jdOEBZSzvP/Fdt+vwiN8/AAAAAAAAAAC8xE9BQDfuP8KcFlGOE9c/semNSZNs6D8rqMf6qa6/P9YbgV0OdNg/AAAAAAAAAAA+EJBCQMq9P156lHxtqOw/NI+nA+TX7T9KutO4cxPvP1qCJKsXmes/JLa5wqeXuz8AAAAAAAAAAFKvqmixFeo/kG4gXvkN4T/b0YpxcXG/P2ML5Got0uY/Y8iZPz1b7j+DcvHpbVvkP//dnvOeONQ/K73jem5M0D8rtoDX0o/LP8EhfPHVs+k/5AFyhbNXvD8b/FSEjbHpPwAAAAAAAAAAgh1JKZyJ4j/o8JvbDzrUP2aw5UfYLeo/ufEDD4vyzz90mH/FQ6hFPwAAAAAAAAAAy7MF/gul7D/F842MtyLhP02zTMGykdE/AAAAAAAAAACvYpJmln7cP97D1Y8qF8k/79rZ8TJw5D9D72vB2zbbP+aza26UELo/e4JYH1o82j+cWGQ2MErAP/ZUEN8gMbc/wffenwqa6z99tuuGrc3tP4ZCHocQr9w/hrK08n8h4j+Yn6XCHQHwP2BF3WPCgew/cuFa7g2l5j8/k2N18VvWP/H+ZZFvuO8/XfUCk1+D5j9WJQUv7ne+P2fLcRTiZO8//3HyNtyn4j+c3d5teZbfPwGK/JTEmMs/AAAAAAAAAAAAAAAAAAAAAFiT2qu6Qto/ve/SO5Em4j8O23Y4mx/NP0aC1oVzRrc/AAAAAAAAAAAQyoOYNmTuPxF6v67nJts/8WsMiUjt7z+SGJe5njzRP6PWvha5Ick/sf7erFtauD+OBoxGK+XvP4pPLcoMoOI/AAAAAAAAAAA=",
          "dtype": "f8"
         }
        }
       ],
       "layout": {
        "legend": {
         "tracegroupgap": 0
        },
        "scene": {
         "domain": {
          "x": [
           0,
           1
          ],
          "y": [
           0,
           1
          ]
         },
         "xaxis": {
          "title": {
           "text": "f_1"
          }
         },
         "yaxis": {
          "title": {
           "text": "f_2"
          }
         },
         "zaxis": {
          "title": {
           "text": "f_3"
          }
         }
        },
        "template": {
         "data": {
          "bar": [
           {
            "error_x": {
             "color": "#2a3f5f"
            },
            "error_y": {
             "color": "#2a3f5f"
            },
            "marker": {
             "line": {
              "color": "#E5ECF6",
              "width": 0.5
             },
             "pattern": {
              "fillmode": "overlay",
              "size": 10,
              "solidity": 0.2
             }
            },
            "type": "bar"
           }
          ],
          "barpolar": [
           {
            "marker": {
             "line": {
              "color": "#E5ECF6",
              "width": 0.5
             },
             "pattern": {
              "fillmode": "overlay",
              "size": 10,
              "solidity": 0.2
             }
            },
            "type": "barpolar"
           }
          ],
          "carpet": [
           {
            "aaxis": {
             "endlinecolor": "#2a3f5f",
             "gridcolor": "white",
             "linecolor": "white",
             "minorgridcolor": "white",
             "startlinecolor": "#2a3f5f"
            },
            "baxis": {
             "endlinecolor": "#2a3f5f",
             "gridcolor": "white",
             "linecolor": "white",
             "minorgridcolor": "white",
             "startlinecolor": "#2a3f5f"
            },
            "type": "carpet"
           }
          ],
          "choropleth": [
           {
            "colorbar": {
             "outlinewidth": 0,
             "ticks": ""
            },
            "type": "choropleth"
           }
          ],
          "contour": [
           {
            "colorbar": {
             "outlinewidth": 0,
             "ticks": ""
            },
            "colorscale": [
             [
              0,
              "#0d0887"
             ],
             [
              0.1111111111111111,
              "#46039f"
             ],
             [
              0.2222222222222222,
              "#7201a8"
             ],
             [
              0.3333333333333333,
              "#9c179e"
             ],
             [
              0.4444444444444444,
              "#bd3786"
             ],
             [
              0.5555555555555556,
              "#d8576b"
             ],
             [
              0.6666666666666666,
              "#ed7953"
             ],
             [
              0.7777777777777778,
              "#fb9f3a"
             ],
             [
              0.8888888888888888,
              "#fdca26"
             ],
             [
              1,
              "#f0f921"
             ]
            ],
            "type": "contour"
           }
          ],
          "contourcarpet": [
           {
            "colorbar": {
             "outlinewidth": 0,
             "ticks": ""
            },
            "type": "contourcarpet"
           }
          ],
          "heatmap": [
           {
            "colorbar": {
             "outlinewidth": 0,
             "ticks": ""
            },
            "colorscale": [
             [
              0,
              "#0d0887"
             ],
             [
              0.1111111111111111,
              "#46039f"
             ],
             [
              0.2222222222222222,
              "#7201a8"
             ],
             [
              0.3333333333333333,
              "#9c179e"
             ],
             [
              0.4444444444444444,
              "#bd3786"
             ],
             [
              0.5555555555555556,
              "#d8576b"
             ],
             [
              0.6666666666666666,
              "#ed7953"
             ],
             [
              0.7777777777777778,
              "#fb9f3a"
             ],
             [
              0.8888888888888888,
              "#fdca26"
             ],
             [
              1,
              "#f0f921"
             ]
            ],
            "type": "heatmap"
           }
          ],
          "histogram": [
           {
            "marker": {
             "pattern": {
              "fillmode": "overlay",
              "size": 10,
              "solidity": 0.2
             }
            },
            "type": "histogram"
           }
          ],
          "histogram2d": [
           {
            "colorbar": {
             "outlinewidth": 0,
             "ticks": ""
            },
            "colorscale": [
             [
              0,
              "#0d0887"
             ],
             [
              0.1111111111111111,
              "#46039f"
             ],
             [
              0.2222222222222222,
              "#7201a8"
             ],
             [
              0.3333333333333333,
              "#9c179e"
             ],
             [
              0.4444444444444444,
              "#bd3786"
             ],
             [
              0.5555555555555556,
              "#d8576b"
             ],
             [
              0.6666666666666666,
              "#ed7953"
             ],
             [
              0.7777777777777778,
              "#fb9f3a"
             ],
             [
              0.8888888888888888,
              "#fdca26"
             ],
             [
              1,
              "#f0f921"
             ]
            ],
            "type": "histogram2d"
           }
          ],
          "histogram2dcontour": [
           {
            "colorbar": {
             "outlinewidth": 0,
             "ticks": ""
            },
            "colorscale": [
             [
              0,
              "#0d0887"
             ],
             [
              0.1111111111111111,
              "#46039f"
             ],
             [
              0.2222222222222222,
              "#7201a8"
             ],
             [
              0.3333333333333333,
              "#9c179e"
             ],
             [
              0.4444444444444444,
              "#bd3786"
             ],
             [
              0.5555555555555556,
              "#d8576b"
             ],
             [
              0.6666666666666666,
              "#ed7953"
             ],
             [
              0.7777777777777778,
              "#fb9f3a"
             ],
             [
              0.8888888888888888,
              "#fdca26"
             ],
             [
              1,
              "#f0f921"
             ]
            ],
            "type": "histogram2dcontour"
           }
          ],
          "mesh3d": [
           {
            "colorbar": {
             "outlinewidth": 0,
             "ticks": ""
            },
            "type": "mesh3d"
           }
          ],
          "parcoords": [
           {
            "line": {
             "colorbar": {
              "outlinewidth": 0,
              "ticks": ""
             }
            },
            "type": "parcoords"
           }
          ],
          "pie": [
           {
            "automargin": true,
            "type": "pie"
           }
          ],
          "scatter": [
           {
            "fillpattern": {
             "fillmode": "overlay",
             "size": 10,
             "solidity": 0.2
            },
            "type": "scatter"
           }
          ],
          "scatter3d": [
           {
            "line": {
             "colorbar": {
              "outlinewidth": 0,
              "ticks": ""
             }
            },
            "marker": {
             "colorbar": {
              "outlinewidth": 0,
              "ticks": ""
             }
            },
            "type": "scatter3d"
           }
          ],
          "scattercarpet": [
           {
            "marker": {
             "colorbar": {
              "outlinewidth": 0,
              "ticks": ""
             }
            },
            "type": "scattercarpet"
           }
          ],
          "scattergeo": [
           {
            "marker": {
             "colorbar": {
              "outlinewidth": 0,
              "ticks": ""
             }
            },
            "type": "scattergeo"
           }
          ],
          "scattergl": [
           {
            "marker": {
             "colorbar": {
              "outlinewidth": 0,
              "ticks": ""
             }
            },
            "type": "scattergl"
           }
          ],
          "scattermap": [
           {
            "marker": {
             "colorbar": {
              "outlinewidth": 0,
              "ticks": ""
             }
            },
            "type": "scattermap"
           }
          ],
          "scattermapbox": [
           {
            "marker": {
             "colorbar": {
              "outlinewidth": 0,
              "ticks": ""
             }
            },
            "type": "scattermapbox"
           }
          ],
          "scatterpolar": [
           {
            "marker": {
             "colorbar": {
              "outlinewidth": 0,
              "ticks": ""
             }
            },
            "type": "scatterpolar"
           }
          ],
          "scatterpolargl": [
           {
            "marker": {
             "colorbar": {
              "outlinewidth": 0,
              "ticks": ""
             }
            },
            "type": "scatterpolargl"
           }
          ],
          "scatterternary": [
           {
            "marker": {
             "colorbar": {
              "outlinewidth": 0,
              "ticks": ""
             }
            },
            "type": "scatterternary"
           }
          ],
          "surface": [
           {
            "colorbar": {
             "outlinewidth": 0,
             "ticks": ""
            },
            "colorscale": [
             [
              0,
              "#0d0887"
             ],
             [
              0.1111111111111111,
              "#46039f"
             ],
             [
              0.2222222222222222,
              "#7201a8"
             ],
             [
              0.3333333333333333,
              "#9c179e"
             ],
             [
              0.4444444444444444,
              "#bd3786"
             ],
             [
              0.5555555555555556,
              "#d8576b"
             ],
             [
              0.6666666666666666,
              "#ed7953"
             ],
             [
              0.7777777777777778,
              "#fb9f3a"
             ],
             [
              0.8888888888888888,
              "#fdca26"
             ],
             [
              1,
              "#f0f921"
             ]
            ],
            "type": "surface"
           }
          ],
          "table": [
           {
            "cells": {
             "fill": {
              "color": "#EBF0F8"
             },
             "line": {
              "color": "white"
             }
            },
            "header": {
             "fill": {
              "color": "#C8D4E3"
             },
             "line": {
              "color": "white"
             }
            },
            "type": "table"
           }
          ]
         },
         "layout": {
          "annotationdefaults": {
           "arrowcolor": "#2a3f5f",
           "arrowhead": 0,
           "arrowwidth": 1
          },
          "autotypenumbers": "strict",
          "coloraxis": {
           "colorbar": {
            "outlinewidth": 0,
            "ticks": ""
           }
          },
          "colorscale": {
           "diverging": [
            [
             0,
             "#8e0152"
            ],
            [
             0.1,
             "#c51b7d"
            ],
            [
             0.2,
             "#de77ae"
            ],
            [
             0.3,
             "#f1b6da"
            ],
            [
             0.4,
             "#fde0ef"
            ],
            [
             0.5,
             "#f7f7f7"
            ],
            [
             0.6,
             "#e6f5d0"
            ],
            [
             0.7,
             "#b8e186"
            ],
            [
             0.8,
             "#7fbc41"
            ],
            [
             0.9,
             "#4d9221"
            ],
            [
             1,
             "#276419"
            ]
           ],
           "sequential": [
            [
             0,
             "#0d0887"
            ],
            [
             0.1111111111111111,
             "#46039f"
            ],
            [
             0.2222222222222222,
             "#7201a8"
            ],
            [
             0.3333333333333333,
             "#9c179e"
            ],
            [
             0.4444444444444444,
             "#bd3786"
            ],
            [
             0.5555555555555556,
             "#d8576b"
            ],
            [
             0.6666666666666666,
             "#ed7953"
            ],
            [
             0.7777777777777778,
             "#fb9f3a"
            ],
            [
             0.8888888888888888,
             "#fdca26"
            ],
            [
             1,
             "#f0f921"
            ]
           ],
           "sequentialminus": [
            [
             0,
             "#0d0887"
            ],
            [
             0.1111111111111111,
             "#46039f"
            ],
            [
             0.2222222222222222,
             "#7201a8"
            ],
            [
             0.3333333333333333,
             "#9c179e"
            ],
            [
             0.4444444444444444,
             "#bd3786"
            ],
            [
             0.5555555555555556,
             "#d8576b"
            ],
            [
             0.6666666666666666,
             "#ed7953"
            ],
            [
             0.7777777777777778,
             "#fb9f3a"
            ],
            [
             0.8888888888888888,
             "#fdca26"
            ],
            [
             1,
             "#f0f921"
            ]
           ]
          },
          "colorway": [
           "#636efa",
           "#EF553B",
           "#00cc96",
           "#ab63fa",
           "#FFA15A",
           "#19d3f3",
           "#FF6692",
           "#B6E880",
           "#FF97FF",
           "#FECB52"
          ],
          "font": {
           "color": "#2a3f5f"
          },
          "geo": {
           "bgcolor": "white",
           "lakecolor": "white",
           "landcolor": "#E5ECF6",
           "showlakes": true,
           "showland": true,
           "subunitcolor": "white"
          },
          "hoverlabel": {
           "align": "left"
          },
          "hovermode": "closest",
          "mapbox": {
           "style": "light"
          },
          "paper_bgcolor": "white",
          "plot_bgcolor": "#E5ECF6",
          "polar": {
           "angularaxis": {
            "gridcolor": "white",
            "linecolor": "white",
            "ticks": ""
           },
           "bgcolor": "#E5ECF6",
           "radialaxis": {
            "gridcolor": "white",
            "linecolor": "white",
            "ticks": ""
           }
          },
          "scene": {
           "xaxis": {
            "backgroundcolor": "#E5ECF6",
            "gridcolor": "white",
            "gridwidth": 2,
            "linecolor": "white",
            "showbackground": true,
            "ticks": "",
            "zerolinecolor": "white"
           },
           "yaxis": {
            "backgroundcolor": "#E5ECF6",
            "gridcolor": "white",
            "gridwidth": 2,
            "linecolor": "white",
            "showbackground": true,
            "ticks": "",
            "zerolinecolor": "white"
           },
           "zaxis": {
            "backgroundcolor": "#E5ECF6",
            "gridcolor": "white",
            "gridwidth": 2,
            "linecolor": "white",
            "showbackground": true,
            "ticks": "",
            "zerolinecolor": "white"
           }
          },
          "shapedefaults": {
           "line": {
            "color": "#2a3f5f"
           }
          },
          "ternary": {
           "aaxis": {
            "gridcolor": "white",
            "linecolor": "white",
            "ticks": ""
           },
           "baxis": {
            "gridcolor": "white",
            "linecolor": "white",
            "ticks": ""
           },
           "bgcolor": "#E5ECF6",
           "caxis": {
            "gridcolor": "white",
            "linecolor": "white",
            "ticks": ""
           }
          },
          "title": {
           "x": 0.05
          },
          "xaxis": {
           "automargin": true,
           "gridcolor": "white",
           "linecolor": "white",
           "ticks": "",
           "title": {
            "standoff": 15
           },
           "zerolinecolor": "white",
           "zerolinewidth": 2
          },
          "yaxis": {
           "automargin": true,
           "gridcolor": "white",
           "linecolor": "white",
           "ticks": "",
           "title": {
            "standoff": 15
           },
           "zerolinecolor": "white",
           "zerolinewidth": 2
          }
         }
        },
        "title": {
         "text": "RVEA on DTLZ2 Problem"
        }
       }
      }
     },
     "metadata": {},
     "output_type": "display_data"
    }
   ],
   "source": [
    "ex.scatter_3d(\n",
    "    results.optimal_outputs,\n",
    "    x=\"f_1\",\n",
    "    y=\"f_2\",\n",
    "    z=\"f_3\",\n",
    "    title=\"RVEA on DTLZ2 Problem\",\n",
    ")"
   ]
  },
  {
   "cell_type": "code",
   "execution_count": 13,
   "id": "2676ec28",
   "metadata": {},
   "outputs": [
    {
     "data": {
      "text/plain": [
       "SimulatedBinaryCrossoverOptions(name='SimulatedBinaryCrossover', xover_probability=0.5, xover_distribution=30.0)"
      ]
     },
     "execution_count": 13,
     "metadata": {},
     "output_type": "execute_result"
    }
   ],
   "source": [
    "crossover.SimulatedBinaryCrossoverOptions()"
   ]
  },
  {
   "cell_type": "code",
   "execution_count": 27,
   "id": "3a015d93",
   "metadata": {},
   "outputs": [
    {
     "data": {
      "text/html": [
       "<pre style=\"white-space:pre;overflow-x:auto;line-height:normal;font-family:Menlo,'DejaVu Sans Mono',consolas,'Courier New',monospace\"><span style=\"font-weight: bold\">[</span>\n",
       "<span style=\"color: #7fbf7f; text-decoration-color: #7fbf7f\">│   </span><span style=\"color: #008000; text-decoration-color: #008000\">'BlendAlphaCrossoverOptions'</span>,\n",
       "<span style=\"color: #7fbf7f; text-decoration-color: #7fbf7f\">│   </span><span style=\"color: #008000; text-decoration-color: #008000\">'BoundedExponentialCrossoverOptions'</span>,\n",
       "<span style=\"color: #7fbf7f; text-decoration-color: #7fbf7f\">│   </span><span style=\"color: #008000; text-decoration-color: #008000\">'LocalCrossoverOptions'</span>,\n",
       "<span style=\"color: #7fbf7f; text-decoration-color: #7fbf7f\">│   </span><span style=\"color: #008000; text-decoration-color: #008000\">'SimulatedBinaryCrossoverOptions'</span>,\n",
       "<span style=\"color: #7fbf7f; text-decoration-color: #7fbf7f\">│   </span><span style=\"color: #008000; text-decoration-color: #008000\">'SingleArithmeticCrossoverOptions'</span>,\n",
       "<span style=\"color: #7fbf7f; text-decoration-color: #7fbf7f\">│   </span><span style=\"color: #008000; text-decoration-color: #008000\">'SinglePointBinaryCrossoverOptions'</span>,\n",
       "<span style=\"color: #7fbf7f; text-decoration-color: #7fbf7f\">│   </span><span style=\"color: #008000; text-decoration-color: #008000\">'UniformIntegerCrossoverOptions'</span>,\n",
       "<span style=\"color: #7fbf7f; text-decoration-color: #7fbf7f\">│   </span><span style=\"color: #008000; text-decoration-color: #008000\">'UniformMixedIntegerCrossoverOptions'</span>\n",
       "<span style=\"font-weight: bold\">]</span>\n",
       "</pre>\n"
      ],
      "text/plain": [
       "\u001b[1m[\u001b[0m\n",
       "\u001b[2;32m│   \u001b[0m\u001b[32m'BlendAlphaCrossoverOptions'\u001b[0m,\n",
       "\u001b[2;32m│   \u001b[0m\u001b[32m'BoundedExponentialCrossoverOptions'\u001b[0m,\n",
       "\u001b[2;32m│   \u001b[0m\u001b[32m'LocalCrossoverOptions'\u001b[0m,\n",
       "\u001b[2;32m│   \u001b[0m\u001b[32m'SimulatedBinaryCrossoverOptions'\u001b[0m,\n",
       "\u001b[2;32m│   \u001b[0m\u001b[32m'SingleArithmeticCrossoverOptions'\u001b[0m,\n",
       "\u001b[2;32m│   \u001b[0m\u001b[32m'SinglePointBinaryCrossoverOptions'\u001b[0m,\n",
       "\u001b[2;32m│   \u001b[0m\u001b[32m'UniformIntegerCrossoverOptions'\u001b[0m,\n",
       "\u001b[2;32m│   \u001b[0m\u001b[32m'UniformMixedIntegerCrossoverOptions'\u001b[0m\n",
       "\u001b[1m]\u001b[0m\n"
      ]
     },
     "metadata": {},
     "output_type": "display_data"
    }
   ],
   "source": [
    "pprint(list(crossover.__dict__.keys()))"
   ]
  },
  {
   "cell_type": "code",
   "execution_count": 29,
   "id": "2b0835af",
   "metadata": {},
   "outputs": [],
   "source": [
    "from desdeo.emo.options import crossover"
   ]
  },
  {
   "cell_type": "code",
   "execution_count": null,
   "id": "f5568f74",
   "metadata": {},
   "outputs": [],
   "source": [
    "crossover."
   ]
  }
 ],
 "metadata": {
  "kernelspec": {
   "display_name": "DESDEO (3.12.11)",
   "language": "python",
   "name": "python3"
  },
  "language_info": {
   "codemirror_mode": {
    "name": "ipython",
    "version": 3
   },
   "file_extension": ".py",
   "mimetype": "text/x-python",
   "name": "python",
   "nbconvert_exporter": "python",
   "pygments_lexer": "ipython3",
   "version": "3.12.11"
  }
 },
 "nbformat": 4,
 "nbformat_minor": 5
}
